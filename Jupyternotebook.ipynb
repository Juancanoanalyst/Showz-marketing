{
 "cells": [
  {
   "cell_type": "markdown",
   "metadata": {},
   "source": [
    "# EXPLORATORY DATA ANALYSIS"
   ]
  },
  {
   "cell_type": "code",
   "execution_count": 2,
   "metadata": {
    "trusted": true
   },
   "outputs": [],
   "source": [
    "import pandas as pd  # Data manipulation\n",
    "import matplotlib.pyplot as plt # Graph the data\n",
    "import seaborn as sns # graph the data\n",
    "import numpy as np # Array"
   ]
  },
  {
   "cell_type": "code",
   "execution_count": 67,
   "metadata": {
    "trusted": true
   },
   "outputs": [],
   "source": [
    "visits = pd.read_csv('datasets/visits_log_us.csv')\n",
    "orders = pd.read_csv('datasets/orders_log_us.csv') \n",
    "costs = pd.read_csv('datasets/costs_us.csv')"
   ]
  },
  {
   "cell_type": "markdown",
   "metadata": {},
   "source": [
    "### Visits"
   ]
  },
  {
   "cell_type": "code",
   "execution_count": 69,
   "metadata": {
    "trusted": true
   },
   "outputs": [
    {
     "name": "stdout",
     "output_type": "stream",
     "text": [
      "<class 'pandas.core.frame.DataFrame'>\n",
      "RangeIndex: 359400 entries, 0 to 359399\n",
      "Data columns (total 5 columns):\n",
      " #   Column     Non-Null Count   Dtype \n",
      "---  ------     --------------   ----- \n",
      " 0   Device     359400 non-null  object\n",
      " 1   End Ts     359400 non-null  object\n",
      " 2   Source Id  359400 non-null  int64 \n",
      " 3   Start Ts   359400 non-null  object\n",
      " 4   Uid        359400 non-null  uint64\n",
      "dtypes: int64(1), object(3), uint64(1)\n",
      "memory usage: 13.7+ MB\n"
     ]
    }
   ],
   "source": [
    "visits.info()"
   ]
  },
  {
   "cell_type": "markdown",
   "metadata": {},
   "source": [
    "Se identifica que es neceario cambiar el dtype de End Ts y de Start Ts  a datetime ,ademas es necesario quitar los espacios y las mayúsculas de los titulos"
   ]
  },
  {
   "cell_type": "code",
   "execution_count": 71,
   "metadata": {
    "trusted": true
   },
   "outputs": [
    {
     "name": "stdout",
     "output_type": "stream",
     "text": [
      "<class 'pandas.core.frame.DataFrame'>\n",
      "RangeIndex: 359400 entries, 0 to 359399\n",
      "Data columns (total 5 columns):\n",
      " #   Column     Non-Null Count   Dtype \n",
      "---  ------     --------------   ----- \n",
      " 0   device     359400 non-null  object\n",
      " 1   end_ts     359400 non-null  object\n",
      " 2   source_id  359400 non-null  int64 \n",
      " 3   start_ts   359400 non-null  object\n",
      " 4   uid        359400 non-null  uint64\n",
      "dtypes: int64(1), object(3), uint64(1)\n",
      "memory usage: 13.7+ MB\n"
     ]
    }
   ],
   "source": [
    "columnas = visits.columns\n",
    "\n",
    "n_columnas=[]\n",
    "\n",
    "for columna in columnas:\n",
    "    minus = columna.lower()\n",
    "    strip = minus.replace(\" \",\"_\")\n",
    "    n_columnas.append(strip)\n",
    "\n",
    "\n",
    "visits.columns = n_columnas\n",
    "visits.info()"
   ]
  },
  {
   "cell_type": "code",
   "execution_count": 6,
   "metadata": {
    "trusted": true
   },
   "outputs": [
    {
     "name": "stdout",
     "output_type": "stream",
     "text": [
      "<class 'pandas.core.frame.DataFrame'>\n",
      "RangeIndex: 359400 entries, 0 to 359399\n",
      "Data columns (total 5 columns):\n",
      " #   Column     Non-Null Count   Dtype         \n",
      "---  ------     --------------   -----         \n",
      " 0   device     359400 non-null  object        \n",
      " 1   end_ts     359400 non-null  datetime64[ns]\n",
      " 2   source_id  359400 non-null  int64         \n",
      " 3   start_ts   359400 non-null  datetime64[ns]\n",
      " 4   uid        359400 non-null  uint64        \n",
      "dtypes: datetime64[ns](2), int64(1), object(1), uint64(1)\n",
      "memory usage: 13.7+ MB\n"
     ]
    },
    {
     "data": {
      "text/html": [
       "<div>\n",
       "<style scoped>\n",
       "    .dataframe tbody tr th:only-of-type {\n",
       "        vertical-align: middle;\n",
       "    }\n",
       "\n",
       "    .dataframe tbody tr th {\n",
       "        vertical-align: top;\n",
       "    }\n",
       "\n",
       "    .dataframe thead th {\n",
       "        text-align: right;\n",
       "    }\n",
       "</style>\n",
       "<table border=\"1\" class=\"dataframe\">\n",
       "  <thead>\n",
       "    <tr style=\"text-align: right;\">\n",
       "      <th></th>\n",
       "      <th>device</th>\n",
       "      <th>end_ts</th>\n",
       "      <th>source_id</th>\n",
       "      <th>start_ts</th>\n",
       "      <th>uid</th>\n",
       "    </tr>\n",
       "  </thead>\n",
       "  <tbody>\n",
       "    <tr>\n",
       "      <th>0</th>\n",
       "      <td>touch</td>\n",
       "      <td>2017-12-20 17:38:00</td>\n",
       "      <td>4</td>\n",
       "      <td>2017-12-20 17:20:00</td>\n",
       "      <td>16879256277535980062</td>\n",
       "    </tr>\n",
       "    <tr>\n",
       "      <th>1</th>\n",
       "      <td>desktop</td>\n",
       "      <td>2018-02-19 17:21:00</td>\n",
       "      <td>2</td>\n",
       "      <td>2018-02-19 16:53:00</td>\n",
       "      <td>104060357244891740</td>\n",
       "    </tr>\n",
       "    <tr>\n",
       "      <th>2</th>\n",
       "      <td>touch</td>\n",
       "      <td>2017-07-01 01:54:00</td>\n",
       "      <td>5</td>\n",
       "      <td>2017-07-01 01:54:00</td>\n",
       "      <td>7459035603376831527</td>\n",
       "    </tr>\n",
       "    <tr>\n",
       "      <th>3</th>\n",
       "      <td>desktop</td>\n",
       "      <td>2018-05-20 11:23:00</td>\n",
       "      <td>9</td>\n",
       "      <td>2018-05-20 10:59:00</td>\n",
       "      <td>16174680259334210214</td>\n",
       "    </tr>\n",
       "    <tr>\n",
       "      <th>4</th>\n",
       "      <td>desktop</td>\n",
       "      <td>2017-12-27 14:06:00</td>\n",
       "      <td>3</td>\n",
       "      <td>2017-12-27 14:06:00</td>\n",
       "      <td>9969694820036681168</td>\n",
       "    </tr>\n",
       "  </tbody>\n",
       "</table>\n",
       "</div>"
      ],
      "text/plain": [
       "    device              end_ts  source_id            start_ts  \\\n",
       "0    touch 2017-12-20 17:38:00          4 2017-12-20 17:20:00   \n",
       "1  desktop 2018-02-19 17:21:00          2 2018-02-19 16:53:00   \n",
       "2    touch 2017-07-01 01:54:00          5 2017-07-01 01:54:00   \n",
       "3  desktop 2018-05-20 11:23:00          9 2018-05-20 10:59:00   \n",
       "4  desktop 2017-12-27 14:06:00          3 2017-12-27 14:06:00   \n",
       "\n",
       "                    uid  \n",
       "0  16879256277535980062  \n",
       "1    104060357244891740  \n",
       "2   7459035603376831527  \n",
       "3  16174680259334210214  \n",
       "4   9969694820036681168  "
      ]
     },
     "execution_count": 6,
     "metadata": {},
     "output_type": "execute_result"
    }
   ],
   "source": [
    "visitas['start_ts'] = pd.to_datetime(visitas['start_ts'])\n",
    "visitas['end_ts'] = pd.to_datetime(visitas['end_ts'])\n",
    "\n",
    "visitas.info()\n",
    "visitas.head()\n"
   ]
  },
  {
   "cell_type": "code",
   "execution_count": 72,
   "metadata": {
    "trusted": true
   },
   "outputs": [
    {
     "data": {
      "text/plain": [
       "np.int64(0)"
      ]
     },
     "execution_count": 72,
     "metadata": {},
     "output_type": "execute_result"
    }
   ],
   "source": [
    "visits.duplicated().sum()"
   ]
  },
  {
   "cell_type": "markdown",
   "metadata": {},
   "source": [
    "The DataFrame cleaning is complete; it has no null or missing values. Additionally, the columns are in lowercase and without spaces, and the dates are in the specified format."
   ]
  },
  {
   "cell_type": "markdown",
   "metadata": {},
   "source": [
    "### Orders"
   ]
  },
  {
   "cell_type": "code",
   "execution_count": 73,
   "metadata": {
    "trusted": true
   },
   "outputs": [
    {
     "name": "stdout",
     "output_type": "stream",
     "text": [
      "<class 'pandas.core.frame.DataFrame'>\n",
      "RangeIndex: 50415 entries, 0 to 50414\n",
      "Data columns (total 3 columns):\n",
      " #   Column   Non-Null Count  Dtype  \n",
      "---  ------   --------------  -----  \n",
      " 0   Buy Ts   50415 non-null  object \n",
      " 1   Revenue  50415 non-null  float64\n",
      " 2   Uid      50415 non-null  uint64 \n",
      "dtypes: float64(1), object(1), uint64(1)\n",
      "memory usage: 1.2+ MB\n"
     ]
    }
   ],
   "source": [
    "orders.info()"
   ]
  },
  {
   "cell_type": "code",
   "execution_count": 74,
   "metadata": {
    "trusted": true
   },
   "outputs": [
    {
     "data": {
      "text/html": [
       "<div>\n",
       "<style scoped>\n",
       "    .dataframe tbody tr th:only-of-type {\n",
       "        vertical-align: middle;\n",
       "    }\n",
       "\n",
       "    .dataframe tbody tr th {\n",
       "        vertical-align: top;\n",
       "    }\n",
       "\n",
       "    .dataframe thead th {\n",
       "        text-align: right;\n",
       "    }\n",
       "</style>\n",
       "<table border=\"1\" class=\"dataframe\">\n",
       "  <thead>\n",
       "    <tr style=\"text-align: right;\">\n",
       "      <th></th>\n",
       "      <th>Buy Ts</th>\n",
       "      <th>Revenue</th>\n",
       "      <th>Uid</th>\n",
       "    </tr>\n",
       "  </thead>\n",
       "  <tbody>\n",
       "    <tr>\n",
       "      <th>0</th>\n",
       "      <td>2017-06-01 00:10:00</td>\n",
       "      <td>17.00</td>\n",
       "      <td>10329302124590727494</td>\n",
       "    </tr>\n",
       "    <tr>\n",
       "      <th>1</th>\n",
       "      <td>2017-06-01 00:25:00</td>\n",
       "      <td>0.55</td>\n",
       "      <td>11627257723692907447</td>\n",
       "    </tr>\n",
       "    <tr>\n",
       "      <th>2</th>\n",
       "      <td>2017-06-01 00:27:00</td>\n",
       "      <td>0.37</td>\n",
       "      <td>17903680561304213844</td>\n",
       "    </tr>\n",
       "    <tr>\n",
       "      <th>3</th>\n",
       "      <td>2017-06-01 00:29:00</td>\n",
       "      <td>0.55</td>\n",
       "      <td>16109239769442553005</td>\n",
       "    </tr>\n",
       "    <tr>\n",
       "      <th>4</th>\n",
       "      <td>2017-06-01 07:58:00</td>\n",
       "      <td>0.37</td>\n",
       "      <td>14200605875248379450</td>\n",
       "    </tr>\n",
       "  </tbody>\n",
       "</table>\n",
       "</div>"
      ],
      "text/plain": [
       "                Buy Ts  Revenue                   Uid\n",
       "0  2017-06-01 00:10:00    17.00  10329302124590727494\n",
       "1  2017-06-01 00:25:00     0.55  11627257723692907447\n",
       "2  2017-06-01 00:27:00     0.37  17903680561304213844\n",
       "3  2017-06-01 00:29:00     0.55  16109239769442553005\n",
       "4  2017-06-01 07:58:00     0.37  14200605875248379450"
      ]
     },
     "execution_count": 74,
     "metadata": {},
     "output_type": "execute_result"
    }
   ],
   "source": [
    "orders.head()"
   ]
  },
  {
   "cell_type": "markdown",
   "metadata": {},
   "source": [
    "The same issue found in the previous table was identified. We proceeded to change the date format to the requested standard and to fix the column headers for best practices."
   ]
  },
  {
   "cell_type": "code",
   "execution_count": 75,
   "metadata": {
    "trusted": true
   },
   "outputs": [
    {
     "name": "stdout",
     "output_type": "stream",
     "text": [
      "<class 'pandas.core.frame.DataFrame'>\n",
      "RangeIndex: 50415 entries, 0 to 50414\n",
      "Data columns (total 3 columns):\n",
      " #   Column   Non-Null Count  Dtype  \n",
      "---  ------   --------------  -----  \n",
      " 0   buy_ts   50415 non-null  object \n",
      " 1   revenue  50415 non-null  float64\n",
      " 2   uid      50415 non-null  uint64 \n",
      "dtypes: float64(1), object(1), uint64(1)\n",
      "memory usage: 1.2+ MB\n"
     ]
    }
   ],
   "source": [
    "column_o = orders.columns\n",
    "new_o_columns=[]\n",
    "\n",
    "for column in column_o:\n",
    "    minus = column.lower()\n",
    "    strip = minus.strip()\n",
    "    replace = strip.replace(\" \",\"_\")\n",
    "    new_o_columns.append(replace)\n",
    "    \n",
    "orders.columns =  new_o_columns\n",
    "orders.info()"
   ]
  },
  {
   "cell_type": "code",
   "execution_count": 76,
   "metadata": {
    "trusted": true
   },
   "outputs": [
    {
     "name": "stdout",
     "output_type": "stream",
     "text": [
      "<class 'pandas.core.frame.DataFrame'>\n",
      "RangeIndex: 50415 entries, 0 to 50414\n",
      "Data columns (total 3 columns):\n",
      " #   Column   Non-Null Count  Dtype         \n",
      "---  ------   --------------  -----         \n",
      " 0   buy_ts   50415 non-null  datetime64[ns]\n",
      " 1   revenue  50415 non-null  float64       \n",
      " 2   uid      50415 non-null  uint64        \n",
      "dtypes: datetime64[ns](1), float64(1), uint64(1)\n",
      "memory usage: 1.2 MB\n"
     ]
    },
    {
     "data": {
      "text/html": [
       "<div>\n",
       "<style scoped>\n",
       "    .dataframe tbody tr th:only-of-type {\n",
       "        vertical-align: middle;\n",
       "    }\n",
       "\n",
       "    .dataframe tbody tr th {\n",
       "        vertical-align: top;\n",
       "    }\n",
       "\n",
       "    .dataframe thead th {\n",
       "        text-align: right;\n",
       "    }\n",
       "</style>\n",
       "<table border=\"1\" class=\"dataframe\">\n",
       "  <thead>\n",
       "    <tr style=\"text-align: right;\">\n",
       "      <th></th>\n",
       "      <th>buy_ts</th>\n",
       "      <th>revenue</th>\n",
       "      <th>uid</th>\n",
       "    </tr>\n",
       "  </thead>\n",
       "  <tbody>\n",
       "    <tr>\n",
       "      <th>0</th>\n",
       "      <td>2017-06-01 00:10:00</td>\n",
       "      <td>17.00</td>\n",
       "      <td>10329302124590727494</td>\n",
       "    </tr>\n",
       "    <tr>\n",
       "      <th>1</th>\n",
       "      <td>2017-06-01 00:25:00</td>\n",
       "      <td>0.55</td>\n",
       "      <td>11627257723692907447</td>\n",
       "    </tr>\n",
       "    <tr>\n",
       "      <th>2</th>\n",
       "      <td>2017-06-01 00:27:00</td>\n",
       "      <td>0.37</td>\n",
       "      <td>17903680561304213844</td>\n",
       "    </tr>\n",
       "    <tr>\n",
       "      <th>3</th>\n",
       "      <td>2017-06-01 00:29:00</td>\n",
       "      <td>0.55</td>\n",
       "      <td>16109239769442553005</td>\n",
       "    </tr>\n",
       "    <tr>\n",
       "      <th>4</th>\n",
       "      <td>2017-06-01 07:58:00</td>\n",
       "      <td>0.37</td>\n",
       "      <td>14200605875248379450</td>\n",
       "    </tr>\n",
       "  </tbody>\n",
       "</table>\n",
       "</div>"
      ],
      "text/plain": [
       "               buy_ts  revenue                   uid\n",
       "0 2017-06-01 00:10:00    17.00  10329302124590727494\n",
       "1 2017-06-01 00:25:00     0.55  11627257723692907447\n",
       "2 2017-06-01 00:27:00     0.37  17903680561304213844\n",
       "3 2017-06-01 00:29:00     0.55  16109239769442553005\n",
       "4 2017-06-01 07:58:00     0.37  14200605875248379450"
      ]
     },
     "execution_count": 76,
     "metadata": {},
     "output_type": "execute_result"
    }
   ],
   "source": [
    "orders['buy_ts'] = pd.to_datetime(orders['buy_ts'])\n",
    "orders.info()\n",
    "orders.head()"
   ]
  },
  {
   "cell_type": "code",
   "execution_count": 77,
   "metadata": {
    "trusted": true
   },
   "outputs": [
    {
     "data": {
      "text/plain": [
       "np.int64(0)"
      ]
     },
     "execution_count": 77,
     "metadata": {},
     "output_type": "execute_result"
    }
   ],
   "source": [
    "orders.duplicated().sum()"
   ]
  },
  {
   "cell_type": "markdown",
   "metadata": {},
   "source": [
    "Complete the process succes."
   ]
  },
  {
   "cell_type": "markdown",
   "metadata": {},
   "source": [
    "### Costs"
   ]
  },
  {
   "cell_type": "code",
   "execution_count": 78,
   "metadata": {
    "trusted": true
   },
   "outputs": [
    {
     "name": "stdout",
     "output_type": "stream",
     "text": [
      "<class 'pandas.core.frame.DataFrame'>\n",
      "RangeIndex: 2542 entries, 0 to 2541\n",
      "Data columns (total 3 columns):\n",
      " #   Column     Non-Null Count  Dtype  \n",
      "---  ------     --------------  -----  \n",
      " 0   source_id  2542 non-null   int64  \n",
      " 1   dt         2542 non-null   object \n",
      " 2   costs      2542 non-null   float64\n",
      "dtypes: float64(1), int64(1), object(1)\n",
      "memory usage: 59.7+ KB\n"
     ]
    },
    {
     "data": {
      "text/html": [
       "<div>\n",
       "<style scoped>\n",
       "    .dataframe tbody tr th:only-of-type {\n",
       "        vertical-align: middle;\n",
       "    }\n",
       "\n",
       "    .dataframe tbody tr th {\n",
       "        vertical-align: top;\n",
       "    }\n",
       "\n",
       "    .dataframe thead th {\n",
       "        text-align: right;\n",
       "    }\n",
       "</style>\n",
       "<table border=\"1\" class=\"dataframe\">\n",
       "  <thead>\n",
       "    <tr style=\"text-align: right;\">\n",
       "      <th></th>\n",
       "      <th>source_id</th>\n",
       "      <th>dt</th>\n",
       "      <th>costs</th>\n",
       "    </tr>\n",
       "  </thead>\n",
       "  <tbody>\n",
       "    <tr>\n",
       "      <th>0</th>\n",
       "      <td>1</td>\n",
       "      <td>2017-06-01</td>\n",
       "      <td>75.20</td>\n",
       "    </tr>\n",
       "    <tr>\n",
       "      <th>1</th>\n",
       "      <td>1</td>\n",
       "      <td>2017-06-02</td>\n",
       "      <td>62.25</td>\n",
       "    </tr>\n",
       "    <tr>\n",
       "      <th>2</th>\n",
       "      <td>1</td>\n",
       "      <td>2017-06-03</td>\n",
       "      <td>36.53</td>\n",
       "    </tr>\n",
       "    <tr>\n",
       "      <th>3</th>\n",
       "      <td>1</td>\n",
       "      <td>2017-06-04</td>\n",
       "      <td>55.00</td>\n",
       "    </tr>\n",
       "    <tr>\n",
       "      <th>4</th>\n",
       "      <td>1</td>\n",
       "      <td>2017-06-05</td>\n",
       "      <td>57.08</td>\n",
       "    </tr>\n",
       "  </tbody>\n",
       "</table>\n",
       "</div>"
      ],
      "text/plain": [
       "   source_id          dt  costs\n",
       "0          1  2017-06-01  75.20\n",
       "1          1  2017-06-02  62.25\n",
       "2          1  2017-06-03  36.53\n",
       "3          1  2017-06-04  55.00\n",
       "4          1  2017-06-05  57.08"
      ]
     },
     "execution_count": 78,
     "metadata": {},
     "output_type": "execute_result"
    }
   ],
   "source": [
    "costs.info()\n",
    "costs.head()"
   ]
  },
  {
   "cell_type": "code",
   "execution_count": 79,
   "metadata": {
    "trusted": true
   },
   "outputs": [
    {
     "data": {
      "text/plain": [
       "array([ 1,  2,  3,  4,  5,  9, 10])"
      ]
     },
     "execution_count": 79,
     "metadata": {},
     "output_type": "execute_result"
    }
   ],
   "source": [
    "costs['source_id'].unique()"
   ]
  },
  {
   "cell_type": "markdown",
   "metadata": {},
   "source": [
    "In this case, the only necessary step is to change the dt column's type from object to date. It was found that there are only 7 active sources. It is recommended to update the numbering of the suppliers."
   ]
  },
  {
   "cell_type": "code",
   "execution_count": 80,
   "metadata": {
    "trusted": true
   },
   "outputs": [
    {
     "name": "stdout",
     "output_type": "stream",
     "text": [
      "<class 'pandas.core.frame.DataFrame'>\n",
      "RangeIndex: 2542 entries, 0 to 2541\n",
      "Data columns (total 3 columns):\n",
      " #   Column     Non-Null Count  Dtype         \n",
      "---  ------     --------------  -----         \n",
      " 0   source_id  2542 non-null   int64         \n",
      " 1   dt         2542 non-null   datetime64[ns]\n",
      " 2   costs      2542 non-null   float64       \n",
      "dtypes: datetime64[ns](1), float64(1), int64(1)\n",
      "memory usage: 59.7 KB\n"
     ]
    }
   ],
   "source": [
    "costs['dt']= pd.to_datetime(costos['dt'])\n",
    "costs.info()"
   ]
  },
  {
   "cell_type": "code",
   "execution_count": 81,
   "metadata": {
    "trusted": true
   },
   "outputs": [
    {
     "data": {
      "text/plain": [
       "np.int64(0)"
      ]
     },
     "execution_count": 81,
     "metadata": {},
     "output_type": "execute_result"
    }
   ],
   "source": [
    "costs.duplicated().sum()"
   ]
  },
  {
   "cell_type": "markdown",
   "metadata": {},
   "source": [
    "## Metrics"
   ]
  },
  {
   "cell_type": "markdown",
   "metadata": {},
   "source": [
    "### Visits"
   ]
  },
  {
   "cell_type": "code",
   "execution_count": 82,
   "metadata": {
    "trusted": true
   },
   "outputs": [
    {
     "name": "stdout",
     "output_type": "stream",
     "text": [
      "<class 'pandas.core.frame.DataFrame'>\n",
      "RangeIndex: 359400 entries, 0 to 359399\n",
      "Data columns (total 5 columns):\n",
      " #   Column     Non-Null Count   Dtype \n",
      "---  ------     --------------   ----- \n",
      " 0   device     359400 non-null  object\n",
      " 1   end_ts     359400 non-null  object\n",
      " 2   source_id  359400 non-null  int64 \n",
      " 3   start_ts   359400 non-null  object\n",
      " 4   uid        359400 non-null  uint64\n",
      "dtypes: int64(1), object(3), uint64(1)\n",
      "memory usage: 13.7+ MB\n"
     ]
    },
    {
     "data": {
      "text/html": [
       "<div>\n",
       "<style scoped>\n",
       "    .dataframe tbody tr th:only-of-type {\n",
       "        vertical-align: middle;\n",
       "    }\n",
       "\n",
       "    .dataframe tbody tr th {\n",
       "        vertical-align: top;\n",
       "    }\n",
       "\n",
       "    .dataframe thead th {\n",
       "        text-align: right;\n",
       "    }\n",
       "</style>\n",
       "<table border=\"1\" class=\"dataframe\">\n",
       "  <thead>\n",
       "    <tr style=\"text-align: right;\">\n",
       "      <th></th>\n",
       "      <th>device</th>\n",
       "      <th>end_ts</th>\n",
       "      <th>source_id</th>\n",
       "      <th>start_ts</th>\n",
       "      <th>uid</th>\n",
       "    </tr>\n",
       "  </thead>\n",
       "  <tbody>\n",
       "    <tr>\n",
       "      <th>0</th>\n",
       "      <td>touch</td>\n",
       "      <td>2017-12-20 17:38:00</td>\n",
       "      <td>4</td>\n",
       "      <td>2017-12-20 17:20:00</td>\n",
       "      <td>16879256277535980062</td>\n",
       "    </tr>\n",
       "    <tr>\n",
       "      <th>1</th>\n",
       "      <td>desktop</td>\n",
       "      <td>2018-02-19 17:21:00</td>\n",
       "      <td>2</td>\n",
       "      <td>2018-02-19 16:53:00</td>\n",
       "      <td>104060357244891740</td>\n",
       "    </tr>\n",
       "    <tr>\n",
       "      <th>2</th>\n",
       "      <td>touch</td>\n",
       "      <td>2017-07-01 01:54:00</td>\n",
       "      <td>5</td>\n",
       "      <td>2017-07-01 01:54:00</td>\n",
       "      <td>7459035603376831527</td>\n",
       "    </tr>\n",
       "    <tr>\n",
       "      <th>3</th>\n",
       "      <td>desktop</td>\n",
       "      <td>2018-05-20 11:23:00</td>\n",
       "      <td>9</td>\n",
       "      <td>2018-05-20 10:59:00</td>\n",
       "      <td>16174680259334210214</td>\n",
       "    </tr>\n",
       "    <tr>\n",
       "      <th>4</th>\n",
       "      <td>desktop</td>\n",
       "      <td>2017-12-27 14:06:00</td>\n",
       "      <td>3</td>\n",
       "      <td>2017-12-27 14:06:00</td>\n",
       "      <td>9969694820036681168</td>\n",
       "    </tr>\n",
       "  </tbody>\n",
       "</table>\n",
       "</div>"
      ],
      "text/plain": [
       "    device               end_ts  source_id             start_ts  \\\n",
       "0    touch  2017-12-20 17:38:00          4  2017-12-20 17:20:00   \n",
       "1  desktop  2018-02-19 17:21:00          2  2018-02-19 16:53:00   \n",
       "2    touch  2017-07-01 01:54:00          5  2017-07-01 01:54:00   \n",
       "3  desktop  2018-05-20 11:23:00          9  2018-05-20 10:59:00   \n",
       "4  desktop  2017-12-27 14:06:00          3  2017-12-27 14:06:00   \n",
       "\n",
       "                    uid  \n",
       "0  16879256277535980062  \n",
       "1    104060357244891740  \n",
       "2   7459035603376831527  \n",
       "3  16174680259334210214  \n",
       "4   9969694820036681168  "
      ]
     },
     "execution_count": 82,
     "metadata": {},
     "output_type": "execute_result"
    }
   ],
   "source": [
    "visits.info()\n",
    "visits.head()"
   ]
  },
  {
   "cell_type": "markdown",
   "metadata": {},
   "source": [
    "#### How many people used the app per day , week and mont?"
   ]
  },
  {
   "cell_type": "code",
   "execution_count": 84,
   "metadata": {
    "trusted": true
   },
   "outputs": [
    {
     "ename": "AttributeError",
     "evalue": "Can only use .dt accessor with datetimelike values",
     "output_type": "error",
     "traceback": [
      "\u001b[31m---------------------------------------------------------------------------\u001b[39m",
      "\u001b[31mAttributeError\u001b[39m                            Traceback (most recent call last)",
      "\u001b[36mCell\u001b[39m\u001b[36m \u001b[39m\u001b[32mIn[84]\u001b[39m\u001b[32m, line 1\u001b[39m\n\u001b[32m----> \u001b[39m\u001b[32m1\u001b[39m visits[\u001b[33m'\u001b[39m\u001b[33mday\u001b[39m\u001b[33m'\u001b[39m] = \u001b[43mvisits\u001b[49m\u001b[43m[\u001b[49m\u001b[33;43m'\u001b[39;49m\u001b[33;43mstart_ts\u001b[39;49m\u001b[33;43m'\u001b[39;49m\u001b[43m]\u001b[49m\u001b[43m.\u001b[49m\u001b[43mdt\u001b[49m.day\n\u001b[32m      2\u001b[39m visits[\u001b[33m'\u001b[39m\u001b[33mweek\u001b[39m\u001b[33m'\u001b[39m] = visits[\u001b[33m'\u001b[39m\u001b[33mstart_ts\u001b[39m\u001b[33m'\u001b[39m].dt.isocalendar().week\n\u001b[32m      3\u001b[39m visits[\u001b[33m'\u001b[39m\u001b[33mmonth\u001b[39m\u001b[33m'\u001b[39m] = visits[\u001b[33m'\u001b[39m\u001b[33mstart_ts\u001b[39m\u001b[33m'\u001b[39m].dt.month\n",
      "\u001b[36mFile \u001b[39m\u001b[32m~/Tripleten/Showz marketing/.venv/lib/python3.12/site-packages/pandas/core/generic.py:6299\u001b[39m, in \u001b[36mNDFrame.__getattr__\u001b[39m\u001b[34m(self, name)\u001b[39m\n\u001b[32m   6292\u001b[39m \u001b[38;5;28;01mif\u001b[39;00m (\n\u001b[32m   6293\u001b[39m     name \u001b[38;5;129;01mnot\u001b[39;00m \u001b[38;5;129;01min\u001b[39;00m \u001b[38;5;28mself\u001b[39m._internal_names_set\n\u001b[32m   6294\u001b[39m     \u001b[38;5;129;01mand\u001b[39;00m name \u001b[38;5;129;01mnot\u001b[39;00m \u001b[38;5;129;01min\u001b[39;00m \u001b[38;5;28mself\u001b[39m._metadata\n\u001b[32m   6295\u001b[39m     \u001b[38;5;129;01mand\u001b[39;00m name \u001b[38;5;129;01mnot\u001b[39;00m \u001b[38;5;129;01min\u001b[39;00m \u001b[38;5;28mself\u001b[39m._accessors\n\u001b[32m   6296\u001b[39m     \u001b[38;5;129;01mand\u001b[39;00m \u001b[38;5;28mself\u001b[39m._info_axis._can_hold_identifiers_and_holds_name(name)\n\u001b[32m   6297\u001b[39m ):\n\u001b[32m   6298\u001b[39m     \u001b[38;5;28;01mreturn\u001b[39;00m \u001b[38;5;28mself\u001b[39m[name]\n\u001b[32m-> \u001b[39m\u001b[32m6299\u001b[39m \u001b[38;5;28;01mreturn\u001b[39;00m \u001b[38;5;28;43mobject\u001b[39;49m\u001b[43m.\u001b[49m\u001b[34;43m__getattribute__\u001b[39;49m\u001b[43m(\u001b[49m\u001b[38;5;28;43mself\u001b[39;49m\u001b[43m,\u001b[49m\u001b[43m \u001b[49m\u001b[43mname\u001b[49m\u001b[43m)\u001b[49m\n",
      "\u001b[36mFile \u001b[39m\u001b[32m~/Tripleten/Showz marketing/.venv/lib/python3.12/site-packages/pandas/core/accessor.py:224\u001b[39m, in \u001b[36mCachedAccessor.__get__\u001b[39m\u001b[34m(self, obj, cls)\u001b[39m\n\u001b[32m    221\u001b[39m \u001b[38;5;28;01mif\u001b[39;00m obj \u001b[38;5;129;01mis\u001b[39;00m \u001b[38;5;28;01mNone\u001b[39;00m:\n\u001b[32m    222\u001b[39m     \u001b[38;5;66;03m# we're accessing the attribute of the class, i.e., Dataset.geo\u001b[39;00m\n\u001b[32m    223\u001b[39m     \u001b[38;5;28;01mreturn\u001b[39;00m \u001b[38;5;28mself\u001b[39m._accessor\n\u001b[32m--> \u001b[39m\u001b[32m224\u001b[39m accessor_obj = \u001b[38;5;28;43mself\u001b[39;49m\u001b[43m.\u001b[49m\u001b[43m_accessor\u001b[49m\u001b[43m(\u001b[49m\u001b[43mobj\u001b[49m\u001b[43m)\u001b[49m\n\u001b[32m    225\u001b[39m \u001b[38;5;66;03m# Replace the property with the accessor object. Inspired by:\u001b[39;00m\n\u001b[32m    226\u001b[39m \u001b[38;5;66;03m# https://www.pydanny.com/cached-property.html\u001b[39;00m\n\u001b[32m    227\u001b[39m \u001b[38;5;66;03m# We need to use object.__setattr__ because we overwrite __setattr__ on\u001b[39;00m\n\u001b[32m    228\u001b[39m \u001b[38;5;66;03m# NDFrame\u001b[39;00m\n\u001b[32m    229\u001b[39m \u001b[38;5;28mobject\u001b[39m.\u001b[34m__setattr__\u001b[39m(obj, \u001b[38;5;28mself\u001b[39m._name, accessor_obj)\n",
      "\u001b[36mFile \u001b[39m\u001b[32m~/Tripleten/Showz marketing/.venv/lib/python3.12/site-packages/pandas/core/indexes/accessors.py:643\u001b[39m, in \u001b[36mCombinedDatetimelikeProperties.__new__\u001b[39m\u001b[34m(cls, data)\u001b[39m\n\u001b[32m    640\u001b[39m \u001b[38;5;28;01melif\u001b[39;00m \u001b[38;5;28misinstance\u001b[39m(data.dtype, PeriodDtype):\n\u001b[32m    641\u001b[39m     \u001b[38;5;28;01mreturn\u001b[39;00m PeriodProperties(data, orig)\n\u001b[32m--> \u001b[39m\u001b[32m643\u001b[39m \u001b[38;5;28;01mraise\u001b[39;00m \u001b[38;5;167;01mAttributeError\u001b[39;00m(\u001b[33m\"\u001b[39m\u001b[33mCan only use .dt accessor with datetimelike values\u001b[39m\u001b[33m\"\u001b[39m)\n",
      "\u001b[31mAttributeError\u001b[39m: Can only use .dt accessor with datetimelike values"
     ]
    }
   ],
   "source": [
    "visits['day'] = visits['start_ts'].dt.day\n",
    "visits['week'] = visits['start_ts'].dt.isocalendar().week\n",
    "visits['month'] = visits['start_ts'].dt.month\n",
    "visits.head()"
   ]
  },
  {
   "cell_type": "code",
   "execution_count": 85,
   "metadata": {
    "trusted": true
   },
   "outputs": [
    {
     "ename": "KeyError",
     "evalue": "'month'",
     "output_type": "error",
     "traceback": [
      "\u001b[31m---------------------------------------------------------------------------\u001b[39m",
      "\u001b[31mKeyError\u001b[39m                                  Traceback (most recent call last)",
      "\u001b[36mCell\u001b[39m\u001b[36m \u001b[39m\u001b[32mIn[85]\u001b[39m\u001b[32m, line 1\u001b[39m\n\u001b[32m----> \u001b[39m\u001b[32m1\u001b[39m per_monthu = \u001b[43mvisits\u001b[49m\u001b[43m.\u001b[49m\u001b[43mgroupby\u001b[49m\u001b[43m(\u001b[49m\u001b[43m[\u001b[49m\u001b[33;43m\"\u001b[39;49m\u001b[33;43mmonth\u001b[39;49m\u001b[33;43m\"\u001b[39;49m\u001b[43m]\u001b[49m\u001b[43m)\u001b[49m[\u001b[33m'\u001b[39m\u001b[33muid\u001b[39m\u001b[33m'\u001b[39m].nunique()\n\u001b[32m      2\u001b[39m per_weeku = visits.groupby([\u001b[33m\"\u001b[39m\u001b[33mweek\u001b[39m\u001b[33m\"\u001b[39m])[\u001b[33m'\u001b[39m\u001b[33muid\u001b[39m\u001b[33m'\u001b[39m].nunique()\n\u001b[32m      3\u001b[39m per_dayu = visits.groupby([\u001b[33m\"\u001b[39m\u001b[33mday\u001b[39m\u001b[33m\"\u001b[39m])[\u001b[33m'\u001b[39m\u001b[33muid\u001b[39m\u001b[33m'\u001b[39m].nunique()\n",
      "\u001b[36mFile \u001b[39m\u001b[32m~/Tripleten/Showz marketing/.venv/lib/python3.12/site-packages/pandas/core/frame.py:9183\u001b[39m, in \u001b[36mDataFrame.groupby\u001b[39m\u001b[34m(self, by, axis, level, as_index, sort, group_keys, observed, dropna)\u001b[39m\n\u001b[32m   9180\u001b[39m \u001b[38;5;28;01mif\u001b[39;00m level \u001b[38;5;129;01mis\u001b[39;00m \u001b[38;5;28;01mNone\u001b[39;00m \u001b[38;5;129;01mand\u001b[39;00m by \u001b[38;5;129;01mis\u001b[39;00m \u001b[38;5;28;01mNone\u001b[39;00m:\n\u001b[32m   9181\u001b[39m     \u001b[38;5;28;01mraise\u001b[39;00m \u001b[38;5;167;01mTypeError\u001b[39;00m(\u001b[33m\"\u001b[39m\u001b[33mYou have to supply one of \u001b[39m\u001b[33m'\u001b[39m\u001b[33mby\u001b[39m\u001b[33m'\u001b[39m\u001b[33m and \u001b[39m\u001b[33m'\u001b[39m\u001b[33mlevel\u001b[39m\u001b[33m'\u001b[39m\u001b[33m\"\u001b[39m)\n\u001b[32m-> \u001b[39m\u001b[32m9183\u001b[39m \u001b[38;5;28;01mreturn\u001b[39;00m \u001b[43mDataFrameGroupBy\u001b[49m\u001b[43m(\u001b[49m\n\u001b[32m   9184\u001b[39m \u001b[43m    \u001b[49m\u001b[43mobj\u001b[49m\u001b[43m=\u001b[49m\u001b[38;5;28;43mself\u001b[39;49m\u001b[43m,\u001b[49m\n\u001b[32m   9185\u001b[39m \u001b[43m    \u001b[49m\u001b[43mkeys\u001b[49m\u001b[43m=\u001b[49m\u001b[43mby\u001b[49m\u001b[43m,\u001b[49m\n\u001b[32m   9186\u001b[39m \u001b[43m    \u001b[49m\u001b[43maxis\u001b[49m\u001b[43m=\u001b[49m\u001b[43maxis\u001b[49m\u001b[43m,\u001b[49m\n\u001b[32m   9187\u001b[39m \u001b[43m    \u001b[49m\u001b[43mlevel\u001b[49m\u001b[43m=\u001b[49m\u001b[43mlevel\u001b[49m\u001b[43m,\u001b[49m\n\u001b[32m   9188\u001b[39m \u001b[43m    \u001b[49m\u001b[43mas_index\u001b[49m\u001b[43m=\u001b[49m\u001b[43mas_index\u001b[49m\u001b[43m,\u001b[49m\n\u001b[32m   9189\u001b[39m \u001b[43m    \u001b[49m\u001b[43msort\u001b[49m\u001b[43m=\u001b[49m\u001b[43msort\u001b[49m\u001b[43m,\u001b[49m\n\u001b[32m   9190\u001b[39m \u001b[43m    \u001b[49m\u001b[43mgroup_keys\u001b[49m\u001b[43m=\u001b[49m\u001b[43mgroup_keys\u001b[49m\u001b[43m,\u001b[49m\n\u001b[32m   9191\u001b[39m \u001b[43m    \u001b[49m\u001b[43mobserved\u001b[49m\u001b[43m=\u001b[49m\u001b[43mobserved\u001b[49m\u001b[43m,\u001b[49m\n\u001b[32m   9192\u001b[39m \u001b[43m    \u001b[49m\u001b[43mdropna\u001b[49m\u001b[43m=\u001b[49m\u001b[43mdropna\u001b[49m\u001b[43m,\u001b[49m\n\u001b[32m   9193\u001b[39m \u001b[43m\u001b[49m\u001b[43m)\u001b[49m\n",
      "\u001b[36mFile \u001b[39m\u001b[32m~/Tripleten/Showz marketing/.venv/lib/python3.12/site-packages/pandas/core/groupby/groupby.py:1329\u001b[39m, in \u001b[36mGroupBy.__init__\u001b[39m\u001b[34m(self, obj, keys, axis, level, grouper, exclusions, selection, as_index, sort, group_keys, observed, dropna)\u001b[39m\n\u001b[32m   1326\u001b[39m \u001b[38;5;28mself\u001b[39m.dropna = dropna\n\u001b[32m   1328\u001b[39m \u001b[38;5;28;01mif\u001b[39;00m grouper \u001b[38;5;129;01mis\u001b[39;00m \u001b[38;5;28;01mNone\u001b[39;00m:\n\u001b[32m-> \u001b[39m\u001b[32m1329\u001b[39m     grouper, exclusions, obj = \u001b[43mget_grouper\u001b[49m\u001b[43m(\u001b[49m\n\u001b[32m   1330\u001b[39m \u001b[43m        \u001b[49m\u001b[43mobj\u001b[49m\u001b[43m,\u001b[49m\n\u001b[32m   1331\u001b[39m \u001b[43m        \u001b[49m\u001b[43mkeys\u001b[49m\u001b[43m,\u001b[49m\n\u001b[32m   1332\u001b[39m \u001b[43m        \u001b[49m\u001b[43maxis\u001b[49m\u001b[43m=\u001b[49m\u001b[43maxis\u001b[49m\u001b[43m,\u001b[49m\n\u001b[32m   1333\u001b[39m \u001b[43m        \u001b[49m\u001b[43mlevel\u001b[49m\u001b[43m=\u001b[49m\u001b[43mlevel\u001b[49m\u001b[43m,\u001b[49m\n\u001b[32m   1334\u001b[39m \u001b[43m        \u001b[49m\u001b[43msort\u001b[49m\u001b[43m=\u001b[49m\u001b[43msort\u001b[49m\u001b[43m,\u001b[49m\n\u001b[32m   1335\u001b[39m \u001b[43m        \u001b[49m\u001b[43mobserved\u001b[49m\u001b[43m=\u001b[49m\u001b[38;5;28;43;01mFalse\u001b[39;49;00m\u001b[43m \u001b[49m\u001b[38;5;28;43;01mif\u001b[39;49;00m\u001b[43m \u001b[49m\u001b[43mobserved\u001b[49m\u001b[43m \u001b[49m\u001b[38;5;129;43;01mis\u001b[39;49;00m\u001b[43m \u001b[49m\u001b[43mlib\u001b[49m\u001b[43m.\u001b[49m\u001b[43mno_default\u001b[49m\u001b[43m \u001b[49m\u001b[38;5;28;43;01melse\u001b[39;49;00m\u001b[43m \u001b[49m\u001b[43mobserved\u001b[49m\u001b[43m,\u001b[49m\n\u001b[32m   1336\u001b[39m \u001b[43m        \u001b[49m\u001b[43mdropna\u001b[49m\u001b[43m=\u001b[49m\u001b[38;5;28;43mself\u001b[39;49m\u001b[43m.\u001b[49m\u001b[43mdropna\u001b[49m\u001b[43m,\u001b[49m\n\u001b[32m   1337\u001b[39m \u001b[43m    \u001b[49m\u001b[43m)\u001b[49m\n\u001b[32m   1339\u001b[39m \u001b[38;5;28;01mif\u001b[39;00m observed \u001b[38;5;129;01mis\u001b[39;00m lib.no_default:\n\u001b[32m   1340\u001b[39m     \u001b[38;5;28;01mif\u001b[39;00m \u001b[38;5;28many\u001b[39m(ping._passed_categorical \u001b[38;5;28;01mfor\u001b[39;00m ping \u001b[38;5;129;01min\u001b[39;00m grouper.groupings):\n",
      "\u001b[36mFile \u001b[39m\u001b[32m~/Tripleten/Showz marketing/.venv/lib/python3.12/site-packages/pandas/core/groupby/grouper.py:1043\u001b[39m, in \u001b[36mget_grouper\u001b[39m\u001b[34m(obj, key, axis, level, sort, observed, validate, dropna)\u001b[39m\n\u001b[32m   1041\u001b[39m         in_axis, level, gpr = \u001b[38;5;28;01mFalse\u001b[39;00m, gpr, \u001b[38;5;28;01mNone\u001b[39;00m\n\u001b[32m   1042\u001b[39m     \u001b[38;5;28;01melse\u001b[39;00m:\n\u001b[32m-> \u001b[39m\u001b[32m1043\u001b[39m         \u001b[38;5;28;01mraise\u001b[39;00m \u001b[38;5;167;01mKeyError\u001b[39;00m(gpr)\n\u001b[32m   1044\u001b[39m \u001b[38;5;28;01melif\u001b[39;00m \u001b[38;5;28misinstance\u001b[39m(gpr, Grouper) \u001b[38;5;129;01mand\u001b[39;00m gpr.key \u001b[38;5;129;01mis\u001b[39;00m \u001b[38;5;129;01mnot\u001b[39;00m \u001b[38;5;28;01mNone\u001b[39;00m:\n\u001b[32m   1045\u001b[39m     \u001b[38;5;66;03m# Add key to exclusions\u001b[39;00m\n\u001b[32m   1046\u001b[39m     exclusions.add(gpr.key)\n",
      "\u001b[31mKeyError\u001b[39m: 'month'"
     ]
    }
   ],
   "source": [
    "per_monthu = visits.groupby([\"month\"])['uid'].nunique()\n",
    "per_weeku = visits.groupby([\"week\"])['uid'].nunique()\n",
    "per_dayu = visits.groupby([\"day\"])['uid'].nunique()"
   ]
  },
  {
   "cell_type": "code",
   "execution_count": 20,
   "metadata": {
    "trusted": true
   },
   "outputs": [
    {
     "name": "stdout",
     "output_type": "stream",
     "text": [
      "Por mes entran un promedio de : 23228.0 personas\n",
      "--------------------------------------------------------------------\n",
      "Por semana entran un promedio de : 5825.0 personas\n",
      "--------------------------------------------------------------------\n",
      "Por día entran un promedio de : 10242.0 personas\n"
     ]
    }
   ],
   "source": [
    "print(f\"Por mes entran un promedio de : {per_monthu.mean().round(0)} personas\")\n",
    "print(\"--------------------------------------------------------------------\")\n",
    "print(f\"Por semana entran un promedio de : {per_weeku.mean().round(0)} personas\")\n",
    "print(\"--------------------------------------------------------------------\")\n",
    "print(f\"Por día entran un promedio de : {per_dayu.mean().round(0)} personas\")\n"
   ]
  },
  {
   "cell_type": "markdown",
   "metadata": {},
   "source": [
    "Se deja comentado que la docuemntación suministrada esta herrada , dado que dicen que la informacion es del periodo entre enero de 2017 hasta diciembre de 2018 , y es mentira la informacion suministrada va desde 1 de junio del 2017 hasta 1 de junio del 2018."
   ]
  },
  {
   "cell_type": "markdown",
   "metadata": {},
   "source": [
    "#### ¿Cuántas sesiones hay por día? (Un usuario puede tener más de una sesión)."
   ]
  },
  {
   "cell_type": "code",
   "execution_count": 21,
   "metadata": {
    "trusted": true
   },
   "outputs": [],
   "source": [
    "per_month = visitas.groupby([\"month\"])['uid'].count()\n",
    "per_week = visitas.groupby([\"week\"])['uid'].count()\n",
    "per_day = visitas.groupby([\"day\"])['uid'].count()"
   ]
  },
  {
   "cell_type": "code",
   "execution_count": 22,
   "metadata": {
    "trusted": true
   },
   "outputs": [
    {
     "name": "stdout",
     "output_type": "stream",
     "text": [
      "Por mes entran un promedio de : 29950.0 personas\n",
      "--------------------------------------------------------------------\n",
      "Por semana entran un promedio de : 6912.0 personas\n",
      "--------------------------------------------------------------------\n",
      "Por día entran un promedio de : 11594.0 personas\n"
     ]
    }
   ],
   "source": [
    "print(f\"Por mes entran un promedio de : {per_month.mean().round(0)} personas\")\n",
    "print(\"--------------------------------------------------------------------\")\n",
    "print(f\"Por semana entran un promedio de : {per_week.mean().round(0)} personas\")\n",
    "print(\"--------------------------------------------------------------------\")\n",
    "print(f\"Por día entran un promedio de : {per_day.mean().round(0)} personas\")"
   ]
  },
  {
   "cell_type": "markdown",
   "metadata": {},
   "source": [
    "el trafico del personal es bastante bueno."
   ]
  },
  {
   "cell_type": "markdown",
   "metadata": {},
   "source": [
    "#### ¿Cuál es la duración de cada sesión?"
   ]
  },
  {
   "cell_type": "code",
   "execution_count": 23,
   "metadata": {
    "trusted": true
   },
   "outputs": [
    {
     "name": "stdout",
     "output_type": "stream",
     "text": [
      "En promedio una sesion de un usuario dura un total de : 644.0 segundos\n"
     ]
    }
   ],
   "source": [
    "visitas['seconds'] = (visitas['end_ts'] - visitas['start_ts']).dt.seconds\n",
    "\n",
    "print(f\"En promedio una sesion de un usuario dura un total de : {visitas['seconds'].mean().round(0)} segundos\")\n"
   ]
  },
  {
   "cell_type": "markdown",
   "metadata": {},
   "source": [
    "#### ¿Con qué frecuencia los usuarios regresan?\n"
   ]
  },
  {
   "cell_type": "code",
   "execution_count": 24,
   "metadata": {
    "trusted": true
   },
   "outputs": [
    {
     "data": {
      "text/html": [
       "<div>\n",
       "<style scoped>\n",
       "    .dataframe tbody tr th:only-of-type {\n",
       "        vertical-align: middle;\n",
       "    }\n",
       "\n",
       "    .dataframe tbody tr th {\n",
       "        vertical-align: top;\n",
       "    }\n",
       "\n",
       "    .dataframe thead th {\n",
       "        text-align: right;\n",
       "    }\n",
       "</style>\n",
       "<table border=\"1\" class=\"dataframe\">\n",
       "  <thead>\n",
       "    <tr style=\"text-align: right;\">\n",
       "      <th></th>\n",
       "      <th></th>\n",
       "      <th>n_sesiones</th>\n",
       "      <th>cant_usuarios</th>\n",
       "      <th>session_per_user</th>\n",
       "    </tr>\n",
       "    <tr>\n",
       "      <th>month</th>\n",
       "      <th>week</th>\n",
       "      <th></th>\n",
       "      <th></th>\n",
       "      <th></th>\n",
       "    </tr>\n",
       "  </thead>\n",
       "  <tbody>\n",
       "    <tr>\n",
       "      <th rowspan=\"5\" valign=\"top\">1</th>\n",
       "      <th>1</th>\n",
       "      <td>8057</td>\n",
       "      <td>6918</td>\n",
       "      <td>1.164643</td>\n",
       "    </tr>\n",
       "    <tr>\n",
       "      <th>2</th>\n",
       "      <td>7871</td>\n",
       "      <td>6703</td>\n",
       "      <td>1.174250</td>\n",
       "    </tr>\n",
       "    <tr>\n",
       "      <th>3</th>\n",
       "      <td>8317</td>\n",
       "      <td>6972</td>\n",
       "      <td>1.192915</td>\n",
       "    </tr>\n",
       "    <tr>\n",
       "      <th>4</th>\n",
       "      <td>8488</td>\n",
       "      <td>7060</td>\n",
       "      <td>1.202266</td>\n",
       "    </tr>\n",
       "    <tr>\n",
       "      <th>5</th>\n",
       "      <td>4206</td>\n",
       "      <td>3639</td>\n",
       "      <td>1.155812</td>\n",
       "    </tr>\n",
       "    <tr>\n",
       "      <th>...</th>\n",
       "      <th>...</th>\n",
       "      <td>...</td>\n",
       "      <td>...</td>\n",
       "      <td>...</td>\n",
       "    </tr>\n",
       "    <tr>\n",
       "      <th rowspan=\"5\" valign=\"top\">12</th>\n",
       "      <th>48</th>\n",
       "      <td>3835</td>\n",
       "      <td>3318</td>\n",
       "      <td>1.155817</td>\n",
       "    </tr>\n",
       "    <tr>\n",
       "      <th>49</th>\n",
       "      <td>10298</td>\n",
       "      <td>8407</td>\n",
       "      <td>1.224932</td>\n",
       "    </tr>\n",
       "    <tr>\n",
       "      <th>50</th>\n",
       "      <td>10120</td>\n",
       "      <td>8214</td>\n",
       "      <td>1.232043</td>\n",
       "    </tr>\n",
       "    <tr>\n",
       "      <th>51</th>\n",
       "      <td>8500</td>\n",
       "      <td>7172</td>\n",
       "      <td>1.185165</td>\n",
       "    </tr>\n",
       "    <tr>\n",
       "      <th>52</th>\n",
       "      <td>9230</td>\n",
       "      <td>7774</td>\n",
       "      <td>1.187291</td>\n",
       "    </tr>\n",
       "  </tbody>\n",
       "</table>\n",
       "<p>62 rows × 3 columns</p>\n",
       "</div>"
      ],
      "text/plain": [
       "            n_sesiones  cant_usuarios  session_per_user\n",
       "month week                                             \n",
       "1     1           8057           6918          1.164643\n",
       "      2           7871           6703          1.174250\n",
       "      3           8317           6972          1.192915\n",
       "      4           8488           7060          1.202266\n",
       "      5           4206           3639          1.155812\n",
       "...                ...            ...               ...\n",
       "12    48          3835           3318          1.155817\n",
       "      49         10298           8407          1.224932\n",
       "      50         10120           8214          1.232043\n",
       "      51          8500           7172          1.185165\n",
       "      52          9230           7774          1.187291\n",
       "\n",
       "[62 rows x 3 columns]"
      ]
     },
     "execution_count": 24,
     "metadata": {},
     "output_type": "execute_result"
    }
   ],
   "source": [
    "session_per_user = visitas.groupby(['month','week']).agg({'uid':['count','nunique']})\n",
    "session_per_user.columns=['n_sesiones','cant_usuarios']\n",
    "\n",
    "session_per_user['session_per_user'] = (session_per_user['n_sesiones'] /  session_per_user['cant_usuarios'])\n",
    "session_per_user"
   ]
  },
  {
   "cell_type": "code",
   "execution_count": 25,
   "metadata": {
    "trusted": true
   },
   "outputs": [
    {
     "name": "stdout",
     "output_type": "stream",
     "text": [
      "En promedio un los usuarios ingresan a la pagina 1.17 vez a la semana\n"
     ]
    }
   ],
   "source": [
    "print(f\"En promedio un los usuarios ingresan a la pagina {session_per_user['session_per_user'].mean().round(2)} vez a la semana\")"
   ]
  },
  {
   "cell_type": "code",
   "execution_count": 26,
   "metadata": {},
   "outputs": [
    {
     "data": {
      "image/png": "[encoded data removed]",
      "text/plain": [
       "<Figure size 640x480 with 1 Axes>"
      ]
     },
     "metadata": {},
     "output_type": "display_data"
    },
    {
     "data": {
      "text/plain": [
       "<Figure size 640x480 with 0 Axes>"
      ]
     },
     "metadata": {},
     "output_type": "display_data"
    }
   ],
   "source": [
    "plt.hist(session_per_user['session_per_user'], bins=5 ,color=\"black\")\n",
    "plt.title('Distribucion de sesiones por usuario')\n",
    "plt.grid(True,alpha=0.5)\n",
    "plt.show()\n",
    "plt.savefig(\"images/graph_1.png\")"
   ]
  },
  {
   "cell_type": "markdown",
   "metadata": {},
   "source": [
    "### Ventas"
   ]
  },
  {
   "cell_type": "markdown",
   "metadata": {},
   "source": [
    "#### Cuanto tiempo que transcurre entre el registro y la conversión, es decir, cuando el usuario se convierte en cliente. Por ejemplo, si el registro y la primera compra ocurren el mismo día, el usuario podría caer en la categoría Conversion 0d. Si la primera compra ocurre al día siguiente, será Conversion 1d. Puedes usar cualquier enfoque que te permita comparar las conversiones de diferentes cohortes para que puedas determinar qué cohorte o canal de marketing es más efectivo.)\n"
   ]
  },
  {
   "cell_type": "code",
   "execution_count": 27,
   "metadata": {
    "trusted": true
   },
   "outputs": [
    {
     "name": "stdout",
     "output_type": "stream",
     "text": [
      "<class 'pandas.core.frame.DataFrame'>\n",
      "RangeIndex: 50415 entries, 0 to 50414\n",
      "Data columns (total 3 columns):\n",
      " #   Column   Non-Null Count  Dtype         \n",
      "---  ------   --------------  -----         \n",
      " 0   buy_ts   50415 non-null  datetime64[ns]\n",
      " 1   revenue  50415 non-null  float64       \n",
      " 2   uid      50415 non-null  uint64        \n",
      "dtypes: datetime64[ns](1), float64(1), uint64(1)\n",
      "memory usage: 1.2 MB\n"
     ]
    }
   ],
   "source": [
    "ordenes.info()"
   ]
  },
  {
   "cell_type": "code",
   "execution_count": 28,
   "metadata": {
    "trusted": true
   },
   "outputs": [
    {
     "name": "stdout",
     "output_type": "stream",
     "text": [
      "<class 'pandas.core.frame.DataFrame'>\n",
      "RangeIndex: 761807 entries, 0 to 761806\n",
      "Data columns (total 11 columns):\n",
      " #   Column     Non-Null Count   Dtype         \n",
      "---  ------     --------------   -----         \n",
      " 0   buy_ts     761807 non-null  datetime64[ns]\n",
      " 1   revenue    761807 non-null  float64       \n",
      " 2   uid        761807 non-null  uint64        \n",
      " 3   device     761807 non-null  object        \n",
      " 4   end_ts     761807 non-null  datetime64[ns]\n",
      " 5   source_id  761807 non-null  int64         \n",
      " 6   start_ts   761807 non-null  datetime64[ns]\n",
      " 7   day        761807 non-null  int32         \n",
      " 8   week       761807 non-null  UInt32        \n",
      " 9   month      761807 non-null  int32         \n",
      " 10  seconds    761807 non-null  int32         \n",
      "dtypes: UInt32(1), datetime64[ns](3), float64(1), int32(3), int64(1), object(1), uint64(1)\n",
      "memory usage: 53.0+ MB\n"
     ]
    }
   ],
   "source": [
    "ventas = ordenes.merge(visitas, on='uid')\n",
    "ventas.info()"
   ]
  },
  {
   "cell_type": "code",
   "execution_count": 29,
   "metadata": {
    "trusted": true
   },
   "outputs": [
    {
     "data": {
      "text/html": [
       "<div>\n",
       "<style scoped>\n",
       "    .dataframe tbody tr th:only-of-type {\n",
       "        vertical-align: middle;\n",
       "    }\n",
       "\n",
       "    .dataframe tbody tr th {\n",
       "        vertical-align: top;\n",
       "    }\n",
       "\n",
       "    .dataframe thead th {\n",
       "        text-align: right;\n",
       "    }\n",
       "</style>\n",
       "<table border=\"1\" class=\"dataframe\">\n",
       "  <thead>\n",
       "    <tr style=\"text-align: right;\">\n",
       "      <th></th>\n",
       "      <th>uid</th>\n",
       "      <th>buy_ts</th>\n",
       "      <th>start_ts</th>\n",
       "      <th>transcurso</th>\n",
       "      <th>transcurso_dias</th>\n",
       "      <th>transcurso_meses</th>\n",
       "    </tr>\n",
       "  </thead>\n",
       "  <tbody>\n",
       "    <tr>\n",
       "      <th>8725</th>\n",
       "      <td>4400488029830313963</td>\n",
       "      <td>2017-12-17 11:49:00</td>\n",
       "      <td>2017-10-28 21:48:00</td>\n",
       "      <td>49 days 14:01:00</td>\n",
       "      <td>49</td>\n",
       "      <td>1</td>\n",
       "    </tr>\n",
       "    <tr>\n",
       "      <th>14208</th>\n",
       "      <td>7135153824337950662</td>\n",
       "      <td>2017-11-27 20:18:00</td>\n",
       "      <td>2017-11-27 20:05:00</td>\n",
       "      <td>0 days 00:13:00</td>\n",
       "      <td>0</td>\n",
       "      <td>0</td>\n",
       "    </tr>\n",
       "    <tr>\n",
       "      <th>25898</th>\n",
       "      <td>13080150842749210581</td>\n",
       "      <td>2017-09-28 09:45:00</td>\n",
       "      <td>2017-09-22 14:21:00</td>\n",
       "      <td>5 days 19:24:00</td>\n",
       "      <td>5</td>\n",
       "      <td>0</td>\n",
       "    </tr>\n",
       "    <tr>\n",
       "      <th>10529</th>\n",
       "      <td>5300693976971713685</td>\n",
       "      <td>2018-05-31 23:30:00</td>\n",
       "      <td>2018-05-30 22:31:00</td>\n",
       "      <td>1 days 00:59:00</td>\n",
       "      <td>1</td>\n",
       "      <td>0</td>\n",
       "    </tr>\n",
       "    <tr>\n",
       "      <th>32267</th>\n",
       "      <td>16286986532994280011</td>\n",
       "      <td>2017-08-27 23:53:00</td>\n",
       "      <td>2017-08-27 23:42:00</td>\n",
       "      <td>0 days 00:11:00</td>\n",
       "      <td>0</td>\n",
       "      <td>0</td>\n",
       "    </tr>\n",
       "    <tr>\n",
       "      <th>24283</th>\n",
       "      <td>12282253136043384789</td>\n",
       "      <td>2017-11-26 18:32:00</td>\n",
       "      <td>2017-11-26 18:16:00</td>\n",
       "      <td>0 days 00:16:00</td>\n",
       "      <td>0</td>\n",
       "      <td>0</td>\n",
       "    </tr>\n",
       "    <tr>\n",
       "      <th>4324</th>\n",
       "      <td>2182052342416582134</td>\n",
       "      <td>2017-12-23 01:44:00</td>\n",
       "      <td>2017-12-23 01:32:00</td>\n",
       "      <td>0 days 00:12:00</td>\n",
       "      <td>0</td>\n",
       "      <td>0</td>\n",
       "    </tr>\n",
       "    <tr>\n",
       "      <th>13740</th>\n",
       "      <td>6896337549965434508</td>\n",
       "      <td>2017-11-20 15:45:00</td>\n",
       "      <td>2017-10-06 18:51:00</td>\n",
       "      <td>44 days 20:54:00</td>\n",
       "      <td>44</td>\n",
       "      <td>1</td>\n",
       "    </tr>\n",
       "    <tr>\n",
       "      <th>6037</th>\n",
       "      <td>3053497356449373513</td>\n",
       "      <td>2018-03-02 12:07:00</td>\n",
       "      <td>2018-03-02 12:03:00</td>\n",
       "      <td>0 days 00:04:00</td>\n",
       "      <td>0</td>\n",
       "      <td>0</td>\n",
       "    </tr>\n",
       "    <tr>\n",
       "      <th>8737</th>\n",
       "      <td>4407792566088636748</td>\n",
       "      <td>2017-12-19 13:45:00</td>\n",
       "      <td>2017-12-01 17:39:00</td>\n",
       "      <td>17 days 20:06:00</td>\n",
       "      <td>17</td>\n",
       "      <td>0</td>\n",
       "    </tr>\n",
       "  </tbody>\n",
       "</table>\n",
       "</div>"
      ],
      "text/plain": [
       "                        uid              buy_ts            start_ts  \\\n",
       "8725    4400488029830313963 2017-12-17 11:49:00 2017-10-28 21:48:00   \n",
       "14208   7135153824337950662 2017-11-27 20:18:00 2017-11-27 20:05:00   \n",
       "25898  13080150842749210581 2017-09-28 09:45:00 2017-09-22 14:21:00   \n",
       "10529   5300693976971713685 2018-05-31 23:30:00 2018-05-30 22:31:00   \n",
       "32267  16286986532994280011 2017-08-27 23:53:00 2017-08-27 23:42:00   \n",
       "24283  12282253136043384789 2017-11-26 18:32:00 2017-11-26 18:16:00   \n",
       "4324    2182052342416582134 2017-12-23 01:44:00 2017-12-23 01:32:00   \n",
       "13740   6896337549965434508 2017-11-20 15:45:00 2017-10-06 18:51:00   \n",
       "6037    3053497356449373513 2018-03-02 12:07:00 2018-03-02 12:03:00   \n",
       "8737    4407792566088636748 2017-12-19 13:45:00 2017-12-01 17:39:00   \n",
       "\n",
       "            transcurso  transcurso_dias  transcurso_meses  \n",
       "8725  49 days 14:01:00               49                 1  \n",
       "14208  0 days 00:13:00                0                 0  \n",
       "25898  5 days 19:24:00                5                 0  \n",
       "10529  1 days 00:59:00                1                 0  \n",
       "32267  0 days 00:11:00                0                 0  \n",
       "24283  0 days 00:16:00                0                 0  \n",
       "4324   0 days 00:12:00                0                 0  \n",
       "13740 44 days 20:54:00               44                 1  \n",
       "6037   0 days 00:04:00                0                 0  \n",
       "8737  17 days 20:06:00               17                 0  "
      ]
     },
     "execution_count": 29,
     "metadata": {},
     "output_type": "execute_result"
    }
   ],
   "source": [
    "transcurso_primera_orden = ventas.groupby('uid').agg({'buy_ts':'min','start_ts':'min'}).reset_index()\n",
    "transcurso_primera_orden['transcurso'] = (transcurso_primera_orden['buy_ts'] - transcurso_primera_orden['start_ts'] )\n",
    "transcurso_primera_orden['transcurso_dias']=(transcurso_primera_orden['transcurso']).dt.days\n",
    "transcurso_primera_orden['transcurso_meses']=(transcurso_primera_orden['transcurso_dias'])//30\n",
    "transcurso_primera_orden.sample(10)"
   ]
  },
  {
   "cell_type": "code",
   "execution_count": 30,
   "metadata": {
    "trusted": true
   },
   "outputs": [
    {
     "data": {
      "image/png": "[encoded data removed]",
      "text/plain": [
       "<Figure size 640x480 with 1 Axes>"
      ]
     },
     "metadata": {},
     "output_type": "display_data"
    },
    {
     "data": {
      "text/plain": [
       "<Figure size 640x480 with 0 Axes>"
      ]
     },
     "metadata": {},
     "output_type": "display_data"
    }
   ],
   "source": [
    "transc_dias = transcurso_primera_orden.groupby('transcurso_dias').agg({'transcurso_dias':'count'})\n",
    "\n",
    "plt.hist(transc_dias['transcurso_dias'] , bins=5)\n",
    "plt.grid(True,alpha=0.5)\n",
    "plt.title('Distribucion de dias entre la primera visita y la primera compra')\n",
    "plt.show()\n",
    "plt.savefig(\"images/graph_2.png\")"
   ]
  },
  {
   "cell_type": "code",
   "execution_count": 31,
   "metadata": {
    "trusted": true
   },
   "outputs": [
    {
     "data": {
      "text/plain": [
       "np.int64(36523)"
      ]
     },
     "execution_count": 31,
     "metadata": {},
     "output_type": "execute_result"
    }
   ],
   "source": [
    "transc_dias['transcurso_dias'].sum()\n",
    "#durante el primer dia 26363 personas compran"
   ]
  },
  {
   "cell_type": "code",
   "execution_count": 32,
   "metadata": {
    "trusted": true
   },
   "outputs": [
    {
     "name": "stdout",
     "output_type": "stream",
     "text": [
      "rate compradores el primer dia  : %72.18\n"
     ]
    }
   ],
   "source": [
    "print(f\"rate compradores el primer dia  : %{(26363/(transc_dias['transcurso_dias'].sum())*100).round(2)}\")"
   ]
  },
  {
   "cell_type": "markdown",
   "metadata": {},
   "source": [
    "Podemos ver como los clientes tienden a comprar los primeros días luego de haber ingresado a la pagina."
   ]
  },
  {
   "cell_type": "code",
   "execution_count": 33,
   "metadata": {
    "trusted": true
   },
   "outputs": [
    {
     "data": {
      "image/png": "[encoded data removed]",
      "text/plain": [
       "<Figure size 640x480 with 1 Axes>"
      ]
     },
     "metadata": {},
     "output_type": "display_data"
    },
    {
     "data": {
      "text/plain": [
       "<Figure size 640x480 with 0 Axes>"
      ]
     },
     "metadata": {},
     "output_type": "display_data"
    }
   ],
   "source": [
    "transc_mes = transcurso_primera_orden.groupby('transcurso_meses').agg({'transcurso_meses':'count'})\n",
    "\n",
    "transc_mes.plot(kind='bar',title='Tiempo entre primer ingreso y primera compra en meses' , xlabel='meses' , ylabel='cantidad_compras',\n",
    "               color='black')\n",
    "plt.grid(True , alpha=0.3)\n",
    "\n",
    "plt.show()\n",
    "plt.savefig(\"images/graph_3.png\")"
   ]
  },
  {
   "cell_type": "markdown",
   "metadata": {},
   "source": [
    "Como ya lo establecimos anteriormente es el primer mes en el cual la  gran mayoria de los clientes se decide a hacer la compra despues de haber ingresado por primera vez a la página esto tiene mucho sentido ya que la mayoria de eventos como conciertos se anuncian unos meses antes y se venden la totalidad de los boletos en los primeros dias. En resúmen y para responder la interrogante la gran mayoria de los clientes compra el mismo dia o un día despues que ingresa a la plataforma."
   ]
  },
  {
   "cell_type": "markdown",
   "metadata": {},
   "source": [
    "#### ¿Cuántos pedidos hacen durante un período de tiempo dado?\n"
   ]
  },
  {
   "cell_type": "code",
   "execution_count": 34,
   "metadata": {
    "trusted": true
   },
   "outputs": [
    {
     "data": {
      "text/html": [
       "<div>\n",
       "<style scoped>\n",
       "    .dataframe tbody tr th:only-of-type {\n",
       "        vertical-align: middle;\n",
       "    }\n",
       "\n",
       "    .dataframe tbody tr th {\n",
       "        vertical-align: top;\n",
       "    }\n",
       "\n",
       "    .dataframe thead th {\n",
       "        text-align: right;\n",
       "    }\n",
       "</style>\n",
       "<table border=\"1\" class=\"dataframe\">\n",
       "  <thead>\n",
       "    <tr style=\"text-align: right;\">\n",
       "      <th></th>\n",
       "      <th>buy_ts</th>\n",
       "      <th>revenue</th>\n",
       "      <th>uid</th>\n",
       "      <th>device</th>\n",
       "      <th>end_ts</th>\n",
       "      <th>source_id</th>\n",
       "      <th>start_ts</th>\n",
       "      <th>day</th>\n",
       "      <th>week</th>\n",
       "      <th>month</th>\n",
       "      <th>seconds</th>\n",
       "    </tr>\n",
       "  </thead>\n",
       "  <tbody>\n",
       "    <tr>\n",
       "      <th>0</th>\n",
       "      <td>2017-06-01 00:10:00</td>\n",
       "      <td>17.00</td>\n",
       "      <td>10329302124590727494</td>\n",
       "      <td>desktop</td>\n",
       "      <td>2017-06-01 00:11:00</td>\n",
       "      <td>1</td>\n",
       "      <td>2017-06-01 00:09:00</td>\n",
       "      <td>1</td>\n",
       "      <td>22</td>\n",
       "      <td>6</td>\n",
       "      <td>120</td>\n",
       "    </tr>\n",
       "    <tr>\n",
       "      <th>1</th>\n",
       "      <td>2017-06-01 00:25:00</td>\n",
       "      <td>0.55</td>\n",
       "      <td>11627257723692907447</td>\n",
       "      <td>desktop</td>\n",
       "      <td>2017-06-01 00:25:00</td>\n",
       "      <td>2</td>\n",
       "      <td>2017-06-01 00:14:00</td>\n",
       "      <td>1</td>\n",
       "      <td>22</td>\n",
       "      <td>6</td>\n",
       "      <td>660</td>\n",
       "    </tr>\n",
       "    <tr>\n",
       "      <th>2</th>\n",
       "      <td>2017-06-01 00:27:00</td>\n",
       "      <td>0.37</td>\n",
       "      <td>17903680561304213844</td>\n",
       "      <td>desktop</td>\n",
       "      <td>2017-06-01 00:34:00</td>\n",
       "      <td>2</td>\n",
       "      <td>2017-06-01 00:25:00</td>\n",
       "      <td>1</td>\n",
       "      <td>22</td>\n",
       "      <td>6</td>\n",
       "      <td>540</td>\n",
       "    </tr>\n",
       "    <tr>\n",
       "      <th>3</th>\n",
       "      <td>2017-06-01 00:29:00</td>\n",
       "      <td>0.55</td>\n",
       "      <td>16109239769442553005</td>\n",
       "      <td>desktop</td>\n",
       "      <td>2017-06-01 00:33:00</td>\n",
       "      <td>2</td>\n",
       "      <td>2017-06-01 00:14:00</td>\n",
       "      <td>1</td>\n",
       "      <td>22</td>\n",
       "      <td>6</td>\n",
       "      <td>1140</td>\n",
       "    </tr>\n",
       "    <tr>\n",
       "      <th>4</th>\n",
       "      <td>2017-06-01 07:58:00</td>\n",
       "      <td>0.37</td>\n",
       "      <td>14200605875248379450</td>\n",
       "      <td>desktop</td>\n",
       "      <td>2017-06-01 07:59:00</td>\n",
       "      <td>3</td>\n",
       "      <td>2017-06-01 07:31:00</td>\n",
       "      <td>1</td>\n",
       "      <td>22</td>\n",
       "      <td>6</td>\n",
       "      <td>1680</td>\n",
       "    </tr>\n",
       "  </tbody>\n",
       "</table>\n",
       "</div>"
      ],
      "text/plain": [
       "               buy_ts  revenue                   uid   device  \\\n",
       "0 2017-06-01 00:10:00    17.00  10329302124590727494  desktop   \n",
       "1 2017-06-01 00:25:00     0.55  11627257723692907447  desktop   \n",
       "2 2017-06-01 00:27:00     0.37  17903680561304213844  desktop   \n",
       "3 2017-06-01 00:29:00     0.55  16109239769442553005  desktop   \n",
       "4 2017-06-01 07:58:00     0.37  14200605875248379450  desktop   \n",
       "\n",
       "               end_ts  source_id            start_ts  day  week  month  \\\n",
       "0 2017-06-01 00:11:00          1 2017-06-01 00:09:00    1    22      6   \n",
       "1 2017-06-01 00:25:00          2 2017-06-01 00:14:00    1    22      6   \n",
       "2 2017-06-01 00:34:00          2 2017-06-01 00:25:00    1    22      6   \n",
       "3 2017-06-01 00:33:00          2 2017-06-01 00:14:00    1    22      6   \n",
       "4 2017-06-01 07:59:00          3 2017-06-01 07:31:00    1    22      6   \n",
       "\n",
       "   seconds  \n",
       "0      120  \n",
       "1      660  \n",
       "2      540  \n",
       "3     1140  \n",
       "4     1680  "
      ]
     },
     "execution_count": 34,
     "metadata": {},
     "output_type": "execute_result"
    }
   ],
   "source": [
    "ventas.head()"
   ]
  },
  {
   "cell_type": "code",
   "execution_count": 35,
   "metadata": {
    "trusted": true
   },
   "outputs": [
    {
     "data": {
      "text/html": [
       "<div>\n",
       "<style scoped>\n",
       "    .dataframe tbody tr th:only-of-type {\n",
       "        vertical-align: middle;\n",
       "    }\n",
       "\n",
       "    .dataframe tbody tr th {\n",
       "        vertical-align: top;\n",
       "    }\n",
       "\n",
       "    .dataframe thead th {\n",
       "        text-align: right;\n",
       "    }\n",
       "</style>\n",
       "<table border=\"1\" class=\"dataframe\">\n",
       "  <thead>\n",
       "    <tr style=\"text-align: right;\">\n",
       "      <th></th>\n",
       "      <th>cant_ordenes</th>\n",
       "      <th>revenue</th>\n",
       "    </tr>\n",
       "    <tr>\n",
       "      <th>buy_month</th>\n",
       "      <th></th>\n",
       "      <th></th>\n",
       "    </tr>\n",
       "  </thead>\n",
       "  <tbody>\n",
       "    <tr>\n",
       "      <th>1</th>\n",
       "      <td>69714</td>\n",
       "      <td>504331.57</td>\n",
       "    </tr>\n",
       "    <tr>\n",
       "      <th>2</th>\n",
       "      <td>91302</td>\n",
       "      <td>667585.76</td>\n",
       "    </tr>\n",
       "    <tr>\n",
       "      <th>3</th>\n",
       "      <td>80026</td>\n",
       "      <td>815240.79</td>\n",
       "    </tr>\n",
       "    <tr>\n",
       "      <th>4</th>\n",
       "      <td>53249</td>\n",
       "      <td>586046.86</td>\n",
       "    </tr>\n",
       "    <tr>\n",
       "      <th>5</th>\n",
       "      <td>63244</td>\n",
       "      <td>406276.05</td>\n",
       "    </tr>\n",
       "    <tr>\n",
       "      <th>6</th>\n",
       "      <td>25840</td>\n",
       "      <td>148124.71</td>\n",
       "    </tr>\n",
       "    <tr>\n",
       "      <th>7</th>\n",
       "      <td>34369</td>\n",
       "      <td>253987.24</td>\n",
       "    </tr>\n",
       "    <tr>\n",
       "      <th>8</th>\n",
       "      <td>35846</td>\n",
       "      <td>211562.04</td>\n",
       "    </tr>\n",
       "    <tr>\n",
       "      <th>9</th>\n",
       "      <td>65156</td>\n",
       "      <td>738489.76</td>\n",
       "    </tr>\n",
       "    <tr>\n",
       "      <th>10</th>\n",
       "      <td>73623</td>\n",
       "      <td>687489.99</td>\n",
       "    </tr>\n",
       "    <tr>\n",
       "      <th>11</th>\n",
       "      <td>68124</td>\n",
       "      <td>497997.76</td>\n",
       "    </tr>\n",
       "    <tr>\n",
       "      <th>12</th>\n",
       "      <td>101314</td>\n",
       "      <td>1445074.82</td>\n",
       "    </tr>\n",
       "  </tbody>\n",
       "</table>\n",
       "</div>"
      ],
      "text/plain": [
       "           cant_ordenes     revenue\n",
       "buy_month                          \n",
       "1                 69714   504331.57\n",
       "2                 91302   667585.76\n",
       "3                 80026   815240.79\n",
       "4                 53249   586046.86\n",
       "5                 63244   406276.05\n",
       "6                 25840   148124.71\n",
       "7                 34369   253987.24\n",
       "8                 35846   211562.04\n",
       "9                 65156   738489.76\n",
       "10                73623   687489.99\n",
       "11                68124   497997.76\n",
       "12               101314  1445074.82"
      ]
     },
     "execution_count": 35,
     "metadata": {},
     "output_type": "execute_result"
    }
   ],
   "source": [
    "ventas['buy_month'] = (ventas['buy_ts']).dt.month\n",
    "ventas['buy_year'] = (ventas['buy_ts']).dt.year\n",
    "ventas_mes = ventas.groupby('buy_month').agg({'uid':'count' , 'revenue':'sum'})\n",
    "ventas_mes.columns=['cant_ordenes','revenue']\n",
    "ventas_mes"
   ]
  },
  {
   "cell_type": "code",
   "execution_count": 36,
   "metadata": {
    "trusted": true
   },
   "outputs": [
    {
     "data": {
      "image/png": "[encoded data removed]",
      "text/plain": [
       "<Figure size 640x480 with 1 Axes>"
      ]
     },
     "metadata": {},
     "output_type": "display_data"
    },
    {
     "data": {
      "text/plain": [
       "<Figure size 640x480 with 0 Axes>"
      ]
     },
     "metadata": {},
     "output_type": "display_data"
    }
   ],
   "source": [
    "ventas_mes.plot(kind='line', y='cant_ordenes' , title='Cantidad pedidos por mes' , xlabel='mes' , ylabel='cant_pedidos'\n",
    "               , label='pedidos' , color='purple')\n",
    "plt.grid(True , alpha=0.4)\n",
    "plt.legend()\n",
    "plt.show()\n",
    "plt.savefig(\"images/graph_4.png\")"
   ]
  },
  {
   "cell_type": "markdown",
   "metadata": {},
   "source": [
    "En esta grafica podemos ver la relacion mensual entre los pedidos y los meses , dado que se tiene un periodo de entre 1 de junio del 2017 a 1 de junio del 2018 , se evidencian las estacionalidades como junio es un mes quieto mientras que diciembre es el mes mas algido puede darse a las vacaciones , la cantidad de eventos o la navidad por ejemplo."
   ]
  },
  {
   "cell_type": "markdown",
   "metadata": {},
   "source": [
    "#### ¿Cuál es el tamaño promedio de compra?"
   ]
  },
  {
   "cell_type": "code",
   "execution_count": 37,
   "metadata": {
    "trusted": true
   },
   "outputs": [
    {
     "data": {
      "text/html": [
       "<div>\n",
       "<style scoped>\n",
       "    .dataframe tbody tr th:only-of-type {\n",
       "        vertical-align: middle;\n",
       "    }\n",
       "\n",
       "    .dataframe tbody tr th {\n",
       "        vertical-align: top;\n",
       "    }\n",
       "\n",
       "    .dataframe thead th {\n",
       "        text-align: right;\n",
       "    }\n",
       "</style>\n",
       "<table border=\"1\" class=\"dataframe\">\n",
       "  <thead>\n",
       "    <tr style=\"text-align: right;\">\n",
       "      <th></th>\n",
       "      <th>cantidad_compras</th>\n",
       "      <th>ingresos</th>\n",
       "      <th>ingreso_prom</th>\n",
       "    </tr>\n",
       "    <tr>\n",
       "      <th>buy_month</th>\n",
       "      <th></th>\n",
       "      <th></th>\n",
       "      <th></th>\n",
       "    </tr>\n",
       "  </thead>\n",
       "  <tbody>\n",
       "    <tr>\n",
       "      <th>1</th>\n",
       "      <td>69714</td>\n",
       "      <td>504331.57</td>\n",
       "      <td>7.23</td>\n",
       "    </tr>\n",
       "    <tr>\n",
       "      <th>2</th>\n",
       "      <td>91302</td>\n",
       "      <td>667585.76</td>\n",
       "      <td>7.31</td>\n",
       "    </tr>\n",
       "    <tr>\n",
       "      <th>3</th>\n",
       "      <td>80026</td>\n",
       "      <td>815240.79</td>\n",
       "      <td>10.19</td>\n",
       "    </tr>\n",
       "    <tr>\n",
       "      <th>4</th>\n",
       "      <td>53249</td>\n",
       "      <td>586046.86</td>\n",
       "      <td>11.01</td>\n",
       "    </tr>\n",
       "    <tr>\n",
       "      <th>5</th>\n",
       "      <td>63244</td>\n",
       "      <td>406276.05</td>\n",
       "      <td>6.42</td>\n",
       "    </tr>\n",
       "    <tr>\n",
       "      <th>6</th>\n",
       "      <td>25840</td>\n",
       "      <td>148124.71</td>\n",
       "      <td>5.73</td>\n",
       "    </tr>\n",
       "    <tr>\n",
       "      <th>7</th>\n",
       "      <td>34369</td>\n",
       "      <td>253987.24</td>\n",
       "      <td>7.39</td>\n",
       "    </tr>\n",
       "    <tr>\n",
       "      <th>8</th>\n",
       "      <td>35846</td>\n",
       "      <td>211562.04</td>\n",
       "      <td>5.90</td>\n",
       "    </tr>\n",
       "    <tr>\n",
       "      <th>9</th>\n",
       "      <td>65156</td>\n",
       "      <td>738489.76</td>\n",
       "      <td>11.33</td>\n",
       "    </tr>\n",
       "    <tr>\n",
       "      <th>10</th>\n",
       "      <td>73623</td>\n",
       "      <td>687489.99</td>\n",
       "      <td>9.34</td>\n",
       "    </tr>\n",
       "    <tr>\n",
       "      <th>11</th>\n",
       "      <td>68124</td>\n",
       "      <td>497997.76</td>\n",
       "      <td>7.31</td>\n",
       "    </tr>\n",
       "    <tr>\n",
       "      <th>12</th>\n",
       "      <td>101314</td>\n",
       "      <td>1445074.82</td>\n",
       "      <td>14.26</td>\n",
       "    </tr>\n",
       "  </tbody>\n",
       "</table>\n",
       "</div>"
      ],
      "text/plain": [
       "           cantidad_compras    ingresos  ingreso_prom\n",
       "buy_month                                            \n",
       "1                     69714   504331.57          7.23\n",
       "2                     91302   667585.76          7.31\n",
       "3                     80026   815240.79         10.19\n",
       "4                     53249   586046.86         11.01\n",
       "5                     63244   406276.05          6.42\n",
       "6                     25840   148124.71          5.73\n",
       "7                     34369   253987.24          7.39\n",
       "8                     35846   211562.04          5.90\n",
       "9                     65156   738489.76         11.33\n",
       "10                    73623   687489.99          9.34\n",
       "11                    68124   497997.76          7.31\n",
       "12                   101314  1445074.82         14.26"
      ]
     },
     "execution_count": 37,
     "metadata": {},
     "output_type": "execute_result"
    }
   ],
   "source": [
    "ventas_mes['ingreso_orden'] = (ventas_mes['revenue'] / ventas_mes['cant_ordenes']).round(2)\n",
    "ventas_mes.columns=['cantidad_compras','ingresos','ingreso_prom']\n",
    "ventas_mes"
   ]
  },
  {
   "cell_type": "code",
   "execution_count": 38,
   "metadata": {
    "trusted": true
   },
   "outputs": [
    {
     "name": "stdout",
     "output_type": "stream",
     "text": [
      "En promedio por orden se ingresa un total de: $8.62 dolares\n"
     ]
    }
   ],
   "source": [
    "print(f\"En promedio por orden se ingresa un total de: ${ventas_mes['ingreso_prom'].mean().round(2)} dolares\")"
   ]
  },
  {
   "cell_type": "code",
   "execution_count": 39,
   "metadata": {},
   "outputs": [
    {
     "data": {
      "image/png": "[encoded data removed]",
      "text/plain": [
       "<Figure size 640x480 with 1 Axes>"
      ]
     },
     "metadata": {},
     "output_type": "display_data"
    },
    {
     "data": {
      "text/plain": [
       "<Figure size 640x480 with 0 Axes>"
      ]
     },
     "metadata": {},
     "output_type": "display_data"
    }
   ],
   "source": [
    "plt.hist(ventas_mes['ingreso_prom'],color=\"grey\")\n",
    "plt.title(\"Distribucion ingreso por compra\")\n",
    "plt.grid(True,alpha=0.5)\n",
    "plt.show()\n",
    "\n",
    "plt.savefig(\"images/graph_5.png\")"
   ]
  },
  {
   "cell_type": "markdown",
   "metadata": {},
   "source": [
    "#### ¿Cuánto dinero traen? (LTV)"
   ]
  },
  {
   "cell_type": "code",
   "execution_count": 40,
   "metadata": {
    "trusted": true
   },
   "outputs": [
    {
     "data": {
      "text/plain": [
       "count                           761807\n",
       "mean     2017-12-22 10:01:15.159194368\n",
       "min                2017-06-01 00:10:00\n",
       "25%                2017-10-12 14:54:00\n",
       "50%                2017-12-25 11:16:00\n",
       "75%                2018-03-02 14:55:00\n",
       "max                2018-06-01 00:02:00\n",
       "Name: buy_ts, dtype: object"
      ]
     },
     "execution_count": 40,
     "metadata": {},
     "output_type": "execute_result"
    }
   ],
   "source": [
    "ventas['buy_ts'].describe()"
   ]
  },
  {
   "cell_type": "code",
   "execution_count": 41,
   "metadata": {
    "trusted": true
   },
   "outputs": [],
   "source": [
    "ventas['order_month']= ventas['buy_ts'].dt.to_period('M').astype(str)"
   ]
  },
  {
   "cell_type": "code",
   "execution_count": 42,
   "metadata": {
    "trusted": true
   },
   "outputs": [
    {
     "data": {
      "image/png": "[encoded data removed]",
      "text/plain": [
       "<Figure size 640x480 with 1 Axes>"
      ]
     },
     "metadata": {},
     "output_type": "display_data"
    },
    {
     "data": {
      "text/plain": [
       "<Figure size 640x480 with 0 Axes>"
      ]
     },
     "metadata": {},
     "output_type": "display_data"
    }
   ],
   "source": [
    "sns.histplot(ventas['buy_ts'],bins=20)\n",
    "plt.title(\"Dsitribucion Ingresos\")\n",
    "plt.xlabel(\" \")\n",
    "plt.show()\n",
    "plt.savefig(\"images/graph_6.png\")"
   ]
  },
  {
   "cell_type": "code",
   "execution_count": 43,
   "metadata": {
    "trusted": true
   },
   "outputs": [
    {
     "data": {
      "text/plain": [
       "count                             2542\n",
       "mean     2017-11-29 09:04:57.403619072\n",
       "min                2017-06-01 00:00:00\n",
       "25%                2017-08-30 00:00:00\n",
       "50%                2017-11-29 00:00:00\n",
       "75%                2018-02-28 00:00:00\n",
       "max                2018-05-31 00:00:00\n",
       "Name: dt, dtype: object"
      ]
     },
     "execution_count": 43,
     "metadata": {},
     "output_type": "execute_result"
    }
   ],
   "source": [
    "costos['dt'].describe()"
   ]
  },
  {
   "cell_type": "code",
   "execution_count": 44,
   "metadata": {
    "trusted": true
   },
   "outputs": [
    {
     "data": {
      "image/png": "[encoded data removed]",
      "text/plain": [
       "<Figure size 640x480 with 1 Axes>"
      ]
     },
     "metadata": {},
     "output_type": "display_data"
    },
    {
     "data": {
      "text/plain": [
       "<Figure size 640x480 with 0 Axes>"
      ]
     },
     "metadata": {},
     "output_type": "display_data"
    }
   ],
   "source": [
    "sns.histplot(costos['dt'],bins=10)\n",
    "plt.title(\"Distribucion Costos\")\n",
    "plt.xlabel(\" \")\n",
    "plt.show()\n",
    "plt.savefig(\"images/graph_7.png\")"
   ]
  },
  {
   "cell_type": "code",
   "execution_count": 45,
   "metadata": {
    "trusted": true
   },
   "outputs": [
    {
     "data": {
      "text/html": [
       "<div>\n",
       "<style scoped>\n",
       "    .dataframe tbody tr th:only-of-type {\n",
       "        vertical-align: middle;\n",
       "    }\n",
       "\n",
       "    .dataframe tbody tr th {\n",
       "        vertical-align: top;\n",
       "    }\n",
       "\n",
       "    .dataframe thead th {\n",
       "        text-align: right;\n",
       "    }\n",
       "</style>\n",
       "<table border=\"1\" class=\"dataframe\">\n",
       "  <thead>\n",
       "    <tr style=\"text-align: right;\">\n",
       "      <th></th>\n",
       "      <th>uid</th>\n",
       "      <th>first_order_month</th>\n",
       "    </tr>\n",
       "  </thead>\n",
       "  <tbody>\n",
       "    <tr>\n",
       "      <th>0</th>\n",
       "      <td>313578113262317</td>\n",
       "      <td>2018-01</td>\n",
       "    </tr>\n",
       "    <tr>\n",
       "      <th>1</th>\n",
       "      <td>1575281904278712</td>\n",
       "      <td>2017-06</td>\n",
       "    </tr>\n",
       "    <tr>\n",
       "      <th>2</th>\n",
       "      <td>2429014661409475</td>\n",
       "      <td>2017-10</td>\n",
       "    </tr>\n",
       "    <tr>\n",
       "      <th>3</th>\n",
       "      <td>2464366381792757</td>\n",
       "      <td>2018-01</td>\n",
       "    </tr>\n",
       "    <tr>\n",
       "      <th>4</th>\n",
       "      <td>2551852515556206</td>\n",
       "      <td>2017-11</td>\n",
       "    </tr>\n",
       "  </tbody>\n",
       "</table>\n",
       "</div>"
      ],
      "text/plain": [
       "                uid first_order_month\n",
       "0   313578113262317           2018-01\n",
       "1  1575281904278712           2017-06\n",
       "2  2429014661409475           2017-10\n",
       "3  2464366381792757           2018-01\n",
       "4  2551852515556206           2017-11"
      ]
     },
     "execution_count": 45,
     "metadata": {},
     "output_type": "execute_result"
    }
   ],
   "source": [
    "ventas['order_month'] = ventas['buy_ts'].dt.to_period('M').astype(str) #creamos una nueva columna para usar el metodo requerido\n",
    "costos['first_order_month'] = costos['dt'].dt.to_period('M').astype(str)\n",
    "\n",
    "\n",
    "first_buy = ventas.groupby('uid').agg({'order_month':'min'}).reset_index()\n",
    "first_buy.columns=['uid','first_order_month']\n",
    "\n",
    "first_buy.head()"
   ]
  },
  {
   "cell_type": "code",
   "execution_count": 46,
   "metadata": {
    "trusted": true
   },
   "outputs": [
    {
     "data": {
      "text/html": [
       "<div>\n",
       "<style scoped>\n",
       "    .dataframe tbody tr th:only-of-type {\n",
       "        vertical-align: middle;\n",
       "    }\n",
       "\n",
       "    .dataframe tbody tr th {\n",
       "        vertical-align: top;\n",
       "    }\n",
       "\n",
       "    .dataframe thead th {\n",
       "        text-align: right;\n",
       "    }\n",
       "</style>\n",
       "<table border=\"1\" class=\"dataframe\">\n",
       "  <thead>\n",
       "    <tr style=\"text-align: right;\">\n",
       "      <th></th>\n",
       "      <th>first_order_month</th>\n",
       "      <th>n_buyers</th>\n",
       "    </tr>\n",
       "  </thead>\n",
       "  <tbody>\n",
       "    <tr>\n",
       "      <th>0</th>\n",
       "      <td>2017-06</td>\n",
       "      <td>2023</td>\n",
       "    </tr>\n",
       "    <tr>\n",
       "      <th>1</th>\n",
       "      <td>2017-07</td>\n",
       "      <td>1923</td>\n",
       "    </tr>\n",
       "    <tr>\n",
       "      <th>2</th>\n",
       "      <td>2017-08</td>\n",
       "      <td>1370</td>\n",
       "    </tr>\n",
       "    <tr>\n",
       "      <th>3</th>\n",
       "      <td>2017-09</td>\n",
       "      <td>2581</td>\n",
       "    </tr>\n",
       "    <tr>\n",
       "      <th>4</th>\n",
       "      <td>2017-10</td>\n",
       "      <td>4340</td>\n",
       "    </tr>\n",
       "  </tbody>\n",
       "</table>\n",
       "</div>"
      ],
      "text/plain": [
       "  first_order_month  n_buyers\n",
       "0           2017-06      2023\n",
       "1           2017-07      1923\n",
       "2           2017-08      1370\n",
       "3           2017-09      2581\n",
       "4           2017-10      4340"
      ]
     },
     "execution_count": 46,
     "metadata": {},
     "output_type": "execute_result"
    }
   ],
   "source": [
    "cohort_size = first_buy.groupby('first_order_month').agg({'uid':'nunique'}).reset_index()\n",
    "cohort_size.columns=['first_order_month','n_buyers']\n",
    "cohort_size.head()"
   ]
  },
  {
   "cell_type": "code",
   "execution_count": 47,
   "metadata": {
    "trusted": true
   },
   "outputs": [
    {
     "data": {
      "text/html": [
       "<div>\n",
       "<style scoped>\n",
       "    .dataframe tbody tr th:only-of-type {\n",
       "        vertical-align: middle;\n",
       "    }\n",
       "\n",
       "    .dataframe tbody tr th {\n",
       "        vertical-align: top;\n",
       "    }\n",
       "\n",
       "    .dataframe thead th {\n",
       "        text-align: right;\n",
       "    }\n",
       "</style>\n",
       "<table border=\"1\" class=\"dataframe\">\n",
       "  <thead>\n",
       "    <tr style=\"text-align: right;\">\n",
       "      <th></th>\n",
       "      <th>uid</th>\n",
       "      <th>buy_ts</th>\n",
       "      <th>revenue</th>\n",
       "      <th>order_month</th>\n",
       "      <th>first_order_month</th>\n",
       "    </tr>\n",
       "  </thead>\n",
       "  <tbody>\n",
       "    <tr>\n",
       "      <th>571124</th>\n",
       "      <td>5139615590553126732</td>\n",
       "      <td>2018-03-02 13:55:00</td>\n",
       "      <td>2.20</td>\n",
       "      <td>2018-03</td>\n",
       "      <td>2017-06</td>\n",
       "    </tr>\n",
       "    <tr>\n",
       "      <th>257361</th>\n",
       "      <td>1668300487562478408</td>\n",
       "      <td>2017-11-15 19:35:00</td>\n",
       "      <td>24.44</td>\n",
       "      <td>2017-11</td>\n",
       "      <td>2017-09</td>\n",
       "    </tr>\n",
       "    <tr>\n",
       "      <th>455617</th>\n",
       "      <td>11920452646463905188</td>\n",
       "      <td>2018-01-25 14:48:00</td>\n",
       "      <td>1.83</td>\n",
       "      <td>2018-01</td>\n",
       "      <td>2017-06</td>\n",
       "    </tr>\n",
       "    <tr>\n",
       "      <th>628628</th>\n",
       "      <td>4435931324057795549</td>\n",
       "      <td>2018-03-23 18:54:00</td>\n",
       "      <td>1.22</td>\n",
       "      <td>2018-03</td>\n",
       "      <td>2017-08</td>\n",
       "    </tr>\n",
       "    <tr>\n",
       "      <th>89954</th>\n",
       "      <td>13888745432979765063</td>\n",
       "      <td>2017-08-28 14:06:00</td>\n",
       "      <td>11.00</td>\n",
       "      <td>2017-08</td>\n",
       "      <td>2017-06</td>\n",
       "    </tr>\n",
       "    <tr>\n",
       "      <th>661476</th>\n",
       "      <td>5139615590553126732</td>\n",
       "      <td>2018-04-11 12:19:00</td>\n",
       "      <td>5.25</td>\n",
       "      <td>2018-04</td>\n",
       "      <td>2017-06</td>\n",
       "    </tr>\n",
       "    <tr>\n",
       "      <th>576730</th>\n",
       "      <td>9737640335185488211</td>\n",
       "      <td>2018-03-05 12:36:00</td>\n",
       "      <td>82.50</td>\n",
       "      <td>2018-03</td>\n",
       "      <td>2017-09</td>\n",
       "    </tr>\n",
       "    <tr>\n",
       "      <th>602052</th>\n",
       "      <td>12926206964726066206</td>\n",
       "      <td>2018-03-16 14:10:00</td>\n",
       "      <td>6.11</td>\n",
       "      <td>2018-03</td>\n",
       "      <td>2018-03</td>\n",
       "    </tr>\n",
       "    <tr>\n",
       "      <th>208460</th>\n",
       "      <td>1779542565156391101</td>\n",
       "      <td>2017-10-19 22:20:00</td>\n",
       "      <td>2.44</td>\n",
       "      <td>2017-10</td>\n",
       "      <td>2017-06</td>\n",
       "    </tr>\n",
       "    <tr>\n",
       "      <th>78964</th>\n",
       "      <td>12208909099827733598</td>\n",
       "      <td>2017-08-20 18:51:00</td>\n",
       "      <td>2.44</td>\n",
       "      <td>2017-08</td>\n",
       "      <td>2017-08</td>\n",
       "    </tr>\n",
       "  </tbody>\n",
       "</table>\n",
       "</div>"
      ],
      "text/plain": [
       "                         uid              buy_ts  revenue order_month  \\\n",
       "571124   5139615590553126732 2018-03-02 13:55:00     2.20     2018-03   \n",
       "257361   1668300487562478408 2017-11-15 19:35:00    24.44     2017-11   \n",
       "455617  11920452646463905188 2018-01-25 14:48:00     1.83     2018-01   \n",
       "628628   4435931324057795549 2018-03-23 18:54:00     1.22     2018-03   \n",
       "89954   13888745432979765063 2017-08-28 14:06:00    11.00     2017-08   \n",
       "661476   5139615590553126732 2018-04-11 12:19:00     5.25     2018-04   \n",
       "576730   9737640335185488211 2018-03-05 12:36:00    82.50     2018-03   \n",
       "602052  12926206964726066206 2018-03-16 14:10:00     6.11     2018-03   \n",
       "208460   1779542565156391101 2017-10-19 22:20:00     2.44     2017-10   \n",
       "78964   12208909099827733598 2017-08-20 18:51:00     2.44     2017-08   \n",
       "\n",
       "       first_order_month  \n",
       "571124           2017-06  \n",
       "257361           2017-09  \n",
       "455617           2017-06  \n",
       "628628           2017-08  \n",
       "89954            2017-06  \n",
       "661476           2017-06  \n",
       "576730           2017-09  \n",
       "602052           2018-03  \n",
       "208460           2017-06  \n",
       "78964            2017-08  "
      ]
     },
     "execution_count": 47,
     "metadata": {},
     "output_type": "execute_result"
    }
   ],
   "source": [
    "orders_=pd.merge(ventas,first_buy,on='uid')\n",
    "orders_s=orders_[['uid','buy_ts','revenue','order_month','first_order_month']]\n",
    "\n",
    "orders_s.sample(10)"
   ]
  },
  {
   "cell_type": "code",
   "execution_count": 48,
   "metadata": {
    "trusted": true
   },
   "outputs": [
    {
     "data": {
      "text/html": [
       "<div>\n",
       "<style scoped>\n",
       "    .dataframe tbody tr th:only-of-type {\n",
       "        vertical-align: middle;\n",
       "    }\n",
       "\n",
       "    .dataframe tbody tr th {\n",
       "        vertical-align: top;\n",
       "    }\n",
       "\n",
       "    .dataframe thead th {\n",
       "        text-align: right;\n",
       "    }\n",
       "</style>\n",
       "<table border=\"1\" class=\"dataframe\">\n",
       "  <thead>\n",
       "    <tr style=\"text-align: right;\">\n",
       "      <th></th>\n",
       "      <th>first_order_month</th>\n",
       "      <th>order_month</th>\n",
       "      <th>revenue</th>\n",
       "    </tr>\n",
       "  </thead>\n",
       "  <tbody>\n",
       "    <tr>\n",
       "      <th>0</th>\n",
       "      <td>2017-06</td>\n",
       "      <td>2017-06</td>\n",
       "      <td>148121.29</td>\n",
       "    </tr>\n",
       "    <tr>\n",
       "      <th>1</th>\n",
       "      <td>2017-06</td>\n",
       "      <td>2017-07</td>\n",
       "      <td>155869.55</td>\n",
       "    </tr>\n",
       "    <tr>\n",
       "      <th>2</th>\n",
       "      <td>2017-06</td>\n",
       "      <td>2017-08</td>\n",
       "      <td>114898.83</td>\n",
       "    </tr>\n",
       "    <tr>\n",
       "      <th>3</th>\n",
       "      <td>2017-06</td>\n",
       "      <td>2017-09</td>\n",
       "      <td>374481.76</td>\n",
       "    </tr>\n",
       "    <tr>\n",
       "      <th>4</th>\n",
       "      <td>2017-06</td>\n",
       "      <td>2017-10</td>\n",
       "      <td>351833.14</td>\n",
       "    </tr>\n",
       "  </tbody>\n",
       "</table>\n",
       "</div>"
      ],
      "text/plain": [
       "  first_order_month order_month    revenue\n",
       "0           2017-06     2017-06  148121.29\n",
       "1           2017-06     2017-07  155869.55\n",
       "2           2017-06     2017-08  114898.83\n",
       "3           2017-06     2017-09  374481.76\n",
       "4           2017-06     2017-10  351833.14"
      ]
     },
     "execution_count": 48,
     "metadata": {},
     "output_type": "execute_result"
    }
   ],
   "source": [
    "cohorts=orders_s.groupby(['first_order_month','order_month']).agg({'revenue':'sum'}).reset_index()\n",
    "cohorts.head(5)"
   ]
  },
  {
   "cell_type": "code",
   "execution_count": 49,
   "metadata": {
    "trusted": true
   },
   "outputs": [
    {
     "data": {
      "text/html": [
       "<div>\n",
       "<style scoped>\n",
       "    .dataframe tbody tr th:only-of-type {\n",
       "        vertical-align: middle;\n",
       "    }\n",
       "\n",
       "    .dataframe tbody tr th {\n",
       "        vertical-align: top;\n",
       "    }\n",
       "\n",
       "    .dataframe thead th {\n",
       "        text-align: right;\n",
       "    }\n",
       "</style>\n",
       "<table border=\"1\" class=\"dataframe\">\n",
       "  <thead>\n",
       "    <tr style=\"text-align: right;\">\n",
       "      <th></th>\n",
       "      <th>first_order_month</th>\n",
       "      <th>n_buyers</th>\n",
       "      <th>order_month</th>\n",
       "      <th>revenue</th>\n",
       "    </tr>\n",
       "  </thead>\n",
       "  <tbody>\n",
       "    <tr>\n",
       "      <th>0</th>\n",
       "      <td>2017-06</td>\n",
       "      <td>2023</td>\n",
       "      <td>2017-06</td>\n",
       "      <td>148121.29</td>\n",
       "    </tr>\n",
       "    <tr>\n",
       "      <th>1</th>\n",
       "      <td>2017-06</td>\n",
       "      <td>2023</td>\n",
       "      <td>2017-07</td>\n",
       "      <td>155869.55</td>\n",
       "    </tr>\n",
       "    <tr>\n",
       "      <th>2</th>\n",
       "      <td>2017-06</td>\n",
       "      <td>2023</td>\n",
       "      <td>2017-08</td>\n",
       "      <td>114898.83</td>\n",
       "    </tr>\n",
       "    <tr>\n",
       "      <th>3</th>\n",
       "      <td>2017-06</td>\n",
       "      <td>2023</td>\n",
       "      <td>2017-09</td>\n",
       "      <td>374481.76</td>\n",
       "    </tr>\n",
       "    <tr>\n",
       "      <th>4</th>\n",
       "      <td>2017-06</td>\n",
       "      <td>2023</td>\n",
       "      <td>2017-10</td>\n",
       "      <td>351833.14</td>\n",
       "    </tr>\n",
       "  </tbody>\n",
       "</table>\n",
       "</div>"
      ],
      "text/plain": [
       "  first_order_month  n_buyers order_month    revenue\n",
       "0           2017-06      2023     2017-06  148121.29\n",
       "1           2017-06      2023     2017-07  155869.55\n",
       "2           2017-06      2023     2017-08  114898.83\n",
       "3           2017-06      2023     2017-09  374481.76\n",
       "4           2017-06      2023     2017-10  351833.14"
      ]
     },
     "execution_count": 49,
     "metadata": {},
     "output_type": "execute_result"
    }
   ],
   "source": [
    "report = pd.merge(cohort_size,cohorts,on='first_order_month')\n",
    "\n",
    "report.head(5)"
   ]
  },
  {
   "cell_type": "code",
   "execution_count": 50,
   "metadata": {
    "trusted": true
   },
   "outputs": [
    {
     "data": {
      "text/html": [
       "<div>\n",
       "<style scoped>\n",
       "    .dataframe tbody tr th:only-of-type {\n",
       "        vertical-align: middle;\n",
       "    }\n",
       "\n",
       "    .dataframe tbody tr th {\n",
       "        vertical-align: top;\n",
       "    }\n",
       "\n",
       "    .dataframe thead th {\n",
       "        text-align: right;\n",
       "    }\n",
       "</style>\n",
       "<table border=\"1\" class=\"dataframe\">\n",
       "  <thead>\n",
       "    <tr style=\"text-align: right;\">\n",
       "      <th></th>\n",
       "      <th>first_order_month</th>\n",
       "      <th>n_buyers</th>\n",
       "      <th>order_month</th>\n",
       "      <th>revenue</th>\n",
       "      <th>gp</th>\n",
       "      <th>month</th>\n",
       "    </tr>\n",
       "  </thead>\n",
       "  <tbody>\n",
       "    <tr>\n",
       "      <th>0</th>\n",
       "      <td>2017-06-01</td>\n",
       "      <td>2023</td>\n",
       "      <td>2017-06-01</td>\n",
       "      <td>148121.29</td>\n",
       "      <td>74060.645</td>\n",
       "      <td>0</td>\n",
       "    </tr>\n",
       "    <tr>\n",
       "      <th>1</th>\n",
       "      <td>2017-06-01</td>\n",
       "      <td>2023</td>\n",
       "      <td>2017-07-01</td>\n",
       "      <td>155869.55</td>\n",
       "      <td>77934.775</td>\n",
       "      <td>1</td>\n",
       "    </tr>\n",
       "    <tr>\n",
       "      <th>2</th>\n",
       "      <td>2017-06-01</td>\n",
       "      <td>2023</td>\n",
       "      <td>2017-08-01</td>\n",
       "      <td>114898.83</td>\n",
       "      <td>57449.415</td>\n",
       "      <td>2</td>\n",
       "    </tr>\n",
       "    <tr>\n",
       "      <th>3</th>\n",
       "      <td>2017-06-01</td>\n",
       "      <td>2023</td>\n",
       "      <td>2017-09-01</td>\n",
       "      <td>374481.76</td>\n",
       "      <td>187240.880</td>\n",
       "      <td>3</td>\n",
       "    </tr>\n",
       "    <tr>\n",
       "      <th>4</th>\n",
       "      <td>2017-06-01</td>\n",
       "      <td>2023</td>\n",
       "      <td>2017-10-01</td>\n",
       "      <td>351833.14</td>\n",
       "      <td>175916.570</td>\n",
       "      <td>4</td>\n",
       "    </tr>\n",
       "  </tbody>\n",
       "</table>\n",
       "</div>"
      ],
      "text/plain": [
       "  first_order_month  n_buyers order_month    revenue          gp  month\n",
       "0        2017-06-01      2023  2017-06-01  148121.29   74060.645      0\n",
       "1        2017-06-01      2023  2017-07-01  155869.55   77934.775      1\n",
       "2        2017-06-01      2023  2017-08-01  114898.83   57449.415      2\n",
       "3        2017-06-01      2023  2017-09-01  374481.76  187240.880      3\n",
       "4        2017-06-01      2023  2017-10-01  351833.14  175916.570      4"
      ]
     },
     "execution_count": 50,
     "metadata": {},
     "output_type": "execute_result"
    }
   ],
   "source": [
    "margin_rate = 0.5\n",
    "report['gp'] = report['revenue']* margin_rate\n",
    "report['order_month'] = pd.to_datetime(report['order_month'])\n",
    "report['first_order_month'] = pd.to_datetime(report['first_order_month'])\n",
    "report['month'] = (\n",
    "    report['order_month'].dt.to_period('M') - report['first_order_month'].dt.to_period('M')\n",
    ").apply(lambda x: x.n)\n",
    "\n",
    "report.head(5)\n"
   ]
  },
  {
   "cell_type": "code",
   "execution_count": 51,
   "metadata": {
    "trusted": true
   },
   "outputs": [
    {
     "data": {
      "text/html": [
       "<div>\n",
       "<style scoped>\n",
       "    .dataframe tbody tr th:only-of-type {\n",
       "        vertical-align: middle;\n",
       "    }\n",
       "\n",
       "    .dataframe tbody tr th {\n",
       "        vertical-align: top;\n",
       "    }\n",
       "\n",
       "    .dataframe thead th {\n",
       "        text-align: right;\n",
       "    }\n",
       "</style>\n",
       "<table border=\"1\" class=\"dataframe\">\n",
       "  <thead>\n",
       "    <tr style=\"text-align: right;\">\n",
       "      <th>month</th>\n",
       "      <th>0</th>\n",
       "      <th>1</th>\n",
       "      <th>2</th>\n",
       "      <th>3</th>\n",
       "      <th>4</th>\n",
       "      <th>5</th>\n",
       "      <th>6</th>\n",
       "      <th>7</th>\n",
       "      <th>8</th>\n",
       "      <th>9</th>\n",
       "      <th>10</th>\n",
       "      <th>11</th>\n",
       "    </tr>\n",
       "    <tr>\n",
       "      <th>first_order_month</th>\n",
       "      <th></th>\n",
       "      <th></th>\n",
       "      <th></th>\n",
       "      <th></th>\n",
       "      <th></th>\n",
       "      <th></th>\n",
       "      <th></th>\n",
       "      <th></th>\n",
       "      <th></th>\n",
       "      <th></th>\n",
       "      <th></th>\n",
       "      <th></th>\n",
       "    </tr>\n",
       "  </thead>\n",
       "  <tbody>\n",
       "    <tr>\n",
       "      <th>2017-06-01</th>\n",
       "      <td>37.0</td>\n",
       "      <td>39.0</td>\n",
       "      <td>28.0</td>\n",
       "      <td>93.0</td>\n",
       "      <td>87.0</td>\n",
       "      <td>55.0</td>\n",
       "      <td>89.0</td>\n",
       "      <td>51.0</td>\n",
       "      <td>62.0</td>\n",
       "      <td>53.0</td>\n",
       "      <td>55.0</td>\n",
       "      <td>24.0</td>\n",
       "    </tr>\n",
       "    <tr>\n",
       "      <th>2017-07-01</th>\n",
       "      <td>26.0</td>\n",
       "      <td>13.0</td>\n",
       "      <td>39.0</td>\n",
       "      <td>14.0</td>\n",
       "      <td>5.0</td>\n",
       "      <td>6.0</td>\n",
       "      <td>3.0</td>\n",
       "      <td>4.0</td>\n",
       "      <td>7.0</td>\n",
       "      <td>10.0</td>\n",
       "      <td>7.0</td>\n",
       "      <td>-</td>\n",
       "    </tr>\n",
       "    <tr>\n",
       "      <th>2017-08-01</th>\n",
       "      <td>17.0</td>\n",
       "      <td>15.0</td>\n",
       "      <td>13.0</td>\n",
       "      <td>16.0</td>\n",
       "      <td>25.0</td>\n",
       "      <td>12.0</td>\n",
       "      <td>8.0</td>\n",
       "      <td>18.0</td>\n",
       "      <td>8.0</td>\n",
       "      <td>6.0</td>\n",
       "      <td>-</td>\n",
       "      <td>-</td>\n",
       "    </tr>\n",
       "    <tr>\n",
       "      <th>2017-09-01</th>\n",
       "      <td>33.0</td>\n",
       "      <td>30.0</td>\n",
       "      <td>11.0</td>\n",
       "      <td>159.0</td>\n",
       "      <td>19.0</td>\n",
       "      <td>24.0</td>\n",
       "      <td>32.0</td>\n",
       "      <td>11.0</td>\n",
       "      <td>6.0</td>\n",
       "      <td>-</td>\n",
       "      <td>-</td>\n",
       "      <td>-</td>\n",
       "    </tr>\n",
       "    <tr>\n",
       "      <th>2017-10-01</th>\n",
       "      <td>10.0</td>\n",
       "      <td>4.0</td>\n",
       "      <td>1.0</td>\n",
       "      <td>2.0</td>\n",
       "      <td>1.0</td>\n",
       "      <td>1.0</td>\n",
       "      <td>1.0</td>\n",
       "      <td>1.0</td>\n",
       "      <td>-</td>\n",
       "      <td>-</td>\n",
       "      <td>-</td>\n",
       "      <td>-</td>\n",
       "    </tr>\n",
       "    <tr>\n",
       "      <th>2017-11-01</th>\n",
       "      <td>14.0</td>\n",
       "      <td>10.0</td>\n",
       "      <td>5.0</td>\n",
       "      <td>10.0</td>\n",
       "      <td>4.0</td>\n",
       "      <td>1.0</td>\n",
       "      <td>3.0</td>\n",
       "      <td>-</td>\n",
       "      <td>-</td>\n",
       "      <td>-</td>\n",
       "      <td>-</td>\n",
       "      <td>-</td>\n",
       "    </tr>\n",
       "    <tr>\n",
       "      <th>2017-12-01</th>\n",
       "      <td>9.0</td>\n",
       "      <td>4.0</td>\n",
       "      <td>8.0</td>\n",
       "      <td>7.0</td>\n",
       "      <td>3.0</td>\n",
       "      <td>2.0</td>\n",
       "      <td>-</td>\n",
       "      <td>-</td>\n",
       "      <td>-</td>\n",
       "      <td>-</td>\n",
       "      <td>-</td>\n",
       "      <td>-</td>\n",
       "    </tr>\n",
       "    <tr>\n",
       "      <th>2018-01-01</th>\n",
       "      <td>9.0</td>\n",
       "      <td>6.0</td>\n",
       "      <td>8.0</td>\n",
       "      <td>2.0</td>\n",
       "      <td>1.0</td>\n",
       "      <td>-</td>\n",
       "      <td>-</td>\n",
       "      <td>-</td>\n",
       "      <td>-</td>\n",
       "      <td>-</td>\n",
       "      <td>-</td>\n",
       "      <td>-</td>\n",
       "    </tr>\n",
       "    <tr>\n",
       "      <th>2018-02-01</th>\n",
       "      <td>6.0</td>\n",
       "      <td>3.0</td>\n",
       "      <td>1.0</td>\n",
       "      <td>1.0</td>\n",
       "      <td>-</td>\n",
       "      <td>-</td>\n",
       "      <td>-</td>\n",
       "      <td>-</td>\n",
       "      <td>-</td>\n",
       "      <td>-</td>\n",
       "      <td>-</td>\n",
       "      <td>-</td>\n",
       "    </tr>\n",
       "    <tr>\n",
       "      <th>2018-03-01</th>\n",
       "      <td>25.0</td>\n",
       "      <td>20.0</td>\n",
       "      <td>11.0</td>\n",
       "      <td>-</td>\n",
       "      <td>-</td>\n",
       "      <td>-</td>\n",
       "      <td>-</td>\n",
       "      <td>-</td>\n",
       "      <td>-</td>\n",
       "      <td>-</td>\n",
       "      <td>-</td>\n",
       "      <td>-</td>\n",
       "    </tr>\n",
       "    <tr>\n",
       "      <th>2018-04-01</th>\n",
       "      <td>9.0</td>\n",
       "      <td>10.0</td>\n",
       "      <td>-</td>\n",
       "      <td>-</td>\n",
       "      <td>-</td>\n",
       "      <td>-</td>\n",
       "      <td>-</td>\n",
       "      <td>-</td>\n",
       "      <td>-</td>\n",
       "      <td>-</td>\n",
       "      <td>-</td>\n",
       "      <td>-</td>\n",
       "    </tr>\n",
       "    <tr>\n",
       "      <th>2018-05-01</th>\n",
       "      <td>6.0</td>\n",
       "      <td>-</td>\n",
       "      <td>-</td>\n",
       "      <td>-</td>\n",
       "      <td>-</td>\n",
       "      <td>-</td>\n",
       "      <td>-</td>\n",
       "      <td>-</td>\n",
       "      <td>-</td>\n",
       "      <td>-</td>\n",
       "      <td>-</td>\n",
       "      <td>-</td>\n",
       "    </tr>\n",
       "    <tr>\n",
       "      <th>2018-06-01</th>\n",
       "      <td>2.0</td>\n",
       "      <td>-</td>\n",
       "      <td>-</td>\n",
       "      <td>-</td>\n",
       "      <td>-</td>\n",
       "      <td>-</td>\n",
       "      <td>-</td>\n",
       "      <td>-</td>\n",
       "      <td>-</td>\n",
       "      <td>-</td>\n",
       "      <td>-</td>\n",
       "      <td>-</td>\n",
       "    </tr>\n",
       "  </tbody>\n",
       "</table>\n",
       "</div>"
      ],
      "text/plain": [
       "month                0     1     2      3     4     5     6     7     8   \\\n",
       "first_order_month                                                          \n",
       "2017-06-01         37.0  39.0  28.0   93.0  87.0  55.0  89.0  51.0  62.0   \n",
       "2017-07-01         26.0  13.0  39.0   14.0   5.0   6.0   3.0   4.0   7.0   \n",
       "2017-08-01         17.0  15.0  13.0   16.0  25.0  12.0   8.0  18.0   8.0   \n",
       "2017-09-01         33.0  30.0  11.0  159.0  19.0  24.0  32.0  11.0   6.0   \n",
       "2017-10-01         10.0   4.0   1.0    2.0   1.0   1.0   1.0   1.0     -   \n",
       "2017-11-01         14.0  10.0   5.0   10.0   4.0   1.0   3.0     -     -   \n",
       "2017-12-01          9.0   4.0   8.0    7.0   3.0   2.0     -     -     -   \n",
       "2018-01-01          9.0   6.0   8.0    2.0   1.0     -     -     -     -   \n",
       "2018-02-01          6.0   3.0   1.0    1.0     -     -     -     -     -   \n",
       "2018-03-01         25.0  20.0  11.0      -     -     -     -     -     -   \n",
       "2018-04-01          9.0  10.0     -      -     -     -     -     -     -   \n",
       "2018-05-01          6.0     -     -      -     -     -     -     -     -   \n",
       "2018-06-01          2.0     -     -      -     -     -     -     -     -   \n",
       "\n",
       "month                9     10    11  \n",
       "first_order_month                    \n",
       "2017-06-01         53.0  55.0  24.0  \n",
       "2017-07-01         10.0   7.0     -  \n",
       "2017-08-01          6.0     -     -  \n",
       "2017-09-01            -     -     -  \n",
       "2017-10-01            -     -     -  \n",
       "2017-11-01            -     -     -  \n",
       "2017-12-01            -     -     -  \n",
       "2018-01-01            -     -     -  \n",
       "2018-02-01            -     -     -  \n",
       "2018-03-01            -     -     -  \n",
       "2018-04-01            -     -     -  \n",
       "2018-05-01            -     -     -  \n",
       "2018-06-01            -     -     -  "
      ]
     },
     "execution_count": 51,
     "metadata": {},
     "output_type": "execute_result"
    }
   ],
   "source": [
    "report['ltv'] = report['gp']/report['n_buyers']\n",
    "output = report.pivot_table(index='first_order_month',columns='month',values='ltv',aggfunc='mean').round()\n",
    "output.fillna('-')"
   ]
  },
  {
   "cell_type": "code",
   "execution_count": 52,
   "metadata": {
    "trusted": true
   },
   "outputs": [
    {
     "data": {
      "image/png": "[encoded data removed]",
      "text/plain": [
       "<Figure size 1300x900 with 2 Axes>"
      ]
     },
     "metadata": {},
     "output_type": "display_data"
    },
    {
     "data": {
      "text/plain": [
       "<Figure size 640x480 with 0 Axes>"
      ]
     },
     "metadata": {},
     "output_type": "display_data"
    }
   ],
   "source": [
    "plt.figure(figsize=(13,9))\n",
    "plt.title(' Valor del Tiempo de Vida del Cliente')\n",
    "output.index = output.index.strftime('%Y-%m')\n",
    "sns.heatmap(\n",
    "    output,\n",
    "    annot = True,\n",
    "    fmt ='.2f',\n",
    "    linewidths=1,\n",
    "    linecolor='black'\n",
    ")\n",
    "plt.show()\n",
    "plt.savefig(\"images/graph_8.png\")"
   ]
  },
  {
   "cell_type": "markdown",
   "metadata": {},
   "source": [
    "Vemos la relaciones importante nuestros primeros clientes son los que mas compran es evidente como nos afecta la estacionalidad probablemente esos primeros clientes pagaron por un concierto bastante costoso."
   ]
  },
  {
   "cell_type": "code",
   "execution_count": 53,
   "metadata": {
    "trusted": true
   },
   "outputs": [
    {
     "name": "stdout",
     "output_type": "stream",
     "text": [
      "En promedio un cliente nos genera unos ingresos de : $18.92\n"
     ]
    }
   ],
   "source": [
    "print(f\"En promedio un cliente nos genera unos ingresos de : ${report['ltv'].mean().round(2)}\")"
   ]
  },
  {
   "cell_type": "markdown",
   "metadata": {},
   "source": [
    "### Marketing"
   ]
  },
  {
   "cell_type": "markdown",
   "metadata": {},
   "source": [
    "#### ¿Cuánto dinero se gastó?  (Total/por fuente de adquisición/a lo largo del tiempo) "
   ]
  },
  {
   "cell_type": "code",
   "execution_count": 54,
   "metadata": {
    "trusted": true
   },
   "outputs": [],
   "source": [
    "costos['dt_month'] = costos['dt'].dt.to_period('M').astype(str)"
   ]
  },
  {
   "cell_type": "code",
   "execution_count": 55,
   "metadata": {
    "trusted": true
   },
   "outputs": [
    {
     "data": {
      "text/html": [
       "<div>\n",
       "<style scoped>\n",
       "    .dataframe tbody tr th:only-of-type {\n",
       "        vertical-align: middle;\n",
       "    }\n",
       "\n",
       "    .dataframe tbody tr th {\n",
       "        vertical-align: top;\n",
       "    }\n",
       "\n",
       "    .dataframe thead th {\n",
       "        text-align: right;\n",
       "    }\n",
       "</style>\n",
       "<table border=\"1\" class=\"dataframe\">\n",
       "  <thead>\n",
       "    <tr style=\"text-align: right;\">\n",
       "      <th></th>\n",
       "      <th>dt_month</th>\n",
       "      <th>first_order_month</th>\n",
       "      <th>costs</th>\n",
       "    </tr>\n",
       "  </thead>\n",
       "  <tbody>\n",
       "    <tr>\n",
       "      <th>2</th>\n",
       "      <td>2017-08</td>\n",
       "      <td>2017-08</td>\n",
       "      <td>14790.54</td>\n",
       "    </tr>\n",
       "    <tr>\n",
       "      <th>0</th>\n",
       "      <td>2017-06</td>\n",
       "      <td>2017-06</td>\n",
       "      <td>18015.00</td>\n",
       "    </tr>\n",
       "    <tr>\n",
       "      <th>9</th>\n",
       "      <td>2018-03</td>\n",
       "      <td>2018-03</td>\n",
       "      <td>30415.27</td>\n",
       "    </tr>\n",
       "    <tr>\n",
       "      <th>1</th>\n",
       "      <td>2017-07</td>\n",
       "      <td>2017-07</td>\n",
       "      <td>18240.59</td>\n",
       "    </tr>\n",
       "    <tr>\n",
       "      <th>11</th>\n",
       "      <td>2018-05</td>\n",
       "      <td>2018-05</td>\n",
       "      <td>22224.27</td>\n",
       "    </tr>\n",
       "  </tbody>\n",
       "</table>\n",
       "</div>"
      ],
      "text/plain": [
       "   dt_month first_order_month     costs\n",
       "2   2017-08           2017-08  14790.54\n",
       "0   2017-06           2017-06  18015.00\n",
       "9   2018-03           2018-03  30415.27\n",
       "1   2017-07           2017-07  18240.59\n",
       "11  2018-05           2018-05  22224.27"
      ]
     },
     "execution_count": 55,
     "metadata": {},
     "output_type": "execute_result"
    }
   ],
   "source": [
    "costo_mes = costos.groupby(['dt_month','first_order_month']).agg({'costs':'sum'}).reset_index()\n",
    "costo_mes.sample(5)"
   ]
  },
  {
   "cell_type": "code",
   "execution_count": 56,
   "metadata": {
    "trusted": true
   },
   "outputs": [
    {
     "data": {
      "text/html": [
       "<div>\n",
       "<style scoped>\n",
       "    .dataframe tbody tr th:only-of-type {\n",
       "        vertical-align: middle;\n",
       "    }\n",
       "\n",
       "    .dataframe tbody tr th {\n",
       "        vertical-align: top;\n",
       "    }\n",
       "\n",
       "    .dataframe thead th {\n",
       "        text-align: right;\n",
       "    }\n",
       "</style>\n",
       "<table border=\"1\" class=\"dataframe\">\n",
       "  <thead>\n",
       "    <tr style=\"text-align: right;\">\n",
       "      <th></th>\n",
       "      <th>source_id</th>\n",
       "      <th>costs</th>\n",
       "    </tr>\n",
       "  </thead>\n",
       "  <tbody>\n",
       "    <tr>\n",
       "      <th>0</th>\n",
       "      <td>1</td>\n",
       "      <td>20833.27</td>\n",
       "    </tr>\n",
       "    <tr>\n",
       "      <th>1</th>\n",
       "      <td>2</td>\n",
       "      <td>42806.04</td>\n",
       "    </tr>\n",
       "    <tr>\n",
       "      <th>2</th>\n",
       "      <td>3</td>\n",
       "      <td>141321.63</td>\n",
       "    </tr>\n",
       "    <tr>\n",
       "      <th>3</th>\n",
       "      <td>4</td>\n",
       "      <td>61073.60</td>\n",
       "    </tr>\n",
       "    <tr>\n",
       "      <th>4</th>\n",
       "      <td>5</td>\n",
       "      <td>51757.10</td>\n",
       "    </tr>\n",
       "    <tr>\n",
       "      <th>5</th>\n",
       "      <td>9</td>\n",
       "      <td>5517.49</td>\n",
       "    </tr>\n",
       "    <tr>\n",
       "      <th>6</th>\n",
       "      <td>10</td>\n",
       "      <td>5822.49</td>\n",
       "    </tr>\n",
       "  </tbody>\n",
       "</table>\n",
       "</div>"
      ],
      "text/plain": [
       "   source_id      costs\n",
       "0          1   20833.27\n",
       "1          2   42806.04\n",
       "2          3  141321.63\n",
       "3          4   61073.60\n",
       "4          5   51757.10\n",
       "5          9    5517.49\n",
       "6         10    5822.49"
      ]
     },
     "execution_count": 56,
     "metadata": {},
     "output_type": "execute_result"
    }
   ],
   "source": [
    "costo_source = costos.groupby('source_id').agg({'costs':'sum'}).reset_index()\n",
    "costo_source"
   ]
  },
  {
   "cell_type": "code",
   "execution_count": 57,
   "metadata": {
    "trusted": true
   },
   "outputs": [],
   "source": [
    "costos_mes_source=costos.pivot_table(index='first_order_month',columns='source_id',values='costs',aggfunc='sum')"
   ]
  },
  {
   "cell_type": "code",
   "execution_count": 58,
   "metadata": {},
   "outputs": [
    {
     "data": {
      "image/png": "[encoded data removed]",
      "text/plain": [
       "<Figure size 1000x900 with 2 Axes>"
      ]
     },
     "metadata": {},
     "output_type": "display_data"
    },
    {
     "data": {
      "text/plain": [
       "<Figure size 640x480 with 0 Axes>"
      ]
     },
     "metadata": {},
     "output_type": "display_data"
    }
   ],
   "source": [
    "plt.figure(figsize=(10,9))\n",
    "plt.title('Costos por mes y fuente')\n",
    "plt.xlabel(\"Fuente\")\n",
    "plt.ylabel(\"Mes primera orden\")\n",
    "sns.heatmap(\n",
    "    costos_mes_source,\n",
    "    annot = True,\n",
    "    fmt ='.2f',\n",
    "    linewidths=1,\n",
    "    linecolor='black'\n",
    ")\n",
    "plt.yticks(rotation=0)\n",
    "plt.show()\n",
    "plt.savefig(\"images/graph_11.png\")"
   ]
  },
  {
   "cell_type": "code",
   "execution_count": 59,
   "metadata": {
    "trusted": true
   },
   "outputs": [
    {
     "data": {
      "image/png": "[encoded data removed]",
      "text/plain": [
       "<Figure size 640x480 with 1 Axes>"
      ]
     },
     "metadata": {},
     "output_type": "display_data"
    },
    {
     "data": {
      "text/plain": [
       "<Figure size 640x480 with 0 Axes>"
      ]
     },
     "metadata": {},
     "output_type": "display_data"
    }
   ],
   "source": [
    "costos_mes_source.index = pd.to_datetime(costos_mes_source.index).strftime('%Y-%m')\n",
    "\n",
    "costos_mes_source.plot(kind='bar',stacked=True, title='Costo Mensual Por Fuente')\n",
    "plt.xlabel('Mes')\n",
    "plt.ylabel('Costo en Dolares')\n",
    "plt.xticks(rotation=45)\n",
    "plt.grid(True , alpha=0.2)\n",
    "plt.show()\n",
    "plt.savefig(\"images/graph_12.png\")"
   ]
  },
  {
   "cell_type": "code",
   "execution_count": 60,
   "metadata": {
    "trusted": true
   },
   "outputs": [
    {
     "name": "stdout",
     "output_type": "stream",
     "text": [
      "A lo largo del año calendario desde 1 de junio de 2017 hasta el 31 de mayo del 2018 se invirtio en marketing un total de:  \n",
      "$329131.62 \n",
      "lo que quiere decir que por mes se gasto un promedio de: $27427.635\n",
      "El costo de cada fuente en proporción al gasto del mes es muy similar\n"
     ]
    }
   ],
   "source": [
    "print(f\"A lo largo del año calendario desde 1 de junio de 2017 hasta el 31 de mayo del 2018 se invirtio en marketing un total de:  \\n${costo_source['costs'].sum().round(2)} \")\n",
    "\n",
    "print(f\"lo que quiere decir que por mes se gasto un promedio de: ${(costos['costs'].sum().round(2))/12}\")\n",
    "\n",
    "print(f\"El costo de cada fuente en proporción al gasto del mes es muy similar\")"
   ]
  },
  {
   "cell_type": "markdown",
   "metadata": {},
   "source": [
    "####  ¿Cuál fue el costo de adquisición de clientes de cada una de las fuentes?\n"
   ]
  },
  {
   "cell_type": "code",
   "execution_count": 61,
   "metadata": {
    "trusted": true
   },
   "outputs": [],
   "source": [
    "try:\n",
    "    costos['first_order_month'] = pd.to_datetime(costos['first_order_month'])\n",
    "except Exception as e:\n",
    "    print(f\"No se pudo convertir 'first_order_month' en el DataFrame 'costos': {e}\")\n",
    "\n",
    "try:\n",
    "    report['first_order_month'] = pd.to_datetime(report['first_order_month'])\n",
    "except Exception as e:\n",
    "    print(f\"No se pudo convertir 'first_order_month' en el DataFrame 'report': {e}\")\n",
    "\n"
   ]
  },
  {
   "cell_type": "code",
   "execution_count": 62,
   "metadata": {},
   "outputs": [
    {
     "data": {
      "text/html": [
       "<div>\n",
       "<style scoped>\n",
       "    .dataframe tbody tr th:only-of-type {\n",
       "        vertical-align: middle;\n",
       "    }\n",
       "\n",
       "    .dataframe tbody tr th {\n",
       "        vertical-align: top;\n",
       "    }\n",
       "\n",
       "    .dataframe thead th {\n",
       "        text-align: right;\n",
       "    }\n",
       "</style>\n",
       "<table border=\"1\" class=\"dataframe\">\n",
       "  <thead>\n",
       "    <tr style=\"text-align: right;\">\n",
       "      <th></th>\n",
       "      <th>source_id</th>\n",
       "      <th>cac</th>\n",
       "    </tr>\n",
       "  </thead>\n",
       "  <tbody>\n",
       "    <tr>\n",
       "      <th>0</th>\n",
       "      <td>1</td>\n",
       "      <td>0.019227</td>\n",
       "    </tr>\n",
       "    <tr>\n",
       "      <th>1</th>\n",
       "      <td>2</td>\n",
       "      <td>0.039627</td>\n",
       "    </tr>\n",
       "    <tr>\n",
       "      <th>2</th>\n",
       "      <td>3</td>\n",
       "      <td>0.130633</td>\n",
       "    </tr>\n",
       "    <tr>\n",
       "      <th>3</th>\n",
       "      <td>4</td>\n",
       "      <td>0.058825</td>\n",
       "    </tr>\n",
       "    <tr>\n",
       "      <th>4</th>\n",
       "      <td>5</td>\n",
       "      <td>0.047696</td>\n",
       "    </tr>\n",
       "    <tr>\n",
       "      <th>5</th>\n",
       "      <td>9</td>\n",
       "      <td>0.005127</td>\n",
       "    </tr>\n",
       "    <tr>\n",
       "      <th>6</th>\n",
       "      <td>10</td>\n",
       "      <td>0.005406</td>\n",
       "    </tr>\n",
       "  </tbody>\n",
       "</table>\n",
       "</div>"
      ],
      "text/plain": [
       "   source_id       cac\n",
       "0          1  0.019227\n",
       "1          2  0.039627\n",
       "2          3  0.130633\n",
       "3          4  0.058825\n",
       "4          5  0.047696\n",
       "5          9  0.005127\n",
       "6         10  0.005406"
      ]
     },
     "execution_count": 62,
     "metadata": {},
     "output_type": "execute_result"
    }
   ],
   "source": [
    "report_ = pd.merge(costos, report, on='first_order_month')\n",
    "report_['cac'] = report_['costs'] / report_['n_buyers']\n",
    "report_.head()\n",
    "report_s = report_.groupby('source_id').agg({'cac':'mean'}).reset_index()\n",
    "report_s"
   ]
  },
  {
   "cell_type": "code",
   "execution_count": 63,
   "metadata": {
    "trusted": true
   },
   "outputs": [
    {
     "data": {
      "image/png": "[encoded data removed]",
      "text/plain": [
       "<Figure size 640x480 with 1 Axes>"
      ]
     },
     "metadata": {},
     "output_type": "display_data"
    },
    {
     "data": {
      "text/plain": [
       "<Figure size 640x480 with 0 Axes>"
      ]
     },
     "metadata": {},
     "output_type": "display_data"
    }
   ],
   "source": [
    "report_s.plot(kind='bar',x='source_id' , y='cac',title='CAC Costo de Adquisicion por fuente',color='Green')\n",
    "plt.xlabel('Fuente')\n",
    "plt.grid(True,alpha=0.3)\n",
    "plt.show()\n",
    "plt.savefig(\"images/graph_13.png\")"
   ]
  },
  {
   "cell_type": "markdown",
   "metadata": {},
   "source": [
    "Se identifica que todas las fuentes atraen practicamente la misma cantidad de cliente por lo cual vamos a analizar cual es mas provechosa monetariamente nos encontramos con que la opcion 9 es la mejor ya que tiene  el CAC mas bajo 0.005127 , se recomienda dejar de trabajar con el source 3 dado que por cada cliente adquirido es la fuente mas costosa ademas de ser las que mayor costos genera."
   ]
  },
  {
   "cell_type": "markdown",
   "metadata": {},
   "source": [
    "####  ¿Cuán rentables eran las inversiones? (ROMI)\n"
   ]
  },
  {
   "cell_type": "code",
   "execution_count": 64,
   "metadata": {
    "trusted": true
   },
   "outputs": [
    {
     "data": {
      "text/html": [
       "<div>\n",
       "<style scoped>\n",
       "    .dataframe tbody tr th:only-of-type {\n",
       "        vertical-align: middle;\n",
       "    }\n",
       "\n",
       "    .dataframe tbody tr th {\n",
       "        vertical-align: top;\n",
       "    }\n",
       "\n",
       "    .dataframe thead th {\n",
       "        text-align: right;\n",
       "    }\n",
       "</style>\n",
       "<table border=\"1\" class=\"dataframe\">\n",
       "  <thead>\n",
       "    <tr style=\"text-align: right;\">\n",
       "      <th></th>\n",
       "      <th>source_id</th>\n",
       "      <th>dt</th>\n",
       "      <th>costs</th>\n",
       "      <th>first_order_month</th>\n",
       "      <th>dt_month</th>\n",
       "      <th>n_buyers</th>\n",
       "      <th>order_month</th>\n",
       "      <th>revenue</th>\n",
       "      <th>gp</th>\n",
       "      <th>month</th>\n",
       "      <th>ltv</th>\n",
       "      <th>cac</th>\n",
       "      <th>romi</th>\n",
       "    </tr>\n",
       "  </thead>\n",
       "  <tbody>\n",
       "    <tr>\n",
       "      <th>0</th>\n",
       "      <td>1</td>\n",
       "      <td>2017-06-01</td>\n",
       "      <td>75.2</td>\n",
       "      <td>2017-06-01</td>\n",
       "      <td>2017-06</td>\n",
       "      <td>2023</td>\n",
       "      <td>2017-06-01</td>\n",
       "      <td>148121.29</td>\n",
       "      <td>74060.645</td>\n",
       "      <td>0</td>\n",
       "      <td>36.609315</td>\n",
       "      <td>0.037173</td>\n",
       "      <td>984.849003</td>\n",
       "    </tr>\n",
       "    <tr>\n",
       "      <th>1</th>\n",
       "      <td>1</td>\n",
       "      <td>2017-06-01</td>\n",
       "      <td>75.2</td>\n",
       "      <td>2017-06-01</td>\n",
       "      <td>2017-06</td>\n",
       "      <td>2023</td>\n",
       "      <td>2017-07-01</td>\n",
       "      <td>155869.55</td>\n",
       "      <td>77934.775</td>\n",
       "      <td>1</td>\n",
       "      <td>38.524357</td>\n",
       "      <td>0.037173</td>\n",
       "      <td>1036.366689</td>\n",
       "    </tr>\n",
       "  </tbody>\n",
       "</table>\n",
       "</div>"
      ],
      "text/plain": [
       "   source_id         dt  costs first_order_month dt_month  n_buyers  \\\n",
       "0          1 2017-06-01   75.2        2017-06-01  2017-06      2023   \n",
       "1          1 2017-06-01   75.2        2017-06-01  2017-06      2023   \n",
       "\n",
       "  order_month    revenue         gp  month        ltv       cac         romi  \n",
       "0  2017-06-01  148121.29  74060.645      0  36.609315  0.037173   984.849003  \n",
       "1  2017-07-01  155869.55  77934.775      1  38.524357  0.037173  1036.366689  "
      ]
     },
     "execution_count": 64,
     "metadata": {},
     "output_type": "execute_result"
    }
   ],
   "source": [
    "report_['romi'] =  report_['ltv'] / report_['cac']\n",
    "report_.head(2)"
   ]
  },
  {
   "cell_type": "code",
   "execution_count": 65,
   "metadata": {
    "trusted": true
   },
   "outputs": [
    {
     "data": {
      "text/html": [
       "<div>\n",
       "<style scoped>\n",
       "    .dataframe tbody tr th:only-of-type {\n",
       "        vertical-align: middle;\n",
       "    }\n",
       "\n",
       "    .dataframe tbody tr th {\n",
       "        vertical-align: top;\n",
       "    }\n",
       "\n",
       "    .dataframe thead th {\n",
       "        text-align: right;\n",
       "    }\n",
       "</style>\n",
       "<table border=\"1\" class=\"dataframe\">\n",
       "  <thead>\n",
       "    <tr style=\"text-align: right;\">\n",
       "      <th></th>\n",
       "      <th>source_id</th>\n",
       "      <th>romi</th>\n",
       "    </tr>\n",
       "  </thead>\n",
       "  <tbody>\n",
       "    <tr>\n",
       "      <th>0</th>\n",
       "      <td>1</td>\n",
       "      <td>1194.678326</td>\n",
       "    </tr>\n",
       "    <tr>\n",
       "      <th>1</th>\n",
       "      <td>2</td>\n",
       "      <td>546.025470</td>\n",
       "    </tr>\n",
       "    <tr>\n",
       "      <th>2</th>\n",
       "      <td>3</td>\n",
       "      <td>193.998492</td>\n",
       "    </tr>\n",
       "    <tr>\n",
       "      <th>3</th>\n",
       "      <td>4</td>\n",
       "      <td>1083.296328</td>\n",
       "    </tr>\n",
       "    <tr>\n",
       "      <th>4</th>\n",
       "      <td>5</td>\n",
       "      <td>579.407245</td>\n",
       "    </tr>\n",
       "    <tr>\n",
       "      <th>5</th>\n",
       "      <td>9</td>\n",
       "      <td>4287.783716</td>\n",
       "    </tr>\n",
       "    <tr>\n",
       "      <th>6</th>\n",
       "      <td>10</td>\n",
       "      <td>5116.783655</td>\n",
       "    </tr>\n",
       "  </tbody>\n",
       "</table>\n",
       "</div>"
      ],
      "text/plain": [
       "   source_id         romi\n",
       "0          1  1194.678326\n",
       "1          2   546.025470\n",
       "2          3   193.998492\n",
       "3          4  1083.296328\n",
       "4          5   579.407245\n",
       "5          9  4287.783716\n",
       "6         10  5116.783655"
      ]
     },
     "execution_count": 65,
     "metadata": {},
     "output_type": "execute_result"
    }
   ],
   "source": [
    "output_source = report_.groupby('source_id').agg({'romi':'mean'}).reset_index()\n",
    "output_source"
   ]
  },
  {
   "cell_type": "code",
   "execution_count": 66,
   "metadata": {
    "trusted": true
   },
   "outputs": [
    {
     "data": {
      "image/png": "[encoded data removed]",
      "text/plain": [
       "<Figure size 640x480 with 1 Axes>"
      ]
     },
     "metadata": {},
     "output_type": "display_data"
    },
    {
     "data": {
      "text/plain": [
       "<Figure size 640x480 with 0 Axes>"
      ]
     },
     "metadata": {},
     "output_type": "display_data"
    }
   ],
   "source": [
    "output_source.plot(kind='bar',title='Retorno a la inversión',x='source_id', y='romi')\n",
    "plt.grid(True,alpha=0.3)\n",
    "plt.show()\n",
    "plt.savefig(\"images/graph_14.png\")"
   ]
  },
  {
   "cell_type": "markdown",
   "metadata": {},
   "source": [
    "Resaltando lo analizado la fuente que nos generamas retorno es la 10 seguida de la 9 en ultimo lugar encontramos a la 3 lo cual genera preocupacion dado que es la que mas costos genera."
   ]
  },
  {
   "cell_type": "markdown",
   "metadata": {},
   "source": [
    "## Conclusiones"
   ]
  },
  {
   "cell_type": "markdown",
   "metadata": {},
   "source": [
    "Este informe presenta informacion clave , bastante explicita sobre la importancia de calcular las metricas en cuanto a lo general el resultado es positivo dado que el LTV es mucho mayor que el cac , lo cual refleja el impacto positivo dado que estamos ganando dinero por encima del margen establecido del 50% , de igual manera aún podemos aumentar nuestro beneficio dado que las fuentes de marketing que mas usamos son las que nos generan menor retorno , en este caso los costos de adquisicion de la fuentes 3 son considerablemente altos con respecto a sus pares sin embargo son los que generan menor retorno a la inversión por otro lado se encuentra la fuente 10 la cual es que la genera los menores costos y genera el mayor retorno .\n",
    " \n",
    "De igual manera no contamos con toda la informacion dado que hay la psoibilidad de que la fuente 3 tenga un beneficio extra que no puedo ver unicamente con los datos como ingresar a un nuevo mercado que es posible unicamente por esa vía .\n",
    "\n",
    "Se requiere volumen de clientes en nuestra página esta es la clave teniendo en cuenta que una persona dura en nuestra pagina alreddor de 10 minutos unicamente , e ingresan en promedio una vez a la semana lo que permite ver que una vez un cliente ingresa lo mas probable es que no se piense mucho si va a realizar o no la compra el rate compradores el primer dia  : 72.18% , lo que refleja que nuestra prioridad debe ser que el usuario ingrese a la pagina una vez allí lo mas probable es que haga una compra.\n",
    "\n",
    "En cuanto al comportamiento de manera mensual se evidencia como las ventas disminuyeron el mes 6 del estudio que refiere a noviembre del 2017 , lo cual es paradogico dado que fue el segundo mes con mayor gasto en cuanto a fuentes de anuncios , abria que investigar que pudo suceder al ser una empresa que intermedia un servicio de entretenimiento como lo son los conciertos puede darse debido a que ningun cantante reconocido tuvo presentaciones en nuestra jurisdiccion durante dicho periodo de tiempo pero hay que investigar mas al respecto , en promedio por venta nos ingresan 8.62 , por lo cual como ya fue establecido lo importante es el volumen de clientes tener mucho alcance es clave , el tamaño promedio de compra de cliente es variable y puede tener que ver con lo que ya se analizo si viene un artista de talla mundial es muy posible que las personas paguen boletos mucho mas costosos de igual manera se establece que un cliente en promedio nos deja 18.92 dolares lo cual refleja que realizan al menos dos compras teniendo en cuenta el promedio de venta."
   ]
  }
 ],
 "metadata": {
  "ExecuteTimeLog": [
   {
    "duration": 328,
    "start_time": "2025-04-21T12:13:27.345Z"
   },
   {
    "duration": 416,
    "start_time": "2025-04-21T12:15:13.502Z"
   },
   {
    "duration": 37,
    "start_time": "2025-04-21T12:15:25.869Z"
   },
   {
    "duration": 177,
    "start_time": "2025-04-21T12:18:00.101Z"
   },
   {
    "duration": 13,
    "start_time": "2025-04-21T12:18:11.799Z"
   },
   {
    "duration": 10,
    "start_time": "2025-04-21T12:21:00.376Z"
   },
   {
    "duration": 6,
    "start_time": "2025-04-21T12:24:01.313Z"
   },
   {
    "duration": 431,
    "start_time": "2025-04-21T12:24:53.683Z"
   },
   {
    "duration": 13,
    "start_time": "2025-04-21T12:26:35.795Z"
   },
   {
    "duration": 2,
    "start_time": "2025-04-21T12:26:45.702Z"
   },
   {
    "duration": 2,
    "start_time": "2025-04-21T12:26:48.305Z"
   },
   {
    "duration": 3,
    "start_time": "2025-04-21T12:27:04.097Z"
   },
   {
    "duration": 3,
    "start_time": "2025-04-21T12:27:20.600Z"
   },
   {
    "duration": 36,
    "start_time": "2025-04-21T12:27:33.053Z"
   },
   {
    "duration": 38,
    "start_time": "2025-04-21T12:27:57.340Z"
   },
   {
    "duration": 37,
    "start_time": "2025-04-21T12:28:00.900Z"
   },
   {
    "duration": 39,
    "start_time": "2025-04-21T12:28:28.355Z"
   },
   {
    "duration": 39,
    "start_time": "2025-04-21T12:28:31.852Z"
   },
   {
    "duration": 39,
    "start_time": "2025-04-21T12:28:39.978Z"
   },
   {
    "duration": 37,
    "start_time": "2025-04-21T12:29:02.114Z"
   },
   {
    "duration": 37,
    "start_time": "2025-04-21T12:29:16.650Z"
   },
   {
    "duration": 14,
    "start_time": "2025-04-21T12:29:43.401Z"
   },
   {
    "duration": 38,
    "start_time": "2025-04-21T12:29:52.759Z"
   },
   {
    "duration": 38,
    "start_time": "2025-04-21T12:30:12.993Z"
   },
   {
    "duration": 3,
    "start_time": "2025-04-21T12:30:33.049Z"
   },
   {
    "duration": 4,
    "start_time": "2025-04-21T12:30:49.712Z"
   },
   {
    "duration": 2,
    "start_time": "2025-04-21T12:31:02.490Z"
   },
   {
    "duration": 4,
    "start_time": "2025-04-21T12:31:06.575Z"
   },
   {
    "duration": 3,
    "start_time": "2025-04-21T12:31:15.179Z"
   },
   {
    "duration": 355,
    "start_time": "2025-04-21T12:31:16.531Z"
   },
   {
    "duration": 36,
    "start_time": "2025-04-21T12:31:18.230Z"
   },
   {
    "duration": 3,
    "start_time": "2025-04-21T12:31:21.032Z"
   },
   {
    "duration": 2,
    "start_time": "2025-04-21T12:32:39.424Z"
   },
   {
    "duration": 4,
    "start_time": "2025-04-21T12:32:44.713Z"
   },
   {
    "duration": 6,
    "start_time": "2025-04-21T12:34:00.145Z"
   },
   {
    "duration": 4,
    "start_time": "2025-04-21T12:36:14.129Z"
   },
   {
    "duration": 37,
    "start_time": "2025-04-21T12:36:53.497Z"
   },
   {
    "duration": 266,
    "start_time": "2025-04-21T12:37:01.421Z"
   },
   {
    "duration": 351,
    "start_time": "2025-04-21T12:37:01.690Z"
   },
   {
    "duration": 38,
    "start_time": "2025-04-21T12:37:02.043Z"
   },
   {
    "duration": 37,
    "start_time": "2025-04-21T12:37:02.083Z"
   },
   {
    "duration": 86,
    "start_time": "2025-04-21T12:37:48.089Z"
   },
   {
    "duration": 12,
    "start_time": "2025-04-21T12:37:53.658Z"
   },
   {
    "duration": 54,
    "start_time": "2025-04-21T12:40:35.925Z"
   },
   {
    "duration": 9,
    "start_time": "2025-04-21T12:40:38.336Z"
   },
   {
    "duration": 65,
    "start_time": "2025-04-21T12:40:59.259Z"
   },
   {
    "duration": 30,
    "start_time": "2025-04-21T12:41:13.466Z"
   },
   {
    "duration": 37,
    "start_time": "2025-04-21T12:41:27.614Z"
   },
   {
    "duration": 136,
    "start_time": "2025-04-21T12:45:13.320Z"
   },
   {
    "duration": 11,
    "start_time": "2025-04-21T12:45:15.709Z"
   },
   {
    "duration": 10,
    "start_time": "2025-04-21T12:45:24.000Z"
   },
   {
    "duration": 7,
    "start_time": "2025-04-21T12:45:42.877Z"
   },
   {
    "duration": 4,
    "start_time": "2025-04-21T12:46:43.399Z"
   },
   {
    "duration": 7,
    "start_time": "2025-04-21T12:47:19.412Z"
   },
   {
    "duration": 3,
    "start_time": "2025-04-21T12:48:10.507Z"
   },
   {
    "duration": 14,
    "start_time": "2025-04-21T12:48:34.355Z"
   },
   {
    "duration": 11,
    "start_time": "2025-04-21T12:48:39.851Z"
   },
   {
    "duration": 10,
    "start_time": "2025-04-21T12:49:09.319Z"
   },
   {
    "duration": 15,
    "start_time": "2025-04-21T12:49:15.643Z"
   },
   {
    "duration": 18,
    "start_time": "2025-04-21T12:49:24.848Z"
   },
   {
    "duration": 9,
    "start_time": "2025-04-21T12:50:30.206Z"
   },
   {
    "duration": 19,
    "start_time": "2025-04-21T12:51:14.201Z"
   },
   {
    "duration": 9,
    "start_time": "2025-04-21T12:51:25.719Z"
   },
   {
    "duration": 293,
    "start_time": "2025-04-21T12:51:32.588Z"
   },
   {
    "duration": 368,
    "start_time": "2025-04-21T12:51:32.883Z"
   },
   {
    "duration": 37,
    "start_time": "2025-04-21T12:51:33.253Z"
   },
   {
    "duration": 39,
    "start_time": "2025-04-21T12:51:33.292Z"
   },
   {
    "duration": 535,
    "start_time": "2025-04-21T12:51:33.343Z"
   },
   {
    "duration": 0,
    "start_time": "2025-04-21T12:51:33.880Z"
   },
   {
    "duration": 0,
    "start_time": "2025-04-21T12:51:33.882Z"
   },
   {
    "duration": 0,
    "start_time": "2025-04-21T12:51:33.883Z"
   },
   {
    "duration": 0,
    "start_time": "2025-04-21T12:51:33.885Z"
   },
   {
    "duration": 0,
    "start_time": "2025-04-21T12:51:33.886Z"
   },
   {
    "duration": 147,
    "start_time": "2025-04-21T12:51:52.606Z"
   },
   {
    "duration": 10,
    "start_time": "2025-04-21T12:51:56.090Z"
   },
   {
    "duration": 7,
    "start_time": "2025-04-21T12:51:57.714Z"
   },
   {
    "duration": 11,
    "start_time": "2025-04-21T12:52:00.501Z"
   },
   {
    "duration": 19,
    "start_time": "2025-04-21T12:52:05.651Z"
   },
   {
    "duration": 8,
    "start_time": "2025-04-21T12:52:10.962Z"
   },
   {
    "duration": 12,
    "start_time": "2025-04-21T12:52:18.792Z"
   },
   {
    "duration": 4,
    "start_time": "2025-04-21T12:53:06.050Z"
   },
   {
    "duration": 11,
    "start_time": "2025-04-21T12:53:11.097Z"
   },
   {
    "duration": 18,
    "start_time": "2025-04-21T12:55:25.150Z"
   },
   {
    "duration": 23,
    "start_time": "2025-04-21T12:56:22.382Z"
   },
   {
    "duration": 25,
    "start_time": "2025-04-21T12:57:17.141Z"
   },
   {
    "duration": 18,
    "start_time": "2025-04-21T12:57:19.610Z"
   },
   {
    "duration": 52,
    "start_time": "2025-04-21T12:57:44.907Z"
   },
   {
    "duration": 55,
    "start_time": "2025-04-21T12:57:55.076Z"
   },
   {
    "duration": 13,
    "start_time": "2025-04-21T13:00:20.094Z"
   },
   {
    "duration": 94,
    "start_time": "2025-04-21T13:01:11.907Z"
   },
   {
    "duration": 108,
    "start_time": "2025-04-21T13:01:16.553Z"
   },
   {
    "duration": 8,
    "start_time": "2025-04-21T13:01:29.385Z"
   },
   {
    "duration": 7,
    "start_time": "2025-04-21T13:01:44.634Z"
   },
   {
    "duration": 8,
    "start_time": "2025-04-21T13:02:09.855Z"
   },
   {
    "duration": 39,
    "start_time": "2025-04-21T13:02:47.960Z"
   },
   {
    "duration": 1931,
    "start_time": "2025-04-21T13:03:00.626Z"
   },
   {
    "duration": 128,
    "start_time": "2025-04-21T13:03:29.865Z"
   },
   {
    "duration": 115,
    "start_time": "2025-04-21T13:17:18.624Z"
   },
   {
    "duration": 117,
    "start_time": "2025-04-21T13:17:27.980Z"
   },
   {
    "duration": 4,
    "start_time": "2025-04-21T13:17:44.647Z"
   },
   {
    "duration": 123,
    "start_time": "2025-04-21T13:17:50.235Z"
   },
   {
    "duration": 117,
    "start_time": "2025-04-21T13:17:54.316Z"
   },
   {
    "duration": 179,
    "start_time": "2025-04-21T13:17:57.157Z"
   },
   {
    "duration": 147,
    "start_time": "2025-04-21T13:18:09.874Z"
   },
   {
    "duration": 126,
    "start_time": "2025-04-21T13:18:14.682Z"
   },
   {
    "duration": 124,
    "start_time": "2025-04-21T13:18:22.355Z"
   },
   {
    "duration": 116,
    "start_time": "2025-04-21T13:18:27.255Z"
   },
   {
    "duration": 4,
    "start_time": "2025-04-21T13:19:25.161Z"
   },
   {
    "duration": 4,
    "start_time": "2025-04-21T13:20:00.356Z"
   },
   {
    "duration": 124,
    "start_time": "2025-04-21T13:20:26.520Z"
   },
   {
    "duration": 118,
    "start_time": "2025-04-21T13:20:43.501Z"
   },
   {
    "duration": 120,
    "start_time": "2025-04-21T13:21:00.985Z"
   },
   {
    "duration": 123,
    "start_time": "2025-04-21T13:21:08.984Z"
   },
   {
    "duration": 152,
    "start_time": "2025-04-21T13:22:28.602Z"
   },
   {
    "duration": 4,
    "start_time": "2025-04-21T13:22:41.604Z"
   },
   {
    "duration": 5,
    "start_time": "2025-04-21T13:23:12.870Z"
   },
   {
    "duration": 12,
    "start_time": "2025-04-21T13:24:21.777Z"
   },
   {
    "duration": 5,
    "start_time": "2025-04-21T13:24:30.530Z"
   },
   {
    "duration": 12,
    "start_time": "2025-04-21T13:25:03.637Z"
   },
   {
    "duration": 3,
    "start_time": "2025-04-21T13:25:09.304Z"
   },
   {
    "duration": 10,
    "start_time": "2025-04-21T13:25:18.302Z"
   },
   {
    "duration": 3,
    "start_time": "2025-04-21T13:25:25.836Z"
   },
   {
    "duration": 578,
    "start_time": "2025-04-21T13:28:19.765Z"
   },
   {
    "duration": 671,
    "start_time": "2025-04-21T13:29:00.034Z"
   },
   {
    "duration": 3,
    "start_time": "2025-04-21T13:29:22.571Z"
   },
   {
    "duration": 209,
    "start_time": "2025-04-21T13:30:52.477Z"
   },
   {
    "duration": 10,
    "start_time": "2025-04-21T13:31:07.068Z"
   },
   {
    "duration": 3,
    "start_time": "2025-04-21T13:31:15.284Z"
   },
   {
    "duration": 64,
    "start_time": "2025-04-21T13:32:22.530Z"
   },
   {
    "duration": 71,
    "start_time": "2025-04-21T13:32:28.716Z"
   },
   {
    "duration": 23,
    "start_time": "2025-04-21T13:32:42.074Z"
   },
   {
    "duration": 20,
    "start_time": "2025-04-21T13:33:12.332Z"
   },
   {
    "duration": 3,
    "start_time": "2025-04-21T13:35:10.216Z"
   },
   {
    "duration": 4,
    "start_time": "2025-04-21T13:35:21.313Z"
   },
   {
    "duration": 4,
    "start_time": "2025-04-21T13:35:38.124Z"
   },
   {
    "duration": 12,
    "start_time": "2025-04-21T13:36:16.461Z"
   },
   {
    "duration": 4,
    "start_time": "2025-04-21T13:36:18.885Z"
   },
   {
    "duration": 12,
    "start_time": "2025-04-21T13:37:29.164Z"
   },
   {
    "duration": 12,
    "start_time": "2025-04-21T13:37:41.259Z"
   },
   {
    "duration": 3,
    "start_time": "2025-04-21T13:37:43.297Z"
   },
   {
    "duration": 14,
    "start_time": "2025-04-21T13:45:54.743Z"
   },
   {
    "duration": 29,
    "start_time": "2025-04-21T13:46:01.300Z"
   },
   {
    "duration": 65,
    "start_time": "2025-04-21T13:46:19.676Z"
   },
   {
    "duration": 481,
    "start_time": "2025-04-21T13:46:21.401Z"
   },
   {
    "duration": 69,
    "start_time": "2025-04-21T13:46:35.008Z"
   },
   {
    "duration": 128,
    "start_time": "2025-04-21T13:47:53.530Z"
   },
   {
    "duration": 3,
    "start_time": "2025-04-21T13:48:15.471Z"
   },
   {
    "duration": 3,
    "start_time": "2025-04-21T13:48:24.060Z"
   },
   {
    "duration": 3,
    "start_time": "2025-04-21T13:48:50.644Z"
   },
   {
    "duration": 3,
    "start_time": "2025-04-21T13:49:10.689Z"
   },
   {
    "duration": 4,
    "start_time": "2025-04-21T13:49:27.097Z"
   },
   {
    "duration": 3,
    "start_time": "2025-04-21T13:51:44.716Z"
   },
   {
    "duration": 12,
    "start_time": "2025-04-21T13:52:28.751Z"
   },
   {
    "duration": 3,
    "start_time": "2025-04-21T13:52:41.569Z"
   },
   {
    "duration": 13,
    "start_time": "2025-04-21T13:58:37.878Z"
   },
   {
    "duration": 135,
    "start_time": "2025-04-21T13:58:41.356Z"
   },
   {
    "duration": 8,
    "start_time": "2025-04-21T13:58:55.827Z"
   },
   {
    "duration": 14,
    "start_time": "2025-04-21T13:59:43.376Z"
   },
   {
    "duration": 11,
    "start_time": "2025-04-21T14:00:30.302Z"
   },
   {
    "duration": 10,
    "start_time": "2025-04-21T14:00:37.132Z"
   },
   {
    "duration": 10,
    "start_time": "2025-04-21T14:01:17.861Z"
   },
   {
    "duration": 10,
    "start_time": "2025-04-21T14:02:35.336Z"
   },
   {
    "duration": 11,
    "start_time": "2025-04-21T14:02:47.309Z"
   },
   {
    "duration": 12,
    "start_time": "2025-04-21T14:04:08.658Z"
   },
   {
    "duration": 12,
    "start_time": "2025-04-21T14:04:27.407Z"
   },
   {
    "duration": 10,
    "start_time": "2025-04-21T14:04:37.000Z"
   },
   {
    "duration": 11,
    "start_time": "2025-04-21T14:05:16.242Z"
   },
   {
    "duration": 9,
    "start_time": "2025-04-21T14:05:46.981Z"
   },
   {
    "duration": 29,
    "start_time": "2025-04-21T14:09:26.070Z"
   },
   {
    "duration": 65,
    "start_time": "2025-04-21T14:11:23.783Z"
   },
   {
    "duration": 4,
    "start_time": "2025-04-21T14:12:22.279Z"
   },
   {
    "duration": 52,
    "start_time": "2025-04-21T14:12:29.707Z"
   },
   {
    "duration": 49,
    "start_time": "2025-04-21T14:12:42.677Z"
   },
   {
    "duration": 3,
    "start_time": "2025-04-21T14:13:59.729Z"
   },
   {
    "duration": 4,
    "start_time": "2025-04-21T14:14:13.704Z"
   },
   {
    "duration": 3,
    "start_time": "2025-04-21T14:14:27.213Z"
   },
   {
    "duration": 2,
    "start_time": "2025-04-21T14:14:35.545Z"
   },
   {
    "duration": 3,
    "start_time": "2025-04-21T14:14:38.278Z"
   },
   {
    "duration": 56,
    "start_time": "2025-04-21T14:39:32.891Z"
   },
   {
    "duration": 159,
    "start_time": "2025-04-21T14:39:55.738Z"
   },
   {
    "duration": 62,
    "start_time": "2025-04-21T14:40:01.246Z"
   },
   {
    "duration": 4,
    "start_time": "2025-04-21T14:40:05.769Z"
   },
   {
    "duration": 3,
    "start_time": "2025-04-21T14:40:22.253Z"
   },
   {
    "duration": 12,
    "start_time": "2025-04-21T14:48:22.503Z"
   },
   {
    "duration": 11,
    "start_time": "2025-04-21T14:48:25.488Z"
   },
   {
    "duration": 9,
    "start_time": "2025-04-21T14:48:28.310Z"
   },
   {
    "duration": 113,
    "start_time": "2025-04-21T14:49:13.588Z"
   },
   {
    "duration": 108,
    "start_time": "2025-04-21T14:49:20.400Z"
   },
   {
    "duration": 120,
    "start_time": "2025-04-21T14:50:22.747Z"
   },
   {
    "duration": 5,
    "start_time": "2025-04-21T14:54:34.404Z"
   },
   {
    "duration": 39,
    "start_time": "2025-04-21T14:54:45.287Z"
   },
   {
    "duration": 37,
    "start_time": "2025-04-21T14:54:57.686Z"
   },
   {
    "duration": 12,
    "start_time": "2025-04-21T14:55:09.354Z"
   },
   {
    "duration": 25,
    "start_time": "2025-04-21T14:55:47.852Z"
   },
   {
    "duration": 18,
    "start_time": "2025-04-21T14:57:15.237Z"
   },
   {
    "duration": 19,
    "start_time": "2025-04-21T14:57:20.209Z"
   },
   {
    "duration": 29,
    "start_time": "2025-04-21T14:58:31.417Z"
   },
   {
    "duration": 19,
    "start_time": "2025-04-21T14:58:35.276Z"
   },
   {
    "duration": 6,
    "start_time": "2025-04-21T14:59:02.009Z"
   },
   {
    "duration": 16,
    "start_time": "2025-04-21T14:59:04.898Z"
   },
   {
    "duration": 5,
    "start_time": "2025-04-21T14:59:07.523Z"
   },
   {
    "duration": 16,
    "start_time": "2025-04-21T14:59:52.902Z"
   },
   {
    "duration": 13,
    "start_time": "2025-04-21T15:00:03.277Z"
   },
   {
    "duration": 13,
    "start_time": "2025-04-21T15:00:30.358Z"
   },
   {
    "duration": 12,
    "start_time": "2025-04-21T15:00:55.973Z"
   },
   {
    "duration": 19,
    "start_time": "2025-04-21T15:01:38.418Z"
   },
   {
    "duration": 436,
    "start_time": "2025-04-21T15:01:47.504Z"
   },
   {
    "duration": 16,
    "start_time": "2025-04-21T15:01:54.861Z"
   },
   {
    "duration": 18,
    "start_time": "2025-04-21T15:02:32.560Z"
   },
   {
    "duration": 7,
    "start_time": "2025-04-21T15:02:36.040Z"
   },
   {
    "duration": 7,
    "start_time": "2025-04-21T15:02:44.013Z"
   },
   {
    "duration": 6,
    "start_time": "2025-04-21T15:02:49.618Z"
   },
   {
    "duration": 18,
    "start_time": "2025-04-21T15:03:01.247Z"
   },
   {
    "duration": 21,
    "start_time": "2025-04-21T15:03:06.864Z"
   },
   {
    "duration": 40,
    "start_time": "2025-04-21T15:03:20.747Z"
   },
   {
    "duration": 37,
    "start_time": "2025-04-21T15:03:32.244Z"
   },
   {
    "duration": 21,
    "start_time": "2025-04-21T15:03:42.568Z"
   },
   {
    "duration": 23,
    "start_time": "2025-04-21T15:04:04.632Z"
   },
   {
    "duration": 8,
    "start_time": "2025-04-21T15:04:07.861Z"
   },
   {
    "duration": 8,
    "start_time": "2025-04-21T15:04:16.016Z"
   },
   {
    "duration": 44,
    "start_time": "2025-04-21T15:04:23.130Z"
   },
   {
    "duration": 7,
    "start_time": "2025-04-21T15:04:27.357Z"
   },
   {
    "duration": 72,
    "start_time": "2025-04-21T15:05:03.614Z"
   },
   {
    "duration": 69,
    "start_time": "2025-04-21T15:05:07.791Z"
   },
   {
    "duration": 8,
    "start_time": "2025-04-21T15:05:23.947Z"
   },
   {
    "duration": 5,
    "start_time": "2025-04-21T15:05:43.380Z"
   },
   {
    "duration": 27,
    "start_time": "2025-04-21T15:07:13.692Z"
   },
   {
    "duration": 27,
    "start_time": "2025-04-21T15:07:51.438Z"
   },
   {
    "duration": 4,
    "start_time": "2025-04-21T15:09:32.669Z"
   },
   {
    "duration": 32,
    "start_time": "2025-04-21T15:09:37.910Z"
   },
   {
    "duration": 22,
    "start_time": "2025-04-21T15:09:44.514Z"
   },
   {
    "duration": 28,
    "start_time": "2025-04-21T15:09:50.875Z"
   },
   {
    "duration": 29,
    "start_time": "2025-04-21T15:10:17.980Z"
   },
   {
    "duration": 29,
    "start_time": "2025-04-21T15:13:25.900Z"
   },
   {
    "duration": 31,
    "start_time": "2025-04-21T16:21:58.091Z"
   },
   {
    "duration": 29,
    "start_time": "2025-04-21T16:23:21.743Z"
   },
   {
    "duration": 32,
    "start_time": "2025-04-21T16:27:00.351Z"
   },
   {
    "duration": 29,
    "start_time": "2025-04-21T16:27:09.413Z"
   },
   {
    "duration": 34,
    "start_time": "2025-04-21T16:35:44.736Z"
   },
   {
    "duration": 31,
    "start_time": "2025-04-21T16:36:06.178Z"
   },
   {
    "duration": 30,
    "start_time": "2025-04-21T16:37:06.335Z"
   },
   {
    "duration": 31,
    "start_time": "2025-04-21T16:37:50.075Z"
   },
   {
    "duration": 34,
    "start_time": "2025-04-21T16:38:10.926Z"
   },
   {
    "duration": 32,
    "start_time": "2025-04-21T16:39:37.139Z"
   },
   {
    "duration": 32,
    "start_time": "2025-04-21T16:39:45.212Z"
   },
   {
    "duration": 338,
    "start_time": "2025-04-21T16:41:52.799Z"
   },
   {
    "duration": 819,
    "start_time": "2025-04-21T16:41:58.775Z"
   },
   {
    "duration": 379,
    "start_time": "2025-04-21T16:41:59.596Z"
   },
   {
    "duration": 39,
    "start_time": "2025-04-21T16:41:59.977Z"
   },
   {
    "duration": 41,
    "start_time": "2025-04-21T16:42:00.019Z"
   },
   {
    "duration": 157,
    "start_time": "2025-04-21T16:42:00.062Z"
   },
   {
    "duration": 80,
    "start_time": "2025-04-21T16:42:00.221Z"
   },
   {
    "duration": 10,
    "start_time": "2025-04-21T16:42:00.302Z"
   },
   {
    "duration": 7,
    "start_time": "2025-04-21T16:42:00.313Z"
   },
   {
    "duration": 30,
    "start_time": "2025-04-21T16:42:00.322Z"
   },
   {
    "duration": 19,
    "start_time": "2025-04-21T16:42:00.356Z"
   },
   {
    "duration": 8,
    "start_time": "2025-04-21T16:42:00.377Z"
   },
   {
    "duration": 12,
    "start_time": "2025-04-21T16:42:00.386Z"
   },
   {
    "duration": 10,
    "start_time": "2025-04-21T16:42:00.399Z"
   },
   {
    "duration": 7,
    "start_time": "2025-04-21T16:42:00.443Z"
   },
   {
    "duration": 23,
    "start_time": "2025-04-21T16:42:00.453Z"
   },
   {
    "duration": 74,
    "start_time": "2025-04-21T16:42:00.478Z"
   },
   {
    "duration": 144,
    "start_time": "2025-04-21T16:42:00.554Z"
   },
   {
    "duration": 4,
    "start_time": "2025-04-21T16:42:00.700Z"
   },
   {
    "duration": 13,
    "start_time": "2025-04-21T16:42:00.706Z"
   },
   {
    "duration": 4,
    "start_time": "2025-04-21T16:42:00.720Z"
   },
   {
    "duration": 10,
    "start_time": "2025-04-21T16:42:00.742Z"
   },
   {
    "duration": 70,
    "start_time": "2025-04-21T16:42:00.754Z"
   },
   {
    "duration": 17,
    "start_time": "2025-04-21T16:42:00.826Z"
   },
   {
    "duration": 10,
    "start_time": "2025-04-21T16:42:00.844Z"
   },
   {
    "duration": 171,
    "start_time": "2025-04-21T16:42:00.855Z"
   },
   {
    "duration": 39,
    "start_time": "2025-04-21T16:42:01.028Z"
   },
   {
    "duration": 4,
    "start_time": "2025-04-21T16:43:03.167Z"
   },
   {
    "duration": 84,
    "start_time": "2025-04-21T16:43:23.702Z"
   },
   {
    "duration": 6,
    "start_time": "2025-04-21T16:43:39.954Z"
   },
   {
    "duration": 127,
    "start_time": "2025-04-21T16:44:32.700Z"
   },
   {
    "duration": 20,
    "start_time": "2025-04-21T16:44:48.032Z"
   },
   {
    "duration": 6,
    "start_time": "2025-04-21T16:45:11.075Z"
   },
   {
    "duration": 534,
    "start_time": "2025-04-21T16:45:45.587Z"
   },
   {
    "duration": 41,
    "start_time": "2025-04-21T16:45:48.016Z"
   },
   {
    "duration": 5,
    "start_time": "2025-04-21T16:45:57.108Z"
   },
   {
    "duration": 15,
    "start_time": "2025-04-21T16:46:27.872Z"
   },
   {
    "duration": 12,
    "start_time": "2025-04-21T16:46:29.718Z"
   },
   {
    "duration": 60,
    "start_time": "2025-04-21T16:47:09.683Z"
   },
   {
    "duration": 33,
    "start_time": "2025-04-21T16:47:12.698Z"
   },
   {
    "duration": 5,
    "start_time": "2025-04-21T16:47:52.336Z"
   },
   {
    "duration": 9,
    "start_time": "2025-04-21T16:47:56.764Z"
   },
   {
    "duration": 20,
    "start_time": "2025-04-21T16:48:42.433Z"
   },
   {
    "duration": 8,
    "start_time": "2025-04-21T16:50:16.057Z"
   },
   {
    "duration": 15,
    "start_time": "2025-04-21T16:50:44.231Z"
   },
   {
    "duration": 2,
    "start_time": "2025-04-21T16:51:04.644Z"
   },
   {
    "duration": 803,
    "start_time": "2025-04-21T16:51:10.123Z"
   },
   {
    "duration": 349,
    "start_time": "2025-04-21T16:51:10.928Z"
   },
   {
    "duration": 38,
    "start_time": "2025-04-21T16:51:11.279Z"
   },
   {
    "duration": 49,
    "start_time": "2025-04-21T16:51:11.319Z"
   },
   {
    "duration": 151,
    "start_time": "2025-04-21T16:51:11.370Z"
   },
   {
    "duration": 77,
    "start_time": "2025-04-21T16:51:11.523Z"
   },
   {
    "duration": 11,
    "start_time": "2025-04-21T16:51:11.602Z"
   },
   {
    "duration": 7,
    "start_time": "2025-04-21T16:51:11.615Z"
   },
   {
    "duration": 27,
    "start_time": "2025-04-21T16:51:11.624Z"
   },
   {
    "duration": 26,
    "start_time": "2025-04-21T16:51:11.655Z"
   },
   {
    "duration": 7,
    "start_time": "2025-04-21T16:51:11.683Z"
   },
   {
    "duration": 16,
    "start_time": "2025-04-21T16:51:11.692Z"
   },
   {
    "duration": 41,
    "start_time": "2025-04-21T16:51:11.710Z"
   },
   {
    "duration": 9,
    "start_time": "2025-04-21T16:51:11.755Z"
   },
   {
    "duration": 25,
    "start_time": "2025-04-21T16:51:11.765Z"
   },
   {
    "duration": 74,
    "start_time": "2025-04-21T16:51:11.792Z"
   },
   {
    "duration": 147,
    "start_time": "2025-04-21T16:51:11.868Z"
   },
   {
    "duration": 4,
    "start_time": "2025-04-21T16:51:12.017Z"
   },
   {
    "duration": 24,
    "start_time": "2025-04-21T16:51:12.022Z"
   },
   {
    "duration": 4,
    "start_time": "2025-04-21T16:51:12.048Z"
   },
   {
    "duration": 10,
    "start_time": "2025-04-21T16:51:12.054Z"
   },
   {
    "duration": 98,
    "start_time": "2025-04-21T16:51:12.066Z"
   },
   {
    "duration": 3,
    "start_time": "2025-04-21T16:51:12.166Z"
   },
   {
    "duration": 8,
    "start_time": "2025-04-21T16:51:12.171Z"
   },
   {
    "duration": 165,
    "start_time": "2025-04-21T16:51:12.180Z"
   },
   {
    "duration": 31,
    "start_time": "2025-04-21T16:51:12.348Z"
   },
   {
    "duration": 4,
    "start_time": "2025-04-21T16:51:12.381Z"
   },
   {
    "duration": 5,
    "start_time": "2025-04-21T16:51:25.365Z"
   },
   {
    "duration": 4,
    "start_time": "2025-04-21T16:51:26.804Z"
   },
   {
    "duration": 8,
    "start_time": "2025-04-21T16:52:20.326Z"
   },
   {
    "duration": 132,
    "start_time": "2025-04-21T16:52:57.216Z"
   },
   {
    "duration": 13,
    "start_time": "2025-04-21T16:52:59.964Z"
   },
   {
    "duration": 3176,
    "start_time": "2025-04-21T16:53:09.727Z"
   },
   {
    "duration": 10,
    "start_time": "2025-04-21T16:53:32.764Z"
   },
   {
    "duration": 8,
    "start_time": "2025-04-21T16:55:44.704Z"
   },
   {
    "duration": 10,
    "start_time": "2025-04-21T16:56:01.749Z"
   },
   {
    "duration": 10,
    "start_time": "2025-04-21T16:56:16.156Z"
   },
   {
    "duration": 8,
    "start_time": "2025-04-21T16:57:27.191Z"
   },
   {
    "duration": 8,
    "start_time": "2025-04-21T16:57:32.361Z"
   },
   {
    "duration": 205,
    "start_time": "2025-04-21T16:57:42.400Z"
   },
   {
    "duration": 130,
    "start_time": "2025-04-21T16:57:45.453Z"
   },
   {
    "duration": 151,
    "start_time": "2025-04-21T16:58:31.785Z"
   },
   {
    "duration": 139,
    "start_time": "2025-04-21T16:58:41.557Z"
   },
   {
    "duration": 145,
    "start_time": "2025-04-21T16:58:51.786Z"
   },
   {
    "duration": 582,
    "start_time": "2025-04-21T16:58:57.499Z"
   },
   {
    "duration": 182,
    "start_time": "2025-04-21T16:59:07.834Z"
   },
   {
    "duration": 155,
    "start_time": "2025-04-21T16:59:11.034Z"
   },
   {
    "duration": 148,
    "start_time": "2025-04-21T16:59:13.706Z"
   },
   {
    "duration": 145,
    "start_time": "2025-04-21T16:59:17.030Z"
   },
   {
    "duration": 148,
    "start_time": "2025-04-21T16:59:33.703Z"
   },
   {
    "duration": 154,
    "start_time": "2025-04-21T16:59:57.749Z"
   },
   {
    "duration": 8,
    "start_time": "2025-04-21T17:01:49.395Z"
   },
   {
    "duration": 20,
    "start_time": "2025-04-21T17:02:19.383Z"
   },
   {
    "duration": 8,
    "start_time": "2025-04-21T17:02:31.742Z"
   },
   {
    "duration": 30,
    "start_time": "2025-04-21T17:04:21.917Z"
   },
   {
    "duration": 12,
    "start_time": "2025-04-21T17:06:59.486Z"
   },
   {
    "duration": 459,
    "start_time": "2025-04-21T17:07:34.779Z"
   },
   {
    "duration": 41,
    "start_time": "2025-04-21T17:07:43.571Z"
   },
   {
    "duration": 40,
    "start_time": "2025-04-21T17:08:04.627Z"
   },
   {
    "duration": 43,
    "start_time": "2025-04-21T17:08:26.861Z"
   },
   {
    "duration": 10,
    "start_time": "2025-04-21T17:08:35.807Z"
   },
   {
    "duration": 4,
    "start_time": "2025-04-21T17:09:09.633Z"
   },
   {
    "duration": 6,
    "start_time": "2025-04-21T17:09:14.445Z"
   },
   {
    "duration": 8,
    "start_time": "2025-04-21T17:09:40.029Z"
   },
   {
    "duration": 4,
    "start_time": "2025-04-21T17:10:42.238Z"
   },
   {
    "duration": 3,
    "start_time": "2025-04-21T17:11:11.958Z"
   },
   {
    "duration": 3,
    "start_time": "2025-04-21T17:11:16.643Z"
   },
   {
    "duration": 4,
    "start_time": "2025-04-21T17:11:59.843Z"
   },
   {
    "duration": 5,
    "start_time": "2025-04-21T17:12:23.594Z"
   },
   {
    "duration": 9,
    "start_time": "2025-04-21T17:12:31.078Z"
   },
   {
    "duration": 12,
    "start_time": "2025-04-21T17:12:40.344Z"
   },
   {
    "duration": 8,
    "start_time": "2025-04-21T17:13:08.494Z"
   },
   {
    "duration": 9,
    "start_time": "2025-04-21T17:13:18.761Z"
   },
   {
    "duration": 3,
    "start_time": "2025-04-21T17:13:22.390Z"
   },
   {
    "duration": 4,
    "start_time": "2025-04-21T17:13:39.604Z"
   },
   {
    "duration": 7,
    "start_time": "2025-04-21T17:13:51.642Z"
   },
   {
    "duration": 3,
    "start_time": "2025-04-21T17:13:53.568Z"
   },
   {
    "duration": 4,
    "start_time": "2025-04-21T17:14:01.512Z"
   },
   {
    "duration": 5,
    "start_time": "2025-04-21T17:14:03.966Z"
   },
   {
    "duration": 3,
    "start_time": "2025-04-21T17:14:23.899Z"
   },
   {
    "duration": 5,
    "start_time": "2025-04-21T17:14:39.855Z"
   },
   {
    "duration": 6,
    "start_time": "2025-04-21T17:14:41.653Z"
   },
   {
    "duration": 5,
    "start_time": "2025-04-21T17:14:58.728Z"
   },
   {
    "duration": 5,
    "start_time": "2025-04-21T17:15:01.548Z"
   },
   {
    "duration": 4,
    "start_time": "2025-04-21T17:15:14.623Z"
   },
   {
    "duration": 5,
    "start_time": "2025-04-21T17:15:24.249Z"
   },
   {
    "duration": 4,
    "start_time": "2025-04-21T17:15:26.054Z"
   },
   {
    "duration": 4,
    "start_time": "2025-04-21T17:16:41.423Z"
   },
   {
    "duration": 4,
    "start_time": "2025-04-21T17:17:35.354Z"
   },
   {
    "duration": 4,
    "start_time": "2025-04-21T17:18:02.698Z"
   },
   {
    "duration": 5,
    "start_time": "2025-04-21T17:18:20.654Z"
   },
   {
    "duration": 4,
    "start_time": "2025-04-21T17:19:13.698Z"
   },
   {
    "duration": 5,
    "start_time": "2025-04-21T17:19:20.699Z"
   },
   {
    "duration": 5,
    "start_time": "2025-04-21T17:19:47.285Z"
   },
   {
    "duration": 4,
    "start_time": "2025-04-21T17:19:49.970Z"
   },
   {
    "duration": 4,
    "start_time": "2025-04-21T17:20:06.334Z"
   },
   {
    "duration": 5,
    "start_time": "2025-04-21T17:20:45.493Z"
   },
   {
    "duration": 4,
    "start_time": "2025-04-21T17:22:11.613Z"
   },
   {
    "duration": 4,
    "start_time": "2025-04-21T17:22:18.930Z"
   },
   {
    "duration": 5,
    "start_time": "2025-04-21T17:22:21.846Z"
   },
   {
    "duration": 18,
    "start_time": "2025-04-21T17:23:56.432Z"
   },
   {
    "duration": 5,
    "start_time": "2025-04-21T17:24:03.230Z"
   },
   {
    "duration": 7,
    "start_time": "2025-04-21T17:24:04.350Z"
   },
   {
    "duration": 5,
    "start_time": "2025-04-21T17:24:30.018Z"
   },
   {
    "duration": 6,
    "start_time": "2025-04-21T17:24:31.098Z"
   },
   {
    "duration": 5,
    "start_time": "2025-04-21T17:24:42.245Z"
   },
   {
    "duration": 15,
    "start_time": "2025-04-21T17:27:59.407Z"
   },
   {
    "duration": 10,
    "start_time": "2025-04-21T17:45:25.381Z"
   },
   {
    "duration": 20,
    "start_time": "2025-04-21T17:46:49.509Z"
   },
   {
    "duration": 37,
    "start_time": "2025-04-21T17:46:52.937Z"
   },
   {
    "duration": 43,
    "start_time": "2025-04-21T17:48:06.334Z"
   },
   {
    "duration": 47,
    "start_time": "2025-04-21T17:48:16.188Z"
   },
   {
    "duration": 61,
    "start_time": "2025-04-21T17:48:39.528Z"
   },
   {
    "duration": 48,
    "start_time": "2025-04-21T17:49:48.280Z"
   },
   {
    "duration": 36,
    "start_time": "2025-04-21T17:50:25.086Z"
   },
   {
    "duration": 35,
    "start_time": "2025-04-21T17:51:27.323Z"
   },
   {
    "duration": 67,
    "start_time": "2025-04-21T17:53:01.728Z"
   },
   {
    "duration": 66,
    "start_time": "2025-04-21T17:53:25.733Z"
   },
   {
    "duration": 65,
    "start_time": "2025-04-21T17:53:43.854Z"
   },
   {
    "duration": 7,
    "start_time": "2025-04-21T17:55:27.380Z"
   },
   {
    "duration": 7,
    "start_time": "2025-04-21T17:55:33.584Z"
   },
   {
    "duration": 27,
    "start_time": "2025-04-21T17:55:46.226Z"
   },
   {
    "duration": 25,
    "start_time": "2025-04-21T17:55:52.587Z"
   },
   {
    "duration": 144,
    "start_time": "2025-04-21T17:58:01.926Z"
   },
   {
    "duration": 146,
    "start_time": "2025-04-21T17:58:08.577Z"
   },
   {
    "duration": 4,
    "start_time": "2025-04-21T17:58:47.021Z"
   },
   {
    "duration": 183,
    "start_time": "2025-04-21T17:59:08.443Z"
   },
   {
    "duration": 50,
    "start_time": "2025-04-21T17:59:51.676Z"
   },
   {
    "duration": 168,
    "start_time": "2025-04-21T17:59:55.720Z"
   },
   {
    "duration": 52,
    "start_time": "2025-04-21T18:00:43.007Z"
   },
   {
    "duration": 152,
    "start_time": "2025-04-21T18:00:45.683Z"
   },
   {
    "duration": 129,
    "start_time": "2025-04-21T18:00:58.324Z"
   },
   {
    "duration": 133,
    "start_time": "2025-04-21T18:01:28.231Z"
   },
   {
    "duration": 132,
    "start_time": "2025-04-21T18:01:47.412Z"
   },
   {
    "duration": 137,
    "start_time": "2025-04-21T18:02:02.299Z"
   },
   {
    "duration": 135,
    "start_time": "2025-04-21T18:02:10.557Z"
   },
   {
    "duration": 154,
    "start_time": "2025-04-21T18:04:07.344Z"
   },
   {
    "duration": 157,
    "start_time": "2025-04-21T18:04:19.876Z"
   },
   {
    "duration": 139,
    "start_time": "2025-04-21T18:04:35.896Z"
   },
   {
    "duration": 136,
    "start_time": "2025-04-21T18:10:55.886Z"
   },
   {
    "duration": 8,
    "start_time": "2025-04-21T18:11:36.815Z"
   },
   {
    "duration": 3,
    "start_time": "2025-04-21T18:12:12.399Z"
   },
   {
    "duration": 7,
    "start_time": "2025-04-21T18:12:20.430Z"
   },
   {
    "duration": 7,
    "start_time": "2025-04-21T18:12:46.442Z"
   },
   {
    "duration": 6,
    "start_time": "2025-04-21T18:13:04.421Z"
   },
   {
    "duration": 8,
    "start_time": "2025-04-21T18:13:12.869Z"
   },
   {
    "duration": 4,
    "start_time": "2025-04-21T18:13:29.035Z"
   },
   {
    "duration": 4,
    "start_time": "2025-04-21T18:13:33.975Z"
   },
   {
    "duration": 4,
    "start_time": "2025-04-21T18:14:11.713Z"
   },
   {
    "duration": 8,
    "start_time": "2025-04-21T18:14:15.846Z"
   },
   {
    "duration": 3,
    "start_time": "2025-04-21T18:14:17.326Z"
   },
   {
    "duration": 128,
    "start_time": "2025-04-21T18:18:48.498Z"
   },
   {
    "duration": 94,
    "start_time": "2025-04-21T18:29:48.681Z"
   },
   {
    "duration": 106,
    "start_time": "2025-04-21T18:29:54.389Z"
   },
   {
    "duration": 98,
    "start_time": "2025-04-21T18:29:59.336Z"
   },
   {
    "duration": 94,
    "start_time": "2025-04-21T18:30:03.123Z"
   },
   {
    "duration": 6,
    "start_time": "2025-04-21T18:30:31.020Z"
   },
   {
    "duration": 106,
    "start_time": "2025-04-21T18:30:32.890Z"
   },
   {
    "duration": 3,
    "start_time": "2025-04-21T18:31:39.752Z"
   },
   {
    "duration": 806,
    "start_time": "2025-04-21T18:31:46.856Z"
   },
   {
    "duration": 364,
    "start_time": "2025-04-21T18:31:47.664Z"
   },
   {
    "duration": 40,
    "start_time": "2025-04-21T18:31:48.030Z"
   },
   {
    "duration": 38,
    "start_time": "2025-04-21T18:31:48.072Z"
   },
   {
    "duration": 161,
    "start_time": "2025-04-21T18:31:48.111Z"
   },
   {
    "duration": 73,
    "start_time": "2025-04-21T18:31:48.273Z"
   },
   {
    "duration": 10,
    "start_time": "2025-04-21T18:31:48.348Z"
   },
   {
    "duration": 7,
    "start_time": "2025-04-21T18:31:48.359Z"
   },
   {
    "duration": 11,
    "start_time": "2025-04-21T18:31:48.367Z"
   },
   {
    "duration": 18,
    "start_time": "2025-04-21T18:31:48.381Z"
   },
   {
    "duration": 43,
    "start_time": "2025-04-21T18:31:48.401Z"
   },
   {
    "duration": 16,
    "start_time": "2025-04-21T18:31:48.445Z"
   },
   {
    "duration": 10,
    "start_time": "2025-04-21T18:31:48.462Z"
   },
   {
    "duration": 5,
    "start_time": "2025-04-21T18:31:48.474Z"
   },
   {
    "duration": 21,
    "start_time": "2025-04-21T18:31:48.481Z"
   },
   {
    "duration": 86,
    "start_time": "2025-04-21T18:31:48.504Z"
   },
   {
    "duration": 146,
    "start_time": "2025-04-21T18:31:48.592Z"
   },
   {
    "duration": 4,
    "start_time": "2025-04-21T18:31:48.742Z"
   },
   {
    "duration": 12,
    "start_time": "2025-04-21T18:31:48.748Z"
   },
   {
    "duration": 4,
    "start_time": "2025-04-21T18:31:48.762Z"
   },
   {
    "duration": 9,
    "start_time": "2025-04-21T18:31:48.768Z"
   },
   {
    "duration": 94,
    "start_time": "2025-04-21T18:31:48.778Z"
   },
   {
    "duration": 3,
    "start_time": "2025-04-21T18:31:48.874Z"
   },
   {
    "duration": 9,
    "start_time": "2025-04-21T18:31:48.879Z"
   },
   {
    "duration": 195,
    "start_time": "2025-04-21T18:31:48.890Z"
   },
   {
    "duration": 30,
    "start_time": "2025-04-21T18:31:49.087Z"
   },
   {
    "duration": 125,
    "start_time": "2025-04-21T18:31:49.119Z"
   },
   {
    "duration": 161,
    "start_time": "2025-04-21T18:31:49.249Z"
   },
   {
    "duration": 9,
    "start_time": "2025-04-21T18:31:49.412Z"
   },
   {
    "duration": 64,
    "start_time": "2025-04-21T18:31:49.423Z"
   },
   {
    "duration": 186,
    "start_time": "2025-04-21T18:31:49.489Z"
   },
   {
    "duration": 9,
    "start_time": "2025-04-21T18:31:49.677Z"
   },
   {
    "duration": 4,
    "start_time": "2025-04-21T18:31:49.687Z"
   },
   {
    "duration": 623,
    "start_time": "2025-04-21T18:33:35.165Z"
   },
   {
    "duration": 17,
    "start_time": "2025-04-21T18:33:45.963Z"
   },
   {
    "duration": 13,
    "start_time": "2025-04-21T18:34:37.325Z"
   },
   {
    "duration": 1876,
    "start_time": "2025-04-21T18:34:46.763Z"
   },
   {
    "duration": 1789,
    "start_time": "2025-04-21T18:35:09.456Z"
   },
   {
    "duration": 792,
    "start_time": "2025-04-21T18:37:57.335Z"
   },
   {
    "duration": 571,
    "start_time": "2025-04-21T18:37:58.129Z"
   },
   {
    "duration": 43,
    "start_time": "2025-04-21T18:37:58.702Z"
   },
   {
    "duration": 37,
    "start_time": "2025-04-21T18:37:58.749Z"
   },
   {
    "duration": 155,
    "start_time": "2025-04-21T18:37:58.788Z"
   },
   {
    "duration": 98,
    "start_time": "2025-04-21T18:37:58.946Z"
   },
   {
    "duration": 10,
    "start_time": "2025-04-21T18:37:59.046Z"
   },
   {
    "duration": 5,
    "start_time": "2025-04-21T18:37:59.058Z"
   },
   {
    "duration": 9,
    "start_time": "2025-04-21T18:37:59.065Z"
   },
   {
    "duration": 17,
    "start_time": "2025-04-21T18:37:59.077Z"
   },
   {
    "duration": 48,
    "start_time": "2025-04-21T18:37:59.096Z"
   },
   {
    "duration": 15,
    "start_time": "2025-04-21T18:37:59.145Z"
   },
   {
    "duration": 9,
    "start_time": "2025-04-21T18:37:59.161Z"
   },
   {
    "duration": 4,
    "start_time": "2025-04-21T18:37:59.172Z"
   },
   {
    "duration": 22,
    "start_time": "2025-04-21T18:37:59.178Z"
   },
   {
    "duration": 95,
    "start_time": "2025-04-21T18:37:59.202Z"
   },
   {
    "duration": 163,
    "start_time": "2025-04-21T18:37:59.299Z"
   },
   {
    "duration": 3,
    "start_time": "2025-04-21T18:37:59.464Z"
   },
   {
    "duration": 14,
    "start_time": "2025-04-21T18:37:59.469Z"
   },
   {
    "duration": 3,
    "start_time": "2025-04-21T18:37:59.485Z"
   },
   {
    "duration": 10,
    "start_time": "2025-04-21T18:37:59.490Z"
   },
   {
    "duration": 106,
    "start_time": "2025-04-21T18:37:59.501Z"
   },
   {
    "duration": 3,
    "start_time": "2025-04-21T18:37:59.609Z"
   },
   {
    "duration": 8,
    "start_time": "2025-04-21T18:37:59.614Z"
   },
   {
    "duration": 172,
    "start_time": "2025-04-21T18:37:59.624Z"
   },
   {
    "duration": 30,
    "start_time": "2025-04-21T18:37:59.798Z"
   },
   {
    "duration": 120,
    "start_time": "2025-04-21T18:37:59.842Z"
   },
   {
    "duration": 166,
    "start_time": "2025-04-21T18:37:59.966Z"
   },
   {
    "duration": 21,
    "start_time": "2025-04-21T18:38:00.133Z"
   },
   {
    "duration": 54,
    "start_time": "2025-04-21T18:38:00.156Z"
   },
   {
    "duration": 202,
    "start_time": "2025-04-21T18:38:00.212Z"
   },
   {
    "duration": 8,
    "start_time": "2025-04-21T18:38:00.416Z"
   },
   {
    "duration": 19,
    "start_time": "2025-04-21T18:38:00.426Z"
   },
   {
    "duration": 20,
    "start_time": "2025-04-21T18:38:00.449Z"
   },
   {
    "duration": 1808,
    "start_time": "2025-04-21T18:38:00.471Z"
   },
   {
    "duration": 1709,
    "start_time": "2025-04-21T18:38:07.529Z"
   },
   {
    "duration": 11,
    "start_time": "2025-04-21T18:38:42.879Z"
   },
   {
    "duration": 6,
    "start_time": "2025-04-21T18:38:56.524Z"
   },
   {
    "duration": 142,
    "start_time": "2025-04-21T18:39:12.260Z"
   },
   {
    "duration": 126,
    "start_time": "2025-04-21T18:39:18.485Z"
   },
   {
    "duration": 160,
    "start_time": "2025-04-21T19:55:39.664Z"
   },
   {
    "duration": 2623,
    "start_time": "2025-04-21T19:55:45.393Z"
   },
   {
    "duration": 452,
    "start_time": "2025-04-21T19:55:48.019Z"
   },
   {
    "duration": 53,
    "start_time": "2025-04-21T19:55:48.473Z"
   },
   {
    "duration": 38,
    "start_time": "2025-04-21T19:55:48.528Z"
   },
   {
    "duration": 147,
    "start_time": "2025-04-21T19:55:48.570Z"
   },
   {
    "duration": 76,
    "start_time": "2025-04-21T19:55:48.718Z"
   },
   {
    "duration": 12,
    "start_time": "2025-04-21T19:55:48.796Z"
   },
   {
    "duration": 9,
    "start_time": "2025-04-21T19:55:48.809Z"
   },
   {
    "duration": 9,
    "start_time": "2025-04-21T19:55:48.820Z"
   },
   {
    "duration": 44,
    "start_time": "2025-04-21T19:55:48.832Z"
   },
   {
    "duration": 9,
    "start_time": "2025-04-21T19:55:48.877Z"
   },
   {
    "duration": 15,
    "start_time": "2025-04-21T19:55:48.888Z"
   },
   {
    "duration": 9,
    "start_time": "2025-04-21T19:55:48.905Z"
   },
   {
    "duration": 6,
    "start_time": "2025-04-21T19:55:48.916Z"
   },
   {
    "duration": 51,
    "start_time": "2025-04-21T19:55:48.923Z"
   },
   {
    "duration": 67,
    "start_time": "2025-04-21T19:55:48.976Z"
   },
   {
    "duration": 177,
    "start_time": "2025-04-21T19:55:49.044Z"
   },
   {
    "duration": 4,
    "start_time": "2025-04-21T19:55:49.223Z"
   },
   {
    "duration": 13,
    "start_time": "2025-04-21T19:55:49.228Z"
   },
   {
    "duration": 3,
    "start_time": "2025-04-21T19:55:49.243Z"
   },
   {
    "duration": 30,
    "start_time": "2025-04-21T19:55:49.247Z"
   },
   {
    "duration": 71,
    "start_time": "2025-04-21T19:55:49.279Z"
   },
   {
    "duration": 3,
    "start_time": "2025-04-21T19:55:49.352Z"
   },
   {
    "duration": 9,
    "start_time": "2025-04-21T19:55:49.370Z"
   },
   {
    "duration": 172,
    "start_time": "2025-04-21T19:55:49.381Z"
   },
   {
    "duration": 41,
    "start_time": "2025-04-21T19:55:49.555Z"
   },
   {
    "duration": 112,
    "start_time": "2025-04-21T19:55:49.598Z"
   },
   {
    "duration": 172,
    "start_time": "2025-04-21T19:55:49.715Z"
   },
   {
    "duration": 13,
    "start_time": "2025-04-21T19:55:49.889Z"
   },
   {
    "duration": 54,
    "start_time": "2025-04-21T19:55:49.905Z"
   },
   {
    "duration": 153,
    "start_time": "2025-04-21T19:55:49.970Z"
   },
   {
    "duration": 8,
    "start_time": "2025-04-21T19:55:50.125Z"
   },
   {
    "duration": 3,
    "start_time": "2025-04-21T19:55:50.135Z"
   },
   {
    "duration": 35,
    "start_time": "2025-04-21T19:55:50.139Z"
   },
   {
    "duration": 1783,
    "start_time": "2025-04-21T19:55:50.176Z"
   },
   {
    "duration": 11,
    "start_time": "2025-04-21T19:55:51.961Z"
   },
   {
    "duration": 138,
    "start_time": "2025-04-21T19:55:51.974Z"
   },
   {
    "duration": 22,
    "start_time": "2025-04-21T19:56:44.368Z"
   },
   {
    "duration": 5,
    "start_time": "2025-04-21T19:56:57.535Z"
   },
   {
    "duration": 574,
    "start_time": "2025-04-21T19:57:08.723Z"
   },
   {
    "duration": 98,
    "start_time": "2025-04-21T19:57:23.904Z"
   },
   {
    "duration": 11,
    "start_time": "2025-04-21T19:57:40.656Z"
   },
   {
    "duration": 4,
    "start_time": "2025-04-21T19:58:25.341Z"
   },
   {
    "duration": 19,
    "start_time": "2025-04-21T19:59:17.335Z"
   },
   {
    "duration": 25,
    "start_time": "2025-04-21T19:59:30.472Z"
   },
   {
    "duration": 68,
    "start_time": "2025-04-21T20:00:08.611Z"
   },
   {
    "duration": 39,
    "start_time": "2025-04-21T20:00:15.549Z"
   },
   {
    "duration": 28,
    "start_time": "2025-04-21T20:00:27.585Z"
   },
   {
    "duration": 72,
    "start_time": "2025-04-21T20:01:30.765Z"
   },
   {
    "duration": 48,
    "start_time": "2025-04-21T20:01:58.449Z"
   },
   {
    "duration": 55,
    "start_time": "2025-04-21T20:02:04.431Z"
   },
   {
    "duration": 52,
    "start_time": "2025-04-21T20:02:12.657Z"
   },
   {
    "duration": 23,
    "start_time": "2025-04-21T20:03:49.326Z"
   },
   {
    "duration": 23,
    "start_time": "2025-04-21T20:04:30.724Z"
   },
   {
    "duration": 26,
    "start_time": "2025-04-21T20:04:37.722Z"
   },
   {
    "duration": 23,
    "start_time": "2025-04-21T20:06:06.867Z"
   },
   {
    "duration": 19,
    "start_time": "2025-04-21T20:06:15.385Z"
   },
   {
    "duration": 12,
    "start_time": "2025-04-21T20:06:18.844Z"
   },
   {
    "duration": 3,
    "start_time": "2025-04-21T20:08:30.447Z"
   },
   {
    "duration": 24,
    "start_time": "2025-04-21T20:08:45.284Z"
   },
   {
    "duration": 24,
    "start_time": "2025-04-21T20:09:10.443Z"
   },
   {
    "duration": 3,
    "start_time": "2025-04-21T20:09:33.628Z"
   },
   {
    "duration": 10,
    "start_time": "2025-04-21T20:09:36.261Z"
   },
   {
    "duration": 291,
    "start_time": "2025-04-21T20:09:54.287Z"
   },
   {
    "duration": 15,
    "start_time": "2025-04-21T20:10:12.508Z"
   },
   {
    "duration": 217,
    "start_time": "2025-04-21T20:10:20.881Z"
   },
   {
    "duration": 947,
    "start_time": "2025-04-21T20:10:27.290Z"
   },
   {
    "duration": 536,
    "start_time": "2025-04-21T20:10:28.240Z"
   },
   {
    "duration": 58,
    "start_time": "2025-04-21T20:10:28.778Z"
   },
   {
    "duration": 42,
    "start_time": "2025-04-21T20:10:28.838Z"
   },
   {
    "duration": 194,
    "start_time": "2025-04-21T20:10:28.883Z"
   },
   {
    "duration": 81,
    "start_time": "2025-04-21T20:10:29.078Z"
   },
   {
    "duration": 11,
    "start_time": "2025-04-21T20:10:29.161Z"
   },
   {
    "duration": 6,
    "start_time": "2025-04-21T20:10:29.174Z"
   },
   {
    "duration": 11,
    "start_time": "2025-04-21T20:10:29.182Z"
   },
   {
    "duration": 27,
    "start_time": "2025-04-21T20:10:29.195Z"
   },
   {
    "duration": 8,
    "start_time": "2025-04-21T20:10:29.224Z"
   },
   {
    "duration": 36,
    "start_time": "2025-04-21T20:10:29.235Z"
   },
   {
    "duration": 11,
    "start_time": "2025-04-21T20:10:29.273Z"
   },
   {
    "duration": 19,
    "start_time": "2025-04-21T20:10:29.290Z"
   },
   {
    "duration": 32,
    "start_time": "2025-04-21T20:10:29.312Z"
   },
   {
    "duration": 78,
    "start_time": "2025-04-21T20:10:29.348Z"
   },
   {
    "duration": 181,
    "start_time": "2025-04-21T20:10:29.428Z"
   },
   {
    "duration": 4,
    "start_time": "2025-04-21T20:10:29.611Z"
   },
   {
    "duration": 13,
    "start_time": "2025-04-21T20:10:29.617Z"
   },
   {
    "duration": 3,
    "start_time": "2025-04-21T20:10:29.633Z"
   },
   {
    "duration": 10,
    "start_time": "2025-04-21T20:10:29.638Z"
   },
   {
    "duration": 131,
    "start_time": "2025-04-21T20:10:29.650Z"
   },
   {
    "duration": 10,
    "start_time": "2025-04-21T20:10:29.789Z"
   },
   {
    "duration": 14,
    "start_time": "2025-04-21T20:10:29.807Z"
   },
   {
    "duration": 210,
    "start_time": "2025-04-21T20:10:29.823Z"
   },
   {
    "duration": 32,
    "start_time": "2025-04-21T20:10:30.035Z"
   },
   {
    "duration": 130,
    "start_time": "2025-04-21T20:10:30.068Z"
   },
   {
    "duration": 187,
    "start_time": "2025-04-21T20:10:30.200Z"
   },
   {
    "duration": 14,
    "start_time": "2025-04-21T20:10:30.389Z"
   },
   {
    "duration": 59,
    "start_time": "2025-04-21T20:10:30.404Z"
   },
   {
    "duration": 247,
    "start_time": "2025-04-21T20:10:30.470Z"
   },
   {
    "duration": 8,
    "start_time": "2025-04-21T20:10:30.719Z"
   },
   {
    "duration": 3,
    "start_time": "2025-04-21T20:10:30.729Z"
   },
   {
    "duration": 19,
    "start_time": "2025-04-21T20:10:30.733Z"
   },
   {
    "duration": 2307,
    "start_time": "2025-04-21T20:10:30.754Z"
   },
   {
    "duration": 10,
    "start_time": "2025-04-21T20:10:33.063Z"
   },
   {
    "duration": 173,
    "start_time": "2025-04-21T20:10:33.075Z"
   },
   {
    "duration": 81,
    "start_time": "2025-04-21T20:10:33.250Z"
   },
   {
    "duration": 35,
    "start_time": "2025-04-21T20:10:33.333Z"
   },
   {
    "duration": 196,
    "start_time": "2025-04-21T20:10:33.375Z"
   },
   {
    "duration": 22,
    "start_time": "2025-04-21T20:10:46.156Z"
   },
   {
    "duration": 15,
    "start_time": "2025-04-21T20:10:51.375Z"
   },
   {
    "duration": 13,
    "start_time": "2025-04-21T20:11:03.969Z"
   },
   {
    "duration": 9,
    "start_time": "2025-04-21T20:11:18.773Z"
   },
   {
    "duration": 12,
    "start_time": "2025-04-21T20:18:50.971Z"
   },
   {
    "duration": 953,
    "start_time": "2025-04-21T20:19:39.197Z"
   },
   {
    "duration": 13,
    "start_time": "2025-04-21T20:19:54.294Z"
   },
   {
    "duration": 5,
    "start_time": "2025-04-21T20:20:13.998Z"
   },
   {
    "duration": 8,
    "start_time": "2025-04-21T20:20:18.822Z"
   },
   {
    "duration": 7,
    "start_time": "2025-04-21T20:20:28.345Z"
   },
   {
    "duration": 10,
    "start_time": "2025-04-21T20:20:37.453Z"
   },
   {
    "duration": 8,
    "start_time": "2025-04-21T20:20:39.912Z"
   },
   {
    "duration": 13,
    "start_time": "2025-04-21T20:21:32.505Z"
   },
   {
    "duration": 3,
    "start_time": "2025-04-21T20:21:39.679Z"
   },
   {
    "duration": 3,
    "start_time": "2025-04-21T20:21:49.879Z"
   },
   {
    "duration": 4,
    "start_time": "2025-04-21T20:22:06.161Z"
   },
   {
    "duration": 3,
    "start_time": "2025-04-21T20:22:15.323Z"
   },
   {
    "duration": 3,
    "start_time": "2025-04-21T20:22:28.019Z"
   },
   {
    "duration": 3,
    "start_time": "2025-04-21T20:22:55.220Z"
   },
   {
    "duration": 14,
    "start_time": "2025-04-21T20:24:20.249Z"
   },
   {
    "duration": 10,
    "start_time": "2025-04-21T20:24:32.217Z"
   },
   {
    "duration": 135,
    "start_time": "2025-04-21T20:24:49.257Z"
   },
   {
    "duration": 1216,
    "start_time": "2025-04-21T20:24:52.102Z"
   },
   {
    "duration": 13,
    "start_time": "2025-04-21T20:25:11.245Z"
   },
   {
    "duration": 16,
    "start_time": "2025-04-21T20:27:02.090Z"
   },
   {
    "duration": 12,
    "start_time": "2025-04-21T20:27:26.450Z"
   },
   {
    "duration": 254,
    "start_time": "2025-04-21T20:27:30.970Z"
   },
   {
    "duration": 255,
    "start_time": "2025-04-21T20:28:25.605Z"
   },
   {
    "duration": 292,
    "start_time": "2025-04-21T20:28:43.684Z"
   },
   {
    "duration": 259,
    "start_time": "2025-04-21T20:29:20.121Z"
   },
   {
    "duration": 255,
    "start_time": "2025-04-21T20:29:27.400Z"
   },
   {
    "duration": 391,
    "start_time": "2025-04-21T20:30:46.048Z"
   },
   {
    "duration": 259,
    "start_time": "2025-04-21T20:30:55.117Z"
   },
   {
    "duration": 15,
    "start_time": "2025-04-21T20:31:07.628Z"
   },
   {
    "duration": 248,
    "start_time": "2025-04-21T20:32:50.551Z"
   },
   {
    "duration": 17,
    "start_time": "2025-04-21T20:43:14.680Z"
   },
   {
    "duration": 245,
    "start_time": "2025-04-21T20:43:20.645Z"
   },
   {
    "duration": 280,
    "start_time": "2025-04-21T20:43:52.571Z"
   },
   {
    "duration": 290,
    "start_time": "2025-04-21T20:43:57.131Z"
   },
   {
    "duration": 703,
    "start_time": "2025-04-21T20:44:14.982Z"
   },
   {
    "duration": 293,
    "start_time": "2025-04-21T20:44:35.879Z"
   },
   {
    "duration": 248,
    "start_time": "2025-04-21T20:44:48.646Z"
   },
   {
    "duration": 4,
    "start_time": "2025-04-21T20:46:05.478Z"
   },
   {
    "duration": 7,
    "start_time": "2025-04-21T20:46:09.727Z"
   },
   {
    "duration": 7,
    "start_time": "2025-04-21T20:46:36.140Z"
   },
   {
    "duration": 5,
    "start_time": "2025-04-21T20:46:52.050Z"
   },
   {
    "duration": 6,
    "start_time": "2025-04-21T20:47:12.230Z"
   },
   {
    "duration": 5,
    "start_time": "2025-04-21T20:47:22.675Z"
   },
   {
    "duration": 892,
    "start_time": "2025-04-21T20:47:37.429Z"
   },
   {
    "duration": 390,
    "start_time": "2025-04-21T20:47:38.323Z"
   },
   {
    "duration": 39,
    "start_time": "2025-04-21T20:47:38.715Z"
   },
   {
    "duration": 43,
    "start_time": "2025-04-21T20:47:38.757Z"
   },
   {
    "duration": 182,
    "start_time": "2025-04-21T20:47:38.802Z"
   },
   {
    "duration": 64,
    "start_time": "2025-04-21T20:47:38.986Z"
   },
   {
    "duration": 21,
    "start_time": "2025-04-21T20:47:39.053Z"
   },
   {
    "duration": 7,
    "start_time": "2025-04-21T20:47:39.076Z"
   },
   {
    "duration": 10,
    "start_time": "2025-04-21T20:47:39.085Z"
   },
   {
    "duration": 23,
    "start_time": "2025-04-21T20:47:39.100Z"
   },
   {
    "duration": 10,
    "start_time": "2025-04-21T20:47:39.124Z"
   },
   {
    "duration": 42,
    "start_time": "2025-04-21T20:47:39.136Z"
   },
   {
    "duration": 12,
    "start_time": "2025-04-21T20:47:39.180Z"
   },
   {
    "duration": 5,
    "start_time": "2025-04-21T20:47:39.194Z"
   },
   {
    "duration": 23,
    "start_time": "2025-04-21T20:47:39.201Z"
   },
   {
    "duration": 83,
    "start_time": "2025-04-21T20:47:39.225Z"
   },
   {
    "duration": 141,
    "start_time": "2025-04-21T20:47:39.310Z"
   },
   {
    "duration": 4,
    "start_time": "2025-04-21T20:47:39.453Z"
   },
   {
    "duration": 20,
    "start_time": "2025-04-21T20:47:39.460Z"
   },
   {
    "duration": 3,
    "start_time": "2025-04-21T20:47:39.482Z"
   },
   {
    "duration": 11,
    "start_time": "2025-04-21T20:47:39.486Z"
   },
   {
    "duration": 90,
    "start_time": "2025-04-21T20:47:39.498Z"
   },
   {
    "duration": 4,
    "start_time": "2025-04-21T20:47:39.590Z"
   },
   {
    "duration": 8,
    "start_time": "2025-04-21T20:47:39.596Z"
   },
   {
    "duration": 179,
    "start_time": "2025-04-21T20:47:39.606Z"
   },
   {
    "duration": 32,
    "start_time": "2025-04-21T20:47:39.787Z"
   },
   {
    "duration": 116,
    "start_time": "2025-04-21T20:47:39.820Z"
   },
   {
    "duration": 165,
    "start_time": "2025-04-21T20:47:39.940Z"
   },
   {
    "duration": 12,
    "start_time": "2025-04-21T20:47:40.107Z"
   },
   {
    "duration": 69,
    "start_time": "2025-04-21T20:47:40.120Z"
   },
   {
    "duration": 199,
    "start_time": "2025-04-21T20:47:40.191Z"
   },
   {
    "duration": 11,
    "start_time": "2025-04-21T20:47:40.391Z"
   },
   {
    "duration": 3,
    "start_time": "2025-04-21T20:47:40.405Z"
   },
   {
    "duration": 20,
    "start_time": "2025-04-21T20:47:40.409Z"
   },
   {
    "duration": 1904,
    "start_time": "2025-04-21T20:47:40.431Z"
   },
   {
    "duration": 7,
    "start_time": "2025-04-21T20:47:42.337Z"
   },
   {
    "duration": 135,
    "start_time": "2025-04-21T20:47:42.346Z"
   },
   {
    "duration": 55,
    "start_time": "2025-04-21T20:47:42.483Z"
   },
   {
    "duration": 51,
    "start_time": "2025-04-21T20:47:42.540Z"
   },
   {
    "duration": 14,
    "start_time": "2025-04-21T20:47:42.593Z"
   },
   {
    "duration": 8,
    "start_time": "2025-04-21T20:47:42.608Z"
   },
   {
    "duration": 7,
    "start_time": "2025-04-21T20:47:42.617Z"
   },
   {
    "duration": 5,
    "start_time": "2025-04-21T20:47:42.627Z"
   },
   {
    "duration": 39,
    "start_time": "2025-04-21T20:47:42.633Z"
   },
   {
    "duration": 228,
    "start_time": "2025-04-21T20:47:42.674Z"
   },
   {
    "duration": 0,
    "start_time": "2025-04-21T20:47:42.903Z"
   },
   {
    "duration": 15,
    "start_time": "2025-04-21T20:49:33.522Z"
   },
   {
    "duration": 268,
    "start_time": "2025-04-21T20:49:42.470Z"
   },
   {
    "duration": 19,
    "start_time": "2025-04-21T20:49:45.621Z"
   },
   {
    "duration": 411,
    "start_time": "2025-04-21T20:49:54.298Z"
   },
   {
    "duration": 5,
    "start_time": "2025-04-21T20:50:03.632Z"
   },
   {
    "duration": 49,
    "start_time": "2025-04-21T20:54:38.895Z"
   },
   {
    "duration": 29,
    "start_time": "2025-04-21T20:54:57.681Z"
   },
   {
    "duration": 150,
    "start_time": "2025-04-21T20:55:09.333Z"
   },
   {
    "duration": 834,
    "start_time": "2025-04-21T20:55:34.326Z"
   },
   {
    "duration": 356,
    "start_time": "2025-04-21T20:55:35.162Z"
   },
   {
    "duration": 38,
    "start_time": "2025-04-21T20:55:35.520Z"
   },
   {
    "duration": 46,
    "start_time": "2025-04-21T20:55:35.559Z"
   },
   {
    "duration": 150,
    "start_time": "2025-04-21T20:55:35.608Z"
   },
   {
    "duration": 72,
    "start_time": "2025-04-21T20:55:35.760Z"
   },
   {
    "duration": 9,
    "start_time": "2025-04-21T20:55:35.834Z"
   },
   {
    "duration": 6,
    "start_time": "2025-04-21T20:55:35.845Z"
   },
   {
    "duration": 27,
    "start_time": "2025-04-21T20:55:35.852Z"
   },
   {
    "duration": 18,
    "start_time": "2025-04-21T20:55:35.880Z"
   },
   {
    "duration": 8,
    "start_time": "2025-04-21T20:55:35.900Z"
   },
   {
    "duration": 12,
    "start_time": "2025-04-21T20:55:35.910Z"
   },
   {
    "duration": 8,
    "start_time": "2025-04-21T20:55:35.924Z"
   },
   {
    "duration": 39,
    "start_time": "2025-04-21T20:55:35.936Z"
   },
   {
    "duration": 22,
    "start_time": "2025-04-21T20:55:35.977Z"
   },
   {
    "duration": 70,
    "start_time": "2025-04-21T20:55:36.001Z"
   },
   {
    "duration": 140,
    "start_time": "2025-04-21T20:55:36.073Z"
   },
   {
    "duration": 4,
    "start_time": "2025-04-21T20:55:36.214Z"
   },
   {
    "duration": 13,
    "start_time": "2025-04-21T20:55:36.220Z"
   },
   {
    "duration": 3,
    "start_time": "2025-04-21T20:55:36.234Z"
   },
   {
    "duration": 10,
    "start_time": "2025-04-21T20:55:36.239Z"
   },
   {
    "duration": 78,
    "start_time": "2025-04-21T20:55:36.271Z"
   },
   {
    "duration": 2,
    "start_time": "2025-04-21T20:55:36.352Z"
   },
   {
    "duration": 23,
    "start_time": "2025-04-21T20:55:36.356Z"
   },
   {
    "duration": 159,
    "start_time": "2025-04-21T20:55:36.381Z"
   },
   {
    "duration": 39,
    "start_time": "2025-04-21T20:55:36.542Z"
   },
   {
    "duration": 114,
    "start_time": "2025-04-21T20:55:36.583Z"
   },
   {
    "duration": 173,
    "start_time": "2025-04-21T20:55:36.699Z"
   },
   {
    "duration": 9,
    "start_time": "2025-04-21T20:55:36.874Z"
   },
   {
    "duration": 56,
    "start_time": "2025-04-21T20:55:36.884Z"
   },
   {
    "duration": 193,
    "start_time": "2025-04-21T20:55:36.942Z"
   },
   {
    "duration": 8,
    "start_time": "2025-04-21T20:55:37.137Z"
   },
   {
    "duration": 3,
    "start_time": "2025-04-21T20:55:37.146Z"
   },
   {
    "duration": 39,
    "start_time": "2025-04-21T20:55:37.151Z"
   },
   {
    "duration": 1733,
    "start_time": "2025-04-21T20:55:37.193Z"
   },
   {
    "duration": 7,
    "start_time": "2025-04-21T20:55:38.928Z"
   },
   {
    "duration": 138,
    "start_time": "2025-04-21T20:55:38.937Z"
   },
   {
    "duration": 356,
    "start_time": "2025-04-21T20:55:39.077Z"
   },
   {
    "duration": 0,
    "start_time": "2025-04-21T20:55:39.436Z"
   },
   {
    "duration": 0,
    "start_time": "2025-04-21T20:55:39.437Z"
   },
   {
    "duration": 0,
    "start_time": "2025-04-21T20:55:39.439Z"
   },
   {
    "duration": 0,
    "start_time": "2025-04-21T20:55:39.440Z"
   },
   {
    "duration": 0,
    "start_time": "2025-04-21T20:55:39.442Z"
   },
   {
    "duration": 1,
    "start_time": "2025-04-21T20:55:39.442Z"
   },
   {
    "duration": 0,
    "start_time": "2025-04-21T20:55:39.444Z"
   },
   {
    "duration": 0,
    "start_time": "2025-04-21T20:55:39.470Z"
   },
   {
    "duration": 53,
    "start_time": "2025-04-21T20:55:53.160Z"
   },
   {
    "duration": 30,
    "start_time": "2025-04-21T20:55:55.579Z"
   },
   {
    "duration": 11,
    "start_time": "2025-04-21T20:55:57.486Z"
   },
   {
    "duration": 8,
    "start_time": "2025-04-21T20:55:59.397Z"
   },
   {
    "duration": 6,
    "start_time": "2025-04-21T20:56:01.927Z"
   },
   {
    "duration": 5,
    "start_time": "2025-04-21T20:56:04.087Z"
   },
   {
    "duration": 365,
    "start_time": "2025-04-21T20:56:06.184Z"
   },
   {
    "duration": 17,
    "start_time": "2025-04-21T20:56:10.476Z"
   },
   {
    "duration": 248,
    "start_time": "2025-04-21T20:56:41.052Z"
   },
   {
    "duration": 3,
    "start_time": "2025-04-21T20:56:43.738Z"
   },
   {
    "duration": 27,
    "start_time": "2025-04-21T20:57:23.783Z"
   },
   {
    "duration": 48,
    "start_time": "2025-04-21T20:57:38.255Z"
   },
   {
    "duration": 17,
    "start_time": "2025-04-21T21:00:21.940Z"
   },
   {
    "duration": 13,
    "start_time": "2025-04-21T21:00:32.865Z"
   },
   {
    "duration": 8,
    "start_time": "2025-04-21T21:00:40.512Z"
   },
   {
    "duration": 349,
    "start_time": "2025-04-21T21:01:47.844Z"
   },
   {
    "duration": 383,
    "start_time": "2025-04-21T21:01:53.539Z"
   },
   {
    "duration": 383,
    "start_time": "2025-04-21T21:02:02.494Z"
   },
   {
    "duration": 785,
    "start_time": "2025-04-21T21:04:01.439Z"
   },
   {
    "duration": 268,
    "start_time": "2025-04-21T21:04:48.002Z"
   },
   {
    "duration": 255,
    "start_time": "2025-04-21T21:04:53.851Z"
   },
   {
    "duration": 887,
    "start_time": "2025-04-21T21:06:16.890Z"
   },
   {
    "duration": 362,
    "start_time": "2025-04-21T21:06:17.779Z"
   },
   {
    "duration": 44,
    "start_time": "2025-04-21T21:06:18.143Z"
   },
   {
    "duration": 43,
    "start_time": "2025-04-21T21:06:18.199Z"
   },
   {
    "duration": 175,
    "start_time": "2025-04-21T21:06:18.244Z"
   },
   {
    "duration": 76,
    "start_time": "2025-04-21T21:06:18.421Z"
   },
   {
    "duration": 12,
    "start_time": "2025-04-21T21:06:18.500Z"
   },
   {
    "duration": 7,
    "start_time": "2025-04-21T21:06:18.514Z"
   },
   {
    "duration": 10,
    "start_time": "2025-04-21T21:06:18.522Z"
   },
   {
    "duration": 40,
    "start_time": "2025-04-21T21:06:18.533Z"
   },
   {
    "duration": 10,
    "start_time": "2025-04-21T21:06:18.576Z"
   },
   {
    "duration": 13,
    "start_time": "2025-04-21T21:06:18.587Z"
   },
   {
    "duration": 9,
    "start_time": "2025-04-21T21:06:18.602Z"
   },
   {
    "duration": 5,
    "start_time": "2025-04-21T21:06:18.615Z"
   },
   {
    "duration": 22,
    "start_time": "2025-04-21T21:06:18.621Z"
   },
   {
    "duration": 65,
    "start_time": "2025-04-21T21:06:18.671Z"
   },
   {
    "duration": 172,
    "start_time": "2025-04-21T21:06:18.738Z"
   },
   {
    "duration": 5,
    "start_time": "2025-04-21T21:06:18.911Z"
   },
   {
    "duration": 13,
    "start_time": "2025-04-21T21:06:18.917Z"
   },
   {
    "duration": 3,
    "start_time": "2025-04-21T21:06:18.932Z"
   },
   {
    "duration": 10,
    "start_time": "2025-04-21T21:06:18.937Z"
   },
   {
    "duration": 99,
    "start_time": "2025-04-21T21:06:18.948Z"
   },
   {
    "duration": 3,
    "start_time": "2025-04-21T21:06:19.050Z"
   },
   {
    "duration": 23,
    "start_time": "2025-04-21T21:06:19.054Z"
   },
   {
    "duration": 167,
    "start_time": "2025-04-21T21:06:19.079Z"
   },
   {
    "duration": 42,
    "start_time": "2025-04-21T21:06:19.249Z"
   },
   {
    "duration": 128,
    "start_time": "2025-04-21T21:06:19.293Z"
   },
   {
    "duration": 175,
    "start_time": "2025-04-21T21:06:19.423Z"
   },
   {
    "duration": 11,
    "start_time": "2025-04-21T21:06:19.600Z"
   },
   {
    "duration": 67,
    "start_time": "2025-04-21T21:06:19.613Z"
   },
   {
    "duration": 206,
    "start_time": "2025-04-21T21:06:19.682Z"
   },
   {
    "duration": 13,
    "start_time": "2025-04-21T21:06:19.890Z"
   },
   {
    "duration": 6,
    "start_time": "2025-04-21T21:06:19.904Z"
   },
   {
    "duration": 21,
    "start_time": "2025-04-21T21:06:19.912Z"
   },
   {
    "duration": 2129,
    "start_time": "2025-04-21T21:06:19.934Z"
   },
   {
    "duration": 15,
    "start_time": "2025-04-21T21:06:22.065Z"
   },
   {
    "duration": 132,
    "start_time": "2025-04-21T21:06:22.085Z"
   },
   {
    "duration": 57,
    "start_time": "2025-04-21T21:06:22.219Z"
   },
   {
    "duration": 31,
    "start_time": "2025-04-21T21:06:22.278Z"
   },
   {
    "duration": 568,
    "start_time": "2025-04-21T21:06:22.310Z"
   },
   {
    "duration": 279,
    "start_time": "2025-04-21T21:06:22.883Z"
   },
   {
    "duration": 594,
    "start_time": "2025-04-21T21:06:23.164Z"
   },
   {
    "duration": 0,
    "start_time": "2025-04-21T21:06:23.760Z"
   },
   {
    "duration": 0,
    "start_time": "2025-04-21T21:06:23.761Z"
   },
   {
    "duration": 0,
    "start_time": "2025-04-21T21:06:23.762Z"
   },
   {
    "duration": 0,
    "start_time": "2025-04-21T21:06:23.770Z"
   },
   {
    "duration": 7,
    "start_time": "2025-04-21T21:06:28.728Z"
   },
   {
    "duration": 23,
    "start_time": "2025-04-21T21:06:35.961Z"
   },
   {
    "duration": 6,
    "start_time": "2025-04-21T21:06:37.166Z"
   },
   {
    "duration": 290,
    "start_time": "2025-04-21T21:06:39.047Z"
   },
   {
    "duration": 3,
    "start_time": "2025-04-21T21:06:41.040Z"
   },
   {
    "duration": 37,
    "start_time": "2025-04-21T21:08:13.741Z"
   },
   {
    "duration": 875,
    "start_time": "2025-04-21T21:08:26.695Z"
   },
   {
    "duration": 500,
    "start_time": "2025-04-21T21:08:27.574Z"
   },
   {
    "duration": 52,
    "start_time": "2025-04-21T21:08:28.080Z"
   },
   {
    "duration": 37,
    "start_time": "2025-04-21T21:08:28.134Z"
   },
   {
    "duration": 193,
    "start_time": "2025-04-21T21:08:28.173Z"
   },
   {
    "duration": 80,
    "start_time": "2025-04-21T21:08:28.371Z"
   },
   {
    "duration": 17,
    "start_time": "2025-04-21T21:08:28.453Z"
   },
   {
    "duration": 7,
    "start_time": "2025-04-21T21:08:28.472Z"
   },
   {
    "duration": 13,
    "start_time": "2025-04-21T21:08:28.481Z"
   },
   {
    "duration": 24,
    "start_time": "2025-04-21T21:08:28.496Z"
   },
   {
    "duration": 8,
    "start_time": "2025-04-21T21:08:28.522Z"
   },
   {
    "duration": 40,
    "start_time": "2025-04-21T21:08:28.531Z"
   },
   {
    "duration": 10,
    "start_time": "2025-04-21T21:08:28.573Z"
   },
   {
    "duration": 7,
    "start_time": "2025-04-21T21:08:28.587Z"
   },
   {
    "duration": 24,
    "start_time": "2025-04-21T21:08:28.596Z"
   },
   {
    "duration": 84,
    "start_time": "2025-04-21T21:08:28.621Z"
   },
   {
    "duration": 156,
    "start_time": "2025-04-21T21:08:28.708Z"
   },
   {
    "duration": 9,
    "start_time": "2025-04-21T21:08:28.865Z"
   },
   {
    "duration": 20,
    "start_time": "2025-04-21T21:08:28.875Z"
   },
   {
    "duration": 8,
    "start_time": "2025-04-21T21:08:28.897Z"
   },
   {
    "duration": 12,
    "start_time": "2025-04-21T21:08:28.908Z"
   },
   {
    "duration": 92,
    "start_time": "2025-04-21T21:08:28.921Z"
   },
   {
    "duration": 3,
    "start_time": "2025-04-21T21:08:29.014Z"
   },
   {
    "duration": 8,
    "start_time": "2025-04-21T21:08:29.019Z"
   },
   {
    "duration": 197,
    "start_time": "2025-04-21T21:08:29.029Z"
   },
   {
    "duration": 31,
    "start_time": "2025-04-21T21:08:29.228Z"
   },
   {
    "duration": 122,
    "start_time": "2025-04-21T21:08:29.270Z"
   },
   {
    "duration": 178,
    "start_time": "2025-04-21T21:08:29.395Z"
   },
   {
    "duration": 13,
    "start_time": "2025-04-21T21:08:29.575Z"
   },
   {
    "duration": 61,
    "start_time": "2025-04-21T21:08:29.590Z"
   },
   {
    "duration": 208,
    "start_time": "2025-04-21T21:08:29.653Z"
   },
   {
    "duration": 13,
    "start_time": "2025-04-21T21:08:29.864Z"
   },
   {
    "duration": 3,
    "start_time": "2025-04-21T21:08:29.883Z"
   },
   {
    "duration": 25,
    "start_time": "2025-04-21T21:08:29.888Z"
   },
   {
    "duration": 1953,
    "start_time": "2025-04-21T21:08:29.914Z"
   },
   {
    "duration": 7,
    "start_time": "2025-04-21T21:08:31.874Z"
   },
   {
    "duration": 154,
    "start_time": "2025-04-21T21:08:31.885Z"
   },
   {
    "duration": 62,
    "start_time": "2025-04-21T21:08:32.041Z"
   },
   {
    "duration": 31,
    "start_time": "2025-04-21T21:08:32.106Z"
   },
   {
    "duration": 654,
    "start_time": "2025-04-21T21:08:32.139Z"
   },
   {
    "duration": 241,
    "start_time": "2025-04-21T21:08:32.797Z"
   },
   {
    "duration": 5,
    "start_time": "2025-04-21T21:08:33.040Z"
   },
   {
    "duration": 5,
    "start_time": "2025-04-21T21:08:33.047Z"
   },
   {
    "duration": 31,
    "start_time": "2025-04-21T21:08:33.054Z"
   },
   {
    "duration": 305,
    "start_time": "2025-04-21T21:08:33.087Z"
   },
   {
    "duration": 4,
    "start_time": "2025-04-21T21:08:33.394Z"
   },
   {
    "duration": 254,
    "start_time": "2025-04-21T21:08:49.090Z"
   },
   {
    "duration": 6,
    "start_time": "2025-04-21T21:10:11.797Z"
   },
   {
    "duration": 10,
    "start_time": "2025-04-21T21:10:16.120Z"
   },
   {
    "duration": 10,
    "start_time": "2025-04-21T21:10:25.724Z"
   },
   {
    "duration": 13,
    "start_time": "2025-04-21T21:10:28.973Z"
   },
   {
    "duration": 11,
    "start_time": "2025-04-21T21:10:31.804Z"
   },
   {
    "duration": 11,
    "start_time": "2025-04-21T21:10:34.116Z"
   },
   {
    "duration": 12,
    "start_time": "2025-04-21T21:10:46.405Z"
   },
   {
    "duration": 29,
    "start_time": "2025-04-21T21:13:35.295Z"
   },
   {
    "duration": 618,
    "start_time": "2025-04-21T21:14:50.046Z"
   },
   {
    "duration": 45,
    "start_time": "2025-04-21T21:15:11.870Z"
   },
   {
    "duration": 658,
    "start_time": "2025-04-21T21:15:14.035Z"
   },
   {
    "duration": 244,
    "start_time": "2025-04-21T21:15:17.453Z"
   },
   {
    "duration": 10,
    "start_time": "2025-04-21T21:15:19.355Z"
   },
   {
    "duration": 11,
    "start_time": "2025-04-21T21:15:35.834Z"
   },
   {
    "duration": 11,
    "start_time": "2025-04-21T21:15:42.598Z"
   },
   {
    "duration": 12,
    "start_time": "2025-04-21T21:15:43.601Z"
   },
   {
    "duration": 16,
    "start_time": "2025-04-21T21:15:44.178Z"
   },
   {
    "duration": 22,
    "start_time": "2025-04-21T21:15:44.657Z"
   },
   {
    "duration": 5,
    "start_time": "2025-04-21T21:16:43.690Z"
   },
   {
    "duration": 17,
    "start_time": "2025-04-21T21:16:49.304Z"
   },
   {
    "duration": 6,
    "start_time": "2025-04-21T21:17:02.428Z"
   },
   {
    "duration": 4,
    "start_time": "2025-04-21T21:18:05.851Z"
   },
   {
    "duration": 7,
    "start_time": "2025-04-21T21:18:10.321Z"
   },
   {
    "duration": 6,
    "start_time": "2025-04-21T21:18:15.938Z"
   },
   {
    "duration": 12,
    "start_time": "2025-04-21T21:20:22.014Z"
   },
   {
    "duration": 32,
    "start_time": "2025-04-21T21:20:27.420Z"
   },
   {
    "duration": 2470,
    "start_time": "2025-04-22T12:11:05.366Z"
   },
   {
    "duration": 438,
    "start_time": "2025-04-22T12:11:07.839Z"
   },
   {
    "duration": 39,
    "start_time": "2025-04-22T12:11:08.278Z"
   },
   {
    "duration": 39,
    "start_time": "2025-04-22T12:11:08.319Z"
   },
   {
    "duration": 161,
    "start_time": "2025-04-22T12:11:08.359Z"
   },
   {
    "duration": 62,
    "start_time": "2025-04-22T12:11:08.522Z"
   },
   {
    "duration": 26,
    "start_time": "2025-04-22T12:11:08.586Z"
   },
   {
    "duration": 10,
    "start_time": "2025-04-22T12:11:08.614Z"
   },
   {
    "duration": 11,
    "start_time": "2025-04-22T12:11:08.625Z"
   },
   {
    "duration": 18,
    "start_time": "2025-04-22T12:11:08.639Z"
   },
   {
    "duration": 8,
    "start_time": "2025-04-22T12:11:08.659Z"
   },
   {
    "duration": 43,
    "start_time": "2025-04-22T12:11:08.668Z"
   },
   {
    "duration": 11,
    "start_time": "2025-04-22T12:11:08.713Z"
   },
   {
    "duration": 5,
    "start_time": "2025-04-22T12:11:08.725Z"
   },
   {
    "duration": 23,
    "start_time": "2025-04-22T12:11:08.731Z"
   },
   {
    "duration": 81,
    "start_time": "2025-04-22T12:11:08.756Z"
   },
   {
    "duration": 143,
    "start_time": "2025-04-22T12:11:08.839Z"
   },
   {
    "duration": 4,
    "start_time": "2025-04-22T12:11:08.983Z"
   },
   {
    "duration": 23,
    "start_time": "2025-04-22T12:11:08.989Z"
   },
   {
    "duration": 5,
    "start_time": "2025-04-22T12:11:09.014Z"
   },
   {
    "duration": 9,
    "start_time": "2025-04-22T12:11:09.021Z"
   },
   {
    "duration": 87,
    "start_time": "2025-04-22T12:11:09.032Z"
   },
   {
    "duration": 4,
    "start_time": "2025-04-22T12:11:09.120Z"
   },
   {
    "duration": 8,
    "start_time": "2025-04-22T12:11:09.125Z"
   },
   {
    "duration": 176,
    "start_time": "2025-04-22T12:11:09.136Z"
   },
   {
    "duration": 31,
    "start_time": "2025-04-22T12:11:09.314Z"
   },
   {
    "duration": 112,
    "start_time": "2025-04-22T12:11:09.346Z"
   },
   {
    "duration": 156,
    "start_time": "2025-04-22T12:11:09.462Z"
   },
   {
    "duration": 9,
    "start_time": "2025-04-22T12:11:09.620Z"
   },
   {
    "duration": 52,
    "start_time": "2025-04-22T12:11:09.631Z"
   },
   {
    "duration": 145,
    "start_time": "2025-04-22T12:11:09.685Z"
   },
   {
    "duration": 8,
    "start_time": "2025-04-22T12:11:09.832Z"
   },
   {
    "duration": 3,
    "start_time": "2025-04-22T12:11:09.842Z"
   },
   {
    "duration": 18,
    "start_time": "2025-04-22T12:11:09.847Z"
   },
   {
    "duration": 1708,
    "start_time": "2025-04-22T12:11:09.867Z"
   },
   {
    "duration": 7,
    "start_time": "2025-04-22T12:11:11.577Z"
   },
   {
    "duration": 138,
    "start_time": "2025-04-22T12:11:11.585Z"
   },
   {
    "duration": 48,
    "start_time": "2025-04-22T12:11:11.725Z"
   },
   {
    "duration": 42,
    "start_time": "2025-04-22T12:11:11.775Z"
   },
   {
    "duration": 537,
    "start_time": "2025-04-22T12:11:11.819Z"
   },
   {
    "duration": 219,
    "start_time": "2025-04-22T12:11:12.358Z"
   },
   {
    "duration": 11,
    "start_time": "2025-04-22T12:11:12.579Z"
   },
   {
    "duration": 5,
    "start_time": "2025-04-22T12:11:12.591Z"
   },
   {
    "duration": 5,
    "start_time": "2025-04-22T12:11:12.612Z"
   },
   {
    "duration": 25,
    "start_time": "2025-04-22T12:11:12.619Z"
   },
   {
    "duration": 6,
    "start_time": "2025-04-22T12:11:12.645Z"
   },
   {
    "duration": 5,
    "start_time": "2025-04-22T12:11:12.653Z"
   },
   {
    "duration": 16,
    "start_time": "2025-04-22T12:11:12.659Z"
   },
   {
    "duration": 286,
    "start_time": "2025-04-22T12:11:12.676Z"
   },
   {
    "duration": 3,
    "start_time": "2025-04-22T12:11:12.964Z"
   },
   {
    "duration": 3,
    "start_time": "2025-04-22T12:11:53.302Z"
   },
   {
    "duration": 21,
    "start_time": "2025-04-22T12:12:20.866Z"
   },
   {
    "duration": 48,
    "start_time": "2025-04-22T12:18:19.756Z"
   },
   {
    "duration": 59,
    "start_time": "2025-04-22T12:18:25.009Z"
   },
   {
    "duration": 681,
    "start_time": "2025-04-22T12:20:04.667Z"
   },
   {
    "duration": 42,
    "start_time": "2025-04-22T12:20:17.497Z"
   },
   {
    "duration": 801,
    "start_time": "2025-04-22T12:20:37.712Z"
   },
   {
    "duration": 368,
    "start_time": "2025-04-22T12:20:38.516Z"
   },
   {
    "duration": 39,
    "start_time": "2025-04-22T12:20:38.886Z"
   },
   {
    "duration": 37,
    "start_time": "2025-04-22T12:20:38.928Z"
   },
   {
    "duration": 164,
    "start_time": "2025-04-22T12:20:38.967Z"
   },
   {
    "duration": 63,
    "start_time": "2025-04-22T12:20:39.133Z"
   },
   {
    "duration": 23,
    "start_time": "2025-04-22T12:20:39.197Z"
   },
   {
    "duration": 6,
    "start_time": "2025-04-22T12:20:39.222Z"
   },
   {
    "duration": 10,
    "start_time": "2025-04-22T12:20:39.229Z"
   },
   {
    "duration": 18,
    "start_time": "2025-04-22T12:20:39.241Z"
   },
   {
    "duration": 8,
    "start_time": "2025-04-22T12:20:39.261Z"
   },
   {
    "duration": 44,
    "start_time": "2025-04-22T12:20:39.270Z"
   },
   {
    "duration": 9,
    "start_time": "2025-04-22T12:20:39.315Z"
   },
   {
    "duration": 4,
    "start_time": "2025-04-22T12:20:39.326Z"
   },
   {
    "duration": 21,
    "start_time": "2025-04-22T12:20:39.332Z"
   },
   {
    "duration": 81,
    "start_time": "2025-04-22T12:20:39.355Z"
   },
   {
    "duration": 135,
    "start_time": "2025-04-22T12:20:39.438Z"
   },
   {
    "duration": 4,
    "start_time": "2025-04-22T12:20:39.575Z"
   },
   {
    "duration": 12,
    "start_time": "2025-04-22T12:20:39.581Z"
   },
   {
    "duration": 17,
    "start_time": "2025-04-22T12:20:39.595Z"
   },
   {
    "duration": 9,
    "start_time": "2025-04-22T12:20:39.614Z"
   },
   {
    "duration": 87,
    "start_time": "2025-04-22T12:20:39.625Z"
   },
   {
    "duration": 3,
    "start_time": "2025-04-22T12:20:39.714Z"
   },
   {
    "duration": 7,
    "start_time": "2025-04-22T12:20:39.719Z"
   },
   {
    "duration": 170,
    "start_time": "2025-04-22T12:20:39.728Z"
   },
   {
    "duration": 34,
    "start_time": "2025-04-22T12:20:39.900Z"
   },
   {
    "duration": 119,
    "start_time": "2025-04-22T12:20:39.936Z"
   },
   {
    "duration": 158,
    "start_time": "2025-04-22T12:20:40.059Z"
   },
   {
    "duration": 9,
    "start_time": "2025-04-22T12:20:40.218Z"
   },
   {
    "duration": 51,
    "start_time": "2025-04-22T12:20:40.229Z"
   },
   {
    "duration": 697,
    "start_time": "2025-04-22T12:20:40.282Z"
   },
   {
    "duration": 0,
    "start_time": "2025-04-22T12:20:40.981Z"
   },
   {
    "duration": 0,
    "start_time": "2025-04-22T12:20:40.983Z"
   },
   {
    "duration": 0,
    "start_time": "2025-04-22T12:20:40.984Z"
   },
   {
    "duration": 0,
    "start_time": "2025-04-22T12:20:40.985Z"
   },
   {
    "duration": 0,
    "start_time": "2025-04-22T12:20:40.986Z"
   },
   {
    "duration": 0,
    "start_time": "2025-04-22T12:20:40.987Z"
   },
   {
    "duration": 0,
    "start_time": "2025-04-22T12:20:40.989Z"
   },
   {
    "duration": 0,
    "start_time": "2025-04-22T12:20:40.990Z"
   },
   {
    "duration": 0,
    "start_time": "2025-04-22T12:20:41.012Z"
   },
   {
    "duration": 0,
    "start_time": "2025-04-22T12:20:41.014Z"
   },
   {
    "duration": 0,
    "start_time": "2025-04-22T12:20:41.016Z"
   },
   {
    "duration": 0,
    "start_time": "2025-04-22T12:20:41.018Z"
   },
   {
    "duration": 0,
    "start_time": "2025-04-22T12:20:41.019Z"
   },
   {
    "duration": 0,
    "start_time": "2025-04-22T12:20:41.020Z"
   },
   {
    "duration": 0,
    "start_time": "2025-04-22T12:20:41.022Z"
   },
   {
    "duration": 0,
    "start_time": "2025-04-22T12:20:41.023Z"
   },
   {
    "duration": 0,
    "start_time": "2025-04-22T12:20:41.025Z"
   },
   {
    "duration": 0,
    "start_time": "2025-04-22T12:20:41.026Z"
   },
   {
    "duration": 0,
    "start_time": "2025-04-22T12:20:41.027Z"
   },
   {
    "duration": 130,
    "start_time": "2025-04-22T12:21:14.810Z"
   },
   {
    "duration": 41,
    "start_time": "2025-04-22T12:21:20.352Z"
   },
   {
    "duration": 42,
    "start_time": "2025-04-22T12:21:30.432Z"
   },
   {
    "duration": 9,
    "start_time": "2025-04-22T12:21:39.846Z"
   },
   {
    "duration": 43,
    "start_time": "2025-04-22T12:21:43.868Z"
   },
   {
    "duration": 3,
    "start_time": "2025-04-22T12:21:51.231Z"
   },
   {
    "duration": 24,
    "start_time": "2025-04-22T12:21:53.233Z"
   },
   {
    "duration": 1827,
    "start_time": "2025-04-22T12:21:55.316Z"
   },
   {
    "duration": 1701,
    "start_time": "2025-04-22T12:22:08.248Z"
   },
   {
    "duration": 7,
    "start_time": "2025-04-22T12:22:17.834Z"
   },
   {
    "duration": 122,
    "start_time": "2025-04-22T12:22:19.338Z"
   },
   {
    "duration": 134,
    "start_time": "2025-04-22T12:22:24.507Z"
   },
   {
    "duration": 47,
    "start_time": "2025-04-22T12:22:26.854Z"
   },
   {
    "duration": 31,
    "start_time": "2025-04-22T12:22:29.418Z"
   },
   {
    "duration": 530,
    "start_time": "2025-04-22T12:22:32.167Z"
   },
   {
    "duration": 211,
    "start_time": "2025-04-22T12:22:34.753Z"
   },
   {
    "duration": 6,
    "start_time": "2025-04-22T12:22:36.820Z"
   },
   {
    "duration": 12,
    "start_time": "2025-04-22T12:22:39.814Z"
   },
   {
    "duration": 6,
    "start_time": "2025-04-22T12:22:41.705Z"
   },
   {
    "duration": 6,
    "start_time": "2025-04-22T12:22:44.134Z"
   },
   {
    "duration": 20,
    "start_time": "2025-04-22T12:22:45.577Z"
   },
   {
    "duration": 3,
    "start_time": "2025-04-22T12:24:51.211Z"
   },
   {
    "duration": 15,
    "start_time": "2025-04-22T12:24:55.353Z"
   },
   {
    "duration": 14,
    "start_time": "2025-04-22T12:25:31.356Z"
   },
   {
    "duration": 800,
    "start_time": "2025-04-22T12:25:47.888Z"
   },
   {
    "duration": 357,
    "start_time": "2025-04-22T12:25:48.690Z"
   },
   {
    "duration": 38,
    "start_time": "2025-04-22T12:25:49.049Z"
   },
   {
    "duration": 48,
    "start_time": "2025-04-22T12:25:49.090Z"
   },
   {
    "duration": 158,
    "start_time": "2025-04-22T12:25:49.139Z"
   },
   {
    "duration": 68,
    "start_time": "2025-04-22T12:25:49.299Z"
   },
   {
    "duration": 9,
    "start_time": "2025-04-22T12:25:49.369Z"
   },
   {
    "duration": 7,
    "start_time": "2025-04-22T12:25:49.381Z"
   },
   {
    "duration": 26,
    "start_time": "2025-04-22T12:25:49.389Z"
   },
   {
    "duration": 17,
    "start_time": "2025-04-22T12:25:49.418Z"
   },
   {
    "duration": 8,
    "start_time": "2025-04-22T12:25:49.436Z"
   },
   {
    "duration": 11,
    "start_time": "2025-04-22T12:25:49.445Z"
   },
   {
    "duration": 8,
    "start_time": "2025-04-22T12:25:49.458Z"
   },
   {
    "duration": 4,
    "start_time": "2025-04-22T12:25:49.468Z"
   },
   {
    "duration": 57,
    "start_time": "2025-04-22T12:25:49.474Z"
   },
   {
    "duration": 55,
    "start_time": "2025-04-22T12:25:49.533Z"
   },
   {
    "duration": 147,
    "start_time": "2025-04-22T12:25:49.590Z"
   },
   {
    "duration": 4,
    "start_time": "2025-04-22T12:25:49.739Z"
   },
   {
    "duration": 13,
    "start_time": "2025-04-22T12:25:49.745Z"
   },
   {
    "duration": 4,
    "start_time": "2025-04-22T12:25:49.759Z"
   },
   {
    "duration": 9,
    "start_time": "2025-04-22T12:25:49.765Z"
   },
   {
    "duration": 94,
    "start_time": "2025-04-22T12:25:49.776Z"
   },
   {
    "duration": 7,
    "start_time": "2025-04-22T12:25:49.871Z"
   },
   {
    "duration": 7,
    "start_time": "2025-04-22T12:25:49.879Z"
   },
   {
    "duration": 174,
    "start_time": "2025-04-22T12:25:49.889Z"
   },
   {
    "duration": 31,
    "start_time": "2025-04-22T12:25:50.065Z"
   },
   {
    "duration": 115,
    "start_time": "2025-04-22T12:25:50.097Z"
   },
   {
    "duration": 161,
    "start_time": "2025-04-22T12:25:50.217Z"
   },
   {
    "duration": 9,
    "start_time": "2025-04-22T12:25:50.380Z"
   },
   {
    "duration": 64,
    "start_time": "2025-04-22T12:25:50.391Z"
   },
   {
    "duration": 177,
    "start_time": "2025-04-22T12:25:50.457Z"
   },
   {
    "duration": 8,
    "start_time": "2025-04-22T12:25:50.636Z"
   },
   {
    "duration": 3,
    "start_time": "2025-04-22T12:25:50.646Z"
   },
   {
    "duration": 19,
    "start_time": "2025-04-22T12:25:50.651Z"
   },
   {
    "duration": 1705,
    "start_time": "2025-04-22T12:25:50.672Z"
   },
   {
    "duration": 6,
    "start_time": "2025-04-22T12:25:52.379Z"
   },
   {
    "duration": 140,
    "start_time": "2025-04-22T12:25:52.386Z"
   },
   {
    "duration": 48,
    "start_time": "2025-04-22T12:25:52.527Z"
   },
   {
    "duration": 44,
    "start_time": "2025-04-22T12:25:52.577Z"
   },
   {
    "duration": 526,
    "start_time": "2025-04-22T12:25:52.622Z"
   },
   {
    "duration": 235,
    "start_time": "2025-04-22T12:25:53.150Z"
   },
   {
    "duration": 11,
    "start_time": "2025-04-22T12:25:53.387Z"
   },
   {
    "duration": 23,
    "start_time": "2025-04-22T12:25:53.399Z"
   },
   {
    "duration": 4,
    "start_time": "2025-04-22T12:25:53.424Z"
   },
   {
    "duration": 4,
    "start_time": "2025-04-22T12:25:53.429Z"
   },
   {
    "duration": 16,
    "start_time": "2025-04-22T12:25:53.435Z"
   },
   {
    "duration": 5,
    "start_time": "2025-04-22T12:25:53.453Z"
   },
   {
    "duration": 4,
    "start_time": "2025-04-22T12:25:53.460Z"
   },
   {
    "duration": 52,
    "start_time": "2025-04-22T12:25:53.466Z"
   },
   {
    "duration": 255,
    "start_time": "2025-04-22T12:25:53.519Z"
   },
   {
    "duration": 4,
    "start_time": "2025-04-22T12:25:53.776Z"
   },
   {
    "duration": 135,
    "start_time": "2025-04-22T12:35:01.694Z"
   },
   {
    "duration": 19,
    "start_time": "2025-04-22T12:35:12.613Z"
   },
   {
    "duration": 373,
    "start_time": "2025-04-22T12:35:40.160Z"
   },
   {
    "duration": 125,
    "start_time": "2025-04-22T12:35:56.048Z"
   },
   {
    "duration": 20,
    "start_time": "2025-04-22T12:36:11.221Z"
   },
   {
    "duration": 14,
    "start_time": "2025-04-22T12:36:27.834Z"
   },
   {
    "duration": 297,
    "start_time": "2025-04-22T12:36:53.203Z"
   },
   {
    "duration": 46,
    "start_time": "2025-04-22T12:41:00.728Z"
   },
   {
    "duration": 6,
    "start_time": "2025-04-22T12:41:08.750Z"
   },
   {
    "duration": 14,
    "start_time": "2025-04-22T12:41:10.793Z"
   },
   {
    "duration": 17,
    "start_time": "2025-04-22T12:43:23.497Z"
   },
   {
    "duration": 17,
    "start_time": "2025-04-22T12:43:44.322Z"
   },
   {
    "duration": 16,
    "start_time": "2025-04-22T12:43:50.103Z"
   },
   {
    "duration": 4,
    "start_time": "2025-04-22T12:45:07.935Z"
   },
   {
    "duration": 5,
    "start_time": "2025-04-22T12:47:25.094Z"
   },
   {
    "duration": 11,
    "start_time": "2025-04-22T12:47:53.950Z"
   },
   {
    "duration": 11,
    "start_time": "2025-04-22T12:48:06.938Z"
   },
   {
    "duration": 12,
    "start_time": "2025-04-22T12:48:09.327Z"
   },
   {
    "duration": 12,
    "start_time": "2025-04-22T12:48:12.474Z"
   },
   {
    "duration": 11,
    "start_time": "2025-04-22T12:48:13.840Z"
   },
   {
    "duration": 11,
    "start_time": "2025-04-22T12:48:14.859Z"
   },
   {
    "duration": 12,
    "start_time": "2025-04-22T12:48:15.848Z"
   },
   {
    "duration": 11,
    "start_time": "2025-04-22T12:48:17.239Z"
   },
   {
    "duration": 16,
    "start_time": "2025-04-22T12:48:33.644Z"
   },
   {
    "duration": 11,
    "start_time": "2025-04-22T12:51:25.452Z"
   },
   {
    "duration": 14,
    "start_time": "2025-04-22T12:51:28.498Z"
   },
   {
    "duration": 78,
    "start_time": "2025-04-22T12:52:24.197Z"
   },
   {
    "duration": 12,
    "start_time": "2025-04-22T12:52:31.410Z"
   },
   {
    "duration": 11,
    "start_time": "2025-04-22T12:53:19.261Z"
   },
   {
    "duration": 28,
    "start_time": "2025-04-22T12:53:44.220Z"
   },
   {
    "duration": 24,
    "start_time": "2025-04-22T12:58:35.905Z"
   },
   {
    "duration": 25,
    "start_time": "2025-04-22T12:58:43.889Z"
   },
   {
    "duration": 4,
    "start_time": "2025-04-22T13:00:18.010Z"
   },
   {
    "duration": 5,
    "start_time": "2025-04-22T13:00:22.261Z"
   },
   {
    "duration": 4,
    "start_time": "2025-04-22T13:01:10.835Z"
   },
   {
    "duration": 3,
    "start_time": "2025-04-22T13:01:19.230Z"
   },
   {
    "duration": 3,
    "start_time": "2025-04-22T13:01:54.669Z"
   },
   {
    "duration": 3,
    "start_time": "2025-04-22T13:03:06.763Z"
   },
   {
    "duration": 13,
    "start_time": "2025-04-22T13:07:15.972Z"
   },
   {
    "duration": 11,
    "start_time": "2025-04-22T13:07:18.778Z"
   },
   {
    "duration": 536,
    "start_time": "2025-04-22T13:08:39.658Z"
   },
   {
    "duration": 552,
    "start_time": "2025-04-22T13:08:44.100Z"
   },
   {
    "duration": 938,
    "start_time": "2025-04-22T13:11:15.031Z"
   },
   {
    "duration": 947,
    "start_time": "2025-04-22T13:11:19.330Z"
   },
   {
    "duration": 954,
    "start_time": "2025-04-22T13:12:15.258Z"
   },
   {
    "duration": 969,
    "start_time": "2025-04-22T13:12:23.121Z"
   },
   {
    "duration": 938,
    "start_time": "2025-04-22T13:13:02.114Z"
   },
   {
    "duration": 1162,
    "start_time": "2025-04-22T13:13:28.270Z"
   },
   {
    "duration": 949,
    "start_time": "2025-04-22T13:13:37.768Z"
   },
   {
    "duration": 941,
    "start_time": "2025-04-22T13:13:54.838Z"
   },
   {
    "duration": 935,
    "start_time": "2025-04-22T13:14:00.377Z"
   },
   {
    "duration": 127,
    "start_time": "2025-04-22T13:15:07.021Z"
   },
   {
    "duration": 4,
    "start_time": "2025-04-22T13:15:14.278Z"
   },
   {
    "duration": 931,
    "start_time": "2025-04-22T13:16:00.631Z"
   },
   {
    "duration": 13,
    "start_time": "2025-04-22T13:23:27.984Z"
   },
   {
    "duration": 17,
    "start_time": "2025-04-22T13:23:47.106Z"
   },
   {
    "duration": 16,
    "start_time": "2025-04-22T13:24:33.817Z"
   },
   {
    "duration": 123,
    "start_time": "2025-04-22T13:25:10.126Z"
   },
   {
    "duration": 1006,
    "start_time": "2025-04-22T13:25:17.773Z"
   },
   {
    "duration": 20,
    "start_time": "2025-04-22T13:25:23.626Z"
   },
   {
    "duration": 45,
    "start_time": "2025-04-22T13:26:05.221Z"
   },
   {
    "duration": 824,
    "start_time": "2025-04-22T13:26:32.874Z"
   },
   {
    "duration": 415,
    "start_time": "2025-04-22T13:26:33.700Z"
   },
   {
    "duration": 39,
    "start_time": "2025-04-22T13:26:34.117Z"
   },
   {
    "duration": 37,
    "start_time": "2025-04-22T13:26:34.158Z"
   },
   {
    "duration": 164,
    "start_time": "2025-04-22T13:26:34.197Z"
   },
   {
    "duration": 70,
    "start_time": "2025-04-22T13:26:34.362Z"
   },
   {
    "duration": 9,
    "start_time": "2025-04-22T13:26:34.433Z"
   },
   {
    "duration": 6,
    "start_time": "2025-04-22T13:26:34.444Z"
   },
   {
    "duration": 9,
    "start_time": "2025-04-22T13:26:34.452Z"
   },
   {
    "duration": 18,
    "start_time": "2025-04-22T13:26:34.464Z"
   },
   {
    "duration": 33,
    "start_time": "2025-04-22T13:26:34.484Z"
   },
   {
    "duration": 11,
    "start_time": "2025-04-22T13:26:34.518Z"
   },
   {
    "duration": 4,
    "start_time": "2025-04-22T13:26:34.531Z"
   },
   {
    "duration": 10,
    "start_time": "2025-04-22T13:26:34.538Z"
   },
   {
    "duration": 5,
    "start_time": "2025-04-22T13:26:34.550Z"
   },
   {
    "duration": 22,
    "start_time": "2025-04-22T13:26:34.556Z"
   },
   {
    "duration": 56,
    "start_time": "2025-04-22T13:26:34.611Z"
   },
   {
    "duration": 149,
    "start_time": "2025-04-22T13:26:34.669Z"
   },
   {
    "duration": 4,
    "start_time": "2025-04-22T13:26:34.819Z"
   },
   {
    "duration": 13,
    "start_time": "2025-04-22T13:26:34.825Z"
   },
   {
    "duration": 4,
    "start_time": "2025-04-22T13:26:34.839Z"
   },
   {
    "duration": 9,
    "start_time": "2025-04-22T13:26:34.845Z"
   },
   {
    "duration": 95,
    "start_time": "2025-04-22T13:26:34.855Z"
   },
   {
    "duration": 3,
    "start_time": "2025-04-22T13:26:34.952Z"
   },
   {
    "duration": 7,
    "start_time": "2025-04-22T13:26:34.957Z"
   },
   {
    "duration": 179,
    "start_time": "2025-04-22T13:26:34.966Z"
   },
   {
    "duration": 30,
    "start_time": "2025-04-22T13:26:35.147Z"
   },
   {
    "duration": 114,
    "start_time": "2025-04-22T13:26:35.181Z"
   },
   {
    "duration": 161,
    "start_time": "2025-04-22T13:26:35.297Z"
   },
   {
    "duration": 9,
    "start_time": "2025-04-22T13:26:35.459Z"
   },
   {
    "duration": 63,
    "start_time": "2025-04-22T13:26:35.470Z"
   },
   {
    "duration": 182,
    "start_time": "2025-04-22T13:26:35.535Z"
   },
   {
    "duration": 9,
    "start_time": "2025-04-22T13:26:35.720Z"
   },
   {
    "duration": 4,
    "start_time": "2025-04-22T13:26:35.730Z"
   },
   {
    "duration": 20,
    "start_time": "2025-04-22T13:26:35.735Z"
   },
   {
    "duration": 1716,
    "start_time": "2025-04-22T13:26:35.757Z"
   },
   {
    "duration": 6,
    "start_time": "2025-04-22T13:26:37.475Z"
   },
   {
    "duration": 137,
    "start_time": "2025-04-22T13:26:37.483Z"
   },
   {
    "duration": 49,
    "start_time": "2025-04-22T13:26:37.622Z"
   },
   {
    "duration": 42,
    "start_time": "2025-04-22T13:26:37.672Z"
   },
   {
    "duration": 16,
    "start_time": "2025-04-22T13:26:37.716Z"
   },
   {
    "duration": 19,
    "start_time": "2025-04-22T13:26:37.733Z"
   },
   {
    "duration": 15,
    "start_time": "2025-04-22T13:26:37.754Z"
   },
   {
    "duration": 10,
    "start_time": "2025-04-22T13:26:37.771Z"
   },
   {
    "duration": 47,
    "start_time": "2025-04-22T13:26:37.783Z"
   },
   {
    "duration": 4,
    "start_time": "2025-04-22T13:26:37.832Z"
   },
   {
    "duration": 6,
    "start_time": "2025-04-22T13:26:37.838Z"
   },
   {
    "duration": 5,
    "start_time": "2025-04-22T13:26:37.845Z"
   },
   {
    "duration": 14,
    "start_time": "2025-04-22T13:26:37.852Z"
   },
   {
    "duration": 299,
    "start_time": "2025-04-22T13:26:37.868Z"
   },
   {
    "duration": 3,
    "start_time": "2025-04-22T13:26:38.169Z"
   },
   {
    "duration": 971,
    "start_time": "2025-04-22T13:26:38.174Z"
   },
   {
    "duration": 1018,
    "start_time": "2025-04-22T13:26:39.146Z"
   },
   {
    "duration": 550,
    "start_time": "2025-04-22T13:26:40.166Z"
   },
   {
    "duration": 28,
    "start_time": "2025-04-22T13:26:49.121Z"
   },
   {
    "duration": 1004,
    "start_time": "2025-04-22T13:26:55.180Z"
   },
   {
    "duration": 166,
    "start_time": "2025-04-22T13:28:46.387Z"
   },
   {
    "duration": 793,
    "start_time": "2025-04-22T13:29:10.714Z"
   },
   {
    "duration": 481,
    "start_time": "2025-04-22T13:29:11.509Z"
   },
   {
    "duration": 38,
    "start_time": "2025-04-22T13:29:11.991Z"
   },
   {
    "duration": 36,
    "start_time": "2025-04-22T13:29:12.032Z"
   },
   {
    "duration": 153,
    "start_time": "2025-04-22T13:29:12.070Z"
   },
   {
    "duration": 61,
    "start_time": "2025-04-22T13:29:12.225Z"
   },
   {
    "duration": 24,
    "start_time": "2025-04-22T13:29:12.288Z"
   },
   {
    "duration": 6,
    "start_time": "2025-04-22T13:29:12.313Z"
   },
   {
    "duration": 9,
    "start_time": "2025-04-22T13:29:12.321Z"
   },
   {
    "duration": 19,
    "start_time": "2025-04-22T13:29:12.333Z"
   },
   {
    "duration": 8,
    "start_time": "2025-04-22T13:29:12.353Z"
   },
   {
    "duration": 11,
    "start_time": "2025-04-22T13:29:12.362Z"
   },
   {
    "duration": 40,
    "start_time": "2025-04-22T13:29:12.374Z"
   },
   {
    "duration": 8,
    "start_time": "2025-04-22T13:29:12.417Z"
   },
   {
    "duration": 5,
    "start_time": "2025-04-22T13:29:12.426Z"
   },
   {
    "duration": 22,
    "start_time": "2025-04-22T13:29:12.432Z"
   },
   {
    "duration": 80,
    "start_time": "2025-04-22T13:29:12.456Z"
   },
   {
    "duration": 138,
    "start_time": "2025-04-22T13:29:12.539Z"
   },
   {
    "duration": 5,
    "start_time": "2025-04-22T13:29:12.678Z"
   },
   {
    "duration": 27,
    "start_time": "2025-04-22T13:29:12.685Z"
   },
   {
    "duration": 4,
    "start_time": "2025-04-22T13:29:12.713Z"
   },
   {
    "duration": 8,
    "start_time": "2025-04-22T13:29:12.719Z"
   },
   {
    "duration": 85,
    "start_time": "2025-04-22T13:29:12.729Z"
   },
   {
    "duration": 3,
    "start_time": "2025-04-22T13:29:12.816Z"
   },
   {
    "duration": 8,
    "start_time": "2025-04-22T13:29:12.821Z"
   },
   {
    "duration": 166,
    "start_time": "2025-04-22T13:29:12.831Z"
   },
   {
    "duration": 35,
    "start_time": "2025-04-22T13:29:12.998Z"
   },
   {
    "duration": 112,
    "start_time": "2025-04-22T13:29:13.038Z"
   },
   {
    "duration": 158,
    "start_time": "2025-04-22T13:29:13.153Z"
   },
   {
    "duration": 10,
    "start_time": "2025-04-22T13:29:13.313Z"
   },
   {
    "duration": 52,
    "start_time": "2025-04-22T13:29:13.325Z"
   },
   {
    "duration": 191,
    "start_time": "2025-04-22T13:29:13.379Z"
   },
   {
    "duration": 8,
    "start_time": "2025-04-22T13:29:13.572Z"
   },
   {
    "duration": 3,
    "start_time": "2025-04-22T13:29:13.583Z"
   },
   {
    "duration": 31,
    "start_time": "2025-04-22T13:29:13.588Z"
   },
   {
    "duration": 1702,
    "start_time": "2025-04-22T13:29:13.620Z"
   },
   {
    "duration": 7,
    "start_time": "2025-04-22T13:29:15.323Z"
   },
   {
    "duration": 132,
    "start_time": "2025-04-22T13:29:15.331Z"
   },
   {
    "duration": 56,
    "start_time": "2025-04-22T13:29:15.465Z"
   },
   {
    "duration": 31,
    "start_time": "2025-04-22T13:29:15.523Z"
   },
   {
    "duration": 15,
    "start_time": "2025-04-22T13:29:15.557Z"
   },
   {
    "duration": 38,
    "start_time": "2025-04-22T13:29:15.574Z"
   },
   {
    "duration": 16,
    "start_time": "2025-04-22T13:29:15.613Z"
   },
   {
    "duration": 12,
    "start_time": "2025-04-22T13:29:15.630Z"
   },
   {
    "duration": 23,
    "start_time": "2025-04-22T13:29:15.644Z"
   },
   {
    "duration": 4,
    "start_time": "2025-04-22T13:29:15.669Z"
   },
   {
    "duration": 37,
    "start_time": "2025-04-22T13:29:15.675Z"
   },
   {
    "duration": 5,
    "start_time": "2025-04-22T13:29:15.714Z"
   },
   {
    "duration": 15,
    "start_time": "2025-04-22T13:29:15.721Z"
   },
   {
    "duration": 266,
    "start_time": "2025-04-22T13:29:15.738Z"
   },
   {
    "duration": 8,
    "start_time": "2025-04-22T13:29:16.005Z"
   },
   {
    "duration": 936,
    "start_time": "2025-04-22T13:29:16.015Z"
   },
   {
    "duration": 1012,
    "start_time": "2025-04-22T13:29:16.953Z"
   },
   {
    "duration": 868,
    "start_time": "2025-04-22T13:29:17.967Z"
   },
   {
    "duration": 372,
    "start_time": "2025-04-22T13:29:27.548Z"
   },
   {
    "duration": 385,
    "start_time": "2025-04-22T13:29:38.339Z"
   },
   {
    "duration": 377,
    "start_time": "2025-04-22T13:29:43.069Z"
   },
   {
    "duration": 376,
    "start_time": "2025-04-22T13:29:54.492Z"
   },
   {
    "duration": 378,
    "start_time": "2025-04-22T13:30:52.776Z"
   },
   {
    "duration": 372,
    "start_time": "2025-04-22T13:31:20.870Z"
   },
   {
    "duration": 14,
    "start_time": "2025-04-22T13:33:47.877Z"
   },
   {
    "duration": 879,
    "start_time": "2025-04-22T13:33:56.121Z"
   },
   {
    "duration": 437,
    "start_time": "2025-04-22T13:33:57.003Z"
   },
   {
    "duration": 39,
    "start_time": "2025-04-22T13:33:57.441Z"
   },
   {
    "duration": 45,
    "start_time": "2025-04-22T13:33:57.481Z"
   },
   {
    "duration": 151,
    "start_time": "2025-04-22T13:33:57.530Z"
   },
   {
    "duration": 71,
    "start_time": "2025-04-22T13:33:57.683Z"
   },
   {
    "duration": 9,
    "start_time": "2025-04-22T13:33:57.756Z"
   },
   {
    "duration": 6,
    "start_time": "2025-04-22T13:33:57.767Z"
   },
   {
    "duration": 9,
    "start_time": "2025-04-22T13:33:57.774Z"
   },
   {
    "duration": 38,
    "start_time": "2025-04-22T13:33:57.785Z"
   },
   {
    "duration": 8,
    "start_time": "2025-04-22T13:33:57.825Z"
   },
   {
    "duration": 12,
    "start_time": "2025-04-22T13:33:57.835Z"
   },
   {
    "duration": 4,
    "start_time": "2025-04-22T13:33:57.849Z"
   },
   {
    "duration": 8,
    "start_time": "2025-04-22T13:33:57.856Z"
   },
   {
    "duration": 4,
    "start_time": "2025-04-22T13:33:57.866Z"
   },
   {
    "duration": 59,
    "start_time": "2025-04-22T13:33:57.872Z"
   },
   {
    "duration": 56,
    "start_time": "2025-04-22T13:33:57.933Z"
   },
   {
    "duration": 160,
    "start_time": "2025-04-22T13:33:57.991Z"
   },
   {
    "duration": 4,
    "start_time": "2025-04-22T13:33:58.152Z"
   },
   {
    "duration": 13,
    "start_time": "2025-04-22T13:33:58.157Z"
   },
   {
    "duration": 3,
    "start_time": "2025-04-22T13:33:58.172Z"
   },
   {
    "duration": 9,
    "start_time": "2025-04-22T13:33:58.177Z"
   },
   {
    "duration": 90,
    "start_time": "2025-04-22T13:33:58.187Z"
   },
   {
    "duration": 3,
    "start_time": "2025-04-22T13:33:58.279Z"
   },
   {
    "duration": 28,
    "start_time": "2025-04-22T13:33:58.284Z"
   },
   {
    "duration": 159,
    "start_time": "2025-04-22T13:33:58.313Z"
   },
   {
    "duration": 44,
    "start_time": "2025-04-22T13:33:58.474Z"
   },
   {
    "duration": 111,
    "start_time": "2025-04-22T13:33:58.520Z"
   },
   {
    "duration": 162,
    "start_time": "2025-04-22T13:33:58.633Z"
   },
   {
    "duration": 20,
    "start_time": "2025-04-22T13:33:58.797Z"
   },
   {
    "duration": 56,
    "start_time": "2025-04-22T13:33:58.818Z"
   },
   {
    "duration": 198,
    "start_time": "2025-04-22T13:33:58.876Z"
   },
   {
    "duration": 9,
    "start_time": "2025-04-22T13:33:59.075Z"
   },
   {
    "duration": 3,
    "start_time": "2025-04-22T13:33:59.086Z"
   },
   {
    "duration": 38,
    "start_time": "2025-04-22T13:33:59.091Z"
   },
   {
    "duration": 1725,
    "start_time": "2025-04-22T13:33:59.131Z"
   },
   {
    "duration": 7,
    "start_time": "2025-04-22T13:34:00.859Z"
   },
   {
    "duration": 140,
    "start_time": "2025-04-22T13:34:00.868Z"
   },
   {
    "duration": 49,
    "start_time": "2025-04-22T13:34:01.011Z"
   },
   {
    "duration": 30,
    "start_time": "2025-04-22T13:34:01.062Z"
   },
   {
    "duration": 16,
    "start_time": "2025-04-22T13:34:01.111Z"
   },
   {
    "duration": 21,
    "start_time": "2025-04-22T13:34:01.128Z"
   },
   {
    "duration": 228,
    "start_time": "2025-04-22T13:34:01.150Z"
   },
   {
    "duration": 0,
    "start_time": "2025-04-22T13:34:01.380Z"
   },
   {
    "duration": 0,
    "start_time": "2025-04-22T13:34:01.381Z"
   },
   {
    "duration": 0,
    "start_time": "2025-04-22T13:34:01.383Z"
   },
   {
    "duration": 0,
    "start_time": "2025-04-22T13:34:01.384Z"
   },
   {
    "duration": 0,
    "start_time": "2025-04-22T13:34:01.385Z"
   },
   {
    "duration": 0,
    "start_time": "2025-04-22T13:34:01.387Z"
   },
   {
    "duration": 0,
    "start_time": "2025-04-22T13:34:01.388Z"
   },
   {
    "duration": 0,
    "start_time": "2025-04-22T13:34:01.390Z"
   },
   {
    "duration": 0,
    "start_time": "2025-04-22T13:34:01.391Z"
   },
   {
    "duration": 0,
    "start_time": "2025-04-22T13:34:01.412Z"
   },
   {
    "duration": 0,
    "start_time": "2025-04-22T13:34:01.413Z"
   },
   {
    "duration": 0,
    "start_time": "2025-04-22T13:34:01.415Z"
   },
   {
    "duration": 14,
    "start_time": "2025-04-22T13:34:24.963Z"
   },
   {
    "duration": 16,
    "start_time": "2025-04-22T13:34:44.218Z"
   },
   {
    "duration": 12,
    "start_time": "2025-04-22T13:34:53.885Z"
   },
   {
    "duration": 26,
    "start_time": "2025-04-22T13:34:55.373Z"
   },
   {
    "duration": 5,
    "start_time": "2025-04-22T13:34:58.109Z"
   },
   {
    "duration": 6,
    "start_time": "2025-04-22T13:34:59.658Z"
   },
   {
    "duration": 6,
    "start_time": "2025-04-22T13:35:01.559Z"
   },
   {
    "duration": 17,
    "start_time": "2025-04-22T13:35:04.491Z"
   },
   {
    "duration": 250,
    "start_time": "2025-04-22T13:35:06.132Z"
   },
   {
    "duration": 4,
    "start_time": "2025-04-22T13:35:09.364Z"
   },
   {
    "duration": 934,
    "start_time": "2025-04-22T13:35:11.439Z"
   },
   {
    "duration": 1012,
    "start_time": "2025-04-22T13:35:16.409Z"
   },
   {
    "duration": 161,
    "start_time": "2025-04-22T13:35:26.411Z"
   },
   {
    "duration": 823,
    "start_time": "2025-04-22T13:35:33.182Z"
   },
   {
    "duration": 413,
    "start_time": "2025-04-22T13:35:34.007Z"
   },
   {
    "duration": 41,
    "start_time": "2025-04-22T13:35:34.422Z"
   },
   {
    "duration": 47,
    "start_time": "2025-04-22T13:35:34.466Z"
   },
   {
    "duration": 149,
    "start_time": "2025-04-22T13:35:34.514Z"
   },
   {
    "duration": 72,
    "start_time": "2025-04-22T13:35:34.665Z"
   },
   {
    "duration": 9,
    "start_time": "2025-04-22T13:35:34.739Z"
   },
   {
    "duration": 7,
    "start_time": "2025-04-22T13:35:34.749Z"
   },
   {
    "duration": 10,
    "start_time": "2025-04-22T13:35:34.757Z"
   },
   {
    "duration": 43,
    "start_time": "2025-04-22T13:35:34.771Z"
   },
   {
    "duration": 7,
    "start_time": "2025-04-22T13:35:34.816Z"
   },
   {
    "duration": 11,
    "start_time": "2025-04-22T13:35:34.825Z"
   },
   {
    "duration": 3,
    "start_time": "2025-04-22T13:35:34.839Z"
   },
   {
    "duration": 8,
    "start_time": "2025-04-22T13:35:34.843Z"
   },
   {
    "duration": 5,
    "start_time": "2025-04-22T13:35:34.853Z"
   },
   {
    "duration": 58,
    "start_time": "2025-04-22T13:35:34.859Z"
   },
   {
    "duration": 57,
    "start_time": "2025-04-22T13:35:34.919Z"
   },
   {
    "duration": 155,
    "start_time": "2025-04-22T13:35:34.978Z"
   },
   {
    "duration": 5,
    "start_time": "2025-04-22T13:35:35.134Z"
   },
   {
    "duration": 12,
    "start_time": "2025-04-22T13:35:35.140Z"
   },
   {
    "duration": 3,
    "start_time": "2025-04-22T13:35:35.154Z"
   },
   {
    "duration": 8,
    "start_time": "2025-04-22T13:35:35.159Z"
   },
   {
    "duration": 96,
    "start_time": "2025-04-22T13:35:35.169Z"
   },
   {
    "duration": 3,
    "start_time": "2025-04-22T13:35:35.267Z"
   },
   {
    "duration": 7,
    "start_time": "2025-04-22T13:35:35.272Z"
   },
   {
    "duration": 170,
    "start_time": "2025-04-22T13:35:35.280Z"
   },
   {
    "duration": 31,
    "start_time": "2025-04-22T13:35:35.452Z"
   },
   {
    "duration": 113,
    "start_time": "2025-04-22T13:35:35.487Z"
   },
   {
    "duration": 164,
    "start_time": "2025-04-22T13:35:35.602Z"
   },
   {
    "duration": 9,
    "start_time": "2025-04-22T13:35:35.768Z"
   },
   {
    "duration": 61,
    "start_time": "2025-04-22T13:35:35.778Z"
   },
   {
    "duration": 181,
    "start_time": "2025-04-22T13:35:35.841Z"
   },
   {
    "duration": 8,
    "start_time": "2025-04-22T13:35:36.024Z"
   },
   {
    "duration": 5,
    "start_time": "2025-04-22T13:35:36.034Z"
   },
   {
    "duration": 19,
    "start_time": "2025-04-22T13:35:36.040Z"
   },
   {
    "duration": 1735,
    "start_time": "2025-04-22T13:35:36.061Z"
   },
   {
    "duration": 14,
    "start_time": "2025-04-22T13:35:37.798Z"
   },
   {
    "duration": 136,
    "start_time": "2025-04-22T13:35:37.813Z"
   },
   {
    "duration": 49,
    "start_time": "2025-04-22T13:35:37.950Z"
   },
   {
    "duration": 44,
    "start_time": "2025-04-22T13:35:38.000Z"
   },
   {
    "duration": 15,
    "start_time": "2025-04-22T13:35:38.046Z"
   },
   {
    "duration": 19,
    "start_time": "2025-04-22T13:35:38.063Z"
   },
   {
    "duration": 39,
    "start_time": "2025-04-22T13:35:38.084Z"
   },
   {
    "duration": 11,
    "start_time": "2025-04-22T13:35:38.125Z"
   },
   {
    "duration": 24,
    "start_time": "2025-04-22T13:35:38.138Z"
   },
   {
    "duration": 5,
    "start_time": "2025-04-22T13:35:38.163Z"
   },
   {
    "duration": 5,
    "start_time": "2025-04-22T13:35:38.170Z"
   },
   {
    "duration": 5,
    "start_time": "2025-04-22T13:35:38.176Z"
   },
   {
    "duration": 45,
    "start_time": "2025-04-22T13:35:38.182Z"
   },
   {
    "duration": 274,
    "start_time": "2025-04-22T13:35:38.228Z"
   },
   {
    "duration": 10,
    "start_time": "2025-04-22T13:35:38.503Z"
   },
   {
    "duration": 951,
    "start_time": "2025-04-22T13:35:38.515Z"
   },
   {
    "duration": 1014,
    "start_time": "2025-04-22T13:35:39.468Z"
   },
   {
    "duration": 158,
    "start_time": "2025-04-22T13:36:01.440Z"
   },
   {
    "duration": 801,
    "start_time": "2025-04-22T13:36:06.413Z"
   },
   {
    "duration": 402,
    "start_time": "2025-04-22T13:36:07.217Z"
   },
   {
    "duration": 44,
    "start_time": "2025-04-22T13:36:07.620Z"
   },
   {
    "duration": 50,
    "start_time": "2025-04-22T13:36:07.667Z"
   },
   {
    "duration": 153,
    "start_time": "2025-04-22T13:36:07.718Z"
   },
   {
    "duration": 73,
    "start_time": "2025-04-22T13:36:07.873Z"
   },
   {
    "duration": 9,
    "start_time": "2025-04-22T13:36:07.948Z"
   },
   {
    "duration": 7,
    "start_time": "2025-04-22T13:36:07.959Z"
   },
   {
    "duration": 10,
    "start_time": "2025-04-22T13:36:07.967Z"
   },
   {
    "duration": 45,
    "start_time": "2025-04-22T13:36:07.980Z"
   },
   {
    "duration": 10,
    "start_time": "2025-04-22T13:36:08.031Z"
   },
   {
    "duration": 13,
    "start_time": "2025-04-22T13:36:08.042Z"
   },
   {
    "duration": 4,
    "start_time": "2025-04-22T13:36:08.057Z"
   },
   {
    "duration": 9,
    "start_time": "2025-04-22T13:36:08.062Z"
   },
   {
    "duration": 5,
    "start_time": "2025-04-22T13:36:08.073Z"
   },
   {
    "duration": 51,
    "start_time": "2025-04-22T13:36:08.079Z"
   },
   {
    "duration": 56,
    "start_time": "2025-04-22T13:36:08.131Z"
   },
   {
    "duration": 148,
    "start_time": "2025-04-22T13:36:08.189Z"
   },
   {
    "duration": 4,
    "start_time": "2025-04-22T13:36:08.339Z"
   },
   {
    "duration": 12,
    "start_time": "2025-04-22T13:36:08.345Z"
   },
   {
    "duration": 4,
    "start_time": "2025-04-22T13:36:08.358Z"
   },
   {
    "duration": 9,
    "start_time": "2025-04-22T13:36:08.363Z"
   },
   {
    "duration": 100,
    "start_time": "2025-04-22T13:36:08.374Z"
   },
   {
    "duration": 4,
    "start_time": "2025-04-22T13:36:08.476Z"
   },
   {
    "duration": 11,
    "start_time": "2025-04-22T13:36:08.481Z"
   },
   {
    "duration": 169,
    "start_time": "2025-04-22T13:36:08.494Z"
   },
   {
    "duration": 30,
    "start_time": "2025-04-22T13:36:08.664Z"
   },
   {
    "duration": 108,
    "start_time": "2025-04-22T13:36:08.713Z"
   },
   {
    "duration": 164,
    "start_time": "2025-04-22T13:36:08.823Z"
   },
   {
    "duration": 9,
    "start_time": "2025-04-22T13:36:08.989Z"
   },
   {
    "duration": 54,
    "start_time": "2025-04-22T13:36:09.012Z"
   },
   {
    "duration": 185,
    "start_time": "2025-04-22T13:36:09.068Z"
   },
   {
    "duration": 8,
    "start_time": "2025-04-22T13:36:09.255Z"
   },
   {
    "duration": 3,
    "start_time": "2025-04-22T13:36:09.265Z"
   },
   {
    "duration": 20,
    "start_time": "2025-04-22T13:36:09.270Z"
   },
   {
    "duration": 1760,
    "start_time": "2025-04-22T13:36:09.312Z"
   },
   {
    "duration": 7,
    "start_time": "2025-04-22T13:36:11.074Z"
   },
   {
    "duration": 136,
    "start_time": "2025-04-22T13:36:11.082Z"
   },
   {
    "duration": 48,
    "start_time": "2025-04-22T13:36:11.220Z"
   },
   {
    "duration": 42,
    "start_time": "2025-04-22T13:36:11.270Z"
   },
   {
    "duration": 16,
    "start_time": "2025-04-22T13:36:11.313Z"
   },
   {
    "duration": 19,
    "start_time": "2025-04-22T13:36:11.331Z"
   },
   {
    "duration": 16,
    "start_time": "2025-04-22T13:36:11.352Z"
   },
   {
    "duration": 11,
    "start_time": "2025-04-22T13:36:11.369Z"
   },
   {
    "duration": 47,
    "start_time": "2025-04-22T13:36:11.382Z"
   },
   {
    "duration": 5,
    "start_time": "2025-04-22T13:36:11.430Z"
   },
   {
    "duration": 5,
    "start_time": "2025-04-22T13:36:11.438Z"
   },
   {
    "duration": 4,
    "start_time": "2025-04-22T13:36:11.445Z"
   },
   {
    "duration": 19,
    "start_time": "2025-04-22T13:36:11.451Z"
   },
   {
    "duration": 299,
    "start_time": "2025-04-22T13:36:11.472Z"
   },
   {
    "duration": 4,
    "start_time": "2025-04-22T13:36:11.773Z"
   },
   {
    "duration": 947,
    "start_time": "2025-04-22T13:36:11.779Z"
   },
   {
    "duration": 1008,
    "start_time": "2025-04-22T13:36:12.727Z"
   },
   {
    "duration": 35,
    "start_time": "2025-04-22T13:36:13.737Z"
   },
   {
    "duration": 817,
    "start_time": "2025-04-22T13:37:03.888Z"
   },
   {
    "duration": 493,
    "start_time": "2025-04-22T13:37:04.707Z"
   },
   {
    "duration": 38,
    "start_time": "2025-04-22T13:37:05.202Z"
   },
   {
    "duration": 36,
    "start_time": "2025-04-22T13:37:05.242Z"
   },
   {
    "duration": 152,
    "start_time": "2025-04-22T13:37:05.281Z"
   },
   {
    "duration": 61,
    "start_time": "2025-04-22T13:37:05.435Z"
   },
   {
    "duration": 20,
    "start_time": "2025-04-22T13:37:05.498Z"
   },
   {
    "duration": 8,
    "start_time": "2025-04-22T13:37:05.520Z"
   },
   {
    "duration": 10,
    "start_time": "2025-04-22T13:37:05.529Z"
   },
   {
    "duration": 18,
    "start_time": "2025-04-22T13:37:05.541Z"
   },
   {
    "duration": 8,
    "start_time": "2025-04-22T13:37:05.560Z"
   },
   {
    "duration": 44,
    "start_time": "2025-04-22T13:37:05.569Z"
   },
   {
    "duration": 4,
    "start_time": "2025-04-22T13:37:05.614Z"
   },
   {
    "duration": 9,
    "start_time": "2025-04-22T13:37:05.622Z"
   },
   {
    "duration": 5,
    "start_time": "2025-04-22T13:37:05.632Z"
   },
   {
    "duration": 21,
    "start_time": "2025-04-22T13:37:05.638Z"
   },
   {
    "duration": 86,
    "start_time": "2025-04-22T13:37:05.661Z"
   },
   {
    "duration": 137,
    "start_time": "2025-04-22T13:37:05.750Z"
   },
   {
    "duration": 4,
    "start_time": "2025-04-22T13:37:05.889Z"
   },
   {
    "duration": 26,
    "start_time": "2025-04-22T13:37:05.895Z"
   },
   {
    "duration": 3,
    "start_time": "2025-04-22T13:37:05.923Z"
   },
   {
    "duration": 10,
    "start_time": "2025-04-22T13:37:05.928Z"
   },
   {
    "duration": 83,
    "start_time": "2025-04-22T13:37:05.940Z"
   },
   {
    "duration": 3,
    "start_time": "2025-04-22T13:37:06.026Z"
   },
   {
    "duration": 8,
    "start_time": "2025-04-22T13:37:06.031Z"
   },
   {
    "duration": 162,
    "start_time": "2025-04-22T13:37:06.040Z"
   },
   {
    "duration": 34,
    "start_time": "2025-04-22T13:37:06.205Z"
   },
   {
    "duration": 113,
    "start_time": "2025-04-22T13:37:06.241Z"
   },
   {
    "duration": 165,
    "start_time": "2025-04-22T13:37:06.356Z"
   },
   {
    "duration": 10,
    "start_time": "2025-04-22T13:37:06.523Z"
   },
   {
    "duration": 54,
    "start_time": "2025-04-22T13:37:06.534Z"
   },
   {
    "duration": 204,
    "start_time": "2025-04-22T13:37:06.590Z"
   },
   {
    "duration": 9,
    "start_time": "2025-04-22T13:37:06.795Z"
   },
   {
    "duration": 3,
    "start_time": "2025-04-22T13:37:06.813Z"
   },
   {
    "duration": 19,
    "start_time": "2025-04-22T13:37:06.818Z"
   },
   {
    "duration": 1756,
    "start_time": "2025-04-22T13:37:06.839Z"
   },
   {
    "duration": 15,
    "start_time": "2025-04-22T13:37:08.597Z"
   },
   {
    "duration": 131,
    "start_time": "2025-04-22T13:37:08.613Z"
   },
   {
    "duration": 48,
    "start_time": "2025-04-22T13:37:08.745Z"
   },
   {
    "duration": 47,
    "start_time": "2025-04-22T13:37:08.795Z"
   },
   {
    "duration": 16,
    "start_time": "2025-04-22T13:37:08.847Z"
   },
   {
    "duration": 19,
    "start_time": "2025-04-22T13:37:08.865Z"
   },
   {
    "duration": 42,
    "start_time": "2025-04-22T13:37:08.886Z"
   },
   {
    "duration": 12,
    "start_time": "2025-04-22T13:37:08.929Z"
   },
   {
    "duration": 24,
    "start_time": "2025-04-22T13:37:08.942Z"
   },
   {
    "duration": 4,
    "start_time": "2025-04-22T13:37:08.969Z"
   },
   {
    "duration": 6,
    "start_time": "2025-04-22T13:37:08.975Z"
   },
   {
    "duration": 35,
    "start_time": "2025-04-22T13:37:08.982Z"
   },
   {
    "duration": 17,
    "start_time": "2025-04-22T13:37:09.019Z"
   },
   {
    "duration": 271,
    "start_time": "2025-04-22T13:37:09.037Z"
   },
   {
    "duration": 4,
    "start_time": "2025-04-22T13:37:09.312Z"
   },
   {
    "duration": 941,
    "start_time": "2025-04-22T13:37:09.317Z"
   },
   {
    "duration": 1000,
    "start_time": "2025-04-22T13:37:10.259Z"
   },
   {
    "duration": 35,
    "start_time": "2025-04-22T13:37:11.261Z"
   },
   {
    "duration": 167,
    "start_time": "2025-04-22T13:37:35.033Z"
   },
   {
    "duration": 820,
    "start_time": "2025-04-22T13:37:42.378Z"
   },
   {
    "duration": 460,
    "start_time": "2025-04-22T13:37:43.200Z"
   },
   {
    "duration": 38,
    "start_time": "2025-04-22T13:37:43.662Z"
   },
   {
    "duration": 47,
    "start_time": "2025-04-22T13:37:43.702Z"
   },
   {
    "duration": 149,
    "start_time": "2025-04-22T13:37:43.753Z"
   },
   {
    "duration": 77,
    "start_time": "2025-04-22T13:37:43.904Z"
   },
   {
    "duration": 10,
    "start_time": "2025-04-22T13:37:43.983Z"
   },
   {
    "duration": 21,
    "start_time": "2025-04-22T13:37:43.995Z"
   },
   {
    "duration": 10,
    "start_time": "2025-04-22T13:37:44.017Z"
   },
   {
    "duration": 19,
    "start_time": "2025-04-22T13:37:44.028Z"
   },
   {
    "duration": 8,
    "start_time": "2025-04-22T13:37:44.049Z"
   },
   {
    "duration": 12,
    "start_time": "2025-04-22T13:37:44.058Z"
   },
   {
    "duration": 4,
    "start_time": "2025-04-22T13:37:44.072Z"
   },
   {
    "duration": 8,
    "start_time": "2025-04-22T13:37:44.114Z"
   },
   {
    "duration": 5,
    "start_time": "2025-04-22T13:37:44.124Z"
   },
   {
    "duration": 22,
    "start_time": "2025-04-22T13:37:44.130Z"
   },
   {
    "duration": 84,
    "start_time": "2025-04-22T13:37:44.154Z"
   },
   {
    "duration": 139,
    "start_time": "2025-04-22T13:37:44.240Z"
   },
   {
    "duration": 4,
    "start_time": "2025-04-22T13:37:44.381Z"
   },
   {
    "duration": 26,
    "start_time": "2025-04-22T13:37:44.387Z"
   },
   {
    "duration": 4,
    "start_time": "2025-04-22T13:37:44.415Z"
   },
   {
    "duration": 9,
    "start_time": "2025-04-22T13:37:44.420Z"
   },
   {
    "duration": 87,
    "start_time": "2025-04-22T13:37:44.431Z"
   },
   {
    "duration": 3,
    "start_time": "2025-04-22T13:37:44.520Z"
   },
   {
    "duration": 8,
    "start_time": "2025-04-22T13:37:44.525Z"
   },
   {
    "duration": 173,
    "start_time": "2025-04-22T13:37:44.534Z"
   },
   {
    "duration": 32,
    "start_time": "2025-04-22T13:37:44.711Z"
   },
   {
    "duration": 113,
    "start_time": "2025-04-22T13:37:44.745Z"
   },
   {
    "duration": 168,
    "start_time": "2025-04-22T13:37:44.859Z"
   },
   {
    "duration": 13,
    "start_time": "2025-04-22T13:37:45.029Z"
   },
   {
    "duration": 53,
    "start_time": "2025-04-22T13:37:45.043Z"
   },
   {
    "duration": 188,
    "start_time": "2025-04-22T13:37:45.112Z"
   },
   {
    "duration": 17,
    "start_time": "2025-04-22T13:37:45.301Z"
   },
   {
    "duration": 4,
    "start_time": "2025-04-22T13:37:45.319Z"
   },
   {
    "duration": 20,
    "start_time": "2025-04-22T13:37:45.325Z"
   },
   {
    "duration": 1733,
    "start_time": "2025-04-22T13:37:45.346Z"
   },
   {
    "duration": 7,
    "start_time": "2025-04-22T13:37:47.081Z"
   },
   {
    "duration": 141,
    "start_time": "2025-04-22T13:37:47.089Z"
   },
   {
    "duration": 49,
    "start_time": "2025-04-22T13:37:47.232Z"
   },
   {
    "duration": 42,
    "start_time": "2025-04-22T13:37:47.283Z"
   },
   {
    "duration": 16,
    "start_time": "2025-04-22T13:37:47.330Z"
   },
   {
    "duration": 19,
    "start_time": "2025-04-22T13:37:47.347Z"
   },
   {
    "duration": 14,
    "start_time": "2025-04-22T13:37:47.367Z"
   },
   {
    "duration": 36,
    "start_time": "2025-04-22T13:37:47.383Z"
   },
   {
    "duration": 24,
    "start_time": "2025-04-22T13:37:47.421Z"
   },
   {
    "duration": 5,
    "start_time": "2025-04-22T13:37:47.446Z"
   },
   {
    "duration": 5,
    "start_time": "2025-04-22T13:37:47.453Z"
   },
   {
    "duration": 5,
    "start_time": "2025-04-22T13:37:47.460Z"
   },
   {
    "duration": 45,
    "start_time": "2025-04-22T13:37:47.467Z"
   },
   {
    "duration": 275,
    "start_time": "2025-04-22T13:37:47.514Z"
   },
   {
    "duration": 4,
    "start_time": "2025-04-22T13:37:47.790Z"
   },
   {
    "duration": 966,
    "start_time": "2025-04-22T13:37:47.795Z"
   },
   {
    "duration": 1011,
    "start_time": "2025-04-22T13:37:48.763Z"
   },
   {
    "duration": 43,
    "start_time": "2025-04-22T13:37:49.777Z"
   },
   {
    "duration": 169,
    "start_time": "2025-04-22T13:39:16.888Z"
   },
   {
    "duration": 13,
    "start_time": "2025-04-22T13:40:05.833Z"
   },
   {
    "duration": 814,
    "start_time": "2025-04-22T13:40:12.582Z"
   },
   {
    "duration": 403,
    "start_time": "2025-04-22T13:40:13.398Z"
   },
   {
    "duration": 38,
    "start_time": "2025-04-22T13:40:13.803Z"
   },
   {
    "duration": 40,
    "start_time": "2025-04-22T13:40:13.843Z"
   },
   {
    "duration": 155,
    "start_time": "2025-04-22T13:40:13.886Z"
   },
   {
    "duration": 71,
    "start_time": "2025-04-22T13:40:14.043Z"
   },
   {
    "duration": 9,
    "start_time": "2025-04-22T13:40:14.116Z"
   },
   {
    "duration": 6,
    "start_time": "2025-04-22T13:40:14.126Z"
   },
   {
    "duration": 11,
    "start_time": "2025-04-22T13:40:14.134Z"
   },
   {
    "duration": 19,
    "start_time": "2025-04-22T13:40:14.146Z"
   },
   {
    "duration": 8,
    "start_time": "2025-04-22T13:40:14.167Z"
   },
   {
    "duration": 45,
    "start_time": "2025-04-22T13:40:14.177Z"
   },
   {
    "duration": 4,
    "start_time": "2025-04-22T13:40:14.223Z"
   },
   {
    "duration": 8,
    "start_time": "2025-04-22T13:40:14.231Z"
   },
   {
    "duration": 5,
    "start_time": "2025-04-22T13:40:14.240Z"
   },
   {
    "duration": 22,
    "start_time": "2025-04-22T13:40:14.247Z"
   },
   {
    "duration": 88,
    "start_time": "2025-04-22T13:40:14.270Z"
   },
   {
    "duration": 142,
    "start_time": "2025-04-22T13:40:14.360Z"
   },
   {
    "duration": 10,
    "start_time": "2025-04-22T13:40:14.504Z"
   },
   {
    "duration": 12,
    "start_time": "2025-04-22T13:40:14.516Z"
   },
   {
    "duration": 3,
    "start_time": "2025-04-22T13:40:14.529Z"
   },
   {
    "duration": 10,
    "start_time": "2025-04-22T13:40:14.534Z"
   },
   {
    "duration": 89,
    "start_time": "2025-04-22T13:40:14.546Z"
   },
   {
    "duration": 3,
    "start_time": "2025-04-22T13:40:14.636Z"
   },
   {
    "duration": 8,
    "start_time": "2025-04-22T13:40:14.642Z"
   },
   {
    "duration": 166,
    "start_time": "2025-04-22T13:40:14.651Z"
   },
   {
    "duration": 32,
    "start_time": "2025-04-22T13:40:14.819Z"
   },
   {
    "duration": 121,
    "start_time": "2025-04-22T13:40:14.853Z"
   },
   {
    "duration": 172,
    "start_time": "2025-04-22T13:40:14.976Z"
   },
   {
    "duration": 9,
    "start_time": "2025-04-22T13:40:15.150Z"
   },
   {
    "duration": 64,
    "start_time": "2025-04-22T13:40:15.161Z"
   },
   {
    "duration": 186,
    "start_time": "2025-04-22T13:40:15.227Z"
   },
   {
    "duration": 8,
    "start_time": "2025-04-22T13:40:15.416Z"
   },
   {
    "duration": 3,
    "start_time": "2025-04-22T13:40:15.426Z"
   },
   {
    "duration": 18,
    "start_time": "2025-04-22T13:40:15.432Z"
   },
   {
    "duration": 1720,
    "start_time": "2025-04-22T13:40:15.452Z"
   },
   {
    "duration": 7,
    "start_time": "2025-04-22T13:40:17.175Z"
   },
   {
    "duration": 138,
    "start_time": "2025-04-22T13:40:17.183Z"
   },
   {
    "duration": 48,
    "start_time": "2025-04-22T13:40:17.323Z"
   },
   {
    "duration": 43,
    "start_time": "2025-04-22T13:40:17.373Z"
   },
   {
    "duration": 16,
    "start_time": "2025-04-22T13:40:17.422Z"
   },
   {
    "duration": 19,
    "start_time": "2025-04-22T13:40:17.440Z"
   },
   {
    "duration": 14,
    "start_time": "2025-04-22T13:40:17.461Z"
   },
   {
    "duration": 40,
    "start_time": "2025-04-22T13:40:17.477Z"
   },
   {
    "duration": 24,
    "start_time": "2025-04-22T13:40:17.519Z"
   },
   {
    "duration": 5,
    "start_time": "2025-04-22T13:40:17.545Z"
   },
   {
    "duration": 5,
    "start_time": "2025-04-22T13:40:17.552Z"
   },
   {
    "duration": 5,
    "start_time": "2025-04-22T13:40:17.559Z"
   },
   {
    "duration": 47,
    "start_time": "2025-04-22T13:40:17.566Z"
   },
   {
    "duration": 257,
    "start_time": "2025-04-22T13:40:17.615Z"
   },
   {
    "duration": 5,
    "start_time": "2025-04-22T13:40:17.874Z"
   },
   {
    "duration": 962,
    "start_time": "2025-04-22T13:40:17.880Z"
   },
   {
    "duration": 1022,
    "start_time": "2025-04-22T13:40:18.844Z"
   },
   {
    "duration": 35,
    "start_time": "2025-04-22T13:40:19.867Z"
   },
   {
    "duration": 873,
    "start_time": "2025-04-22T13:41:19.029Z"
   },
   {
    "duration": 444,
    "start_time": "2025-04-22T13:41:19.905Z"
   },
   {
    "duration": 41,
    "start_time": "2025-04-22T13:41:20.351Z"
   },
   {
    "duration": 44,
    "start_time": "2025-04-22T13:41:20.395Z"
   },
   {
    "duration": 146,
    "start_time": "2025-04-22T13:41:20.442Z"
   },
   {
    "duration": 69,
    "start_time": "2025-04-22T13:41:20.590Z"
   },
   {
    "duration": 10,
    "start_time": "2025-04-22T13:41:20.661Z"
   },
   {
    "duration": 7,
    "start_time": "2025-04-22T13:41:20.673Z"
   },
   {
    "duration": 31,
    "start_time": "2025-04-22T13:41:20.681Z"
   },
   {
    "duration": 18,
    "start_time": "2025-04-22T13:41:20.716Z"
   },
   {
    "duration": 9,
    "start_time": "2025-04-22T13:41:20.735Z"
   },
   {
    "duration": 12,
    "start_time": "2025-04-22T13:41:20.745Z"
   },
   {
    "duration": 4,
    "start_time": "2025-04-22T13:41:20.759Z"
   },
   {
    "duration": 9,
    "start_time": "2025-04-22T13:41:20.765Z"
   },
   {
    "duration": 5,
    "start_time": "2025-04-22T13:41:20.812Z"
   },
   {
    "duration": 22,
    "start_time": "2025-04-22T13:41:20.819Z"
   },
   {
    "duration": 72,
    "start_time": "2025-04-22T13:41:20.843Z"
   },
   {
    "duration": 144,
    "start_time": "2025-04-22T13:41:20.916Z"
   },
   {
    "duration": 4,
    "start_time": "2025-04-22T13:41:21.062Z"
   },
   {
    "duration": 13,
    "start_time": "2025-04-22T13:41:21.068Z"
   },
   {
    "duration": 4,
    "start_time": "2025-04-22T13:41:21.082Z"
   },
   {
    "duration": 29,
    "start_time": "2025-04-22T13:41:21.088Z"
   },
   {
    "duration": 69,
    "start_time": "2025-04-22T13:41:21.119Z"
   },
   {
    "duration": 3,
    "start_time": "2025-04-22T13:41:21.190Z"
   },
   {
    "duration": 23,
    "start_time": "2025-04-22T13:41:21.194Z"
   },
   {
    "duration": 158,
    "start_time": "2025-04-22T13:41:21.219Z"
   },
   {
    "duration": 38,
    "start_time": "2025-04-22T13:41:21.379Z"
   },
   {
    "duration": 110,
    "start_time": "2025-04-22T13:41:21.422Z"
   },
   {
    "duration": 157,
    "start_time": "2025-04-22T13:41:21.534Z"
   },
   {
    "duration": 10,
    "start_time": "2025-04-22T13:41:21.693Z"
   },
   {
    "duration": 52,
    "start_time": "2025-04-22T13:41:21.711Z"
   },
   {
    "duration": 189,
    "start_time": "2025-04-22T13:41:21.765Z"
   },
   {
    "duration": 8,
    "start_time": "2025-04-22T13:41:21.956Z"
   },
   {
    "duration": 3,
    "start_time": "2025-04-22T13:41:21.966Z"
   },
   {
    "duration": 20,
    "start_time": "2025-04-22T13:41:21.970Z"
   },
   {
    "duration": 1725,
    "start_time": "2025-04-22T13:41:21.992Z"
   },
   {
    "duration": 6,
    "start_time": "2025-04-22T13:41:23.719Z"
   },
   {
    "duration": 134,
    "start_time": "2025-04-22T13:41:23.727Z"
   },
   {
    "duration": 57,
    "start_time": "2025-04-22T13:41:23.863Z"
   },
   {
    "duration": 33,
    "start_time": "2025-04-22T13:41:23.921Z"
   },
   {
    "duration": 16,
    "start_time": "2025-04-22T13:41:23.956Z"
   },
   {
    "duration": 40,
    "start_time": "2025-04-22T13:41:23.973Z"
   },
   {
    "duration": 16,
    "start_time": "2025-04-22T13:41:24.014Z"
   },
   {
    "duration": 11,
    "start_time": "2025-04-22T13:41:24.032Z"
   },
   {
    "duration": 23,
    "start_time": "2025-04-22T13:41:24.045Z"
   },
   {
    "duration": 4,
    "start_time": "2025-04-22T13:41:24.070Z"
   },
   {
    "duration": 37,
    "start_time": "2025-04-22T13:41:24.076Z"
   },
   {
    "duration": 6,
    "start_time": "2025-04-22T13:41:24.114Z"
   },
   {
    "duration": 17,
    "start_time": "2025-04-22T13:41:24.122Z"
   },
   {
    "duration": 262,
    "start_time": "2025-04-22T13:41:24.140Z"
   },
   {
    "duration": 9,
    "start_time": "2025-04-22T13:41:24.404Z"
   },
   {
    "duration": 942,
    "start_time": "2025-04-22T13:41:24.415Z"
   },
   {
    "duration": 1003,
    "start_time": "2025-04-22T13:41:25.359Z"
   },
   {
    "duration": 35,
    "start_time": "2025-04-22T13:41:26.364Z"
   },
   {
    "duration": 156,
    "start_time": "2025-04-22T13:42:22.266Z"
   },
   {
    "duration": 874,
    "start_time": "2025-04-22T13:42:35.822Z"
   },
   {
    "duration": 412,
    "start_time": "2025-04-22T13:42:36.698Z"
   },
   {
    "duration": 38,
    "start_time": "2025-04-22T13:42:37.112Z"
   },
   {
    "duration": 37,
    "start_time": "2025-04-22T13:42:37.152Z"
   },
   {
    "duration": 162,
    "start_time": "2025-04-22T13:42:37.192Z"
   },
   {
    "duration": 69,
    "start_time": "2025-04-22T13:42:37.355Z"
   },
   {
    "duration": 9,
    "start_time": "2025-04-22T13:42:37.425Z"
   },
   {
    "duration": 7,
    "start_time": "2025-04-22T13:42:37.436Z"
   },
   {
    "duration": 10,
    "start_time": "2025-04-22T13:42:37.444Z"
   },
   {
    "duration": 18,
    "start_time": "2025-04-22T13:42:37.456Z"
   },
   {
    "duration": 37,
    "start_time": "2025-04-22T13:42:37.476Z"
   },
   {
    "duration": 12,
    "start_time": "2025-04-22T13:42:37.515Z"
   },
   {
    "duration": 4,
    "start_time": "2025-04-22T13:42:37.528Z"
   },
   {
    "duration": 9,
    "start_time": "2025-04-22T13:42:37.535Z"
   },
   {
    "duration": 4,
    "start_time": "2025-04-22T13:42:37.545Z"
   },
   {
    "duration": 22,
    "start_time": "2025-04-22T13:42:37.551Z"
   },
   {
    "duration": 88,
    "start_time": "2025-04-22T13:42:37.575Z"
   },
   {
    "duration": 145,
    "start_time": "2025-04-22T13:42:37.665Z"
   },
   {
    "duration": 3,
    "start_time": "2025-04-22T13:42:37.812Z"
   },
   {
    "duration": 13,
    "start_time": "2025-04-22T13:42:37.817Z"
   },
   {
    "duration": 4,
    "start_time": "2025-04-22T13:42:37.832Z"
   },
   {
    "duration": 9,
    "start_time": "2025-04-22T13:42:37.838Z"
   },
   {
    "duration": 94,
    "start_time": "2025-04-22T13:42:37.848Z"
   },
   {
    "duration": 3,
    "start_time": "2025-04-22T13:42:37.944Z"
   },
   {
    "duration": 9,
    "start_time": "2025-04-22T13:42:37.948Z"
   },
   {
    "duration": 170,
    "start_time": "2025-04-22T13:42:37.958Z"
   },
   {
    "duration": 31,
    "start_time": "2025-04-22T13:42:38.129Z"
   },
   {
    "duration": 118,
    "start_time": "2025-04-22T13:42:38.162Z"
   },
   {
    "duration": 163,
    "start_time": "2025-04-22T13:42:38.282Z"
   },
   {
    "duration": 10,
    "start_time": "2025-04-22T13:42:38.447Z"
   },
   {
    "duration": 77,
    "start_time": "2025-04-22T13:42:38.458Z"
   },
   {
    "duration": 191,
    "start_time": "2025-04-22T13:42:38.538Z"
   },
   {
    "duration": 9,
    "start_time": "2025-04-22T13:42:38.731Z"
   },
   {
    "duration": 3,
    "start_time": "2025-04-22T13:42:38.741Z"
   },
   {
    "duration": 18,
    "start_time": "2025-04-22T13:42:38.746Z"
   },
   {
    "duration": 1769,
    "start_time": "2025-04-22T13:42:38.765Z"
   },
   {
    "duration": 7,
    "start_time": "2025-04-22T13:42:40.536Z"
   },
   {
    "duration": 136,
    "start_time": "2025-04-22T13:42:40.544Z"
   },
   {
    "duration": 53,
    "start_time": "2025-04-22T13:42:40.683Z"
   },
   {
    "duration": 29,
    "start_time": "2025-04-22T13:42:40.738Z"
   },
   {
    "duration": 15,
    "start_time": "2025-04-22T13:42:40.771Z"
   },
   {
    "duration": 36,
    "start_time": "2025-04-22T13:42:40.788Z"
   },
   {
    "duration": 15,
    "start_time": "2025-04-22T13:42:40.825Z"
   },
   {
    "duration": 11,
    "start_time": "2025-04-22T13:42:40.842Z"
   },
   {
    "duration": 24,
    "start_time": "2025-04-22T13:42:40.854Z"
   },
   {
    "duration": 32,
    "start_time": "2025-04-22T13:42:40.880Z"
   },
   {
    "duration": 6,
    "start_time": "2025-04-22T13:42:40.913Z"
   },
   {
    "duration": 5,
    "start_time": "2025-04-22T13:42:40.920Z"
   },
   {
    "duration": 15,
    "start_time": "2025-04-22T13:42:40.927Z"
   },
   {
    "duration": 276,
    "start_time": "2025-04-22T13:42:40.943Z"
   },
   {
    "duration": 3,
    "start_time": "2025-04-22T13:42:41.221Z"
   },
   {
    "duration": 939,
    "start_time": "2025-04-22T13:42:41.226Z"
   },
   {
    "duration": 1013,
    "start_time": "2025-04-22T13:42:42.167Z"
   },
   {
    "duration": 43,
    "start_time": "2025-04-22T13:42:43.182Z"
   },
   {
    "duration": 2,
    "start_time": "2025-04-22T13:42:43.227Z"
   },
   {
    "duration": 17,
    "start_time": "2025-04-22T13:42:43.231Z"
   },
   {
    "duration": 9,
    "start_time": "2025-04-22T13:44:57.905Z"
   },
   {
    "duration": 10,
    "start_time": "2025-04-22T13:45:14.868Z"
   },
   {
    "duration": 74,
    "start_time": "2025-04-22T13:45:30.774Z"
   },
   {
    "duration": 90,
    "start_time": "2025-04-22T13:45:38.337Z"
   },
   {
    "duration": 97,
    "start_time": "2025-04-22T13:46:39.395Z"
   },
   {
    "duration": 121,
    "start_time": "2025-04-22T13:47:36.464Z"
   },
   {
    "duration": 126,
    "start_time": "2025-04-22T13:47:40.969Z"
   },
   {
    "duration": 51,
    "start_time": "2025-04-22T13:49:04.932Z"
   },
   {
    "duration": 55,
    "start_time": "2025-04-22T13:49:10.236Z"
   },
   {
    "duration": 214,
    "start_time": "2025-04-22T13:49:48.161Z"
   },
   {
    "duration": 183,
    "start_time": "2025-04-22T13:50:02.249Z"
   },
   {
    "duration": 15,
    "start_time": "2025-04-22T13:50:26.681Z"
   },
   {
    "duration": 14,
    "start_time": "2025-04-22T13:50:34.567Z"
   },
   {
    "duration": 176,
    "start_time": "2025-04-22T13:50:39.235Z"
   },
   {
    "duration": 3,
    "start_time": "2025-04-22T13:53:49.789Z"
   },
   {
    "duration": 4,
    "start_time": "2025-04-22T13:54:02.427Z"
   },
   {
    "duration": 3,
    "start_time": "2025-04-22T13:54:28.432Z"
   },
   {
    "duration": 5,
    "start_time": "2025-04-22T13:54:35.699Z"
   },
   {
    "duration": 9,
    "start_time": "2025-04-22T13:54:50.134Z"
   },
   {
    "duration": 3,
    "start_time": "2025-04-22T13:54:55.265Z"
   },
   {
    "duration": 4,
    "start_time": "2025-04-22T13:55:03.626Z"
   },
   {
    "duration": 3,
    "start_time": "2025-04-22T13:55:17.749Z"
   },
   {
    "duration": 3,
    "start_time": "2025-04-22T13:55:31.408Z"
   },
   {
    "duration": 4,
    "start_time": "2025-04-22T13:55:38.394Z"
   },
   {
    "duration": 4,
    "start_time": "2025-04-22T13:55:47.920Z"
   },
   {
    "duration": 4,
    "start_time": "2025-04-22T13:56:23.226Z"
   },
   {
    "duration": 5,
    "start_time": "2025-04-22T13:56:38.965Z"
   },
   {
    "duration": 3,
    "start_time": "2025-04-22T13:57:21.747Z"
   },
   {
    "duration": 22,
    "start_time": "2025-04-22T13:58:40.626Z"
   },
   {
    "duration": 55,
    "start_time": "2025-04-22T13:59:07.157Z"
   },
   {
    "duration": 20,
    "start_time": "2025-04-22T13:59:11.378Z"
   },
   {
    "duration": 14,
    "start_time": "2025-04-22T13:59:25.746Z"
   },
   {
    "duration": 5,
    "start_time": "2025-04-22T13:59:32.681Z"
   },
   {
    "duration": 161,
    "start_time": "2025-04-22T13:59:52.279Z"
   },
   {
    "duration": 11,
    "start_time": "2025-04-22T13:59:55.458Z"
   },
   {
    "duration": 13,
    "start_time": "2025-04-22T14:00:16.161Z"
   },
   {
    "duration": 813,
    "start_time": "2025-04-22T14:01:40.313Z"
   },
   {
    "duration": 430,
    "start_time": "2025-04-22T14:01:41.129Z"
   },
   {
    "duration": 38,
    "start_time": "2025-04-22T14:01:41.563Z"
   },
   {
    "duration": 39,
    "start_time": "2025-04-22T14:01:41.602Z"
   },
   {
    "duration": 147,
    "start_time": "2025-04-22T14:01:41.643Z"
   },
   {
    "duration": 66,
    "start_time": "2025-04-22T14:01:41.791Z"
   },
   {
    "duration": 10,
    "start_time": "2025-04-22T14:01:41.858Z"
   },
   {
    "duration": 6,
    "start_time": "2025-04-22T14:01:41.871Z"
   },
   {
    "duration": 33,
    "start_time": "2025-04-22T14:01:41.880Z"
   },
   {
    "duration": 18,
    "start_time": "2025-04-22T14:01:41.914Z"
   },
   {
    "duration": 8,
    "start_time": "2025-04-22T14:01:41.933Z"
   },
   {
    "duration": 11,
    "start_time": "2025-04-22T14:01:41.943Z"
   },
   {
    "duration": 5,
    "start_time": "2025-04-22T14:01:41.955Z"
   },
   {
    "duration": 9,
    "start_time": "2025-04-22T14:01:41.963Z"
   },
   {
    "duration": 40,
    "start_time": "2025-04-22T14:01:41.973Z"
   },
   {
    "duration": 22,
    "start_time": "2025-04-22T14:01:42.015Z"
   },
   {
    "duration": 73,
    "start_time": "2025-04-22T14:01:42.038Z"
   },
   {
    "duration": 140,
    "start_time": "2025-04-22T14:01:42.113Z"
   },
   {
    "duration": 4,
    "start_time": "2025-04-22T14:01:42.254Z"
   },
   {
    "duration": 13,
    "start_time": "2025-04-22T14:01:42.259Z"
   },
   {
    "duration": 4,
    "start_time": "2025-04-22T14:01:42.274Z"
   },
   {
    "duration": 32,
    "start_time": "2025-04-22T14:01:42.280Z"
   },
   {
    "duration": 69,
    "start_time": "2025-04-22T14:01:42.314Z"
   },
   {
    "duration": 4,
    "start_time": "2025-04-22T14:01:42.384Z"
   },
   {
    "duration": 27,
    "start_time": "2025-04-22T14:01:42.390Z"
   },
   {
    "duration": 153,
    "start_time": "2025-04-22T14:01:42.418Z"
   },
   {
    "duration": 40,
    "start_time": "2025-04-22T14:01:42.573Z"
   },
   {
    "duration": 111,
    "start_time": "2025-04-22T14:01:42.614Z"
   },
   {
    "duration": 160,
    "start_time": "2025-04-22T14:01:42.727Z"
   },
   {
    "duration": 9,
    "start_time": "2025-04-22T14:01:42.889Z"
   },
   {
    "duration": 64,
    "start_time": "2025-04-22T14:01:42.899Z"
   },
   {
    "duration": 190,
    "start_time": "2025-04-22T14:01:42.965Z"
   },
   {
    "duration": 8,
    "start_time": "2025-04-22T14:01:43.157Z"
   },
   {
    "duration": 3,
    "start_time": "2025-04-22T14:01:43.167Z"
   },
   {
    "duration": 41,
    "start_time": "2025-04-22T14:01:43.172Z"
   },
   {
    "duration": 1717,
    "start_time": "2025-04-22T14:01:43.215Z"
   },
   {
    "duration": 7,
    "start_time": "2025-04-22T14:01:44.934Z"
   },
   {
    "duration": 147,
    "start_time": "2025-04-22T14:01:44.942Z"
   },
   {
    "duration": 60,
    "start_time": "2025-04-22T14:01:45.091Z"
   },
   {
    "duration": 30,
    "start_time": "2025-04-22T14:01:45.153Z"
   },
   {
    "duration": 27,
    "start_time": "2025-04-22T14:01:45.187Z"
   },
   {
    "duration": 19,
    "start_time": "2025-04-22T14:01:45.216Z"
   },
   {
    "duration": 15,
    "start_time": "2025-04-22T14:01:45.237Z"
   },
   {
    "duration": 11,
    "start_time": "2025-04-22T14:01:45.254Z"
   },
   {
    "duration": 48,
    "start_time": "2025-04-22T14:01:45.267Z"
   },
   {
    "duration": 5,
    "start_time": "2025-04-22T14:01:45.316Z"
   },
   {
    "duration": 8,
    "start_time": "2025-04-22T14:01:45.322Z"
   },
   {
    "duration": 6,
    "start_time": "2025-04-22T14:01:45.332Z"
   },
   {
    "duration": 15,
    "start_time": "2025-04-22T14:01:45.340Z"
   },
   {
    "duration": 288,
    "start_time": "2025-04-22T14:01:45.356Z"
   },
   {
    "duration": 4,
    "start_time": "2025-04-22T14:01:45.646Z"
   },
   {
    "duration": 953,
    "start_time": "2025-04-22T14:01:45.652Z"
   },
   {
    "duration": 1015,
    "start_time": "2025-04-22T14:01:46.612Z"
   },
   {
    "duration": 34,
    "start_time": "2025-04-22T14:01:47.629Z"
   },
   {
    "duration": 2,
    "start_time": "2025-04-22T14:01:47.665Z"
   },
   {
    "duration": 161,
    "start_time": "2025-04-22T14:01:47.669Z"
   },
   {
    "duration": 56,
    "start_time": "2025-04-22T14:01:47.832Z"
   },
   {
    "duration": 453,
    "start_time": "2025-04-22T14:01:47.890Z"
   },
   {
    "duration": 0,
    "start_time": "2025-04-22T14:01:48.345Z"
   },
   {
    "duration": 0,
    "start_time": "2025-04-22T14:01:48.346Z"
   },
   {
    "duration": 5,
    "start_time": "2025-04-22T14:02:27.213Z"
   },
   {
    "duration": 126,
    "start_time": "2025-04-22T14:02:30.197Z"
   },
   {
    "duration": 873,
    "start_time": "2025-04-22T14:03:28.934Z"
   },
   {
    "duration": 440,
    "start_time": "2025-04-22T14:03:29.809Z"
   },
   {
    "duration": 40,
    "start_time": "2025-04-22T14:03:30.251Z"
   },
   {
    "duration": 38,
    "start_time": "2025-04-22T14:03:30.293Z"
   },
   {
    "duration": 152,
    "start_time": "2025-04-22T14:03:30.334Z"
   },
   {
    "duration": 72,
    "start_time": "2025-04-22T14:03:30.488Z"
   },
   {
    "duration": 9,
    "start_time": "2025-04-22T14:03:30.562Z"
   },
   {
    "duration": 10,
    "start_time": "2025-04-22T14:03:30.573Z"
   },
   {
    "duration": 26,
    "start_time": "2025-04-22T14:03:30.585Z"
   },
   {
    "duration": 19,
    "start_time": "2025-04-22T14:03:30.613Z"
   },
   {
    "duration": 9,
    "start_time": "2025-04-22T14:03:30.633Z"
   },
   {
    "duration": 12,
    "start_time": "2025-04-22T14:03:30.643Z"
   },
   {
    "duration": 4,
    "start_time": "2025-04-22T14:03:30.656Z"
   },
   {
    "duration": 8,
    "start_time": "2025-04-22T14:03:30.664Z"
   },
   {
    "duration": 38,
    "start_time": "2025-04-22T14:03:30.674Z"
   },
   {
    "duration": 24,
    "start_time": "2025-04-22T14:03:30.713Z"
   },
   {
    "duration": 56,
    "start_time": "2025-04-22T14:03:30.738Z"
   },
   {
    "duration": 138,
    "start_time": "2025-04-22T14:03:30.811Z"
   },
   {
    "duration": 3,
    "start_time": "2025-04-22T14:03:30.951Z"
   },
   {
    "duration": 12,
    "start_time": "2025-04-22T14:03:30.956Z"
   },
   {
    "duration": 4,
    "start_time": "2025-04-22T14:03:30.970Z"
   },
   {
    "duration": 10,
    "start_time": "2025-04-22T14:03:30.976Z"
   },
   {
    "duration": 90,
    "start_time": "2025-04-22T14:03:30.988Z"
   },
   {
    "duration": 4,
    "start_time": "2025-04-22T14:03:31.080Z"
   },
   {
    "duration": 26,
    "start_time": "2025-04-22T14:03:31.085Z"
   },
   {
    "duration": 154,
    "start_time": "2025-04-22T14:03:31.113Z"
   },
   {
    "duration": 31,
    "start_time": "2025-04-22T14:03:31.269Z"
   },
   {
    "duration": 102,
    "start_time": "2025-04-22T14:03:31.311Z"
   },
   {
    "duration": 159,
    "start_time": "2025-04-22T14:03:31.415Z"
   },
   {
    "duration": 9,
    "start_time": "2025-04-22T14:03:31.576Z"
   },
   {
    "duration": 65,
    "start_time": "2025-04-22T14:03:31.587Z"
   },
   {
    "duration": 188,
    "start_time": "2025-04-22T14:03:31.654Z"
   },
   {
    "duration": 8,
    "start_time": "2025-04-22T14:03:31.843Z"
   },
   {
    "duration": 3,
    "start_time": "2025-04-22T14:03:31.853Z"
   },
   {
    "duration": 19,
    "start_time": "2025-04-22T14:03:31.858Z"
   },
   {
    "duration": 1737,
    "start_time": "2025-04-22T14:03:31.879Z"
   },
   {
    "duration": 7,
    "start_time": "2025-04-22T14:03:33.618Z"
   },
   {
    "duration": 140,
    "start_time": "2025-04-22T14:03:33.627Z"
   },
   {
    "duration": 57,
    "start_time": "2025-04-22T14:03:33.769Z"
   },
   {
    "duration": 30,
    "start_time": "2025-04-22T14:03:33.827Z"
   },
   {
    "duration": 16,
    "start_time": "2025-04-22T14:03:33.862Z"
   },
   {
    "duration": 39,
    "start_time": "2025-04-22T14:03:33.880Z"
   },
   {
    "duration": 15,
    "start_time": "2025-04-22T14:03:33.921Z"
   },
   {
    "duration": 11,
    "start_time": "2025-04-22T14:03:33.938Z"
   },
   {
    "duration": 24,
    "start_time": "2025-04-22T14:03:33.951Z"
   },
   {
    "duration": 4,
    "start_time": "2025-04-22T14:03:33.976Z"
   },
   {
    "duration": 36,
    "start_time": "2025-04-22T14:03:33.982Z"
   },
   {
    "duration": 5,
    "start_time": "2025-04-22T14:03:34.020Z"
   },
   {
    "duration": 16,
    "start_time": "2025-04-22T14:03:34.026Z"
   },
   {
    "duration": 274,
    "start_time": "2025-04-22T14:03:34.043Z"
   },
   {
    "duration": 4,
    "start_time": "2025-04-22T14:03:34.319Z"
   },
   {
    "duration": 940,
    "start_time": "2025-04-22T14:03:34.324Z"
   },
   {
    "duration": 1002,
    "start_time": "2025-04-22T14:03:35.266Z"
   },
   {
    "duration": 44,
    "start_time": "2025-04-22T14:03:36.269Z"
   },
   {
    "duration": 3,
    "start_time": "2025-04-22T14:03:36.315Z"
   },
   {
    "duration": 152,
    "start_time": "2025-04-22T14:03:36.321Z"
   },
   {
    "duration": 60,
    "start_time": "2025-04-22T14:03:36.474Z"
   },
   {
    "duration": 436,
    "start_time": "2025-04-22T14:03:36.536Z"
   },
   {
    "duration": 0,
    "start_time": "2025-04-22T14:03:36.974Z"
   },
   {
    "duration": 0,
    "start_time": "2025-04-22T14:03:36.975Z"
   },
   {
    "duration": 122,
    "start_time": "2025-04-22T14:04:02.415Z"
   },
   {
    "duration": 124,
    "start_time": "2025-04-22T14:04:14.066Z"
   },
   {
    "duration": 5,
    "start_time": "2025-04-22T14:04:18.344Z"
   },
   {
    "duration": 826,
    "start_time": "2025-04-22T14:05:44.172Z"
   },
   {
    "duration": 448,
    "start_time": "2025-04-22T14:05:45.001Z"
   },
   {
    "duration": 39,
    "start_time": "2025-04-22T14:05:45.450Z"
   },
   {
    "duration": 41,
    "start_time": "2025-04-22T14:05:45.492Z"
   },
   {
    "duration": 155,
    "start_time": "2025-04-22T14:05:45.534Z"
   },
   {
    "duration": 66,
    "start_time": "2025-04-22T14:05:45.691Z"
   },
   {
    "duration": 10,
    "start_time": "2025-04-22T14:05:45.759Z"
   },
   {
    "duration": 6,
    "start_time": "2025-04-22T14:05:45.770Z"
   },
   {
    "duration": 10,
    "start_time": "2025-04-22T14:05:45.777Z"
   },
   {
    "duration": 39,
    "start_time": "2025-04-22T14:05:45.790Z"
   },
   {
    "duration": 8,
    "start_time": "2025-04-22T14:05:45.831Z"
   },
   {
    "duration": 11,
    "start_time": "2025-04-22T14:05:45.840Z"
   },
   {
    "duration": 4,
    "start_time": "2025-04-22T14:05:45.853Z"
   },
   {
    "duration": 8,
    "start_time": "2025-04-22T14:05:45.858Z"
   },
   {
    "duration": 4,
    "start_time": "2025-04-22T14:05:45.868Z"
   },
   {
    "duration": 22,
    "start_time": "2025-04-22T14:05:45.911Z"
   },
   {
    "duration": 56,
    "start_time": "2025-04-22T14:05:45.935Z"
   },
   {
    "duration": 160,
    "start_time": "2025-04-22T14:05:45.993Z"
   },
   {
    "duration": 4,
    "start_time": "2025-04-22T14:05:46.154Z"
   },
   {
    "duration": 12,
    "start_time": "2025-04-22T14:05:46.160Z"
   },
   {
    "duration": 3,
    "start_time": "2025-04-22T14:05:46.174Z"
   },
   {
    "duration": 10,
    "start_time": "2025-04-22T14:05:46.179Z"
   },
   {
    "duration": 85,
    "start_time": "2025-04-22T14:05:46.190Z"
   },
   {
    "duration": 3,
    "start_time": "2025-04-22T14:05:46.277Z"
   },
   {
    "duration": 8,
    "start_time": "2025-04-22T14:05:46.281Z"
   },
   {
    "duration": 178,
    "start_time": "2025-04-22T14:05:46.291Z"
   },
   {
    "duration": 30,
    "start_time": "2025-04-22T14:05:46.471Z"
   },
   {
    "duration": 104,
    "start_time": "2025-04-22T14:05:46.514Z"
   },
   {
    "duration": 160,
    "start_time": "2025-04-22T14:05:46.619Z"
   },
   {
    "duration": 10,
    "start_time": "2025-04-22T14:05:46.781Z"
   },
   {
    "duration": 61,
    "start_time": "2025-04-22T14:05:46.792Z"
   },
   {
    "duration": 185,
    "start_time": "2025-04-22T14:05:46.855Z"
   },
   {
    "duration": 9,
    "start_time": "2025-04-22T14:05:47.042Z"
   },
   {
    "duration": 3,
    "start_time": "2025-04-22T14:05:47.053Z"
   },
   {
    "duration": 19,
    "start_time": "2025-04-22T14:05:47.058Z"
   },
   {
    "duration": 1753,
    "start_time": "2025-04-22T14:05:47.079Z"
   },
   {
    "duration": 8,
    "start_time": "2025-04-22T14:05:48.833Z"
   },
   {
    "duration": 136,
    "start_time": "2025-04-22T14:05:48.842Z"
   },
   {
    "duration": 63,
    "start_time": "2025-04-22T14:05:48.981Z"
   },
   {
    "duration": 30,
    "start_time": "2025-04-22T14:05:49.045Z"
   },
   {
    "duration": 16,
    "start_time": "2025-04-22T14:05:49.077Z"
   },
   {
    "duration": 39,
    "start_time": "2025-04-22T14:05:49.095Z"
   },
   {
    "duration": 16,
    "start_time": "2025-04-22T14:05:49.135Z"
   },
   {
    "duration": 12,
    "start_time": "2025-04-22T14:05:49.152Z"
   },
   {
    "duration": 48,
    "start_time": "2025-04-22T14:05:49.166Z"
   },
   {
    "duration": 5,
    "start_time": "2025-04-22T14:05:49.216Z"
   },
   {
    "duration": 8,
    "start_time": "2025-04-22T14:05:49.224Z"
   },
   {
    "duration": 5,
    "start_time": "2025-04-22T14:05:49.234Z"
   },
   {
    "duration": 17,
    "start_time": "2025-04-22T14:05:49.240Z"
   },
   {
    "duration": 288,
    "start_time": "2025-04-22T14:05:49.259Z"
   },
   {
    "duration": 4,
    "start_time": "2025-04-22T14:05:49.549Z"
   },
   {
    "duration": 958,
    "start_time": "2025-04-22T14:05:49.555Z"
   },
   {
    "duration": 1027,
    "start_time": "2025-04-22T14:05:50.515Z"
   },
   {
    "duration": 35,
    "start_time": "2025-04-22T14:05:51.544Z"
   },
   {
    "duration": 2,
    "start_time": "2025-04-22T14:05:51.580Z"
   },
   {
    "duration": 164,
    "start_time": "2025-04-22T14:05:51.584Z"
   },
   {
    "duration": 65,
    "start_time": "2025-04-22T14:05:51.750Z"
   },
   {
    "duration": 455,
    "start_time": "2025-04-22T14:05:51.817Z"
   },
   {
    "duration": 0,
    "start_time": "2025-04-22T14:05:52.274Z"
   },
   {
    "duration": 0,
    "start_time": "2025-04-22T14:05:52.275Z"
   },
   {
    "duration": 122,
    "start_time": "2025-04-22T14:06:22.245Z"
   },
   {
    "duration": 133,
    "start_time": "2025-04-22T14:06:24.931Z"
   },
   {
    "duration": 121,
    "start_time": "2025-04-22T14:06:28.030Z"
   },
   {
    "duration": 10,
    "start_time": "2025-04-22T14:14:27.166Z"
   },
   {
    "duration": 16,
    "start_time": "2025-04-22T14:15:41.676Z"
   },
   {
    "duration": 20,
    "start_time": "2025-04-22T14:16:32.137Z"
   },
   {
    "duration": 22,
    "start_time": "2025-04-22T14:17:08.522Z"
   },
   {
    "duration": 28,
    "start_time": "2025-04-22T14:21:02.440Z"
   },
   {
    "duration": 1726,
    "start_time": "2025-04-22T14:21:07.787Z"
   },
   {
    "duration": 1790,
    "start_time": "2025-04-22T14:21:17.751Z"
   },
   {
    "duration": 17,
    "start_time": "2025-04-22T14:22:23.282Z"
   },
   {
    "duration": 362,
    "start_time": "2025-04-22T14:23:01.777Z"
   },
   {
    "duration": 66,
    "start_time": "2025-04-22T14:23:11.447Z"
   },
   {
    "duration": 30,
    "start_time": "2025-04-22T14:23:16.962Z"
   },
   {
    "duration": 62,
    "start_time": "2025-04-22T14:23:35.333Z"
   },
   {
    "duration": 40,
    "start_time": "2025-04-22T14:23:47.610Z"
   },
   {
    "duration": 19,
    "start_time": "2025-04-22T14:23:51.186Z"
   },
   {
    "duration": 20,
    "start_time": "2025-04-22T14:24:06.797Z"
   },
   {
    "duration": 12,
    "start_time": "2025-04-22T14:24:17.142Z"
   },
   {
    "duration": 356,
    "start_time": "2025-04-22T14:24:25.105Z"
   },
   {
    "duration": 12,
    "start_time": "2025-04-22T14:24:38.440Z"
   },
   {
    "duration": 12,
    "start_time": "2025-04-22T14:25:01.854Z"
   },
   {
    "duration": 208,
    "start_time": "2025-04-22T14:25:11.539Z"
   },
   {
    "duration": 10,
    "start_time": "2025-04-22T14:25:17.701Z"
   },
   {
    "duration": 16,
    "start_time": "2025-04-22T14:25:21.474Z"
   },
   {
    "duration": 4,
    "start_time": "2025-04-22T14:25:31.533Z"
   },
   {
    "duration": 28,
    "start_time": "2025-04-22T14:25:45.123Z"
   },
   {
    "duration": 10,
    "start_time": "2025-04-22T14:26:57.327Z"
   },
   {
    "duration": 27,
    "start_time": "2025-04-22T14:27:09.460Z"
   },
   {
    "duration": 4,
    "start_time": "2025-04-22T14:27:18.275Z"
   },
   {
    "duration": 804,
    "start_time": "2025-04-22T14:27:23.894Z"
   },
   {
    "duration": 373,
    "start_time": "2025-04-22T14:27:24.700Z"
   },
   {
    "duration": 39,
    "start_time": "2025-04-22T14:27:25.074Z"
   },
   {
    "duration": 45,
    "start_time": "2025-04-22T14:27:25.115Z"
   },
   {
    "duration": 155,
    "start_time": "2025-04-22T14:27:25.163Z"
   },
   {
    "duration": 63,
    "start_time": "2025-04-22T14:27:25.319Z"
   },
   {
    "duration": 10,
    "start_time": "2025-04-22T14:27:25.384Z"
   },
   {
    "duration": 5,
    "start_time": "2025-04-22T14:27:25.412Z"
   },
   {
    "duration": 11,
    "start_time": "2025-04-22T14:27:25.419Z"
   },
   {
    "duration": 18,
    "start_time": "2025-04-22T14:27:25.432Z"
   },
   {
    "duration": 8,
    "start_time": "2025-04-22T14:27:25.451Z"
   },
   {
    "duration": 13,
    "start_time": "2025-04-22T14:27:25.460Z"
   },
   {
    "duration": 40,
    "start_time": "2025-04-22T14:27:25.474Z"
   },
   {
    "duration": 10,
    "start_time": "2025-04-22T14:27:25.515Z"
   },
   {
    "duration": 5,
    "start_time": "2025-04-22T14:27:25.526Z"
   },
   {
    "duration": 22,
    "start_time": "2025-04-22T14:27:25.532Z"
   },
   {
    "duration": 82,
    "start_time": "2025-04-22T14:27:25.555Z"
   },
   {
    "duration": 141,
    "start_time": "2025-04-22T14:27:25.639Z"
   },
   {
    "duration": 4,
    "start_time": "2025-04-22T14:27:25.783Z"
   },
   {
    "duration": 22,
    "start_time": "2025-04-22T14:27:25.789Z"
   },
   {
    "duration": 4,
    "start_time": "2025-04-22T14:27:25.813Z"
   },
   {
    "duration": 9,
    "start_time": "2025-04-22T14:27:25.819Z"
   },
   {
    "duration": 91,
    "start_time": "2025-04-22T14:27:25.830Z"
   },
   {
    "duration": 4,
    "start_time": "2025-04-22T14:27:25.923Z"
   },
   {
    "duration": 9,
    "start_time": "2025-04-22T14:27:25.929Z"
   },
   {
    "duration": 171,
    "start_time": "2025-04-22T14:27:25.940Z"
   },
   {
    "duration": 34,
    "start_time": "2025-04-22T14:27:26.113Z"
   },
   {
    "duration": 115,
    "start_time": "2025-04-22T14:27:26.155Z"
   },
   {
    "duration": 158,
    "start_time": "2025-04-22T14:27:26.272Z"
   },
   {
    "duration": 10,
    "start_time": "2025-04-22T14:27:26.432Z"
   },
   {
    "duration": 51,
    "start_time": "2025-04-22T14:27:26.445Z"
   },
   {
    "duration": 202,
    "start_time": "2025-04-22T14:27:26.498Z"
   },
   {
    "duration": 12,
    "start_time": "2025-04-22T14:27:26.703Z"
   },
   {
    "duration": 4,
    "start_time": "2025-04-22T14:27:26.717Z"
   },
   {
    "duration": 20,
    "start_time": "2025-04-22T14:27:26.722Z"
   },
   {
    "duration": 28,
    "start_time": "2025-04-22T14:27:26.743Z"
   },
   {
    "duration": 1800,
    "start_time": "2025-04-22T14:27:26.773Z"
   },
   {
    "duration": 6,
    "start_time": "2025-04-22T14:27:28.575Z"
   },
   {
    "duration": 141,
    "start_time": "2025-04-22T14:27:28.582Z"
   },
   {
    "duration": 69,
    "start_time": "2025-04-22T14:27:28.727Z"
   },
   {
    "duration": 53,
    "start_time": "2025-04-22T14:27:28.799Z"
   },
   {
    "duration": 19,
    "start_time": "2025-04-22T14:27:28.853Z"
   },
   {
    "duration": 11,
    "start_time": "2025-04-22T14:27:28.874Z"
   },
   {
    "duration": 31,
    "start_time": "2025-04-22T14:27:28.886Z"
   },
   {
    "duration": 10,
    "start_time": "2025-04-22T14:27:28.919Z"
   },
   {
    "duration": 27,
    "start_time": "2025-04-22T14:27:28.931Z"
   },
   {
    "duration": 7,
    "start_time": "2025-04-22T14:27:28.959Z"
   },
   {
    "duration": 9,
    "start_time": "2025-04-22T14:27:28.968Z"
   },
   {
    "duration": 34,
    "start_time": "2025-04-22T14:27:28.978Z"
   },
   {
    "duration": 19,
    "start_time": "2025-04-22T14:27:29.014Z"
   },
   {
    "duration": 269,
    "start_time": "2025-04-22T14:27:29.035Z"
   },
   {
    "duration": 4,
    "start_time": "2025-04-22T14:27:29.311Z"
   },
   {
    "duration": 12,
    "start_time": "2025-04-22T14:27:29.316Z"
   },
   {
    "duration": 12,
    "start_time": "2025-04-22T14:27:29.330Z"
   },
   {
    "duration": 10,
    "start_time": "2025-04-22T14:27:29.344Z"
   },
   {
    "duration": 3,
    "start_time": "2025-04-22T14:27:29.355Z"
   },
   {
    "duration": 173,
    "start_time": "2025-04-22T14:27:29.359Z"
   },
   {
    "duration": 56,
    "start_time": "2025-04-22T14:27:29.534Z"
   },
   {
    "duration": 461,
    "start_time": "2025-04-22T14:27:29.592Z"
   },
   {
    "duration": 0,
    "start_time": "2025-04-22T14:27:30.055Z"
   },
   {
    "duration": 0,
    "start_time": "2025-04-22T14:27:30.056Z"
   },
   {
    "duration": 2453,
    "start_time": "2025-04-22T15:14:51.757Z"
   },
   {
    "duration": 434,
    "start_time": "2025-04-22T15:14:54.212Z"
   },
   {
    "duration": 41,
    "start_time": "2025-04-22T15:14:54.650Z"
   },
   {
    "duration": 37,
    "start_time": "2025-04-22T15:14:54.693Z"
   },
   {
    "duration": 156,
    "start_time": "2025-04-22T15:14:54.734Z"
   },
   {
    "duration": 64,
    "start_time": "2025-04-22T15:14:54.891Z"
   },
   {
    "duration": 22,
    "start_time": "2025-04-22T15:14:54.957Z"
   },
   {
    "duration": 8,
    "start_time": "2025-04-22T15:14:54.980Z"
   },
   {
    "duration": 10,
    "start_time": "2025-04-22T15:14:54.990Z"
   },
   {
    "duration": 18,
    "start_time": "2025-04-22T15:14:55.002Z"
   },
   {
    "duration": 9,
    "start_time": "2025-04-22T15:14:55.021Z"
   },
   {
    "duration": 45,
    "start_time": "2025-04-22T15:14:55.032Z"
   },
   {
    "duration": 4,
    "start_time": "2025-04-22T15:14:55.078Z"
   },
   {
    "duration": 8,
    "start_time": "2025-04-22T15:14:55.085Z"
   },
   {
    "duration": 5,
    "start_time": "2025-04-22T15:14:55.095Z"
   },
   {
    "duration": 23,
    "start_time": "2025-04-22T15:14:55.103Z"
   },
   {
    "duration": 84,
    "start_time": "2025-04-22T15:14:55.127Z"
   },
   {
    "duration": 146,
    "start_time": "2025-04-22T15:14:55.213Z"
   },
   {
    "duration": 4,
    "start_time": "2025-04-22T15:14:55.360Z"
   },
   {
    "duration": 12,
    "start_time": "2025-04-22T15:14:55.370Z"
   },
   {
    "duration": 4,
    "start_time": "2025-04-22T15:14:55.384Z"
   },
   {
    "duration": 9,
    "start_time": "2025-04-22T15:14:55.390Z"
   },
   {
    "duration": 96,
    "start_time": "2025-04-22T15:14:55.401Z"
   },
   {
    "duration": 3,
    "start_time": "2025-04-22T15:14:55.499Z"
   },
   {
    "duration": 9,
    "start_time": "2025-04-22T15:14:55.503Z"
   },
   {
    "duration": 164,
    "start_time": "2025-04-22T15:14:55.513Z"
   },
   {
    "duration": 31,
    "start_time": "2025-04-22T15:14:55.679Z"
   },
   {
    "duration": 119,
    "start_time": "2025-04-22T15:14:55.712Z"
   },
   {
    "duration": 156,
    "start_time": "2025-04-22T15:14:55.833Z"
   },
   {
    "duration": 10,
    "start_time": "2025-04-22T15:14:55.993Z"
   },
   {
    "duration": 66,
    "start_time": "2025-04-22T15:14:56.005Z"
   },
   {
    "duration": 143,
    "start_time": "2025-04-22T15:14:56.073Z"
   },
   {
    "duration": 8,
    "start_time": "2025-04-22T15:14:56.217Z"
   },
   {
    "duration": 3,
    "start_time": "2025-04-22T15:14:56.227Z"
   },
   {
    "duration": 38,
    "start_time": "2025-04-22T15:14:56.232Z"
   },
   {
    "duration": 28,
    "start_time": "2025-04-22T15:14:56.272Z"
   },
   {
    "duration": 1742,
    "start_time": "2025-04-22T15:14:56.301Z"
   },
   {
    "duration": 6,
    "start_time": "2025-04-22T15:14:58.045Z"
   },
   {
    "duration": 139,
    "start_time": "2025-04-22T15:14:58.052Z"
   },
   {
    "duration": 69,
    "start_time": "2025-04-22T15:14:58.192Z"
   },
   {
    "duration": 46,
    "start_time": "2025-04-22T15:14:58.265Z"
   },
   {
    "duration": 18,
    "start_time": "2025-04-22T15:14:58.313Z"
   },
   {
    "duration": 39,
    "start_time": "2025-04-22T15:14:58.332Z"
   },
   {
    "duration": 12,
    "start_time": "2025-04-22T15:14:58.374Z"
   },
   {
    "duration": 7,
    "start_time": "2025-04-22T15:14:58.388Z"
   },
   {
    "duration": 26,
    "start_time": "2025-04-22T15:14:58.397Z"
   },
   {
    "duration": 5,
    "start_time": "2025-04-22T15:14:58.424Z"
   },
   {
    "duration": 8,
    "start_time": "2025-04-22T15:14:58.431Z"
   },
   {
    "duration": 5,
    "start_time": "2025-04-22T15:14:58.470Z"
   },
   {
    "duration": 16,
    "start_time": "2025-04-22T15:14:58.476Z"
   },
   {
    "duration": 266,
    "start_time": "2025-04-22T15:14:58.493Z"
   },
   {
    "duration": 10,
    "start_time": "2025-04-22T15:14:58.761Z"
   },
   {
    "duration": 12,
    "start_time": "2025-04-22T15:14:58.773Z"
   },
   {
    "duration": 12,
    "start_time": "2025-04-22T15:14:58.787Z"
   },
   {
    "duration": 12,
    "start_time": "2025-04-22T15:14:58.800Z"
   },
   {
    "duration": 3,
    "start_time": "2025-04-22T15:14:58.813Z"
   },
   {
    "duration": 225,
    "start_time": "2025-04-22T15:14:58.817Z"
   },
   {
    "duration": 69,
    "start_time": "2025-04-22T15:14:59.044Z"
   },
   {
    "duration": 435,
    "start_time": "2025-04-22T15:14:59.115Z"
   },
   {
    "duration": 0,
    "start_time": "2025-04-22T15:14:59.552Z"
   },
   {
    "duration": 0,
    "start_time": "2025-04-22T15:14:59.553Z"
   },
   {
    "duration": 49,
    "start_time": "2025-04-22T15:16:07.861Z"
   },
   {
    "duration": 48,
    "start_time": "2025-04-22T15:16:21.201Z"
   },
   {
    "duration": 12,
    "start_time": "2025-04-22T15:17:29.959Z"
   },
   {
    "duration": 117,
    "start_time": "2025-04-22T15:17:52.421Z"
   },
   {
    "duration": 778,
    "start_time": "2025-04-22T15:18:02.776Z"
   },
   {
    "duration": 364,
    "start_time": "2025-04-22T15:18:03.557Z"
   },
   {
    "duration": 39,
    "start_time": "2025-04-22T15:18:03.922Z"
   },
   {
    "duration": 40,
    "start_time": "2025-04-22T15:18:03.972Z"
   },
   {
    "duration": 149,
    "start_time": "2025-04-22T15:18:04.014Z"
   },
   {
    "duration": 65,
    "start_time": "2025-04-22T15:18:04.165Z"
   },
   {
    "duration": 9,
    "start_time": "2025-04-22T15:18:04.232Z"
   },
   {
    "duration": 7,
    "start_time": "2025-04-22T15:18:04.242Z"
   },
   {
    "duration": 14,
    "start_time": "2025-04-22T15:18:04.273Z"
   },
   {
    "duration": 20,
    "start_time": "2025-04-22T15:18:04.289Z"
   },
   {
    "duration": 9,
    "start_time": "2025-04-22T15:18:04.311Z"
   },
   {
    "duration": 11,
    "start_time": "2025-04-22T15:18:04.321Z"
   },
   {
    "duration": 3,
    "start_time": "2025-04-22T15:18:04.334Z"
   },
   {
    "duration": 38,
    "start_time": "2025-04-22T15:18:04.339Z"
   },
   {
    "duration": 4,
    "start_time": "2025-04-22T15:18:04.379Z"
   },
   {
    "duration": 22,
    "start_time": "2025-04-22T15:18:04.385Z"
   },
   {
    "duration": 77,
    "start_time": "2025-04-22T15:18:04.409Z"
   },
   {
    "duration": 143,
    "start_time": "2025-04-22T15:18:04.488Z"
   },
   {
    "duration": 5,
    "start_time": "2025-04-22T15:18:04.633Z"
   },
   {
    "duration": 14,
    "start_time": "2025-04-22T15:18:04.639Z"
   },
   {
    "duration": 17,
    "start_time": "2025-04-22T15:18:04.655Z"
   },
   {
    "duration": 10,
    "start_time": "2025-04-22T15:18:04.674Z"
   },
   {
    "duration": 89,
    "start_time": "2025-04-22T15:18:04.686Z"
   },
   {
    "duration": 4,
    "start_time": "2025-04-22T15:18:04.777Z"
   },
   {
    "duration": 8,
    "start_time": "2025-04-22T15:18:04.783Z"
   },
   {
    "duration": 164,
    "start_time": "2025-04-22T15:18:04.792Z"
   },
   {
    "duration": 34,
    "start_time": "2025-04-22T15:18:04.958Z"
   },
   {
    "duration": 114,
    "start_time": "2025-04-22T15:18:04.997Z"
   },
   {
    "duration": 160,
    "start_time": "2025-04-22T15:18:05.113Z"
   },
   {
    "duration": 9,
    "start_time": "2025-04-22T15:18:05.275Z"
   },
   {
    "duration": 53,
    "start_time": "2025-04-22T15:18:05.285Z"
   },
   {
    "duration": 207,
    "start_time": "2025-04-22T15:18:05.340Z"
   },
   {
    "duration": 9,
    "start_time": "2025-04-22T15:18:05.548Z"
   },
   {
    "duration": 13,
    "start_time": "2025-04-22T15:18:05.558Z"
   },
   {
    "duration": 19,
    "start_time": "2025-04-22T15:18:05.573Z"
   },
   {
    "duration": 28,
    "start_time": "2025-04-22T15:18:05.594Z"
   },
   {
    "duration": 1752,
    "start_time": "2025-04-22T15:18:05.623Z"
   },
   {
    "duration": 6,
    "start_time": "2025-04-22T15:18:07.377Z"
   },
   {
    "duration": 134,
    "start_time": "2025-04-22T15:18:07.385Z"
   },
   {
    "duration": 57,
    "start_time": "2025-04-22T15:18:07.521Z"
   },
   {
    "duration": 11,
    "start_time": "2025-04-22T15:18:07.580Z"
   },
   {
    "duration": 127,
    "start_time": "2025-04-22T15:18:07.593Z"
   },
   {
    "duration": 25,
    "start_time": "2025-04-22T15:18:07.722Z"
   },
   {
    "duration": 472,
    "start_time": "2025-04-22T15:18:07.749Z"
   },
   {
    "duration": 0,
    "start_time": "2025-04-22T15:18:08.222Z"
   },
   {
    "duration": 0,
    "start_time": "2025-04-22T15:18:08.224Z"
   },
   {
    "duration": 0,
    "start_time": "2025-04-22T15:18:08.225Z"
   },
   {
    "duration": 0,
    "start_time": "2025-04-22T15:18:08.227Z"
   },
   {
    "duration": 0,
    "start_time": "2025-04-22T15:18:08.228Z"
   },
   {
    "duration": 0,
    "start_time": "2025-04-22T15:18:08.229Z"
   },
   {
    "duration": 0,
    "start_time": "2025-04-22T15:18:08.231Z"
   },
   {
    "duration": 0,
    "start_time": "2025-04-22T15:18:08.232Z"
   },
   {
    "duration": 0,
    "start_time": "2025-04-22T15:18:08.234Z"
   },
   {
    "duration": 0,
    "start_time": "2025-04-22T15:18:08.236Z"
   },
   {
    "duration": 0,
    "start_time": "2025-04-22T15:18:08.237Z"
   },
   {
    "duration": 0,
    "start_time": "2025-04-22T15:18:08.238Z"
   },
   {
    "duration": 0,
    "start_time": "2025-04-22T15:18:08.240Z"
   },
   {
    "duration": 0,
    "start_time": "2025-04-22T15:18:08.241Z"
   },
   {
    "duration": 0,
    "start_time": "2025-04-22T15:18:08.270Z"
   },
   {
    "duration": 0,
    "start_time": "2025-04-22T15:18:08.271Z"
   },
   {
    "duration": 0,
    "start_time": "2025-04-22T15:18:08.273Z"
   },
   {
    "duration": 116,
    "start_time": "2025-04-22T15:20:44.387Z"
   },
   {
    "duration": 30,
    "start_time": "2025-04-22T15:21:00.777Z"
   },
   {
    "duration": 9,
    "start_time": "2025-04-22T15:21:23.755Z"
   },
   {
    "duration": 203,
    "start_time": "2025-04-22T15:21:43.308Z"
   },
   {
    "duration": 9,
    "start_time": "2025-04-22T15:21:51.759Z"
   },
   {
    "duration": 10,
    "start_time": "2025-04-22T15:22:52.651Z"
   },
   {
    "duration": 25,
    "start_time": "2025-04-22T15:23:25.235Z"
   },
   {
    "duration": 5,
    "start_time": "2025-04-22T15:23:31.108Z"
   },
   {
    "duration": 10,
    "start_time": "2025-04-22T15:24:11.193Z"
   },
   {
    "duration": 7,
    "start_time": "2025-04-22T15:24:16.152Z"
   },
   {
    "duration": 16,
    "start_time": "2025-04-22T15:24:18.534Z"
   },
   {
    "duration": 13,
    "start_time": "2025-04-22T15:24:35.606Z"
   },
   {
    "duration": 18,
    "start_time": "2025-04-22T15:24:40.646Z"
   },
   {
    "duration": 263,
    "start_time": "2025-04-22T15:24:45.531Z"
   },
   {
    "duration": 4,
    "start_time": "2025-04-22T15:24:49.574Z"
   },
   {
    "duration": 15,
    "start_time": "2025-04-22T15:24:54.854Z"
   },
   {
    "duration": 14,
    "start_time": "2025-04-22T15:25:35.019Z"
   },
   {
    "duration": 12,
    "start_time": "2025-04-22T15:25:37.643Z"
   },
   {
    "duration": 19,
    "start_time": "2025-04-22T15:25:59.073Z"
   },
   {
    "duration": 152,
    "start_time": "2025-04-22T15:27:43.375Z"
   },
   {
    "duration": 10,
    "start_time": "2025-04-22T15:27:59.491Z"
   },
   {
    "duration": 4,
    "start_time": "2025-04-22T15:28:56.801Z"
   },
   {
    "duration": 12,
    "start_time": "2025-04-22T15:29:01.401Z"
   },
   {
    "duration": 6,
    "start_time": "2025-04-22T15:29:56.549Z"
   },
   {
    "duration": 7,
    "start_time": "2025-04-22T15:30:02.511Z"
   },
   {
    "duration": 6,
    "start_time": "2025-04-22T15:30:08.189Z"
   },
   {
    "duration": 9,
    "start_time": "2025-04-22T15:30:14.265Z"
   },
   {
    "duration": 4,
    "start_time": "2025-04-22T15:30:53.145Z"
   },
   {
    "duration": 18,
    "start_time": "2025-04-22T15:31:12.207Z"
   },
   {
    "duration": 22,
    "start_time": "2025-04-22T15:31:50.958Z"
   },
   {
    "duration": 18,
    "start_time": "2025-04-22T15:31:56.614Z"
   },
   {
    "duration": 41,
    "start_time": "2025-04-22T15:32:22.248Z"
   },
   {
    "duration": 11,
    "start_time": "2025-04-22T15:32:25.815Z"
   },
   {
    "duration": 12,
    "start_time": "2025-04-22T15:32:36.175Z"
   },
   {
    "duration": 12,
    "start_time": "2025-04-22T15:32:41.470Z"
   },
   {
    "duration": 14,
    "start_time": "2025-04-22T15:32:42.993Z"
   },
   {
    "duration": 8,
    "start_time": "2025-04-22T15:32:46.048Z"
   },
   {
    "duration": 17,
    "start_time": "2025-04-22T15:32:47.747Z"
   },
   {
    "duration": 368,
    "start_time": "2025-04-22T15:32:53.612Z"
   },
   {
    "duration": 3,
    "start_time": "2025-04-22T15:32:56.622Z"
   },
   {
    "duration": 6,
    "start_time": "2025-04-22T15:32:58.461Z"
   },
   {
    "duration": 18,
    "start_time": "2025-04-22T15:33:13.730Z"
   },
   {
    "duration": 114,
    "start_time": "2025-04-22T15:33:42.631Z"
   },
   {
    "duration": 19,
    "start_time": "2025-04-22T15:33:59.850Z"
   },
   {
    "duration": 794,
    "start_time": "2025-04-22T15:34:10.776Z"
   },
   {
    "duration": 376,
    "start_time": "2025-04-22T15:34:11.572Z"
   },
   {
    "duration": 40,
    "start_time": "2025-04-22T15:34:11.950Z"
   },
   {
    "duration": 36,
    "start_time": "2025-04-22T15:34:11.992Z"
   },
   {
    "duration": 161,
    "start_time": "2025-04-22T15:34:12.031Z"
   },
   {
    "duration": 60,
    "start_time": "2025-04-22T15:34:12.194Z"
   },
   {
    "duration": 21,
    "start_time": "2025-04-22T15:34:12.256Z"
   },
   {
    "duration": 7,
    "start_time": "2025-04-22T15:34:12.278Z"
   },
   {
    "duration": 10,
    "start_time": "2025-04-22T15:34:12.286Z"
   },
   {
    "duration": 18,
    "start_time": "2025-04-22T15:34:12.297Z"
   },
   {
    "duration": 8,
    "start_time": "2025-04-22T15:34:12.317Z"
   },
   {
    "duration": 44,
    "start_time": "2025-04-22T15:34:12.327Z"
   },
   {
    "duration": 4,
    "start_time": "2025-04-22T15:34:12.373Z"
   },
   {
    "duration": 9,
    "start_time": "2025-04-22T15:34:12.381Z"
   },
   {
    "duration": 5,
    "start_time": "2025-04-22T15:34:12.391Z"
   },
   {
    "duration": 23,
    "start_time": "2025-04-22T15:34:12.397Z"
   },
   {
    "duration": 88,
    "start_time": "2025-04-22T15:34:12.422Z"
   },
   {
    "duration": 147,
    "start_time": "2025-04-22T15:34:12.512Z"
   },
   {
    "duration": 10,
    "start_time": "2025-04-22T15:34:12.661Z"
   },
   {
    "duration": 13,
    "start_time": "2025-04-22T15:34:12.673Z"
   },
   {
    "duration": 4,
    "start_time": "2025-04-22T15:34:12.687Z"
   },
   {
    "duration": 12,
    "start_time": "2025-04-22T15:34:12.692Z"
   },
   {
    "duration": 91,
    "start_time": "2025-04-22T15:34:12.706Z"
   },
   {
    "duration": 3,
    "start_time": "2025-04-22T15:34:12.799Z"
   },
   {
    "duration": 8,
    "start_time": "2025-04-22T15:34:12.803Z"
   },
   {
    "duration": 165,
    "start_time": "2025-04-22T15:34:12.812Z"
   },
   {
    "duration": 30,
    "start_time": "2025-04-22T15:34:12.979Z"
   },
   {
    "duration": 116,
    "start_time": "2025-04-22T15:34:13.011Z"
   },
   {
    "duration": 170,
    "start_time": "2025-04-22T15:34:13.129Z"
   },
   {
    "duration": 10,
    "start_time": "2025-04-22T15:34:13.301Z"
   },
   {
    "duration": 71,
    "start_time": "2025-04-22T15:34:13.313Z"
   },
   {
    "duration": 179,
    "start_time": "2025-04-22T15:34:13.386Z"
   },
   {
    "duration": 8,
    "start_time": "2025-04-22T15:34:13.571Z"
   },
   {
    "duration": 3,
    "start_time": "2025-04-22T15:34:13.581Z"
   },
   {
    "duration": 21,
    "start_time": "2025-04-22T15:34:13.586Z"
   },
   {
    "duration": 29,
    "start_time": "2025-04-22T15:34:13.608Z"
   },
   {
    "duration": 1772,
    "start_time": "2025-04-22T15:34:13.638Z"
   },
   {
    "duration": 7,
    "start_time": "2025-04-22T15:34:15.411Z"
   },
   {
    "duration": 143,
    "start_time": "2025-04-22T15:34:15.420Z"
   },
   {
    "duration": 51,
    "start_time": "2025-04-22T15:34:15.564Z"
   },
   {
    "duration": 11,
    "start_time": "2025-04-22T15:34:15.620Z"
   },
   {
    "duration": 144,
    "start_time": "2025-04-22T15:34:15.633Z"
   },
   {
    "duration": 27,
    "start_time": "2025-04-22T15:34:15.779Z"
   },
   {
    "duration": 9,
    "start_time": "2025-04-22T15:34:15.808Z"
   },
   {
    "duration": 10,
    "start_time": "2025-04-22T15:34:15.818Z"
   },
   {
    "duration": 48,
    "start_time": "2025-04-22T15:34:15.830Z"
   },
   {
    "duration": 4,
    "start_time": "2025-04-22T15:34:15.880Z"
   },
   {
    "duration": 3,
    "start_time": "2025-04-22T15:34:15.886Z"
   },
   {
    "duration": 11,
    "start_time": "2025-04-22T15:34:15.891Z"
   },
   {
    "duration": 8,
    "start_time": "2025-04-22T15:34:15.904Z"
   },
   {
    "duration": 16,
    "start_time": "2025-04-22T15:34:15.915Z"
   },
   {
    "duration": 296,
    "start_time": "2025-04-22T15:34:15.933Z"
   },
   {
    "duration": 4,
    "start_time": "2025-04-22T15:34:16.231Z"
   },
   {
    "duration": 17,
    "start_time": "2025-04-22T15:34:16.237Z"
   },
   {
    "duration": 247,
    "start_time": "2025-04-22T15:34:16.255Z"
   },
   {
    "duration": 0,
    "start_time": "2025-04-22T15:34:16.504Z"
   },
   {
    "duration": 0,
    "start_time": "2025-04-22T15:34:16.509Z"
   },
   {
    "duration": 0,
    "start_time": "2025-04-22T15:34:16.510Z"
   },
   {
    "duration": 0,
    "start_time": "2025-04-22T15:34:16.511Z"
   },
   {
    "duration": 0,
    "start_time": "2025-04-22T15:34:16.512Z"
   },
   {
    "duration": 0,
    "start_time": "2025-04-22T15:34:16.513Z"
   },
   {
    "duration": 0,
    "start_time": "2025-04-22T15:34:16.514Z"
   },
   {
    "duration": 343,
    "start_time": "2025-04-22T15:35:19.457Z"
   },
   {
    "duration": 46,
    "start_time": "2025-04-22T15:35:31.845Z"
   },
   {
    "duration": 7,
    "start_time": "2025-04-22T15:35:41.608Z"
   },
   {
    "duration": 15,
    "start_time": "2025-04-22T15:35:51.285Z"
   },
   {
    "duration": 13,
    "start_time": "2025-04-22T15:37:53.133Z"
   },
   {
    "duration": 114,
    "start_time": "2025-04-22T15:38:00.840Z"
   },
   {
    "duration": 19,
    "start_time": "2025-04-22T15:38:17.052Z"
   },
   {
    "duration": 230,
    "start_time": "2025-04-22T15:38:19.716Z"
   },
   {
    "duration": 787,
    "start_time": "2025-04-22T15:38:40.769Z"
   },
   {
    "duration": 355,
    "start_time": "2025-04-22T15:38:41.559Z"
   },
   {
    "duration": 38,
    "start_time": "2025-04-22T15:38:41.916Z"
   },
   {
    "duration": 41,
    "start_time": "2025-04-22T15:38:41.956Z"
   },
   {
    "duration": 149,
    "start_time": "2025-04-22T15:38:42.000Z"
   },
   {
    "duration": 69,
    "start_time": "2025-04-22T15:38:42.151Z"
   },
   {
    "duration": 10,
    "start_time": "2025-04-22T15:38:42.222Z"
   },
   {
    "duration": 7,
    "start_time": "2025-04-22T15:38:42.233Z"
   },
   {
    "duration": 29,
    "start_time": "2025-04-22T15:38:42.241Z"
   },
   {
    "duration": 17,
    "start_time": "2025-04-22T15:38:42.272Z"
   },
   {
    "duration": 8,
    "start_time": "2025-04-22T15:38:42.291Z"
   },
   {
    "duration": 14,
    "start_time": "2025-04-22T15:38:42.301Z"
   },
   {
    "duration": 5,
    "start_time": "2025-04-22T15:38:42.317Z"
   },
   {
    "duration": 8,
    "start_time": "2025-04-22T15:38:42.325Z"
   },
   {
    "duration": 38,
    "start_time": "2025-04-22T15:38:42.335Z"
   },
   {
    "duration": 22,
    "start_time": "2025-04-22T15:38:42.374Z"
   },
   {
    "duration": 55,
    "start_time": "2025-04-22T15:38:42.397Z"
   },
   {
    "duration": 142,
    "start_time": "2025-04-22T15:38:42.471Z"
   },
   {
    "duration": 4,
    "start_time": "2025-04-22T15:38:42.615Z"
   },
   {
    "duration": 12,
    "start_time": "2025-04-22T15:38:42.620Z"
   },
   {
    "duration": 4,
    "start_time": "2025-04-22T15:38:42.634Z"
   },
   {
    "duration": 31,
    "start_time": "2025-04-22T15:38:42.640Z"
   },
   {
    "duration": 72,
    "start_time": "2025-04-22T15:38:42.672Z"
   },
   {
    "duration": 4,
    "start_time": "2025-04-22T15:38:42.745Z"
   },
   {
    "duration": 20,
    "start_time": "2025-04-22T15:38:42.750Z"
   },
   {
    "duration": 160,
    "start_time": "2025-04-22T15:38:42.772Z"
   },
   {
    "duration": 40,
    "start_time": "2025-04-22T15:38:42.934Z"
   },
   {
    "duration": 105,
    "start_time": "2025-04-22T15:38:42.975Z"
   },
   {
    "duration": 160,
    "start_time": "2025-04-22T15:38:43.081Z"
   },
   {
    "duration": 9,
    "start_time": "2025-04-22T15:38:43.243Z"
   },
   {
    "duration": 66,
    "start_time": "2025-04-22T15:38:43.254Z"
   },
   {
    "duration": 182,
    "start_time": "2025-04-22T15:38:43.322Z"
   },
   {
    "duration": 9,
    "start_time": "2025-04-22T15:38:43.505Z"
   },
   {
    "duration": 4,
    "start_time": "2025-04-22T15:38:43.515Z"
   },
   {
    "duration": 19,
    "start_time": "2025-04-22T15:38:43.520Z"
   },
   {
    "duration": 49,
    "start_time": "2025-04-22T15:38:43.541Z"
   },
   {
    "duration": 1756,
    "start_time": "2025-04-22T15:38:43.592Z"
   },
   {
    "duration": 6,
    "start_time": "2025-04-22T15:38:45.350Z"
   },
   {
    "duration": 137,
    "start_time": "2025-04-22T15:38:45.357Z"
   },
   {
    "duration": 48,
    "start_time": "2025-04-22T15:38:45.496Z"
   },
   {
    "duration": 22,
    "start_time": "2025-04-22T15:38:45.550Z"
   },
   {
    "duration": 130,
    "start_time": "2025-04-22T15:38:45.573Z"
   },
   {
    "duration": 30,
    "start_time": "2025-04-22T15:38:45.705Z"
   },
   {
    "duration": 9,
    "start_time": "2025-04-22T15:38:45.737Z"
   },
   {
    "duration": 30,
    "start_time": "2025-04-22T15:38:45.748Z"
   },
   {
    "duration": 22,
    "start_time": "2025-04-22T15:38:45.780Z"
   },
   {
    "duration": 4,
    "start_time": "2025-04-22T15:38:45.804Z"
   },
   {
    "duration": 3,
    "start_time": "2025-04-22T15:38:45.810Z"
   },
   {
    "duration": 10,
    "start_time": "2025-04-22T15:38:45.815Z"
   },
   {
    "duration": 9,
    "start_time": "2025-04-22T15:38:45.827Z"
   },
   {
    "duration": 47,
    "start_time": "2025-04-22T15:38:45.838Z"
   },
   {
    "duration": 335,
    "start_time": "2025-04-22T15:38:45.886Z"
   },
   {
    "duration": 4,
    "start_time": "2025-04-22T15:38:46.223Z"
   },
   {
    "duration": 335,
    "start_time": "2025-04-22T15:38:46.229Z"
   },
   {
    "duration": 0,
    "start_time": "2025-04-22T15:38:46.569Z"
   },
   {
    "duration": 0,
    "start_time": "2025-04-22T15:38:46.571Z"
   },
   {
    "duration": 0,
    "start_time": "2025-04-22T15:38:46.572Z"
   },
   {
    "duration": 0,
    "start_time": "2025-04-22T15:38:46.573Z"
   },
   {
    "duration": 0,
    "start_time": "2025-04-22T15:38:46.574Z"
   },
   {
    "duration": 0,
    "start_time": "2025-04-22T15:38:46.575Z"
   },
   {
    "duration": 0,
    "start_time": "2025-04-22T15:38:46.575Z"
   },
   {
    "duration": 0,
    "start_time": "2025-04-22T15:38:46.576Z"
   },
   {
    "duration": 14,
    "start_time": "2025-04-22T15:40:08.973Z"
   },
   {
    "duration": 13,
    "start_time": "2025-04-22T15:40:11.898Z"
   },
   {
    "duration": 13,
    "start_time": "2025-04-22T15:40:15.264Z"
   },
   {
    "duration": 12,
    "start_time": "2025-04-22T15:40:18.409Z"
   },
   {
    "duration": 22,
    "start_time": "2025-04-22T15:40:30.578Z"
   },
   {
    "duration": 18,
    "start_time": "2025-04-22T15:40:50.633Z"
   },
   {
    "duration": 8,
    "start_time": "2025-04-22T15:41:14.473Z"
   },
   {
    "duration": 20,
    "start_time": "2025-04-22T15:41:21.635Z"
   },
   {
    "duration": 9,
    "start_time": "2025-04-22T15:46:19.242Z"
   },
   {
    "duration": 12,
    "start_time": "2025-04-22T15:46:24.728Z"
   },
   {
    "duration": 11,
    "start_time": "2025-04-22T15:46:36.307Z"
   },
   {
    "duration": 12,
    "start_time": "2025-04-22T15:46:40.073Z"
   },
   {
    "duration": 20,
    "start_time": "2025-04-22T15:47:09.736Z"
   },
   {
    "duration": 15,
    "start_time": "2025-04-22T15:47:49.717Z"
   },
   {
    "duration": 9,
    "start_time": "2025-04-22T15:48:25.324Z"
   },
   {
    "duration": 10,
    "start_time": "2025-04-22T15:48:29.542Z"
   },
   {
    "duration": 4,
    "start_time": "2025-04-22T15:48:59.287Z"
   },
   {
    "duration": 12,
    "start_time": "2025-04-22T15:49:04.192Z"
   },
   {
    "duration": 14,
    "start_time": "2025-04-22T15:49:10.857Z"
   },
   {
    "duration": 18,
    "start_time": "2025-04-22T15:49:57.862Z"
   },
   {
    "duration": 344,
    "start_time": "2025-04-22T15:50:08.809Z"
   },
   {
    "duration": 12,
    "start_time": "2025-04-22T15:50:13.424Z"
   },
   {
    "duration": 18,
    "start_time": "2025-04-22T15:50:29.654Z"
   },
   {
    "duration": 4,
    "start_time": "2025-04-22T15:51:17.564Z"
   },
   {
    "duration": 9,
    "start_time": "2025-04-22T15:51:41.716Z"
   },
   {
    "duration": 8,
    "start_time": "2025-04-22T15:51:48.923Z"
   },
   {
    "duration": 8,
    "start_time": "2025-04-22T15:51:52.726Z"
   },
   {
    "duration": 117,
    "start_time": "2025-04-22T15:52:19.820Z"
   },
   {
    "duration": 114,
    "start_time": "2025-04-22T15:52:50.562Z"
   },
   {
    "duration": 115,
    "start_time": "2025-04-22T15:53:15.603Z"
   },
   {
    "duration": 114,
    "start_time": "2025-04-22T15:53:21.349Z"
   },
   {
    "duration": 116,
    "start_time": "2025-04-22T15:53:58.202Z"
   },
   {
    "duration": 115,
    "start_time": "2025-04-22T15:55:28.163Z"
   },
   {
    "duration": 114,
    "start_time": "2025-04-22T15:55:39.159Z"
   },
   {
    "duration": 806,
    "start_time": "2025-04-22T15:58:27.025Z"
   },
   {
    "duration": 685,
    "start_time": "2025-04-22T15:59:11.536Z"
   },
   {
    "duration": 41,
    "start_time": "2025-04-22T16:01:21.763Z"
   },
   {
    "duration": 17,
    "start_time": "2025-04-22T16:01:54.262Z"
   },
   {
    "duration": 24,
    "start_time": "2025-04-22T16:02:41.551Z"
   },
   {
    "duration": 683,
    "start_time": "2025-04-22T16:02:43.979Z"
   },
   {
    "duration": 1945,
    "start_time": "2025-04-22T16:03:15.898Z"
   },
   {
    "duration": 324,
    "start_time": "2025-04-22T16:03:42.063Z"
   },
   {
    "duration": 48,
    "start_time": "2025-04-22T16:04:06.249Z"
   },
   {
    "duration": 32,
    "start_time": "2025-04-22T16:04:09.170Z"
   },
   {
    "duration": 25,
    "start_time": "2025-04-22T16:04:15.125Z"
   },
   {
    "duration": 15,
    "start_time": "2025-04-22T16:04:36.997Z"
   },
   {
    "duration": 226,
    "start_time": "2025-04-22T16:04:39.249Z"
   },
   {
    "duration": 169,
    "start_time": "2025-04-22T16:05:03.886Z"
   },
   {
    "duration": 14,
    "start_time": "2025-04-22T16:05:09.903Z"
   },
   {
    "duration": 156,
    "start_time": "2025-04-22T16:05:10.901Z"
   },
   {
    "duration": 19,
    "start_time": "2025-04-22T16:05:16.764Z"
   },
   {
    "duration": 159,
    "start_time": "2025-04-22T16:05:18.917Z"
   },
   {
    "duration": 16,
    "start_time": "2025-04-22T16:05:23.646Z"
   },
   {
    "duration": 1027,
    "start_time": "2025-04-22T16:05:25.063Z"
   },
   {
    "duration": 26,
    "start_time": "2025-04-22T16:05:43.628Z"
   },
   {
    "duration": 659,
    "start_time": "2025-04-22T16:05:45.652Z"
   },
   {
    "duration": 169,
    "start_time": "2025-04-22T16:06:09.435Z"
   },
   {
    "duration": 4,
    "start_time": "2025-04-22T16:06:23.642Z"
   },
   {
    "duration": 3,
    "start_time": "2025-04-22T16:06:28.444Z"
   },
   {
    "duration": 11,
    "start_time": "2025-04-22T16:06:29.900Z"
   },
   {
    "duration": 25,
    "start_time": "2025-04-22T16:07:11.006Z"
   },
   {
    "duration": 813,
    "start_time": "2025-04-22T16:07:13.270Z"
   },
   {
    "duration": 14,
    "start_time": "2025-04-22T16:07:30.802Z"
   },
   {
    "duration": 806,
    "start_time": "2025-04-22T16:09:21.948Z"
   },
   {
    "duration": 338,
    "start_time": "2025-04-22T16:09:22.756Z"
   },
   {
    "duration": 38,
    "start_time": "2025-04-22T16:09:23.096Z"
   },
   {
    "duration": 46,
    "start_time": "2025-04-22T16:09:23.136Z"
   },
   {
    "duration": 154,
    "start_time": "2025-04-22T16:09:23.183Z"
   },
   {
    "duration": 71,
    "start_time": "2025-04-22T16:09:23.339Z"
   },
   {
    "duration": 10,
    "start_time": "2025-04-22T16:09:23.411Z"
   },
   {
    "duration": 7,
    "start_time": "2025-04-22T16:09:23.423Z"
   },
   {
    "duration": 9,
    "start_time": "2025-04-22T16:09:23.431Z"
   },
   {
    "duration": 39,
    "start_time": "2025-04-22T16:09:23.444Z"
   },
   {
    "duration": 10,
    "start_time": "2025-04-22T16:09:23.484Z"
   },
   {
    "duration": 14,
    "start_time": "2025-04-22T16:09:23.496Z"
   },
   {
    "duration": 3,
    "start_time": "2025-04-22T16:09:23.512Z"
   },
   {
    "duration": 9,
    "start_time": "2025-04-22T16:09:23.516Z"
   },
   {
    "duration": 5,
    "start_time": "2025-04-22T16:09:23.526Z"
   },
   {
    "duration": 54,
    "start_time": "2025-04-22T16:09:23.533Z"
   },
   {
    "duration": 57,
    "start_time": "2025-04-22T16:09:23.589Z"
   },
   {
    "duration": 155,
    "start_time": "2025-04-22T16:09:23.647Z"
   },
   {
    "duration": 4,
    "start_time": "2025-04-22T16:09:23.804Z"
   },
   {
    "duration": 13,
    "start_time": "2025-04-22T16:09:23.810Z"
   },
   {
    "duration": 4,
    "start_time": "2025-04-22T16:09:23.825Z"
   },
   {
    "duration": 9,
    "start_time": "2025-04-22T16:09:23.831Z"
   },
   {
    "duration": 101,
    "start_time": "2025-04-22T16:09:23.842Z"
   },
   {
    "duration": 3,
    "start_time": "2025-04-22T16:09:23.945Z"
   },
   {
    "duration": 22,
    "start_time": "2025-04-22T16:09:23.949Z"
   },
   {
    "duration": 155,
    "start_time": "2025-04-22T16:09:23.972Z"
   },
   {
    "duration": 41,
    "start_time": "2025-04-22T16:09:24.129Z"
   },
   {
    "duration": 113,
    "start_time": "2025-04-22T16:09:24.175Z"
   },
   {
    "duration": 159,
    "start_time": "2025-04-22T16:09:24.290Z"
   },
   {
    "duration": 9,
    "start_time": "2025-04-22T16:09:24.451Z"
   },
   {
    "duration": 55,
    "start_time": "2025-04-22T16:09:24.470Z"
   },
   {
    "duration": 193,
    "start_time": "2025-04-22T16:09:24.527Z"
   },
   {
    "duration": 9,
    "start_time": "2025-04-22T16:09:24.721Z"
   },
   {
    "duration": 2,
    "start_time": "2025-04-22T16:09:24.733Z"
   },
   {
    "duration": 39,
    "start_time": "2025-04-22T16:09:24.738Z"
   },
   {
    "duration": 28,
    "start_time": "2025-04-22T16:09:24.779Z"
   },
   {
    "duration": 1770,
    "start_time": "2025-04-22T16:09:24.809Z"
   },
   {
    "duration": 7,
    "start_time": "2025-04-22T16:09:26.581Z"
   },
   {
    "duration": 139,
    "start_time": "2025-04-22T16:09:26.589Z"
   },
   {
    "duration": 60,
    "start_time": "2025-04-22T16:09:26.730Z"
   },
   {
    "duration": 11,
    "start_time": "2025-04-22T16:09:26.792Z"
   },
   {
    "duration": 137,
    "start_time": "2025-04-22T16:09:26.805Z"
   },
   {
    "duration": 38,
    "start_time": "2025-04-22T16:09:26.944Z"
   },
   {
    "duration": 9,
    "start_time": "2025-04-22T16:09:26.984Z"
   },
   {
    "duration": 10,
    "start_time": "2025-04-22T16:09:26.996Z"
   },
   {
    "duration": 14,
    "start_time": "2025-04-22T16:09:27.007Z"
   },
   {
    "duration": 1201,
    "start_time": "2025-04-22T16:09:27.022Z"
   },
   {
    "duration": 0,
    "start_time": "2025-04-22T16:09:28.225Z"
   },
   {
    "duration": 0,
    "start_time": "2025-04-22T16:09:28.226Z"
   },
   {
    "duration": 0,
    "start_time": "2025-04-22T16:09:28.228Z"
   },
   {
    "duration": 0,
    "start_time": "2025-04-22T16:09:28.229Z"
   },
   {
    "duration": 0,
    "start_time": "2025-04-22T16:09:28.230Z"
   },
   {
    "duration": 0,
    "start_time": "2025-04-22T16:09:28.231Z"
   },
   {
    "duration": 0,
    "start_time": "2025-04-22T16:09:28.232Z"
   },
   {
    "duration": 0,
    "start_time": "2025-04-22T16:09:28.233Z"
   },
   {
    "duration": 0,
    "start_time": "2025-04-22T16:09:28.234Z"
   },
   {
    "duration": 0,
    "start_time": "2025-04-22T16:09:28.235Z"
   },
   {
    "duration": 0,
    "start_time": "2025-04-22T16:09:28.237Z"
   },
   {
    "duration": 0,
    "start_time": "2025-04-22T16:09:28.238Z"
   },
   {
    "duration": 15,
    "start_time": "2025-04-22T16:09:44.234Z"
   },
   {
    "duration": 281,
    "start_time": "2025-04-22T16:09:45.354Z"
   },
   {
    "duration": 16,
    "start_time": "2025-04-22T16:09:48.799Z"
   },
   {
    "duration": 29,
    "start_time": "2025-04-22T16:09:53.283Z"
   },
   {
    "duration": 717,
    "start_time": "2025-04-22T16:09:55.171Z"
   },
   {
    "duration": 6,
    "start_time": "2025-04-22T16:09:58.983Z"
   },
   {
    "duration": 3,
    "start_time": "2025-04-22T16:10:02.388Z"
   },
   {
    "duration": 11,
    "start_time": "2025-04-22T16:10:03.860Z"
   },
   {
    "duration": 9,
    "start_time": "2025-04-22T16:10:06.102Z"
   },
   {
    "duration": 18,
    "start_time": "2025-04-22T16:10:08.112Z"
   },
   {
    "duration": 262,
    "start_time": "2025-04-22T16:10:10.267Z"
   },
   {
    "duration": 4,
    "start_time": "2025-04-22T16:10:13.043Z"
   },
   {
    "duration": 13,
    "start_time": "2025-04-22T16:10:15.163Z"
   },
   {
    "duration": 118,
    "start_time": "2025-04-22T16:10:17.983Z"
   },
   {
    "duration": 12,
    "start_time": "2025-04-22T16:10:20.656Z"
   },
   {
    "duration": 8,
    "start_time": "2025-04-22T16:10:22.916Z"
   },
   {
    "duration": 113,
    "start_time": "2025-04-22T16:10:24.947Z"
   },
   {
    "duration": 16,
    "start_time": "2025-04-22T16:10:32.546Z"
   },
   {
    "duration": 10,
    "start_time": "2025-04-22T16:11:51.092Z"
   },
   {
    "duration": 126,
    "start_time": "2025-04-22T16:12:15.695Z"
   },
   {
    "duration": 156,
    "start_time": "2025-04-22T16:13:51.718Z"
   },
   {
    "duration": 847,
    "start_time": "2025-04-22T16:13:58.311Z"
   },
   {
    "duration": 550,
    "start_time": "2025-04-22T16:13:59.160Z"
   },
   {
    "duration": 40,
    "start_time": "2025-04-22T16:13:59.711Z"
   },
   {
    "duration": 37,
    "start_time": "2025-04-22T16:13:59.754Z"
   },
   {
    "duration": 152,
    "start_time": "2025-04-22T16:13:59.793Z"
   },
   {
    "duration": 71,
    "start_time": "2025-04-22T16:13:59.947Z"
   },
   {
    "duration": 10,
    "start_time": "2025-04-22T16:14:00.020Z"
   },
   {
    "duration": 6,
    "start_time": "2025-04-22T16:14:00.031Z"
   },
   {
    "duration": 10,
    "start_time": "2025-04-22T16:14:00.039Z"
   },
   {
    "duration": 17,
    "start_time": "2025-04-22T16:14:00.071Z"
   },
   {
    "duration": 9,
    "start_time": "2025-04-22T16:14:00.090Z"
   },
   {
    "duration": 12,
    "start_time": "2025-04-22T16:14:00.101Z"
   },
   {
    "duration": 4,
    "start_time": "2025-04-22T16:14:00.115Z"
   },
   {
    "duration": 10,
    "start_time": "2025-04-22T16:14:00.120Z"
   },
   {
    "duration": 41,
    "start_time": "2025-04-22T16:14:00.131Z"
   },
   {
    "duration": 24,
    "start_time": "2025-04-22T16:14:00.173Z"
   },
   {
    "duration": 55,
    "start_time": "2025-04-22T16:14:00.198Z"
   },
   {
    "duration": 156,
    "start_time": "2025-04-22T16:14:00.255Z"
   },
   {
    "duration": 5,
    "start_time": "2025-04-22T16:14:00.412Z"
   },
   {
    "duration": 13,
    "start_time": "2025-04-22T16:14:00.419Z"
   },
   {
    "duration": 4,
    "start_time": "2025-04-22T16:14:00.433Z"
   },
   {
    "duration": 32,
    "start_time": "2025-04-22T16:14:00.438Z"
   },
   {
    "duration": 70,
    "start_time": "2025-04-22T16:14:00.472Z"
   },
   {
    "duration": 4,
    "start_time": "2025-04-22T16:14:00.543Z"
   },
   {
    "duration": 26,
    "start_time": "2025-04-22T16:14:00.549Z"
   },
   {
    "duration": 152,
    "start_time": "2025-04-22T16:14:00.576Z"
   },
   {
    "duration": 40,
    "start_time": "2025-04-22T16:14:00.730Z"
   },
   {
    "duration": 108,
    "start_time": "2025-04-22T16:14:00.775Z"
   },
   {
    "duration": 157,
    "start_time": "2025-04-22T16:14:00.886Z"
   },
   {
    "duration": 9,
    "start_time": "2025-04-22T16:14:01.044Z"
   },
   {
    "duration": 66,
    "start_time": "2025-04-22T16:14:01.055Z"
   },
   {
    "duration": 182,
    "start_time": "2025-04-22T16:14:01.122Z"
   },
   {
    "duration": 8,
    "start_time": "2025-04-22T16:14:01.306Z"
   },
   {
    "duration": 3,
    "start_time": "2025-04-22T16:14:01.316Z"
   },
   {
    "duration": 19,
    "start_time": "2025-04-22T16:14:01.321Z"
   },
   {
    "duration": 49,
    "start_time": "2025-04-22T16:14:01.342Z"
   },
   {
    "duration": 1741,
    "start_time": "2025-04-22T16:14:01.393Z"
   },
   {
    "duration": 7,
    "start_time": "2025-04-22T16:14:03.136Z"
   },
   {
    "duration": 139,
    "start_time": "2025-04-22T16:14:03.145Z"
   },
   {
    "duration": 49,
    "start_time": "2025-04-22T16:14:03.285Z"
   },
   {
    "duration": 10,
    "start_time": "2025-04-22T16:14:03.336Z"
   },
   {
    "duration": 137,
    "start_time": "2025-04-22T16:14:03.347Z"
   },
   {
    "duration": 27,
    "start_time": "2025-04-22T16:14:03.486Z"
   },
   {
    "duration": 10,
    "start_time": "2025-04-22T16:14:03.514Z"
   },
   {
    "duration": 10,
    "start_time": "2025-04-22T16:14:03.525Z"
   },
   {
    "duration": 47,
    "start_time": "2025-04-22T16:14:03.537Z"
   },
   {
    "duration": 764,
    "start_time": "2025-04-22T16:14:03.587Z"
   },
   {
    "duration": 6,
    "start_time": "2025-04-22T16:14:04.352Z"
   },
   {
    "duration": 4,
    "start_time": "2025-04-22T16:14:04.360Z"
   },
   {
    "duration": 15,
    "start_time": "2025-04-22T16:14:04.365Z"
   },
   {
    "duration": 8,
    "start_time": "2025-04-22T16:14:04.381Z"
   },
   {
    "duration": 17,
    "start_time": "2025-04-22T16:14:04.390Z"
   },
   {
    "duration": 289,
    "start_time": "2025-04-22T16:14:04.409Z"
   },
   {
    "duration": 3,
    "start_time": "2025-04-22T16:14:04.700Z"
   },
   {
    "duration": 14,
    "start_time": "2025-04-22T16:14:04.705Z"
   },
   {
    "duration": 138,
    "start_time": "2025-04-22T16:14:04.720Z"
   },
   {
    "duration": 17,
    "start_time": "2025-04-22T16:14:04.860Z"
   },
   {
    "duration": 7,
    "start_time": "2025-04-22T16:14:04.879Z"
   },
   {
    "duration": 125,
    "start_time": "2025-04-22T16:14:04.888Z"
   },
   {
    "duration": 3,
    "start_time": "2025-04-22T16:14:31.114Z"
   },
   {
    "duration": 865,
    "start_time": "2025-04-22T16:14:37.798Z"
   },
   {
    "duration": 401,
    "start_time": "2025-04-22T16:14:38.665Z"
   },
   {
    "duration": 40,
    "start_time": "2025-04-22T16:14:39.068Z"
   },
   {
    "duration": 37,
    "start_time": "2025-04-22T16:14:39.109Z"
   },
   {
    "duration": 148,
    "start_time": "2025-04-22T16:14:39.149Z"
   },
   {
    "duration": 61,
    "start_time": "2025-04-22T16:14:39.299Z"
   },
   {
    "duration": 10,
    "start_time": "2025-04-22T16:14:39.371Z"
   },
   {
    "duration": 8,
    "start_time": "2025-04-22T16:14:39.382Z"
   },
   {
    "duration": 10,
    "start_time": "2025-04-22T16:14:39.391Z"
   },
   {
    "duration": 18,
    "start_time": "2025-04-22T16:14:39.402Z"
   },
   {
    "duration": 9,
    "start_time": "2025-04-22T16:14:39.421Z"
   },
   {
    "duration": 45,
    "start_time": "2025-04-22T16:14:39.431Z"
   },
   {
    "duration": 4,
    "start_time": "2025-04-22T16:14:39.477Z"
   },
   {
    "duration": 8,
    "start_time": "2025-04-22T16:14:39.486Z"
   },
   {
    "duration": 5,
    "start_time": "2025-04-22T16:14:39.495Z"
   },
   {
    "duration": 23,
    "start_time": "2025-04-22T16:14:39.501Z"
   },
   {
    "duration": 88,
    "start_time": "2025-04-22T16:14:39.525Z"
   },
   {
    "duration": 138,
    "start_time": "2025-04-22T16:14:39.614Z"
   },
   {
    "duration": 3,
    "start_time": "2025-04-22T16:14:39.754Z"
   },
   {
    "duration": 12,
    "start_time": "2025-04-22T16:14:39.770Z"
   },
   {
    "duration": 3,
    "start_time": "2025-04-22T16:14:39.784Z"
   },
   {
    "duration": 10,
    "start_time": "2025-04-22T16:14:39.789Z"
   },
   {
    "duration": 89,
    "start_time": "2025-04-22T16:14:39.800Z"
   },
   {
    "duration": 4,
    "start_time": "2025-04-22T16:14:39.891Z"
   },
   {
    "duration": 9,
    "start_time": "2025-04-22T16:14:39.896Z"
   },
   {
    "duration": 165,
    "start_time": "2025-04-22T16:14:39.907Z"
   },
   {
    "duration": 31,
    "start_time": "2025-04-22T16:14:40.074Z"
   },
   {
    "duration": 115,
    "start_time": "2025-04-22T16:14:40.107Z"
   },
   {
    "duration": 155,
    "start_time": "2025-04-22T16:14:40.224Z"
   },
   {
    "duration": 11,
    "start_time": "2025-04-22T16:14:40.380Z"
   },
   {
    "duration": 53,
    "start_time": "2025-04-22T16:14:40.392Z"
   },
   {
    "duration": 203,
    "start_time": "2025-04-22T16:14:40.447Z"
   },
   {
    "duration": 9,
    "start_time": "2025-04-22T16:14:40.652Z"
   },
   {
    "duration": 3,
    "start_time": "2025-04-22T16:14:40.670Z"
   },
   {
    "duration": 19,
    "start_time": "2025-04-22T16:14:40.674Z"
   },
   {
    "duration": 29,
    "start_time": "2025-04-22T16:14:40.695Z"
   },
   {
    "duration": 1725,
    "start_time": "2025-04-22T16:14:40.725Z"
   },
   {
    "duration": 6,
    "start_time": "2025-04-22T16:14:42.451Z"
   },
   {
    "duration": 132,
    "start_time": "2025-04-22T16:14:42.459Z"
   },
   {
    "duration": 53,
    "start_time": "2025-04-22T16:14:42.593Z"
   },
   {
    "duration": 22,
    "start_time": "2025-04-22T16:14:42.651Z"
   },
   {
    "duration": 130,
    "start_time": "2025-04-22T16:14:42.675Z"
   },
   {
    "duration": 25,
    "start_time": "2025-04-22T16:14:42.807Z"
   },
   {
    "duration": 9,
    "start_time": "2025-04-22T16:14:42.834Z"
   },
   {
    "duration": 33,
    "start_time": "2025-04-22T16:14:42.845Z"
   },
   {
    "duration": 24,
    "start_time": "2025-04-22T16:14:42.880Z"
   },
   {
    "duration": 728,
    "start_time": "2025-04-22T16:14:42.906Z"
   },
   {
    "duration": 6,
    "start_time": "2025-04-22T16:14:43.636Z"
   },
   {
    "duration": 4,
    "start_time": "2025-04-22T16:14:43.643Z"
   },
   {
    "duration": 11,
    "start_time": "2025-04-22T16:14:43.648Z"
   },
   {
    "duration": 16,
    "start_time": "2025-04-22T16:14:43.661Z"
   },
   {
    "duration": 17,
    "start_time": "2025-04-22T16:14:43.679Z"
   },
   {
    "duration": 284,
    "start_time": "2025-04-22T16:14:43.699Z"
   },
   {
    "duration": 4,
    "start_time": "2025-04-22T16:14:43.986Z"
   },
   {
    "duration": 14,
    "start_time": "2025-04-22T16:14:43.992Z"
   },
   {
    "duration": 143,
    "start_time": "2025-04-22T16:14:44.008Z"
   },
   {
    "duration": 18,
    "start_time": "2025-04-22T16:14:44.153Z"
   },
   {
    "duration": 10,
    "start_time": "2025-04-22T16:14:44.173Z"
   },
   {
    "duration": 126,
    "start_time": "2025-04-22T16:14:44.185Z"
   },
   {
    "duration": 17,
    "start_time": "2025-04-22T16:14:44.313Z"
   },
   {
    "duration": 7,
    "start_time": "2025-04-22T16:16:00.943Z"
   },
   {
    "duration": 158,
    "start_time": "2025-04-22T16:16:53.555Z"
   },
   {
    "duration": 846,
    "start_time": "2025-04-22T16:17:00.830Z"
   },
   {
    "duration": 497,
    "start_time": "2025-04-22T16:17:01.678Z"
   },
   {
    "duration": 39,
    "start_time": "2025-04-22T16:17:02.178Z"
   },
   {
    "duration": 37,
    "start_time": "2025-04-22T16:17:02.219Z"
   },
   {
    "duration": 158,
    "start_time": "2025-04-22T16:17:02.257Z"
   },
   {
    "duration": 70,
    "start_time": "2025-04-22T16:17:02.416Z"
   },
   {
    "duration": 10,
    "start_time": "2025-04-22T16:17:02.488Z"
   },
   {
    "duration": 6,
    "start_time": "2025-04-22T16:17:02.500Z"
   },
   {
    "duration": 9,
    "start_time": "2025-04-22T16:17:02.508Z"
   },
   {
    "duration": 18,
    "start_time": "2025-04-22T16:17:02.521Z"
   },
   {
    "duration": 36,
    "start_time": "2025-04-22T16:17:02.541Z"
   },
   {
    "duration": 11,
    "start_time": "2025-04-22T16:17:02.580Z"
   },
   {
    "duration": 4,
    "start_time": "2025-04-22T16:17:02.592Z"
   },
   {
    "duration": 9,
    "start_time": "2025-04-22T16:17:02.598Z"
   },
   {
    "duration": 5,
    "start_time": "2025-04-22T16:17:02.608Z"
   },
   {
    "duration": 56,
    "start_time": "2025-04-22T16:17:02.615Z"
   },
   {
    "duration": 56,
    "start_time": "2025-04-22T16:17:02.673Z"
   },
   {
    "duration": 150,
    "start_time": "2025-04-22T16:17:02.731Z"
   },
   {
    "duration": 5,
    "start_time": "2025-04-22T16:17:02.883Z"
   },
   {
    "duration": 15,
    "start_time": "2025-04-22T16:17:02.889Z"
   },
   {
    "duration": 4,
    "start_time": "2025-04-22T16:17:02.905Z"
   },
   {
    "duration": 10,
    "start_time": "2025-04-22T16:17:02.910Z"
   },
   {
    "duration": 99,
    "start_time": "2025-04-22T16:17:02.922Z"
   },
   {
    "duration": 3,
    "start_time": "2025-04-22T16:17:03.023Z"
   },
   {
    "duration": 8,
    "start_time": "2025-04-22T16:17:03.028Z"
   },
   {
    "duration": 171,
    "start_time": "2025-04-22T16:17:03.038Z"
   },
   {
    "duration": 30,
    "start_time": "2025-04-22T16:17:03.211Z"
   },
   {
    "duration": 116,
    "start_time": "2025-04-22T16:17:03.246Z"
   },
   {
    "duration": 158,
    "start_time": "2025-04-22T16:17:03.371Z"
   },
   {
    "duration": 9,
    "start_time": "2025-04-22T16:17:03.531Z"
   },
   {
    "duration": 65,
    "start_time": "2025-04-22T16:17:03.541Z"
   },
   {
    "duration": 188,
    "start_time": "2025-04-22T16:17:03.608Z"
   },
   {
    "duration": 8,
    "start_time": "2025-04-22T16:17:03.798Z"
   },
   {
    "duration": 3,
    "start_time": "2025-04-22T16:17:03.808Z"
   },
   {
    "duration": 18,
    "start_time": "2025-04-22T16:17:03.813Z"
   },
   {
    "duration": 52,
    "start_time": "2025-04-22T16:17:03.833Z"
   },
   {
    "duration": 1762,
    "start_time": "2025-04-22T16:17:03.887Z"
   },
   {
    "duration": 7,
    "start_time": "2025-04-22T16:17:05.651Z"
   },
   {
    "duration": 144,
    "start_time": "2025-04-22T16:17:05.659Z"
   },
   {
    "duration": 49,
    "start_time": "2025-04-22T16:17:05.804Z"
   },
   {
    "duration": 23,
    "start_time": "2025-04-22T16:17:05.855Z"
   },
   {
    "duration": 131,
    "start_time": "2025-04-22T16:17:05.879Z"
   },
   {
    "duration": 27,
    "start_time": "2025-04-22T16:17:06.012Z"
   },
   {
    "duration": 10,
    "start_time": "2025-04-22T16:17:06.041Z"
   },
   {
    "duration": 12,
    "start_time": "2025-04-22T16:17:06.070Z"
   },
   {
    "duration": 25,
    "start_time": "2025-04-22T16:17:06.084Z"
   },
   {
    "duration": 748,
    "start_time": "2025-04-22T16:17:06.111Z"
   },
   {
    "duration": 5,
    "start_time": "2025-04-22T16:17:06.861Z"
   },
   {
    "duration": 4,
    "start_time": "2025-04-22T16:17:06.868Z"
   },
   {
    "duration": 11,
    "start_time": "2025-04-22T16:17:06.874Z"
   },
   {
    "duration": 7,
    "start_time": "2025-04-22T16:17:06.887Z"
   },
   {
    "duration": 20,
    "start_time": "2025-04-22T16:17:06.897Z"
   },
   {
    "duration": 293,
    "start_time": "2025-04-22T16:17:06.919Z"
   },
   {
    "duration": 4,
    "start_time": "2025-04-22T16:17:07.214Z"
   },
   {
    "duration": 12,
    "start_time": "2025-04-22T16:17:07.220Z"
   },
   {
    "duration": 138,
    "start_time": "2025-04-22T16:17:07.234Z"
   },
   {
    "duration": 13,
    "start_time": "2025-04-22T16:17:07.374Z"
   },
   {
    "duration": 9,
    "start_time": "2025-04-22T16:17:07.388Z"
   },
   {
    "duration": 139,
    "start_time": "2025-04-22T16:17:07.398Z"
   },
   {
    "duration": 8,
    "start_time": "2025-04-22T16:17:07.539Z"
   },
   {
    "duration": 229,
    "start_time": "2025-04-22T16:17:07.549Z"
   },
   {
    "duration": 894,
    "start_time": "2025-04-22T16:19:55.906Z"
   },
   {
    "duration": 442,
    "start_time": "2025-04-22T16:19:56.802Z"
   },
   {
    "duration": 38,
    "start_time": "2025-04-22T16:19:57.246Z"
   },
   {
    "duration": 39,
    "start_time": "2025-04-22T16:19:57.288Z"
   },
   {
    "duration": 153,
    "start_time": "2025-04-22T16:19:57.329Z"
   },
   {
    "duration": 63,
    "start_time": "2025-04-22T16:19:57.484Z"
   },
   {
    "duration": 27,
    "start_time": "2025-04-22T16:19:57.549Z"
   },
   {
    "duration": 8,
    "start_time": "2025-04-22T16:19:57.577Z"
   },
   {
    "duration": 11,
    "start_time": "2025-04-22T16:19:57.586Z"
   },
   {
    "duration": 18,
    "start_time": "2025-04-22T16:19:57.600Z"
   },
   {
    "duration": 7,
    "start_time": "2025-04-22T16:19:57.620Z"
   },
   {
    "duration": 46,
    "start_time": "2025-04-22T16:19:57.629Z"
   },
   {
    "duration": 5,
    "start_time": "2025-04-22T16:19:57.677Z"
   },
   {
    "duration": 9,
    "start_time": "2025-04-22T16:19:57.684Z"
   },
   {
    "duration": 4,
    "start_time": "2025-04-22T16:19:57.695Z"
   },
   {
    "duration": 24,
    "start_time": "2025-04-22T16:19:57.702Z"
   },
   {
    "duration": 89,
    "start_time": "2025-04-22T16:19:57.728Z"
   },
   {
    "duration": 172,
    "start_time": "2025-04-22T16:19:57.820Z"
   },
   {
    "duration": 4,
    "start_time": "2025-04-22T16:19:57.997Z"
   },
   {
    "duration": 13,
    "start_time": "2025-04-22T16:19:58.003Z"
   },
   {
    "duration": 4,
    "start_time": "2025-04-22T16:19:58.018Z"
   },
   {
    "duration": 10,
    "start_time": "2025-04-22T16:19:58.024Z"
   },
   {
    "duration": 98,
    "start_time": "2025-04-22T16:19:58.036Z"
   },
   {
    "duration": 4,
    "start_time": "2025-04-22T16:19:58.136Z"
   },
   {
    "duration": 9,
    "start_time": "2025-04-22T16:19:58.142Z"
   },
   {
    "duration": 173,
    "start_time": "2025-04-22T16:19:58.152Z"
   },
   {
    "duration": 32,
    "start_time": "2025-04-22T16:19:58.327Z"
   },
   {
    "duration": 109,
    "start_time": "2025-04-22T16:19:58.372Z"
   },
   {
    "duration": 243,
    "start_time": "2025-04-22T16:19:58.483Z"
   },
   {
    "duration": 11,
    "start_time": "2025-04-22T16:19:58.728Z"
   },
   {
    "duration": 69,
    "start_time": "2025-04-22T16:19:58.742Z"
   },
   {
    "duration": 209,
    "start_time": "2025-04-22T16:19:58.814Z"
   },
   {
    "duration": 12,
    "start_time": "2025-04-22T16:19:59.025Z"
   },
   {
    "duration": 4,
    "start_time": "2025-04-22T16:19:59.039Z"
   },
   {
    "duration": 39,
    "start_time": "2025-04-22T16:19:59.045Z"
   },
   {
    "duration": 30,
    "start_time": "2025-04-22T16:19:59.087Z"
   },
   {
    "duration": 1813,
    "start_time": "2025-04-22T16:19:59.119Z"
   },
   {
    "duration": 6,
    "start_time": "2025-04-22T16:20:00.934Z"
   },
   {
    "duration": 133,
    "start_time": "2025-04-22T16:20:00.942Z"
   },
   {
    "duration": 50,
    "start_time": "2025-04-22T16:20:01.077Z"
   },
   {
    "duration": 11,
    "start_time": "2025-04-22T16:20:01.130Z"
   },
   {
    "duration": 147,
    "start_time": "2025-04-22T16:20:01.143Z"
   },
   {
    "duration": 28,
    "start_time": "2025-04-22T16:20:01.292Z"
   },
   {
    "duration": 10,
    "start_time": "2025-04-22T16:20:01.322Z"
   },
   {
    "duration": 10,
    "start_time": "2025-04-22T16:20:01.334Z"
   },
   {
    "duration": 58,
    "start_time": "2025-04-22T16:20:01.346Z"
   },
   {
    "duration": 797,
    "start_time": "2025-04-22T16:20:01.405Z"
   },
   {
    "duration": 6,
    "start_time": "2025-04-22T16:20:02.204Z"
   },
   {
    "duration": 4,
    "start_time": "2025-04-22T16:20:02.212Z"
   },
   {
    "duration": 10,
    "start_time": "2025-04-22T16:20:02.218Z"
   },
   {
    "duration": 7,
    "start_time": "2025-04-22T16:20:02.230Z"
   },
   {
    "duration": 33,
    "start_time": "2025-04-22T16:20:02.239Z"
   },
   {
    "duration": 340,
    "start_time": "2025-04-22T16:20:02.274Z"
   },
   {
    "duration": 5,
    "start_time": "2025-04-22T16:20:02.616Z"
   },
   {
    "duration": 14,
    "start_time": "2025-04-22T16:20:02.623Z"
   },
   {
    "duration": 168,
    "start_time": "2025-04-22T16:20:02.639Z"
   },
   {
    "duration": 12,
    "start_time": "2025-04-22T16:20:02.809Z"
   },
   {
    "duration": 10,
    "start_time": "2025-04-22T16:20:02.823Z"
   },
   {
    "duration": 144,
    "start_time": "2025-04-22T16:20:02.835Z"
   },
   {
    "duration": 8,
    "start_time": "2025-04-22T16:20:02.981Z"
   },
   {
    "duration": 230,
    "start_time": "2025-04-22T16:20:02.990Z"
   },
   {
    "duration": 15,
    "start_time": "2025-04-22T16:20:08.356Z"
   },
   {
    "duration": 18,
    "start_time": "2025-04-22T16:20:18.000Z"
   },
   {
    "duration": 8,
    "start_time": "2025-04-22T16:20:48.301Z"
   },
   {
    "duration": 5,
    "start_time": "2025-04-22T16:23:34.887Z"
   },
   {
    "duration": 3,
    "start_time": "2025-04-22T16:23:49.786Z"
   },
   {
    "duration": 23,
    "start_time": "2025-04-22T16:35:04.974Z"
   },
   {
    "duration": 6,
    "start_time": "2025-04-22T16:43:08.572Z"
   },
   {
    "duration": 4,
    "start_time": "2025-04-22T16:43:35.147Z"
   },
   {
    "duration": 7,
    "start_time": "2025-04-22T16:43:48.054Z"
   },
   {
    "duration": 3,
    "start_time": "2025-04-22T16:44:27.931Z"
   },
   {
    "duration": 4,
    "start_time": "2025-04-22T16:45:07.671Z"
   },
   {
    "duration": 3,
    "start_time": "2025-04-22T16:45:17.892Z"
   },
   {
    "duration": 3,
    "start_time": "2025-04-22T16:45:29.722Z"
   },
   {
    "duration": 3,
    "start_time": "2025-04-22T16:45:46.289Z"
   },
   {
    "duration": 4,
    "start_time": "2025-04-22T16:45:51.625Z"
   },
   {
    "duration": 3,
    "start_time": "2025-04-22T16:45:57.340Z"
   },
   {
    "duration": 3,
    "start_time": "2025-04-22T16:46:00.639Z"
   },
   {
    "duration": 4,
    "start_time": "2025-04-22T16:59:56.402Z"
   },
   {
    "duration": 4,
    "start_time": "2025-04-22T17:00:03.366Z"
   },
   {
    "duration": 4,
    "start_time": "2025-04-22T17:01:04.635Z"
   },
   {
    "duration": 3,
    "start_time": "2025-04-22T17:01:09.407Z"
   },
   {
    "duration": 3,
    "start_time": "2025-04-22T17:03:28.980Z"
   },
   {
    "duration": 2604,
    "start_time": "2025-04-23T03:19:50.749Z"
   },
   {
    "duration": 549,
    "start_time": "2025-04-23T03:19:53.356Z"
   },
   {
    "duration": 54,
    "start_time": "2025-04-23T03:19:53.906Z"
   },
   {
    "duration": 52,
    "start_time": "2025-04-23T03:19:53.963Z"
   },
   {
    "duration": 200,
    "start_time": "2025-04-23T03:19:54.017Z"
   },
   {
    "duration": 59,
    "start_time": "2025-04-23T03:19:54.220Z"
   },
   {
    "duration": 10,
    "start_time": "2025-04-23T03:19:54.282Z"
   },
   {
    "duration": 6,
    "start_time": "2025-04-23T03:19:54.311Z"
   },
   {
    "duration": 10,
    "start_time": "2025-04-23T03:19:54.319Z"
   },
   {
    "duration": 20,
    "start_time": "2025-04-23T03:19:54.333Z"
   },
   {
    "duration": 7,
    "start_time": "2025-04-23T03:19:54.356Z"
   },
   {
    "duration": 12,
    "start_time": "2025-04-23T03:19:54.365Z"
   },
   {
    "duration": 35,
    "start_time": "2025-04-23T03:19:54.378Z"
   },
   {
    "duration": 9,
    "start_time": "2025-04-23T03:19:54.415Z"
   },
   {
    "duration": 5,
    "start_time": "2025-04-23T03:19:54.426Z"
   },
   {
    "duration": 26,
    "start_time": "2025-04-23T03:19:54.434Z"
   },
   {
    "duration": 86,
    "start_time": "2025-04-23T03:19:54.461Z"
   },
   {
    "duration": 180,
    "start_time": "2025-04-23T03:19:54.549Z"
   },
   {
    "duration": 6,
    "start_time": "2025-04-23T03:19:54.731Z"
   },
   {
    "duration": 18,
    "start_time": "2025-04-23T03:19:54.740Z"
   },
   {
    "duration": 4,
    "start_time": "2025-04-23T03:19:54.760Z"
   },
   {
    "duration": 11,
    "start_time": "2025-04-23T03:19:54.766Z"
   },
   {
    "duration": 105,
    "start_time": "2025-04-23T03:19:54.778Z"
   },
   {
    "duration": 5,
    "start_time": "2025-04-23T03:19:54.885Z"
   },
   {
    "duration": 8,
    "start_time": "2025-04-23T03:19:54.892Z"
   },
   {
    "duration": 182,
    "start_time": "2025-04-23T03:19:54.901Z"
   },
   {
    "duration": 42,
    "start_time": "2025-04-23T03:19:55.085Z"
   },
   {
    "duration": 110,
    "start_time": "2025-04-23T03:19:55.132Z"
   },
   {
    "duration": 4,
    "start_time": "2025-04-23T03:19:55.243Z"
   },
   {
    "duration": 3,
    "start_time": "2025-04-23T03:19:55.249Z"
   },
   {
    "duration": 169,
    "start_time": "2025-04-23T03:19:55.254Z"
   },
   {
    "duration": 9,
    "start_time": "2025-04-23T03:19:55.424Z"
   },
   {
    "duration": 52,
    "start_time": "2025-04-23T03:19:55.435Z"
   },
   {
    "duration": 169,
    "start_time": "2025-04-23T03:19:55.489Z"
   },
   {
    "duration": 8,
    "start_time": "2025-04-23T03:19:55.660Z"
   },
   {
    "duration": 3,
    "start_time": "2025-04-23T03:19:55.670Z"
   },
   {
    "duration": 19,
    "start_time": "2025-04-23T03:19:55.675Z"
   },
   {
    "duration": 33,
    "start_time": "2025-04-23T03:19:55.713Z"
   },
   {
    "duration": 1708,
    "start_time": "2025-04-23T03:19:55.749Z"
   },
   {
    "duration": 6,
    "start_time": "2025-04-23T03:19:57.459Z"
   },
   {
    "duration": 149,
    "start_time": "2025-04-23T03:19:57.467Z"
   },
   {
    "duration": 72,
    "start_time": "2025-04-23T03:19:57.617Z"
   },
   {
    "duration": 28,
    "start_time": "2025-04-23T03:19:57.691Z"
   },
   {
    "duration": 155,
    "start_time": "2025-04-23T03:19:57.720Z"
   },
   {
    "duration": 35,
    "start_time": "2025-04-23T03:19:57.878Z"
   },
   {
    "duration": 10,
    "start_time": "2025-04-23T03:19:57.915Z"
   },
   {
    "duration": 12,
    "start_time": "2025-04-23T03:19:57.926Z"
   },
   {
    "duration": 27,
    "start_time": "2025-04-23T03:19:57.939Z"
   },
   {
    "duration": 823,
    "start_time": "2025-04-23T03:19:57.968Z"
   },
   {
    "duration": 4,
    "start_time": "2025-04-23T03:19:58.792Z"
   },
   {
    "duration": 17,
    "start_time": "2025-04-23T03:19:58.797Z"
   },
   {
    "duration": 11,
    "start_time": "2025-04-23T03:19:58.816Z"
   },
   {
    "duration": 9,
    "start_time": "2025-04-23T03:19:58.830Z"
   },
   {
    "duration": 20,
    "start_time": "2025-04-23T03:19:58.840Z"
   },
   {
    "duration": 332,
    "start_time": "2025-04-23T03:19:58.862Z"
   },
   {
    "duration": 5,
    "start_time": "2025-04-23T03:19:59.196Z"
   },
   {
    "duration": 14,
    "start_time": "2025-04-23T03:19:59.212Z"
   },
   {
    "duration": 155,
    "start_time": "2025-04-23T03:19:59.228Z"
   },
   {
    "duration": 14,
    "start_time": "2025-04-23T03:19:59.385Z"
   },
   {
    "duration": 17,
    "start_time": "2025-04-23T03:19:59.401Z"
   },
   {
    "duration": 134,
    "start_time": "2025-04-23T03:19:59.420Z"
   }
  ],
  "kernelspec": {
   "display_name": ".venv",
   "language": "python",
   "name": "python3"
  },
  "language_info": {
   "codemirror_mode": {
    "name": "ipython",
    "version": 3
   },
   "file_extension": ".py",
   "mimetype": "text/x-python",
   "name": "python",
   "nbconvert_exporter": "python",
   "pygments_lexer": "ipython3",
   "version": "3.12.3"
  },
  "toc": {
   "base_numbering": 1,
   "nav_menu": {},
   "number_sections": true,
   "sideBar": true,
   "skip_h1_title": true,
   "title_cell": "Table of Contents",
   "title_sidebar": "Contents",
   "toc_cell": false,
   "toc_position": {},
   "toc_section_display": true,
   "toc_window_display": false
  }
 },
 "nbformat": 4,
 "nbformat_minor": 2
}
